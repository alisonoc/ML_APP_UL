{
  "nbformat": 4,
  "nbformat_minor": 0,
  "metadata": {
    "colab": {
      "name": "RepMLA_Lab-0.2.ipynb",
      "provenance": []
    },
    "kernelspec": {
      "name": "python3",
      "display_name": "Python 3"
    },
    "language_info": {
      "name": "python"
    }
  },
  "cells": [
    {
      "cell_type": "markdown",
      "metadata": {
        "id": "_te5LpuNY-D6"
      },
      "source": [
        "<div>\n",
        "<img src=\"https://drive.google.com/uc?export=view&id=1vK33e_EqaHgBHcbRV_m38hx6IkG0blK_\" width=\"350\"/>\n",
        "</div> \n",
        "\n",
        "#**Artificial Intelligence - MSc**\n",
        "CS6501 - MACHINE LEARNING AND APPLICATIONS\n",
        "#**Business Analytics - MSc**\n",
        "ET5003 - MACHINE LEARNING APPLICATIONS \n",
        "##***Annual Repeat***\n",
        "###Instructor: Enrique Naredo\n",
        "\n",
        "###RepMLA_Lab-0.2\n",
        "\n"
      ]
    },
    {
      "cell_type": "markdown",
      "metadata": {
        "id": "Y2Qa_qmHJQT6"
      },
      "source": [
        "## Dataset"
      ]
    },
    {
      "cell_type": "markdown",
      "metadata": {
        "id": "3bMUIbXqKX4T"
      },
      "source": [
        ""
      ]
    },
    {
      "cell_type": "markdown",
      "metadata": {
        "id": "REVQIubUIamp"
      },
      "source": [
        "We'll use the [UCI repository](https://archive.ics.uci.edu/ml/datasets.php) with 588 data sets as a service to the machine learning community. \n",
        "\n",
        "- Specifically we'll work with the Iris dataset in this notebook"
      ]
    },
    {
      "cell_type": "code",
      "metadata": {
        "id": "7dpudqkQ9alO"
      },
      "source": [
        "# choose the dataset to download from UCI\n",
        "dataset = 'iris'\n",
        "UCI_repository = 'https://archive.ics.uci.edu/ml/machine-learning-databases/'+ dataset+'/'+dataset+'.data'"
      ],
      "execution_count": null,
      "outputs": []
    },
    {
      "cell_type": "code",
      "metadata": {
        "id": "hXo71OpAJral"
      },
      "source": [
        "# Download dataset using wget\n",
        "!wget $UCI_repository"
      ],
      "execution_count": null,
      "outputs": []
    },
    {
      "cell_type": "code",
      "metadata": {
        "id": "aFGPfUo_Jypd"
      },
      "source": [
        "## Loads the CSV data\n",
        "\n",
        "# it's required to import pandas\n",
        "import pandas as pd\n",
        "\n",
        "df = pd.read_csv(dataset+'.data', header=None)\n",
        "\n",
        "df"
      ],
      "execution_count": null,
      "outputs": []
    },
    {
      "cell_type": "code",
      "metadata": {
        "id": "rE-WnYM2KGuZ"
      },
      "source": [
        "# adding labels to columns\n",
        "df.columns=['sepal-length', 'sepal-width', 'petal-length', 'petal-width', 'class']\n",
        "# show first rows\n",
        "df.head()"
      ],
      "execution_count": null,
      "outputs": []
    },
    {
      "cell_type": "code",
      "metadata": {
        "id": "5ZAAXEaYKKJr"
      },
      "source": [
        "# data frame information\n",
        "df.info()"
      ],
      "execution_count": null,
      "outputs": []
    },
    {
      "cell_type": "code",
      "metadata": {
        "id": "DLtbz1GKKNCh"
      },
      "source": [
        "# describe the data frame\n",
        "df.describe()"
      ],
      "execution_count": null,
      "outputs": []
    },
    {
      "cell_type": "code",
      "metadata": {
        "id": "S3kh-HlNKP9k"
      },
      "source": [
        "# show the columns label\n",
        "df.columns.values[0:4]"
      ],
      "execution_count": null,
      "outputs": []
    },
    {
      "cell_type": "code",
      "metadata": {
        "id": "Hl7WKFE9KUQ4"
      },
      "source": [
        "# show number of samples by class\n",
        "df['class'].value_counts()"
      ],
      "execution_count": null,
      "outputs": []
    },
    {
      "cell_type": "code",
      "metadata": {
        "id": "gjvkUl57Ka2_"
      },
      "source": [
        "#  Create and show box and whisker plots\n",
        "import matplotlib.pyplot as plt\n",
        "\n",
        "plt.figure(figsize=(100,100),dpi=288)\n",
        "df2 = df.drop('class', axis=1)\n",
        "df2.plot(kind='box', subplots=True, layout=(2,2), sharex=False, sharey=False)\n",
        "plt.show()\n",
        "\n"
      ],
      "execution_count": null,
      "outputs": []
    },
    {
      "cell_type": "code",
      "metadata": {
        "id": "11myM9HBQsaI"
      },
      "source": [
        "df2.hist()\n",
        "plt.show()"
      ],
      "execution_count": null,
      "outputs": []
    },
    {
      "cell_type": "code",
      "metadata": {
        "id": "2nxfzDoeQ46n"
      },
      "source": [
        "# scatter plot matrix\n",
        "\n",
        "from pandas.plotting import scatter_matrix\n",
        "\n",
        "scatter_matrix(df2)\n",
        "plt.show()"
      ],
      "execution_count": null,
      "outputs": []
    }
  ]
}