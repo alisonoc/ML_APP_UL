{
 "cells": [
  {
   "cell_type": "markdown",
   "metadata": {
    "id": "Qvexyww7a-0o"
   },
   "source": [
    "<div>\n",
    "<img src=\"https://drive.google.com/uc?export=view&id=1vK33e_EqaHgBHcbRV_m38hx6IkG0blK_\" width=\"350\"/>\n",
    "</div> \n",
    "\n",
    "#**Artificial Intelligence - MSc**\n",
    "CS6501 - MACHINE LEARNING AND APPLICATIONS\n",
    "#**Business Analytics - MSc**\n",
    "ET5003 - MACHINE LEARNING APPLICATIONS \n",
    "##***Annual Repeat***\n",
    "###Instructor: Enrique Naredo\n",
    "\n",
    "###RepMLA_Etivity-3\n"
   ]
  },
  {
   "cell_type": "code",
   "execution_count": null,
   "metadata": {
    "cellView": "form",
    "id": "LqXD_IwUQuBF"
   },
   "outputs": [],
   "source": [
    "#@title Current Date\n",
    "Today = '2021-08-02' #@param {type:\"date\"}\n"
   ]
  },
  {
   "cell_type": "code",
   "execution_count": null,
   "metadata": {
    "cellView": "form",
    "id": "uzDKau31OjVO"
   },
   "outputs": [],
   "source": [
    "#@markdown ---\n",
    "#@markdown ### Enter your details here:\n",
    "Student_ID = \"\" #@param {type:\"string\"}\n",
    "Student_full_name = \"\" #@param {type:\"string\"}\n",
    "#@markdown ---"
   ]
  },
  {
   "cell_type": "code",
   "execution_count": null,
   "metadata": {
    "cellView": "form",
    "id": "r39xGZckTpKx"
   },
   "outputs": [],
   "source": [
    "#@title Notebook information\n",
    "Notebook_type = 'Example' #@param [\"Example\", \"Lab\", \"Practice\", \"Etivity\", \"Assignment\", \"Exam\"]\n",
    "Version = 'Draft' #@param [\"Draft\", \"Final\"] {type:\"raw\"}\n",
    "Submission = False #@param {type:\"boolean\"}"
   ]
  },
  {
   "cell_type": "markdown",
   "metadata": {
    "id": "1vrJoNOO5w0f"
   },
   "source": [
    "# Etivity-3"
   ]
  },
  {
   "cell_type": "markdown",
   "metadata": {
    "id": "vw_00xBJ5c6S"
   },
   "source": [
    "## Introduction"
   ]
  },
  {
   "cell_type": "markdown",
   "metadata": {
    "id": "ZMPM1RVc6PeW"
   },
   "source": [
    "### Guidelines\n",
    "Use this cell as a guideline and remove it when submitting the Etivity\n",
    "\n",
    "- ID and full name at the top of the file.\n",
    "- Explanation of the problem addressed.\n",
    "- Use mathematical notation and images.\n",
    "- Add any links to the references.\n",
    "- Write your work taking in consideration the reader.\n",
    "- Your work must be easy to understand and replicate."
   ]
  },
  {
   "cell_type": "markdown",
   "metadata": {
    "id": "hbOf8jmJ51jQ"
   },
   "source": [
    "## Dataset"
   ]
  },
  {
   "cell_type": "markdown",
   "metadata": {
    "id": "8Nzipx1Y8wGx"
   },
   "source": [
    "\n",
    "### Guidelines\n",
    "Use this cell as a guideline and remove it when submitting the Etivity\n",
    "\n",
    "- Explain the dataset and its features.\n",
    "- Give the link or information to get the dataset.\n",
    "- Add comments about any preprocessing you used if any.\n",
    "- Explain what technique was used to split the dataset into train and test sets.\n",
    "- Show bar graphs and/or plots to graphically explain the dataset."
   ]
  },
  {
   "cell_type": "markdown",
   "metadata": {
    "id": "WaH8zkcQ55cF"
   },
   "source": [
    "## Method"
   ]
  },
  {
   "cell_type": "markdown",
   "metadata": {
    "id": "ZACjApsa9QFt"
   },
   "source": [
    "### Guidelines\n",
    "Use this cell as a guideline and remove it when submitting the Etivity\n",
    "\n",
    "- Explain the method used to solve the given problem.\n",
    "- Use mathematical notation and images.\n",
    "- Add any links to the references."
   ]
  },
  {
   "cell_type": "markdown",
   "metadata": {
    "id": "N-hBEkbO58ed"
   },
   "source": [
    "## Summary"
   ]
  },
  {
   "cell_type": "markdown",
   "metadata": {
    "id": "xm0Ix3VL9RrS"
   },
   "source": [
    "### Guidelines\n",
    "Use this cell as a guideline and remove it when submitting the Etivity\n",
    "\n",
    "- This must be the final section in your notebook right before the references.\n",
    "- Give a summary of the work you did.\n",
    "- It is very important to use your own words to write this section.\n",
    "- Use the structure to reference any section in your notebook.\n",
    "- Add the discussion you had with your peers about any of the topics.\n",
    "- Explain the pros and cons of the datasets, techniques, and methods used.\n",
    "- List all your findings and give any conclusion related to your insights.\n",
    "- Highlight in your work any hint, tip, issue or any useful comment to improve the work."
   ]
  },
  {
   "cell_type": "markdown",
   "metadata": {
    "id": "mFdAvJpp6AYL"
   },
   "source": [
    "## References"
   ]
  },
  {
   "cell_type": "markdown",
   "metadata": {
    "id": "JPGT1d7O9TH6"
   },
   "source": [
    "### Guidelines\n",
    "Use this cell as a guideline and remove it when submitting the Etivity\n",
    "\n",
    "- Use the American Psychological Association (APA) citation style.\n",
    "- References of books\n",
    "- References of articles\n",
    "- References of url (websites)"
   ]
  }
 ],
 "metadata": {
  "colab": {
   "name": "RepMLA_Etivity_3.ipynb",
   "provenance": []
  },
  "kernelspec": {
   "display_name": "Python 3",
   "language": "python",
   "name": "python3"
  },
  "language_info": {
   "codemirror_mode": {
    "name": "ipython",
    "version": 3
   },
   "file_extension": ".py",
   "mimetype": "text/x-python",
   "name": "python",
   "nbconvert_exporter": "python",
   "pygments_lexer": "ipython3",
   "version": "3.8.8"
  }
 },
 "nbformat": 4,
 "nbformat_minor": 1
}
