{
 "cells": [
  {
   "cell_type": "markdown",
   "metadata": {
    "id": "04pGqRnTe7aT"
   },
   "source": [
    "# Problem 1\n",
    "Create a function that returns the sum of all even elements in a 2D matrix.\n",
    "\n",
    "Examples\n",
    ">sum_of_evens([\n",
    "  [1, 0, 2],\n",
    "  [5, 5, 7],\n",
    "  [9, 4, 3]\n",
    "]) ➞ 6\n",
    ">\n",
    ">sum_of_evens([\n",
    "  [1, 1],\n",
    "  [1, 1]\n",
    "]) ➞ 0\n",
    ">\n",
    ">sum_of_evens([\n",
    "  [42, 9],\n",
    "  [16, 8]\n",
    "]) ➞ 66\n",
    ">\n",
    ">sum_of_evens([\n",
    "  [],\n",
    "  [],\n",
    "  []\n",
    "]) ➞ 0\n",
    "\n",
    "Notes\n",
    "\n",
    "    Submatrices will be of equal length.\n",
    "    Return 0 if the 2D matrix only consists of empty submatrices."
   ]
  },
  {
   "cell_type": "markdown",
   "metadata": {
    "id": "_NDCiZ36e7aT"
   },
   "source": [
    "# Problem 2\n",
    "In each input list, every number repeats at least once, except for two. Write a function that returns the two unique numbers.\n",
    "\n",
    "Examples\n",
    ">return_unique([1, 9, 8, 8, 7, 6, 1, 6]) ➞ [9, 7]\n",
    ">\n",
    ">return_unique([5, 5, 2, 4, 4, 4, 9, 9, 9, 1]) ➞ [2, 1]\n",
    ">\n",
    ">return_unique([9, 5, 6, 8, 7, 7, 1, 1, 1, 1, 1, 9, 8]) ➞ [5, 6]\n",
    "\n",
    "Notes\n",
    "\n",
    "Keep the same ordering in the output."
   ]
  },
  {
   "cell_type": "markdown",
   "metadata": {
    "id": "4ppr2nFMe7aU"
   },
   "source": [
    "# Problem 3\n",
    "This is a reverse coding challenge. Normally you're given explicit directions with how to create a function. Here, you must generate your own function to satisfy the relationship between the inputs and outputs.\n",
    "\n",
    "Your task is to create a function that, when fed the inputs below, produces the sample outputs shown.\n",
    "\n",
    ">mystery_func(152) ➞ 10\n",
    ">\n",
    ">mystery_func(832) ➞ 48\n",
    ">\n",
    ">mystery_func(19) ➞ 9\n",
    ">\n",
    ">mystery_func(133) ➞ 9"
   ]
  },
  {
   "cell_type": "markdown",
   "metadata": {
    "id": "dxZaNTX8e7aU"
   },
   "source": [
    "# Problem 4\n",
    "Build a function that creates histograms. Every bar needs to be on a new line and its length corresponds to the numbers in the list passed as an argument. The second argument of the function represents the character that needs to be used.\n",
    "\n",
    "> histogram(lst, char) -> str\n",
    "\n",
    "Examples\n",
    ">histogram([1, 3, 4], \"\\#\") ➞ \"\\#\\n\\#\\#\\#\\n\\#\\#\\#\\#\"\n",
    ">\n",
    ">\\#\n",
    ">\n",
    ">\\###\n",
    ">\n",
    ">\\####\n",
    ">\n",
    ">histogram([6, 2, 15, 3], \"=\") ➞ \"======\\n==\\n===============\\n===\"\n",
    ">\n",
    ">======\n",
    ">\n",
    ">==\n",
    ">\n",
    ">===============\n",
    ">\n",
    ">===\n",
    ">\n",
    ">histogram([1, 10], \"+\") ➞ \"+\\n++++++++++\"\n",
    ">\n",
    ">+\n",
    ">\n",
    ">++++++++++"
   ]
  },
  {
   "cell_type": "markdown",
   "metadata": {
    "id": "IQOnaBOBe7aV"
   },
   "source": [
    "# Problem 5\n",
    "This challenge will deal further with writing recursive functions by covering the Euclidean Algorithm. The \"Euclidean Algorithm\" is a method for finding the greatest common divisor (GCD) of two numbers. It was originally described by the Greek mathematician Euclid.\n",
    "Algorithm\n",
    "\n",
    "For the sake of simplicity I'll refer to the first number as \"a\", the second number as \"b\", and the remainder as \"r\". The algorithm can be broken down into four steps:\n",
    "\n",
    "    Ensure that \"a\" >= \"b\". If \"a\" < \"b\", swap them.\n",
    "    Find the remainder. Divide \"a\" by \"b\" and set \"r\" as the remainder.\n",
    "    Is \"r\" zero? If so terminate the function and return \"b\" (the second number).\n",
    "    Set \"a\" = \"b\" and \"b\" = \"r\" and start the algorithm over again.\n",
    "\n",
    "Instructions\n",
    "\n",
    "Create a recursive function that returns the GCD between two positive numbers using the Euclidean Algorithm.\n",
    "\n",
    "Examples\n",
    ">euclidean(8, 6) ➞ 2\n",
    ">\n",
    ">euclidean(25, 5) ➞ 5\n",
    ">\n",
    ">euclidean(49, 14) ➞ 7\n",
    "\n",
    "Notes\n",
    "\n",
    "    Remember that to find the remainder of two numbers use the modulus % operator.\n",
    "    Both numbers will be positive and neither number will be null."
   ]
  }
 ],
 "metadata": {
  "colab": {
   "name": "RepMLA_Lab_1_3.ipynb",
   "provenance": []
  },
  "kernelspec": {
   "display_name": "Python 3",
   "language": "python",
   "name": "python3"
  },
  "language_info": {
   "codemirror_mode": {
    "name": "ipython",
    "version": 3
   },
   "file_extension": ".py",
   "mimetype": "text/x-python",
   "name": "python",
   "nbconvert_exporter": "python",
   "pygments_lexer": "ipython3",
   "version": "3.8.8"
  }
 },
 "nbformat": 4,
 "nbformat_minor": 1
}
