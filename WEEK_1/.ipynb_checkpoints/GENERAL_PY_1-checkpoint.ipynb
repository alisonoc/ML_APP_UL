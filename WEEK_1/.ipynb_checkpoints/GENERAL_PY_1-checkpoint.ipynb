{
 "cells": [
  {
   "cell_type": "markdown",
   "metadata": {
    "id": "btye9kkOe7aR"
   },
   "source": [
    "## Problem 1\n",
    "\n",
    "Create a function that returns `true` if a given inequality expression is correct and `false` otherwise.\n",
    "\n",
    "Examples\n",
    ">correct_signs(\"3 < 7 < 11\") ➞ True\n",
    ">\n",
    ">correct_signs(\"13 > 44 > 33 > 1\") ➞ False\n",
    ">\n",
    ">correct_signs(\"1 < 2 < 6 < 9 > 3\") ➞ True\n"
   ]
  },
  {
   "cell_type": "markdown",
   "metadata": {
    "id": "K_Zxu8rwe7aS"
   },
   "source": [
    "## Problem 2\n",
    "\n",
    "\n",
    "Write a function that takes a list and a number as arguments. Add the number to the end of the list, then remove the first element of the list. The function should then return the updated list.\n",
    "\n",
    "Examples\n",
    ">next_in_line([5, 6, 7, 8, 9], 1) ➞ [6, 7, 8, 9, 1]\n",
    ">\n",
    ">next_in_line([7, 6, 3, 23, 17], 10) ➞ [6, 3, 23, 17, 10]\n",
    ">\n",
    ">next_in_line([1, 10, 20, 42 ], 6) ➞ [10, 20, 42, 6]\n",
    ">\n",
    ">next_in_line([], 6) ➞ \"No list has been selected\"\n",
    "\n",
    "Notes\n",
    "For an empty list input, return: \"No list has been selected\""
   ]
  },
  {
   "cell_type": "markdown",
   "metadata": {
    "id": "ZIwJZ4lVe7aS"
   },
   "source": [
    "## Problem 8\n",
    "Create a function that takes a list of strings and integers, and filters out the list so that it returns a list of integers only.\n",
    "\n",
    "Examples\n",
    ">filter_list([1, 2, 3, \"a\", \"b\", 4]) ➞ [1, 2, 3, 4]\n",
    ">\n",
    ">filter_list([\"A\", 0, \"Edabit\", 1729, \"Python\", \"1729\"]) ➞ [0, 1729]\n",
    ">\n",
    ">filter_list([\"Nothing\", \"here\"]) ➞ []\n",
    "\n",
    "Notes\n",
    "Don't overthink this one."
   ]
  },
  {
   "cell_type": "markdown",
   "metadata": {
    "id": "F8pmcBBke7aS"
   },
   "source": [
    "## Problem 3\n",
    "\n",
    "A set is a collection of unique items. A set can be formed from a list from removing all duplicate items.\n",
    "\n",
    ">[1, 3, 3, 5, 5, 5]\n",
    ">\\# original list\n",
    ">\n",
    ">[1, 3, 5]\n",
    ">\\# original list transformed into a set\n",
    "\n",
    "Create a function that sorts a list and removes all duplicate items from it.\n",
    "\n",
    "Examples\n",
    "\n",
    ">setify([1, 3, 3, 5, 5]) ➞ [1, 3, 5]\n",
    ">\n",
    ">setify([4, 4, 4, 4]) ➞ [4]\n",
    ">\n",
    ">setify([5, 7, 8, 9, 10, 15]) ➞ [5, 7, 8, 9, 10, 15]\n",
    "\n",
    ">setify([3, 3, 3, 2, 1]) ➞ [1, 2, 3]\n",
    "\n",
    "Notes\n",
    "Return a sorted list."
   ]
  },
  {
   "cell_type": "markdown",
   "metadata": {
    "id": "7aBfUayoe7aT"
   },
   "source": [
    "## Problem 4\n",
    "Create a function that takes a string and returns a new string with all vowels removed.\n",
    "\n",
    "Examples:\n",
    ">remove_vowels(\"I have never seen a thin person drinking Diet Coke.\")\n",
    "➞ \" hv nvr sn  thn prsn drnkng Dt Ck.\"\n",
    ">\n",
    ">remove_vowels(\"We're gonna build a wall!\")\n",
    "➞ \"W'r gnn bld  wll!\"\n",
    ">\n",
    ">remove_vowels(\"Happy Thanksgiving to all--even the haters and losers!\")\n",
    "➞ \"Hppy Thnksgvng t ll--vn th htrs nd lsrs!\""
   ]
  }
 ],
 "metadata": {
  "colab": {
   "name": "RepMLA_Lab_1_2.ipynb",
   "provenance": []
  },
  "kernelspec": {
   "display_name": "Python 3",
   "language": "python",
   "name": "python3"
  },
  "language_info": {
   "codemirror_mode": {
    "name": "ipython",
    "version": 3
   },
   "file_extension": ".py",
   "mimetype": "text/x-python",
   "name": "python",
   "nbconvert_exporter": "python",
   "pygments_lexer": "ipython3",
   "version": "3.8.8"
  }
 },
 "nbformat": 4,
 "nbformat_minor": 1
}
