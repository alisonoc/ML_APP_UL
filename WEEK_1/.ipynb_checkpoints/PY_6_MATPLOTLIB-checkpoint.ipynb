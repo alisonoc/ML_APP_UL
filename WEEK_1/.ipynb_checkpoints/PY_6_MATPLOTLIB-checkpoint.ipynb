{
 "cells": [
  {
   "cell_type": "markdown",
   "metadata": {},
   "source": [
    "# Matplotlib exercise"
   ]
  },
  {
   "cell_type": "markdown",
   "metadata": {},
   "source": [
    "# Problem 1\n",
    "Plot a scatter plot of Data using the first column as x and the first column as y, using red points.\n",
    "<BR>\n",
    "x=np.random.randn(15) <BR>\n",
    "Data=np.hstack([x[:,None],x[:,None]])"
   ]
  },
  {
   "cell_type": "markdown",
   "metadata": {},
   "source": [
    "# Problem 2\n",
    "Plot a scatter plot of Data using the first column as x and the first column as y,\n",
    "and add the label \"x\" and \"y\" to the respective columns using `fontsize` 14."
   ]
  },
  {
   "cell_type": "markdown",
   "metadata": {},
   "source": [
    "# Problem 3\n",
    "Plot the graph of the function $\\cos(8 x)$ for $x \\in[0,1]$ and add the label \"x\" and \"cos(8x)\" to the respective columns using `fontsize` 14."
   ]
  },
  {
   "cell_type": "markdown",
   "metadata": {},
   "source": [
    "# Problem 4\n",
    "Plot the histogram of Data using 30 bins."
   ]
  },
  {
   "cell_type": "markdown",
   "metadata": {},
   "source": [
    "# Problem 5\n",
    "Add a legend to the plot generated in Problem 3 where the data is called 'my data'"
   ]
  },
  {
   "cell_type": "markdown",
   "metadata": {},
   "source": [
    "# Problem 6\n",
    "\n",
    "* Calculate the function in Problem 3 for y=original_y^2\n",
    "* Plot the original data and the new data on the same plot\n",
    "* Add a secondary axis if needed\n",
    "* Include a legend in the plot "
   ]
  }
 ],
 "metadata": {
  "kernelspec": {
   "display_name": "Python 3",
   "language": "python",
   "name": "python3"
  },
  "language_info": {
   "codemirror_mode": {
    "name": "ipython",
    "version": 3
   },
   "file_extension": ".py",
   "mimetype": "text/x-python",
   "name": "python",
   "nbconvert_exporter": "python",
   "pygments_lexer": "ipython3",
   "version": "3.8.8"
  }
 },
 "nbformat": 4,
 "nbformat_minor": 4
}
