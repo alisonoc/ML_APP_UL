{
 "cells": [
  {
   "cell_type": "markdown",
   "metadata": {
    "id": "PFvNOA7si2d_"
   },
   "source": [
    "# Numpy"
   ]
  },
  {
   "cell_type": "markdown",
   "metadata": {
    "id": "_JcEGZQDi2eC"
   },
   "source": [
    "\n",
    "This part focuses on Numpy, see <a href=\"http://cs.haverford.edu/faculty/smathieson/teaching/f19/labs/lab01/lab01.html\">numpy quickstart tutorial</a>, which I encourage you to reference throughout the course.\n",
    "\n",
    "\n",
    "Some problems about numpy\n",
    "\n"
   ]
  },
  {
   "cell_type": "markdown",
   "metadata": {
    "id": "B3kV5EJgi2eD"
   },
   "source": [
    "# Problem 1 \n",
    "\n",
    "Create a null vector of size 10 (that is a vector that includes 10 zeros) and print it"
   ]
  },
  {
   "cell_type": "markdown",
   "metadata": {
    "id": "Rt9bieP8i2eF"
   },
   "source": [
    "# Problem 2\n",
    "Create a null vector of size 10 but the fifth value which is 1 "
   ]
  },
  {
   "cell_type": "markdown",
   "metadata": {
    "id": "S5olPsQKi2eF"
   },
   "source": [
    "# Problem 3\n",
    "Create a vector with all integer values ranging from 10 to 49 "
   ]
  },
  {
   "cell_type": "markdown",
   "metadata": {
    "id": "mLZtIlQti2eF"
   },
   "source": [
    "# Problem 4\n",
    " Create a 3x3 matrix with values ranging from 0 to 8 "
   ]
  },
  {
   "cell_type": "markdown",
   "metadata": {
    "id": "F9SJOjgMi2eG"
   },
   "source": [
    "# Problem 5\n",
    "Create a 3x3x3 array with random values (you can use ` np.random.random`)"
   ]
  },
  {
   "cell_type": "markdown",
   "metadata": {},
   "source": [
    "# Problem 6\n",
    "Create a 10x10 array with random values and find the minimum and maximum values"
   ]
  },
  {
   "cell_type": "markdown",
   "metadata": {},
   "source": [
    "# Problem 7\n",
    "Create a random vector of size 30 and find the mean value "
   ]
  },
  {
   "cell_type": "markdown",
   "metadata": {},
   "source": [
    "# Problem 8\n",
    "Create a 5x5 matrix with values 1,2,3,4 just below the diagonal"
   ]
  },
  {
   "cell_type": "markdown",
   "metadata": {},
   "source": [
    "# Problem 9\n",
    "Create a random vector of size 10 and sort it "
   ]
  },
  {
   "cell_type": "markdown",
   "metadata": {},
   "source": [
    "# Problem 10\n",
    "\n",
    "Subtract the mean of each row of a matrix (Use `X = np.random.rand(5, 10)` to generate the array)"
   ]
  },
  {
   "cell_type": "markdown",
   "metadata": {},
   "source": [
    "# Problem 11\n",
    "Normalize a 5x5 random matrix"
   ]
  },
  {
   "cell_type": "markdown",
   "metadata": {},
   "source": [
    "# Problem 12\n",
    "\n",
    "Multiply a 5x3 matrix by a 3x2 matrix (matrix product)"
   ]
  },
  {
   "cell_type": "markdown",
   "metadata": {},
   "source": [
    "# Problem 13\n",
    "Given a 1D array, negate all elements which are between 3 and 8, in place. "
   ]
  },
  {
   "cell_type": "markdown",
   "metadata": {},
   "source": [
    "# Problem 14\n",
    "How to find common values between two arrays?"
   ]
  },
  {
   "cell_type": "markdown",
   "metadata": {},
   "source": [
    "# Problem 15\n",
    "How to find the most frequent value in an array? (Use `Z = np.random.randint(0,10,50)` to generate the array)"
   ]
  }
 ],
 "metadata": {
  "colab": {
   "name": "RepMLA_Lab-1_4.ipynb",
   "provenance": []
  },
  "kernelspec": {
   "display_name": "Python 3",
   "language": "python",
   "name": "python3"
  },
  "language_info": {
   "codemirror_mode": {
    "name": "ipython",
    "version": 3
   },
   "file_extension": ".py",
   "mimetype": "text/x-python",
   "name": "python",
   "nbconvert_exporter": "python",
   "pygments_lexer": "ipython3",
   "version": "3.8.8"
  }
 },
 "nbformat": 4,
 "nbformat_minor": 1
}
