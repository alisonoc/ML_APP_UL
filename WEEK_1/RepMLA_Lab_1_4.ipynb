{
 "cells": [
  {
   "cell_type": "markdown",
   "metadata": {
    "id": "Qvexyww7a-0o"
   },
   "source": [
    "<div>\n",
    "<img src=\"https://drive.google.com/uc?export=view&id=1vK33e_EqaHgBHcbRV_m38hx6IkG0blK_\" width=\"350\"/>\n",
    "</div> \n",
    "\n",
    "#**Artificial Intelligence - MSc**\n",
    "CS6501 - MACHINE LEARNING AND APPLICATIONS\n",
    "#**Business Analytics - MSc**\n",
    "ET5003 - MACHINE LEARNING APPLICATIONS \n",
    "##***Annual Repeat***\n",
    "###Instructor: Enrique Naredo\n",
    "\n",
    "###RepMLA_Lab-1.4\n",
    "\n",
    "Student ID: \n",
    "\n",
    "Student name: "
   ]
  },
  {
   "cell_type": "markdown",
   "metadata": {
    "id": "PFvNOA7si2d_"
   },
   "source": [
    "# Numpy"
   ]
  },
  {
   "cell_type": "markdown",
   "metadata": {
    "id": "_JcEGZQDi2eC"
   },
   "source": [
    "\n",
    "This part focuses on Numpy, see <a href=\"http://cs.haverford.edu/faculty/smathieson/teaching/f19/labs/lab01/lab01.html\">numpy quickstart tutorial</a>, which I encourage you to reference throughout the course.\n",
    "\n",
    "\n",
    "Some problems about numpy\n",
    "\n"
   ]
  },
  {
   "cell_type": "markdown",
   "metadata": {
    "id": "B3kV5EJgi2eD"
   },
   "source": [
    "# Problem 1 \n",
    "\n",
    "Create a null vector of size 10 (that is a vector that includes 10 zeros) and print it"
   ]
  },
  {
   "cell_type": "code",
   "execution_count": 1,
   "metadata": {
    "id": "4joqyqsCi2eD",
    "outputId": "7a592600-61d1-4ffe-8559-16690fcf54d5"
   },
   "outputs": [
    {
     "name": "stdout",
     "output_type": "stream",
     "text": [
      "[0. 0. 0. 0. 0. 0. 0. 0. 0. 0.]\n"
     ]
    }
   ],
   "source": [
    "#solution\n",
    "import numpy as np\n",
    "Z = np.zeros(10)\n",
    "print(Z)"
   ]
  },
  {
   "cell_type": "markdown",
   "metadata": {
    "id": "Rt9bieP8i2eF"
   },
   "source": [
    "# Problem 2\n",
    "Create a null vector of size 10 but the fifth value which is 1 "
   ]
  },
  {
   "cell_type": "code",
   "execution_count": 2,
   "metadata": {},
   "outputs": [
    {
     "data": {
      "text/plain": [
       "array([0., 0., 0., 0., 0., 1., 0., 0., 0., 0.])"
      ]
     },
     "execution_count": 2,
     "metadata": {},
     "output_type": "execute_result"
    }
   ],
   "source": [
    "Z=np.zeros(10)\n",
    "Z[5]=1\n",
    "Z"
   ]
  },
  {
   "cell_type": "markdown",
   "metadata": {
    "id": "S5olPsQKi2eF"
   },
   "source": [
    "# Problem 3\n",
    "Create a vector with all integer values ranging from 10 to 49 "
   ]
  },
  {
   "cell_type": "code",
   "execution_count": 5,
   "metadata": {},
   "outputs": [
    {
     "data": {
      "text/plain": [
       "array([10, 11, 12, 13, 14, 15, 16, 17, 18, 19, 20, 21, 22, 23, 24, 25, 26,\n",
       "       27, 28, 29, 30, 31, 32, 33, 34, 35, 36, 37, 38, 39, 40, 41, 42, 43,\n",
       "       44, 45, 46, 47, 48, 49])"
      ]
     },
     "execution_count": 5,
     "metadata": {},
     "output_type": "execute_result"
    }
   ],
   "source": [
    "Z=np.arange(10, 50, 1)\n",
    "Z"
   ]
  },
  {
   "cell_type": "markdown",
   "metadata": {
    "id": "mLZtIlQti2eF"
   },
   "source": [
    "# Problem 4\n",
    " Create a 3x3 matrix with values ranging from 0 to 8 "
   ]
  },
  {
   "cell_type": "code",
   "execution_count": 6,
   "metadata": {},
   "outputs": [
    {
     "data": {
      "text/plain": [
       "array([[0, 1, 2],\n",
       "       [3, 4, 5],\n",
       "       [6, 7, 8]])"
      ]
     },
     "execution_count": 6,
     "metadata": {},
     "output_type": "execute_result"
    }
   ],
   "source": [
    "Z=np.arange(0, 9, 1).reshape(3, 3)\n",
    "Z"
   ]
  },
  {
   "cell_type": "markdown",
   "metadata": {
    "id": "F9SJOjgMi2eG"
   },
   "source": [
    "# Problem 5\n",
    "Create a 3x3x3 array with random values (you can use ` np.random.random`)"
   ]
  },
  {
   "cell_type": "code",
   "execution_count": 7,
   "metadata": {},
   "outputs": [
    {
     "data": {
      "text/plain": [
       "array([[[0.03049293, 0.85745671, 0.75209703],\n",
       "        [0.46066114, 0.6584191 , 0.71271784],\n",
       "        [0.5311984 , 0.93859507, 0.32794467]],\n",
       "\n",
       "       [[0.0858897 , 0.42163653, 0.56996451],\n",
       "        [0.80150982, 0.38051169, 0.31261203],\n",
       "        [0.98918976, 0.7093103 , 0.73075515]],\n",
       "\n",
       "       [[0.15765062, 0.63132138, 0.9161105 ],\n",
       "        [0.2491433 , 0.56856094, 0.00416834],\n",
       "        [0.63828948, 0.77940308, 0.87250028]]])"
      ]
     },
     "execution_count": 7,
     "metadata": {},
     "output_type": "execute_result"
    }
   ],
   "source": [
    "Z=np.random.random((3, 3, 3))\n",
    "Z"
   ]
  },
  {
   "cell_type": "code",
   "execution_count": null,
   "metadata": {},
   "outputs": [],
   "source": []
  }
 ],
 "metadata": {
  "colab": {
   "name": "RepMLA_Lab-1_4.ipynb",
   "provenance": []
  },
  "kernelspec": {
   "display_name": "Python 3",
   "language": "python",
   "name": "python3"
  },
  "language_info": {
   "codemirror_mode": {
    "name": "ipython",
    "version": 3
   },
   "file_extension": ".py",
   "mimetype": "text/x-python",
   "name": "python",
   "nbconvert_exporter": "python",
   "pygments_lexer": "ipython3",
   "version": "3.8.8"
  }
 },
 "nbformat": 4,
 "nbformat_minor": 1
}
