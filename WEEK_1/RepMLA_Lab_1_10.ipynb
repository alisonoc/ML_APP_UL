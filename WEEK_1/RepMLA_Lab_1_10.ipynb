{
 "cells": [
  {
   "cell_type": "markdown",
   "metadata": {
    "id": "S8CO3y1RLSuF"
   },
   "source": [
    "<div>\n",
    "<img src=\"https://drive.google.com/uc?export=view&id=1vK33e_EqaHgBHcbRV_m38hx6IkG0blK_\" width=\"350\"/>\n",
    "</div> \n",
    "\n",
    "#**Artificial Intelligence - MSc**\n",
    "CS6501 - MACHINE LEARNING AND APPLICATIONS\n",
    "#**Business Analytics - MSc**\n",
    "ET5003 - MACHINE LEARNING APPLICATIONS \n",
    "##***Annual Repeat***\n",
    "###Instructor: Enrique Naredo\n",
    "\n",
    "###RepMLA_Lab-1.10\n",
    "\n",
    "Student ID: 0427845\n",
    "\n",
    "Student name: Alison O'connor"
   ]
  },
  {
   "cell_type": "markdown",
   "metadata": {
    "id": "J0aR26eeLSuG"
   },
   "source": [
    "# Pandas exercise"
   ]
  },
  {
   "cell_type": "code",
   "execution_count": 5,
   "metadata": {
    "id": "Z4X9nmpgLSuH"
   },
   "outputs": [],
   "source": [
    "import pandas as pd\n",
    "import math\n",
    "import numpy as np\n",
    "import matplotlib.pyplot as plt"
   ]
  },
  {
   "cell_type": "markdown",
   "metadata": {
    "id": "EXylxsEgj4Ht"
   },
   "source": [
    "# Problem 16\n",
    "\n",
    "Compute the [euclidean distance](https://en.wikipedia.org/wiki/Euclidean_distance) between series (points) p and q, without using a formula from a library.\n"
   ]
  },
  {
   "cell_type": "code",
   "execution_count": 10,
   "metadata": {
    "id": "_ghm-RI9j4Ht"
   },
   "outputs": [
    {
     "name": "stdout",
     "output_type": "stream",
     "text": [
      "0.0\n"
     ]
    }
   ],
   "source": [
    "# Input\n",
    "p = pd.Series([1, 2, 3, 4, 5, 6, 7, 8, 9, 10])\n",
    "q = pd.Series([10, 9, 8, 7, 6, 5, 4, 3, 2, 1])\n",
    "'''\n",
    "Desired Output\n",
    "\n",
    "18.165\n",
    "'''\n",
    "\n",
    "dist=np.sqrt(np.sum((p-q)^2))\n",
    "print(dist)"
   ]
  },
  {
   "cell_type": "markdown",
   "metadata": {
    "id": "LdqpH6Uhj4Ht"
   },
   "source": [
    "# Problem 17 \n",
    "\n",
    "Rename a specific columns in a dataframe?\n"
   ]
  },
  {
   "cell_type": "code",
   "execution_count": null,
   "metadata": {
    "id": "yk-vUQ1Rj4Ht",
    "outputId": "98c874ea-8d1d-49be-8358-7de0ddd19eac"
   },
   "outputs": [],
   "source": [
    "# input\n",
    "# Rename the column Type as CarType in df and replace the ‘.’ in column names with ‘_’.\n",
    "cars93 = pd.read_csv(\"Cars93.csv\", index_col=0)#load the dataset\n",
    "print(cars93.head())\n",
    "\n",
    "'''\n",
    "Desired Output\n",
    "\n",
    "Index(['Manufacturer', 'Model', 'CarType', 'Min_Price', 'Price', 'Max_Price',\n",
    "        'MPG_city', 'MPG_highway', 'AirBags', 'DriveTrain', 'Cylinders',\n",
    "        'EngineSize', 'Horsepower', 'RPM', 'Rev_per_mile', 'Man_trans_avail',\n",
    "        'Fuel_tank_capacity', 'Passengers', 'Length', 'Wheelbase', 'Width',\n",
    "        'Turn_circle', 'Rear_seat_room', 'Luggage_room', 'Weight', 'Origin',\n",
    "        'Make'],\n",
    "       dtype='object')\n",
    "'''"
   ]
  },
  {
   "cell_type": "markdown",
   "metadata": {
    "id": "Vka4x8Spj4Hu"
   },
   "source": [
    "# Problem 18\n",
    "\n",
    "Check if a dataframe has any missing values?"
   ]
  },
  {
   "cell_type": "code",
   "execution_count": null,
   "metadata": {
    "id": "RWQslFAXj4Hu",
    "outputId": "e8d381df-0d90-4afb-a952-b07bd7c4a928"
   },
   "outputs": [],
   "source": [
    "# input\n",
    "df = pd.read_csv(\"datasets/Cars93.csv\")\n",
    "print(df.columns)\n",
    "df['Luggage.room'].iloc[87:]# the NaN is an example of missing value in the column 'Luggage.room'"
   ]
  },
  {
   "cell_type": "markdown",
   "metadata": {
    "id": "s2sI1QsOj4Hu"
   },
   "source": [
    "# Problem 19\n",
    "\n",
    "Count the number of missing values in each column of df. Which column has the maximum number of missing values?\n"
   ]
  },
  {
   "cell_type": "code",
   "execution_count": null,
   "metadata": {
    "id": "MjwHVGS7j4Hu"
   },
   "outputs": [],
   "source": [
    "# input\n",
    "df = pd.read_csv(\"datasets/Cars93.csv\")"
   ]
  },
  {
   "cell_type": "markdown",
   "metadata": {
    "id": "p5L9aMDtj4Hv"
   },
   "source": [
    "# Problem 20\n",
    "\n",
    "Replace missing values in Luggage.room columns with the column mean.\n",
    "\n"
   ]
  },
  {
   "cell_type": "code",
   "execution_count": null,
   "metadata": {
    "id": "euZYWfNjj4Hv",
    "outputId": "9a0dd00a-0599-4c06-8c7d-09d37dbd8a12"
   },
   "outputs": [],
   "source": [
    "# input\n",
    "df = pd.read_csv(\"datasets/Cars93.csv\")\n",
    "df[[\"Luggage.room\"]]"
   ]
  }
 ],
 "metadata": {
  "colab": {
   "name": "RepMLA_Lab-1_10.ipynb",
   "provenance": []
  },
  "kernelspec": {
   "display_name": "Python 3",
   "language": "python",
   "name": "python3"
  },
  "language_info": {
   "codemirror_mode": {
    "name": "ipython",
    "version": 3
   },
   "file_extension": ".py",
   "mimetype": "text/x-python",
   "name": "python",
   "nbconvert_exporter": "python",
   "pygments_lexer": "ipython3",
   "version": "3.8.8"
  }
 },
 "nbformat": 4,
 "nbformat_minor": 1
}
