{
 "cells": [
  {
   "cell_type": "markdown",
   "metadata": {
    "id": "Qvexyww7a-0o"
   },
   "source": [
    "<div>\n",
    "<img src=\"https://drive.google.com/uc?export=view&id=1vK33e_EqaHgBHcbRV_m38hx6IkG0blK_\" width=\"350\"/>\n",
    "</div> \n",
    "\n",
    "#**Artificial Intelligence - MSc**\n",
    "CS6501 - MACHINE LEARNING AND APPLICATIONS\n",
    "#**Business Analytics - MSc**\n",
    "ET5003 - MACHINE LEARNING APPLICATIONS \n",
    "##***Annual Repeat***\n",
    "###Instructor: Enrique Naredo\n",
    "\n",
    "###RepMLA_Lab-1.5\n",
    "\n",
    "Student ID: \n",
    "\n",
    "Student name: "
   ]
  },
  {
   "cell_type": "markdown",
   "metadata": {
    "id": "PFvNOA7si2d_"
   },
   "source": [
    "# Numpy"
   ]
  },
  {
   "cell_type": "markdown",
   "metadata": {
    "id": "_JcEGZQDi2eC"
   },
   "source": [
    "\n",
    "This part focuses on Numpy, see <a href=\"http://cs.haverford.edu/faculty/smathieson/teaching/f19/labs/lab01/lab01.html\">numpy quickstart tutorial</a>, which I encourage you to reference throughout the course.\n",
    "\n",
    "\n",
    "Some problems about numpy\n",
    "\n"
   ]
  },
  {
   "cell_type": "code",
   "execution_count": 1,
   "metadata": {},
   "outputs": [],
   "source": [
    "import numpy as np"
   ]
  },
  {
   "cell_type": "markdown",
   "metadata": {
    "id": "eGjXvhYEi2eG"
   },
   "source": [
    "# Problem 6\n",
    "Create a 10x10 array with random values and find the minimum and maximum values"
   ]
  },
  {
   "cell_type": "code",
   "execution_count": 2,
   "metadata": {},
   "outputs": [
    {
     "name": "stdout",
     "output_type": "stream",
     "text": [
      "[[0.85195068 0.73568254 0.97496762 0.70121004 0.34914136 0.54847346\n",
      "  0.74085371 0.90445294 0.14077685 0.2374903 ]\n",
      " [0.54258768 0.53003046 0.84312396 0.51409816 0.31166992 0.56242307\n",
      "  0.15625006 0.64151351 0.8934768  0.86933668]\n",
      " [0.88382935 0.35552623 0.98782876 0.44081925 0.47810604 0.07738985\n",
      "  0.49958319 0.07646684 0.58511158 0.51284264]\n",
      " [0.52235621 0.61389111 0.30926295 0.02406389 0.01818154 0.77514387\n",
      "  0.15111519 0.96709537 0.91566073 0.38585095]\n",
      " [0.13585614 0.15134238 0.39223093 0.75115933 0.9500559  0.07969228\n",
      "  0.23711562 0.14233139 0.73821154 0.280044  ]\n",
      " [0.14495792 0.5738242  0.66781995 0.38725186 0.6638001  0.03875381\n",
      "  0.19565461 0.54311561 0.86822507 0.68321072]\n",
      " [0.2748909  0.01632571 0.51346018 0.67202011 0.65242879 0.9075533\n",
      "  0.53779117 0.94056626 0.42054258 0.08354616]\n",
      " [0.88904798 0.43397464 0.31563638 0.59804723 0.808977   0.11501776\n",
      "  0.66603068 0.44678995 0.29968774 0.10432549]\n",
      " [0.9742678  0.40538437 0.97690214 0.09159851 0.64894856 0.0337177\n",
      "  0.28929045 0.26730578 0.62894522 0.70586573]\n",
      " [0.15554661 0.19774818 0.26738014 0.06482608 0.04591714 0.22934687\n",
      "  0.62236935 0.83037978 0.83266964 0.339508  ]]\n",
      "0.016325712495696032 0.9878287576182155\n"
     ]
    }
   ],
   "source": [
    "a=np.random.random((10, 10))\n",
    "my_min, my_max=a.min(), a.max()\n",
    "print(a)\n",
    "print(my_min, my_max)"
   ]
  },
  {
   "cell_type": "markdown",
   "metadata": {
    "id": "mzF2KFJdi2eG"
   },
   "source": [
    "# Problem 7\n",
    "Create a random vector of size 30 and find the mean value "
   ]
  },
  {
   "cell_type": "code",
   "execution_count": 3,
   "metadata": {},
   "outputs": [
    {
     "name": "stdout",
     "output_type": "stream",
     "text": [
      "[0.35067133 0.29612463 0.93378953 0.53898746 0.05271027 0.03228551\n",
      " 0.26644983 0.19788133 0.31094803 0.90261533 0.820953   0.07205013\n",
      " 0.49021224 0.78446531 0.90863706 0.6912424  0.50161397 0.14105181\n",
      " 0.20244609 0.32967866 0.82734294 0.94571532 0.07011002 0.00099671\n",
      " 0.49416206 0.92347903 0.08014417 0.70044411 0.6112732  0.6749518 ]\n",
      "0.471781109862985\n"
     ]
    }
   ],
   "source": [
    "arr=np.random.random((30))\n",
    "m=arr.mean()\n",
    "print(arr)\n",
    "print(m)"
   ]
  },
  {
   "cell_type": "markdown",
   "metadata": {
    "id": "8hbO1bKni2eH"
   },
   "source": [
    "# Problem 8\n",
    "Create a 5x5 matrix with values 1,2,3,4 just below the diagonal"
   ]
  },
  {
   "cell_type": "code",
   "execution_count": 13,
   "metadata": {},
   "outputs": [
    {
     "data": {
      "text/plain": [
       "array([[0., 0., 0., 0., 0.],\n",
       "       [1., 0., 0., 0., 0.],\n",
       "       [0., 2., 0., 0., 0.],\n",
       "       [0., 0., 3., 0., 0.],\n",
       "       [0., 0., 0., 4., 0.]])"
      ]
     },
     "execution_count": 13,
     "metadata": {},
     "output_type": "execute_result"
    }
   ],
   "source": [
    "arr=np.zeros((5, 5))\n",
    "diag=np.arange(1, 5,1)\n",
    "\n",
    "for i,val in enumerate(diag):\n",
    "    arr[i+1, i]=val\n",
    "\n",
    "\n",
    "# print(diag)\n",
    "arr"
   ]
  },
  {
   "cell_type": "markdown",
   "metadata": {
    "id": "XRUmWno7i2eH"
   },
   "source": [
    "# Problem 9\n",
    "Create a random vector of size 10 and sort it \n"
   ]
  },
  {
   "cell_type": "code",
   "execution_count": 5,
   "metadata": {},
   "outputs": [
    {
     "name": "stdout",
     "output_type": "stream",
     "text": [
      "[0.38468502 0.46527156 0.32062801 0.6282455  0.8368777  0.15390414\n",
      " 0.68543404 0.55291639 0.56131285 0.46088369]\n",
      "[0.15390414 0.32062801 0.38468502 0.46088369 0.46527156 0.55291639\n",
      " 0.56131285 0.6282455  0.68543404 0.8368777 ]\n"
     ]
    }
   ],
   "source": [
    "arr=np.random.random((10))\n",
    "arr2=np.sort(arr)\n",
    "print(arr)\n",
    "print(arr2)"
   ]
  },
  {
   "cell_type": "markdown",
   "metadata": {
    "id": "A1xyFNONi2eH"
   },
   "source": [
    "# Problem 10\n",
    "\n",
    "Subtract the mean of each row of a matrix (Use `X = np.random.rand(5, 10)` to generate the array)"
   ]
  },
  {
   "cell_type": "code",
   "execution_count": 6,
   "metadata": {},
   "outputs": [
    {
     "name": "stdout",
     "output_type": "stream",
     "text": [
      "[[0.5425521  0.31476478 0.87993366 0.24551502 0.15413412 0.60937542\n",
      "  0.57864063 0.74488713 0.39323037 0.64482511]\n",
      " [0.32628153 0.90766248 0.22236335 0.4719342  0.97850042 0.88433593\n",
      "  0.37055305 0.12762992 0.83171196 0.13223712]\n",
      " [0.16669338 0.72819378 0.14402628 0.58471904 0.30944912 0.75148425\n",
      "  0.28748758 0.4083952  0.26704672 0.57735005]\n",
      " [0.57877991 0.2361389  0.4312452  0.61549516 0.76722313 0.18200955\n",
      "  0.95464591 0.88397424 0.0704399  0.39014339]\n",
      " [0.4880086  0.38783674 0.23157216 0.46200592 0.83810135 0.13789565\n",
      "  0.72002813 0.85998045 0.46781761 0.30885375]]\n",
      "[[0.51078584]\n",
      " [0.52532099]\n",
      " [0.42248454]\n",
      " [0.51100953]\n",
      " [0.49021004]]\n",
      "[[ 0.03176627 -0.19602106  0.36914783 -0.26527081 -0.35665171  0.09858959\n",
      "   0.0678548   0.2341013  -0.11755547  0.13403927]\n",
      " [-0.19903947  0.38234148 -0.30295765 -0.0533868   0.45317943  0.35901494\n",
      "  -0.15476795 -0.39769108  0.30639096 -0.39308388]\n",
      " [-0.25579116  0.30570924 -0.27845826  0.1622345  -0.11303542  0.32899971\n",
      "  -0.13499696 -0.01408934 -0.15543782  0.15486551]\n",
      " [ 0.06777038 -0.27487063 -0.07976433  0.10448563  0.2562136  -0.32899997\n",
      "   0.44363638  0.37296471 -0.44056963 -0.12086614]\n",
      " [-0.00220143 -0.10237329 -0.25863788 -0.02820411  0.34789131 -0.35231439\n",
      "   0.22981809  0.36977042 -0.02239243 -0.18135628]]\n"
     ]
    }
   ],
   "source": [
    "X=np.random.rand(5,10)\n",
    "print(X)\n",
    "##CREATE MEAN ARRAY WITH ROWS=ROWS IN X and one column\n",
    "mean=np.mean(X, axis=1, keepdims=True)\n",
    "print(mean)\n",
    "##create new array with original X values minus mean values\n",
    "new_x=X - mean\n",
    "print(new_x)\n"
   ]
  },
  {
   "cell_type": "code",
   "execution_count": null,
   "metadata": {},
   "outputs": [],
   "source": []
  }
 ],
 "metadata": {
  "colab": {
   "name": "RepMLA_Lab-1_5.ipynb",
   "provenance": []
  },
  "kernelspec": {
   "display_name": "Python 3",
   "language": "python",
   "name": "python3"
  },
  "language_info": {
   "codemirror_mode": {
    "name": "ipython",
    "version": 3
   },
   "file_extension": ".py",
   "mimetype": "text/x-python",
   "name": "python",
   "nbconvert_exporter": "python",
   "pygments_lexer": "ipython3",
   "version": "3.8.8"
  }
 },
 "nbformat": 4,
 "nbformat_minor": 1
}
