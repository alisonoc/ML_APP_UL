{
 "cells": [
  {
   "cell_type": "markdown",
   "metadata": {
    "id": "Qvexyww7a-0o"
   },
   "source": [
    "<div>\n",
    "<img src=\"https://drive.google.com/uc?export=view&id=1vK33e_EqaHgBHcbRV_m38hx6IkG0blK_\" width=\"350\"/>\n",
    "</div> \n",
    "\n",
    "#**Artificial Intelligence - MSc**\n",
    "CS6501 - MACHINE LEARNING AND APPLICATIONS\n",
    "#**Business Analytics - MSc**\n",
    "ET5003 - MACHINE LEARNING APPLICATIONS \n",
    "##***Annual Repeat***\n",
    "###Instructor: Enrique Naredo\n",
    "\n",
    "###RepMLA_Lab-1.6\n",
    "\n",
    "Student ID: \n",
    "\n",
    "Student name: "
   ]
  },
  {
   "cell_type": "markdown",
   "metadata": {
    "id": "PFvNOA7si2d_"
   },
   "source": [
    "# Numpy"
   ]
  },
  {
   "cell_type": "markdown",
   "metadata": {
    "id": "_JcEGZQDi2eC"
   },
   "source": [
    "\n",
    "This part focuses on Numpy, see <a href=\"http://cs.haverford.edu/faculty/smathieson/teaching/f19/labs/lab01/lab01.html\">numpy quickstart tutorial</a>, which I encourage you to reference throughout the course.\n",
    "\n",
    "\n",
    "Some problems about numpy\n",
    "\n"
   ]
  },
  {
   "cell_type": "code",
   "execution_count": 3,
   "metadata": {},
   "outputs": [],
   "source": [
    "import numpy as np"
   ]
  },
  {
   "cell_type": "markdown",
   "metadata": {
    "id": "GmTAAkiAi2eH"
   },
   "source": [
    "# Problem 11\n",
    "Normalize a 5x5 random matrix\n",
    "\n",
    "Solution:\n",
    ">Z = np.random.random((5,5))\n",
    ">\n",
    ">Z = (Z - np.mean (Z)) / (np.std (Z))\n",
    ">\n",
    ">print(Z)\n"
   ]
  },
  {
   "cell_type": "code",
   "execution_count": 4,
   "metadata": {},
   "outputs": [
    {
     "name": "stdout",
     "output_type": "stream",
     "text": [
      "[[ 0.75484383  1.16524969  0.96063951  0.69046041  0.01312985]\n",
      " [-0.15828623 -1.4533595   1.56029042 -1.06101438  1.58104509]\n",
      " [-0.93759349  1.19266732 -0.60033618 -1.20718116  0.07092457]\n",
      " [-0.58254686 -0.54746042  0.47036881 -1.29197242  1.38794842]\n",
      " [-0.84076765 -1.17413437  1.32290739 -0.34648992 -0.96933272]]\n"
     ]
    }
   ],
   "source": [
    "a=np.random.random((5,5))\n",
    "a_norm=(a-np.mean(a))/np.std(a)\n",
    "print(a_norm)"
   ]
  },
  {
   "cell_type": "markdown",
   "metadata": {
    "id": "Y73QHZ8fi2eH"
   },
   "source": [
    "# Problem 12\n",
    "\n",
    "Multiply a 5x3 matrix by a 3x2 matrix (matrix product)"
   ]
  },
  {
   "cell_type": "code",
   "execution_count": 6,
   "metadata": {},
   "outputs": [],
   "source": [
    "a=np.random.random((5, 3))\n",
    "b=np.random.random((3, 2))\n",
    "\n",
    "c=np.dot(a, b)"
   ]
  },
  {
   "cell_type": "markdown",
   "metadata": {
    "id": "qd0RVtHhi2eI"
   },
   "source": [
    "# Problem 13\n",
    "Given a 1D array, negate all elements which are between 3 and 8, in place. "
   ]
  },
  {
   "cell_type": "code",
   "execution_count": 16,
   "metadata": {},
   "outputs": [
    {
     "name": "stdout",
     "output_type": "stream",
     "text": [
      "[ 1  2  3  4  5  6  7  8  9 10]\n",
      "[False False  True  True  True  True  True False False False]\n",
      "[ 1  2 -3 -4 -5 -6 -7  8  9 10]\n"
     ]
    }
   ],
   "source": [
    "arr=np.arange(1, 11)\n",
    "print(arr)\n",
    "##CREATE A MASK TO FIND 'TRUE' VALUES\n",
    "mask=(arr>2) & (arr<8)\n",
    "print(mask)\n",
    "##MODIFY THE ARRAY IN PLACE (MULTIPLY TRUE VALUES BY -1)\n",
    "arr[mask]*=-1\n",
    "print(arr)"
   ]
  },
  {
   "cell_type": "markdown",
   "metadata": {
    "id": "ATdBweZpi2eI"
   },
   "source": [
    "# Problem 14\n",
    "How to find common values between two arrays?\n"
   ]
  },
  {
   "cell_type": "code",
   "execution_count": 17,
   "metadata": {},
   "outputs": [
    {
     "name": "stdout",
     "output_type": "stream",
     "text": [
      "[2 4 6]\n"
     ]
    }
   ],
   "source": [
    "a=[1, 2, 3, 4, 5, 6]\n",
    "b=[2, 4, 6, 8, 10]\n",
    "\n",
    "c=np.intersect1d(a, b)\n",
    "\n",
    "print(c)"
   ]
  },
  {
   "cell_type": "markdown",
   "metadata": {
    "id": "enAmhXegi2eI"
   },
   "source": [
    "# Problem 15\n",
    "How to find the most frequent value in an array? (Use `Z = np.random.randint(0,10,50)` to generate the array)"
   ]
  },
  {
   "cell_type": "code",
   "execution_count": 19,
   "metadata": {},
   "outputs": [
    {
     "name": "stdout",
     "output_type": "stream",
     "text": [
      "[3 5 1 0 9 5 1 6 8 6 7 2 3 0 8 7 6 9 9 5 0 4 0 7 5 6 0 9 1 1 5 8 3 2 6 0 7\n",
      " 2 6 4 6 9 1 9 9 8 3 2 4 5]\n",
      "1  IS THE MOST FREQUENTLY USED VALUE\n"
     ]
    }
   ],
   "source": [
    "a=np.random.randint(0, 10, 50)\n",
    "print(a)\n",
    "values, counts=np.unique(a, return_counts=True)\n",
    "ind=np.argmax(counts)\n",
    "\n",
    "print(a[ind], ' IS THE MOST FREQUENTLY USED VALUE')"
   ]
  },
  {
   "cell_type": "code",
   "execution_count": null,
   "metadata": {},
   "outputs": [],
   "source": []
  }
 ],
 "metadata": {
  "colab": {
   "name": "RepMLA_Lab-1_6.ipynb",
   "provenance": []
  },
  "kernelspec": {
   "display_name": "Python 3",
   "language": "python",
   "name": "python3"
  },
  "language_info": {
   "codemirror_mode": {
    "name": "ipython",
    "version": 3
   },
   "file_extension": ".py",
   "mimetype": "text/x-python",
   "name": "python",
   "nbconvert_exporter": "python",
   "pygments_lexer": "ipython3",
   "version": "3.8.8"
  }
 },
 "nbformat": 4,
 "nbformat_minor": 1
}
