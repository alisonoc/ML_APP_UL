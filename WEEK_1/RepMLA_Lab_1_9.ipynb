{
  "nbformat": 4,
  "nbformat_minor": 0,
  "metadata": {
    "colab": {
      "name": "RepMLA_Lab-1_9.ipynb",
      "provenance": []
    },
    "kernelspec": {
      "name": "python3",
      "display_name": "Python 3"
    },
    "language_info": {
      "name": "python"
    }
  },
  "cells": [
    {
      "cell_type": "markdown",
      "metadata": {
        "id": "S8CO3y1RLSuF"
      },
      "source": [
        "<div>\n",
        "<img src=\"https://drive.google.com/uc?export=view&id=1vK33e_EqaHgBHcbRV_m38hx6IkG0blK_\" width=\"350\"/>\n",
        "</div> \n",
        "\n",
        "#**Artificial Intelligence - MSc**\n",
        "CS6501 - MACHINE LEARNING AND APPLICATIONS\n",
        "#**Business Analytics - MSc**\n",
        "ET5003 - MACHINE LEARNING APPLICATIONS \n",
        "##***Annual Repeat***\n",
        "###Instructor: Enrique Naredo\n",
        "\n",
        "###RepMLA_Lab-1.9\n",
        "\n",
        "Student ID: \n",
        "\n",
        "Student name: "
      ]
    },
    {
      "cell_type": "markdown",
      "metadata": {
        "id": "J0aR26eeLSuG"
      },
      "source": [
        "# Pandas exercise"
      ]
    },
    {
      "cell_type": "code",
      "metadata": {
        "id": "Z4X9nmpgLSuH"
      },
      "source": [
        "import pandas as pd"
      ],
      "execution_count": null,
      "outputs": []
    },
    {
      "cell_type": "markdown",
      "metadata": {
        "id": "GrrTnSz0j4Hq"
      },
      "source": [
        "# Problem 11\n",
        "\n",
        "Stack ser1 and ser2 vertically and horizontally (to form a dataframe).\n",
        "\n"
      ]
    },
    {
      "cell_type": "code",
      "metadata": {
        "id": "Q8qp-hQOj4Hr"
      },
      "source": [
        "# input\n",
        "ser1 = pd.Series(range(5))\n",
        "ser2 = pd.Series(list('abcde'))"
      ],
      "execution_count": null,
      "outputs": []
    },
    {
      "cell_type": "markdown",
      "metadata": {
        "id": "DB1JAN0ej4Hr"
      },
      "source": [
        "# Problem 12\n",
        "\n",
        "Get the positions of items of ser2 in ser1 as a list.\n",
        "\n"
      ]
    },
    {
      "cell_type": "code",
      "metadata": {
        "id": "yb7Inr4Cj4Hr"
      },
      "source": [
        "# input\n",
        "ser1 = pd.Series([10, 9, 6, 5, 3, 1, 12, 8, 13])\n",
        "ser2 = pd.Series([1, 3, 10, 13])"
      ],
      "execution_count": null,
      "outputs": []
    },
    {
      "cell_type": "markdown",
      "metadata": {
        "id": "tHXxOzs5j4Hr"
      },
      "source": [
        "# Problem 13\n",
        "\n",
        "Compute the mean squared error of truth and pred series.\n",
        "\n",
        "Notes:\n",
        "mean squared error is defined <a href=\"https://en.wikipedia.org/wiki/Mean_squared_error#Predictor\">here</a>"
      ]
    },
    {
      "cell_type": "code",
      "metadata": {
        "id": "XiPw9NIGj4Hr"
      },
      "source": [
        "# input\n",
        "truth = pd.Series(range(10))\n",
        "pred = pd.Series(range(10)) + np.random.random(10)"
      ],
      "execution_count": null,
      "outputs": []
    },
    {
      "cell_type": "markdown",
      "metadata": {
        "id": "kiX9r5yzj4Hs"
      },
      "source": [
        "# Problem 14 \n",
        "\n",
        "Convert a series of date-strings to a timeseries\n"
      ]
    },
    {
      "cell_type": "code",
      "metadata": {
        "id": "yu3ODOXAj4Hs"
      },
      "source": [
        "# input\n",
        "ser = pd.Series(['01 Jan 2010', '02-02-2011', '20120303', '2013/04/04', '2014-05-05', '2015-06-06T12:20'])\n",
        "\n",
        "\n",
        "'''\n",
        "Desired Output\n",
        "\n",
        "0   2010-01-01 00:00:00\n",
        "1   2011-02-02 00:00:00\n",
        "2   2012-03-03 00:00:00\n",
        "3   2013-04-04 00:00:00\n",
        "4   2014-05-05 00:00:00\n",
        "5   2015-06-06 12:20:00\n",
        "'''\n",
        "\n"
      ],
      "execution_count": null,
      "outputs": []
    },
    {
      "cell_type": "markdown",
      "metadata": {
        "id": "VxJdf2Scj4Hs"
      },
      "source": [
        "# Problem 15\n",
        "\n",
        "Get the day of month, week number, day of year and day of week from ser.\n"
      ]
    },
    {
      "cell_type": "markdown",
      "metadata": {
        "id": "TMlkr2SkMkDI"
      },
      "source": [
        "# Problem 11\n",
        "\n",
        "Stack ser1 and ser2 vertically and horizontally (to form a dataframe).\n",
        "\n"
      ]
    },
    {
      "cell_type": "code",
      "metadata": {
        "id": "z3LeJBYxMkDI"
      },
      "source": [
        "# input\n",
        "ser1 = pd.Series(range(5))\n",
        "ser2 = pd.Series(list('abcde'))"
      ],
      "execution_count": null,
      "outputs": []
    },
    {
      "cell_type": "markdown",
      "metadata": {
        "id": "jrPjgQ0FMkDJ"
      },
      "source": [
        "# Problem 12\n",
        "\n",
        "Get the positions of items of ser2 in ser1 as a list.\n",
        "\n"
      ]
    },
    {
      "cell_type": "code",
      "metadata": {
        "id": "OBqDGmyuMkDJ"
      },
      "source": [
        "# input\n",
        "ser1 = pd.Series([10, 9, 6, 5, 3, 1, 12, 8, 13])\n",
        "ser2 = pd.Series([1, 3, 10, 13])"
      ],
      "execution_count": null,
      "outputs": []
    },
    {
      "cell_type": "markdown",
      "metadata": {
        "id": "XiqqUA5QMkDJ"
      },
      "source": [
        "# Problem 13\n",
        "\n",
        "Compute the mean squared error of truth and pred series.\n",
        "\n",
        "Notes:\n",
        "mean squared error is defined <a href=\"https://en.wikipedia.org/wiki/Mean_squared_error#Predictor\">here</a>"
      ]
    },
    {
      "cell_type": "code",
      "metadata": {
        "id": "r1-JiiC8MkDJ"
      },
      "source": [
        "# input\n",
        "truth = pd.Series(range(10))\n",
        "pred = pd.Series(range(10)) + np.random.random(10)"
      ],
      "execution_count": null,
      "outputs": []
    },
    {
      "cell_type": "markdown",
      "metadata": {
        "id": "IP4MNVK9MkDJ"
      },
      "source": [
        "# Problem 14 \n",
        "\n",
        "Convert a series of date-strings to a timeseries\n"
      ]
    },
    {
      "cell_type": "code",
      "metadata": {
        "id": "d1JVo2cLMkDK"
      },
      "source": [
        "# input\n",
        "ser = pd.Series(['01 Jan 2010', '02-02-2011', '20120303', '2013/04/04', '2014-05-05', '2015-06-06T12:20'])\n",
        "\n",
        "\n",
        "'''\n",
        "Desired Output\n",
        "\n",
        "0   2010-01-01 00:00:00\n",
        "1   2011-02-02 00:00:00\n",
        "2   2012-03-03 00:00:00\n",
        "3   2013-04-04 00:00:00\n",
        "4   2014-05-05 00:00:00\n",
        "5   2015-06-06 12:20:00\n",
        "'''\n",
        "\n"
      ],
      "execution_count": null,
      "outputs": []
    },
    {
      "cell_type": "markdown",
      "metadata": {
        "id": "2-LeQVDpMkDK"
      },
      "source": [
        "# Problem 15\n",
        "\n",
        "Get the day of month, week number, day of year and day of week from ser.\n"
      ]
    },
    {
      "cell_type": "code",
      "metadata": {
        "id": "JF-r45UJj4Hs"
      },
      "source": [
        "# input\n",
        "ser = pd.Series(['01 Jan 2010', '02-02-2011', '20120303', '2013/04/04', '2014-05-05', '2015-06-06T12:20'])\n",
        "\n",
        "'''\n",
        "Desired output\n",
        "\n",
        "Date:  [1, 2, 3, 4, 5, 6]\n",
        "Week number:  [53, 5, 9, 14, 19, 23]\n",
        "Day num of year:  [1, 33, 63, 94, 125, 157]\n",
        "Day of week:  ['Friday', 'Wednesday', 'Saturday', 'Thursday', 'Monday', 'Saturday']\n",
        "'''\n",
        "\n"
      ],
      "execution_count": null,
      "outputs": []
    }
  ]
}