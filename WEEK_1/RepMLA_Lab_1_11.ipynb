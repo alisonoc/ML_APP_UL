{
  "nbformat": 4,
  "nbformat_minor": 0,
  "metadata": {
    "colab": {
      "name": "RepMLA_Lab-1_11.ipynb",
      "provenance": []
    },
    "kernelspec": {
      "name": "python3",
      "display_name": "Python 3"
    },
    "language_info": {
      "name": "python"
    }
  },
  "cells": [
    {
      "cell_type": "markdown",
      "metadata": {
        "id": "Qvexyww7a-0o"
      },
      "source": [
        "<div>\n",
        "<img src=\"https://drive.google.com/uc?export=view&id=1vK33e_EqaHgBHcbRV_m38hx6IkG0blK_\" width=\"350\"/>\n",
        "</div> \n",
        "\n",
        "#**Artificial Intelligence - MSc**\n",
        "CS6501 - MACHINE LEARNING AND APPLICATIONS\n",
        "#**Business Analytics - MSc**\n",
        "ET5003 - MACHINE LEARNING APPLICATIONS \n",
        "##***Annual Repeat***\n",
        "###Instructor: Enrique Naredo\n",
        "\n",
        "###RepMLA_Lab-1.11\n",
        "\n",
        "Student ID: \n",
        "\n",
        "Student name: "
      ]
    },
    {
      "cell_type": "markdown",
      "metadata": {
        "id": "IHknF0wiQUZL"
      },
      "source": [
        "# Matplotlib exercises"
      ]
    },
    {
      "cell_type": "code",
      "metadata": {
        "id": "Di6gjJFQkVX4"
      },
      "source": [
        "import numpy as np\n",
        "import matplotlib.pyplot as plt"
      ],
      "execution_count": null,
      "outputs": []
    },
    {
      "cell_type": "markdown",
      "metadata": {
        "id": "WZvDCqcVkVX7"
      },
      "source": [
        "# Problem 1\n",
        "Plot a scatter plot of Data using the first column as x and the first column as y, using red points."
      ]
    },
    {
      "cell_type": "code",
      "metadata": {
        "id": "Jm62Xq6pkVX7"
      },
      "source": [
        "#input\n",
        "x=np.random.randn(15)\n",
        "Data=np.hstack([x[:,None],x[:,None]])"
      ],
      "execution_count": null,
      "outputs": []
    },
    {
      "cell_type": "markdown",
      "metadata": {
        "id": "OsB6k6QBkVX7"
      },
      "source": [
        "# Problem 2\n",
        "Plot a scatter plot of Data using the first column as x and the first column as y,\n",
        "and add the label \"x\" and \"y\" to the respective columns using `fontsize` 14."
      ]
    },
    {
      "cell_type": "markdown",
      "metadata": {
        "id": "mEuOjzMdkVX8"
      },
      "source": [
        "# Problem 4\n",
        "Plot the graph of the function $\\cos(8 x)$ for $x \\in[0,1]$ and add the label \"x\" and \"cos(8x)\" to the respective columns using `fontsize` 14."
      ]
    },
    {
      "cell_type": "markdown",
      "metadata": {
        "id": "D0TN4Qq9kVX8"
      },
      "source": [
        "# Problem 5\n",
        "Plot the histogram of Data using 30 bins."
      ]
    },
    {
      "cell_type": "code",
      "metadata": {
        "id": "9dV03B5skVX8"
      },
      "source": [
        "#input\n",
        "Data=np.random.randn(2000)"
      ],
      "execution_count": null,
      "outputs": []
    }
  ]
}