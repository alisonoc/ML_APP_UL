{
  "nbformat": 4,
  "nbformat_minor": 2,
  "metadata": {
    "colab": {
      "name": "RepMLA_Lab-1_13.ipynb",
      "provenance": []
    },
    "kernelspec": {
      "name": "python3",
      "display_name": "Python 3.7.10 64-bit"
    },
    "language_info": {
      "name": "python",
      "version": "3.7.10",
      "mimetype": "text/x-python",
      "codemirror_mode": {
        "name": "ipython",
        "version": 3
      },
      "pygments_lexer": "ipython3",
      "nbconvert_exporter": "python",
      "file_extension": ".py"
    },
    "interpreter": {
      "hash": "509eb6a060868bfafdc22a487b44ad6b0ff2d2f8f2e450dcc280f29fc79f69d2"
    }
  },
  "cells": [
    {
      "cell_type": "markdown",
      "source": [
        "<div>\n",
        "<img src=\"https://drive.google.com/uc?export=view&id=1vK33e_EqaHgBHcbRV_m38hx6IkG0blK_\" width=\"350\"/>\n",
        "</div> \n",
        "\n",
        "#**Artificial Intelligence - MSc**\n",
        "CS6501 - MACHINE LEARNING AND APPLICATIONS\n",
        "#**Business Analytics - MSc**\n",
        "ET5003 - MACHINE LEARNING APPLICATIONS \n",
        "##***Annual Repeat***\n",
        "###Instructor: Enrique Naredo\n",
        "\n",
        "###RepMLA_Lab-1.13\n",
        "\n",
        "Student ID: 16099958\n",
        "\n",
        "Student name: Paerhati Remutula"
      ],
      "metadata": {
        "id": "Qvexyww7a-0o"
      }
    },
    {
      "cell_type": "markdown",
      "source": [
        "# E-tivity: K-Nearest Neighbors"
      ],
      "metadata": {
        "id": "pLNHPNlXlUk0"
      }
    },
    {
      "cell_type": "markdown",
      "source": [
        "## Overview\n",
        "\n",
        "The goal is to implement the K-nearest neighbors algorithm (a supervised machine learning algorithm) and apply it to a real dataset. Along the way you should familiarize yourself with some of the terminology you have read in the note. You will also get a chance to practice with Python and working with large datasets.\n"
      ],
      "metadata": {
        "id": "wbGmVVOWlUk3"
      }
    },
    {
      "cell_type": "markdown",
      "source": [
        "## Dataset introduction\n",
        "\n",
        "The handwritten digit recognition is the ability of computers to recognize human handwritten digits. It is a hard task for the machine because handwritten digits are not perfect and can be made with many different flavors. The handwritten digit recognition is the solution to this problem which uses the image of a digit and recognizes the digit present in the image.\n",
        "\n",
        "The dataset for this E-tivity is a set of handwritten digits from zip codes written on hand-addressed letters (MNIST-Modified National Institute of Standards and Technology database). \n",
        "\n",
        "Read about this dataset by going to the Elements of Statistical Learning website, <a href=\"https://web.stanford.edu/~hastie/ElemStatLearn/\">ESL</a>, then clicking on the `Data` tab, then clicking on the `Info` for the zip code dataset (the last dataset). \n",
        "\n",
        "Use the command less in the terminal to view the beginning of each file. Both datasets have the same format: the first column is the \"label\" (or class) (here an integer between 0 and 9, inclusive, that corresponds to the identity of a hand-written zip code digit), and the rest of each row is made up of gray-scale values corresponding to the image of this hand-written digit.\n",
        "\n",
        "One useful technique is to load a dataset from a file into a numpy array. Here is an example:"
      ],
      "metadata": {
        "id": "0TpgU67FlUk3"
      }
    },
    {
      "cell_type": "code",
      "execution_count": 2,
      "source": [
        "import numpy as np\n",
        "train_data = np.loadtxt(\"datasets/mnist.train\") #\"path/to/train/file\"\n",
        "test_data  = np.loadtxt(\"datasets/mnist.test\")\n",
        "\n",
        "print(train_data.shape)\n",
        "print(test_data.shape)"
      ],
      "outputs": [
        {
          "output_type": "stream",
          "name": "stdout",
          "text": [
            "(7291, 257)\n",
            "(2007, 257)\n"
          ]
        }
      ],
      "metadata": {
        "id": "fWOGDvcolUk4",
        "outputId": "f961bf17-07e8-49dc-a9fc-32c9cc220d47"
      }
    },
    {
      "cell_type": "code",
      "execution_count": 3,
      "source": [
        "train_data #each row is a different image"
      ],
      "outputs": [
        {
          "output_type": "execute_result",
          "data": {
            "text/plain": [
              "array([[ 6.   , -1.   , -1.   , ..., -1.   , -1.   , -1.   ],\n",
              "       [ 5.   , -1.   , -1.   , ..., -0.671, -0.828, -1.   ],\n",
              "       [ 4.   , -1.   , -1.   , ..., -1.   , -1.   , -1.   ],\n",
              "       ...,\n",
              "       [ 3.   , -1.   , -1.   , ..., -1.   , -1.   , -1.   ],\n",
              "       [ 0.   , -1.   , -1.   , ..., -1.   , -1.   , -1.   ],\n",
              "       [ 1.   , -1.   , -1.   , ..., -1.   , -1.   , -1.   ]])"
            ]
          },
          "metadata": {},
          "execution_count": 3
        }
      ],
      "metadata": {
        "id": "_--pMIHJlUk5",
        "outputId": "f738db1f-27d8-460a-fe9a-e82dd96c441a"
      }
    },
    {
      "cell_type": "markdown",
      "source": [
        "The first column is the class, it tells us which digit we will find in the image, as you can see hereafter for the first row (it is a 6):"
      ],
      "metadata": {
        "id": "336Q8CIUlUk6"
      }
    },
    {
      "cell_type": "code",
      "execution_count": 4,
      "source": [
        "import matplotlib.pyplot as plt\n",
        "row = 0\n",
        "flatten_image = train_data[row, 1:]  # each 16x16 image has been flatten into a vector\n",
        "im = flatten_image.reshape(16, 16)\n",
        "print(im)  # as a matrix\n",
        "plt.gray()\n",
        "plt.imshow(im)  # as an image"
      ],
      "outputs": [
        {
          "output_type": "stream",
          "name": "stdout",
          "text": [
            "[[-1.    -1.    -1.    -1.    -1.    -1.    -1.    -0.631  0.862 -0.167\n",
            "  -1.    -1.    -1.    -1.    -1.    -1.   ]\n",
            " [-1.    -1.    -1.    -1.    -1.    -1.    -0.992  0.297  1.     0.307\n",
            "  -1.    -1.    -1.    -1.    -1.    -1.   ]\n",
            " [-1.    -1.    -1.    -1.    -1.    -1.    -0.41   1.     0.986 -0.565\n",
            "  -1.    -1.    -1.    -1.    -1.    -1.   ]\n",
            " [-1.    -1.    -1.    -1.    -1.    -0.683  0.825  1.     0.562 -1.\n",
            "  -1.    -1.    -1.    -1.    -1.    -1.   ]\n",
            " [-1.    -1.    -1.    -1.    -0.938  0.54   1.     0.778 -0.715 -1.\n",
            "  -1.    -1.    -1.    -1.    -1.    -1.   ]\n",
            " [-1.    -1.    -1.    -1.     0.1    1.     0.922 -0.439 -1.    -1.\n",
            "  -1.    -1.    -1.    -1.    -1.    -1.   ]\n",
            " [-1.    -1.    -1.    -0.257  0.95   1.    -0.162 -1.    -1.    -1.\n",
            "  -0.987 -0.714 -0.832 -1.    -1.    -1.   ]\n",
            " [-1.    -1.    -0.797  0.909  1.     0.3   -0.961 -1.    -1.    -0.55\n",
            "   0.485  0.996  0.867  0.092 -1.    -1.   ]\n",
            " [-1.    -1.     0.278  1.     0.877 -0.824 -1.    -0.905  0.145  0.977\n",
            "   1.     1.     1.     0.99  -0.745 -1.   ]\n",
            " [-1.    -0.95   0.847  1.     0.327 -1.    -1.     0.355  1.     0.655\n",
            "  -0.109 -0.185  1.     0.988 -0.723 -1.   ]\n",
            " [-1.    -0.63   1.     1.     0.068 -0.925  0.113  0.96   0.308 -0.884\n",
            "  -1.    -0.075  1.     0.641 -0.995 -1.   ]\n",
            " [-1.    -0.677  1.     1.     0.753  0.341  1.     0.707 -0.942 -1.\n",
            "  -1.     0.545  1.     0.027 -1.    -1.   ]\n",
            " [-1.    -0.903  0.792  1.     1.     1.     1.     0.536  0.184  0.812\n",
            "   0.837  0.978  0.864 -0.63  -1.    -1.   ]\n",
            " [-1.    -1.    -0.452  0.828  1.     1.     1.     1.     1.     1.\n",
            "   1.     1.     0.135 -1.    -1.    -1.   ]\n",
            " [-1.    -1.    -1.    -0.483  0.813  1.     1.     1.     1.     1.\n",
            "   1.     0.219 -0.943 -1.    -1.    -1.   ]\n",
            " [-1.    -1.    -1.    -1.    -0.974 -0.429  0.304  0.823  1.     0.482\n",
            "  -0.474 -0.991 -1.    -1.    -1.    -1.   ]]\n"
          ]
        },
        {
          "output_type": "execute_result",
          "data": {
            "text/plain": [
              "<matplotlib.image.AxesImage at 0x7f8e4873fcd0>"
            ]
          },
          "metadata": {},
          "execution_count": 4
        },
        {
          "output_type": "display_data",
          "data": {
            "text/plain": [
              "<Figure size 432x288 with 1 Axes>"
            ],
            "image/png": "[encoded data removed]"
          },
          "metadata": {
            "needs_background": "light"
          }
        }
      ],
      "metadata": {
        "id": "UyPvWvnzlUk6",
        "outputId": "844b1f57-b4f1-4d07-bdce-8e0deb5eed0c"
      }
    },
    {
      "cell_type": "markdown",
      "source": [
        "The test set is similar:"
      ],
      "metadata": {
        "id": "AktYMkHQlUk7"
      }
    },
    {
      "cell_type": "code",
      "execution_count": 5,
      "source": [
        "test_data"
      ],
      "outputs": [
        {
          "output_type": "execute_result",
          "data": {
            "text/plain": [
              "array([[ 9., -1., -1., ..., -1., -1., -1.],\n",
              "       [ 6., -1., -1., ..., -1., -1., -1.],\n",
              "       [ 3., -1., -1., ..., -1., -1., -1.],\n",
              "       ...,\n",
              "       [ 4., -1., -1., ..., -1., -1., -1.],\n",
              "       [ 0., -1., -1., ..., -1., -1., -1.],\n",
              "       [ 1., -1., -1., ..., -1., -1., -1.]])"
            ]
          },
          "metadata": {},
          "execution_count": 5
        }
      ],
      "metadata": {
        "id": "rIn2eSfSlUk7",
        "outputId": "2989e2e3-54ab-492a-e071-25cbd7c0c4bb"
      }
    },
    {
      "cell_type": "markdown",
      "source": [
        "## Step 2: Filter the Data\n",
        "To start, we will just consider two classes, but here we have 10. We will get to such problems later, but for now, devise a way to retain only the rows which have label 2 or 3. Do this for both the train and test data.\n",
        "\n",
        "One important note: it may be convenient to relabel the 2 to -1 and the 3 to +1, since this will work better with our methods later on (but you do not have to do this).\n"
      ],
      "metadata": {
        "id": "CQ3I2AgxlUk7"
      }
    },
    {
      "cell_type": "code",
      "execution_count": 6,
      "source": [
        "train_23 = []\n",
        "for row in train_data:\n",
        "    if row[0] in [2, 3]:\n",
        "        train_23.append(row)"
      ],
      "outputs": [],
      "metadata": {}
    },
    {
      "cell_type": "code",
      "execution_count": 8,
      "source": [
        "train_23 = np.asarray(train_23)\n",
        "train_23.shape"
      ],
      "outputs": [
        {
          "output_type": "execute_result",
          "data": {
            "text/plain": [
              "(1389, 257)"
            ]
          },
          "metadata": {},
          "execution_count": 8
        }
      ],
      "metadata": {}
    },
    {
      "cell_type": "code",
      "execution_count": 9,
      "source": [
        "test_23 = []\n",
        "for row in test_data:\n",
        "    if row[0] in [2, 3]:\n",
        "        test_23.append(row)\n",
        "\n",
        "test_23 = np.asarray(test_23)"
      ],
      "outputs": [
        {
          "output_type": "execute_result",
          "data": {
            "text/plain": [
              "(364, 257)"
            ]
          },
          "metadata": {},
          "execution_count": 9
        }
      ],
      "metadata": {}
    },
    {
      "cell_type": "code",
      "execution_count": 10,
      "source": [
        "test_23[0]  # take a peak"
      ],
      "outputs": [
        {
          "output_type": "execute_result",
          "data": {
            "text/plain": [
              "array([ 3.   , -1.   , -1.   , -1.   , -0.593,  0.7  ,  1.   ,  1.   ,\n",
              "        1.   ,  1.   ,  0.853,  0.075, -0.925, -1.   , -1.   , -1.   ,\n",
              "       -1.   , -1.   , -1.   , -0.553,  0.998,  1.   ,  1.   ,  1.   ,\n",
              "        1.   ,  1.   ,  1.   ,  1.   ,  0.961, -0.076, -0.999, -1.   ,\n",
              "       -1.   , -1.   , -1.   ,  0.228,  1.   ,  0.849, -0.15 , -0.705,\n",
              "       -1.   , -0.85 , -0.333, -0.072,  0.929,  1.   , -0.451, -1.   ,\n",
              "       -1.   , -1.   , -1.   , -0.586,  0.777, -0.524, -1.   , -1.   ,\n",
              "       -1.   , -1.   , -1.   , -1.   ,  0.344,  1.   ,  0.544, -0.999,\n",
              "       -1.   , -1.   , -1.   , -1.   , -1.   , -1.   , -1.   , -1.   ,\n",
              "       -1.   , -1.   , -1.   , -0.803,  0.93 ,  1.   ,  0.65 , -0.999,\n",
              "       -1.   , -1.   , -1.   , -1.   , -1.   , -1.   , -1.   , -1.   ,\n",
              "       -1.   , -1.   , -0.579,  0.821,  1.   ,  1.   , -0.131, -1.   ,\n",
              "       -1.   , -1.   , -1.   , -1.   , -1.   , -1.   , -1.   , -1.   ,\n",
              "       -0.621,  0.156,  0.934,  1.   ,  1.   ,  0.575, -0.933, -1.   ,\n",
              "       -1.   , -1.   , -1.   , -1.   , -1.   , -0.952, -0.176,  0.602,\n",
              "        1.   ,  1.   ,  1.   ,  0.952, -0.093, -1.   , -1.   , -1.   ,\n",
              "       -1.   , -1.   , -1.   , -1.   , -1.   , -0.41 ,  1.   ,  1.   ,\n",
              "        1.   ,  1.   ,  1.   ,  0.792, -0.715, -1.   , -1.   , -1.   ,\n",
              "       -1.   , -1.   , -1.   , -1.   , -1.   , -1.   , -0.345,  0.333,\n",
              "       -0.05 , -0.333, -0.172,  0.606,  0.95 , -0.101, -1.   , -1.   ,\n",
              "       -1.   , -1.   , -1.   , -1.   , -1.   , -1.   , -1.   , -1.   ,\n",
              "       -1.   , -1.   , -1.   , -0.838,  0.548,  1.   , -0.266, -1.   ,\n",
              "       -1.   , -1.   , -1.   , -1.   , -1.   , -1.   , -1.   , -1.   ,\n",
              "       -1.   , -1.   , -1.   , -1.   , -0.285,  1.   ,  0.729, -1.   ,\n",
              "       -1.   , -1.   , -1.   , -0.611, -0.944, -1.   , -1.   , -1.   ,\n",
              "       -1.   , -1.   , -1.   , -0.556,  0.943,  1.   ,  0.779, -0.943,\n",
              "       -1.   , -1.   , -0.943,  0.779,  0.555, -0.333, -0.333, -0.333,\n",
              "       -0.166,  0.389,  1.   ,  1.   ,  1.   ,  1.   ,  0.497, -1.   ,\n",
              "       -1.   , -1.   , -1.   ,  0.507,  1.   ,  1.   ,  1.   ,  1.   ,\n",
              "        1.   ,  1.   ,  1.   ,  1.   ,  0.83 ,  0.053, -0.946, -1.   ,\n",
              "       -1.   , -1.   , -1.   , -0.941,  0.059,  0.615,  1.   ,  1.   ,\n",
              "        0.717,  0.333,  0.162, -0.393, -1.   , -1.   , -1.   , -1.   ,\n",
              "       -1.   ])"
            ]
          },
          "metadata": {},
          "execution_count": 10
        }
      ],
      "metadata": {}
    },
    {
      "cell_type": "markdown",
      "source": [
        "## Implement K-nearest neighbors\n",
        "\n",
        "The main goal of the E-tivity is to implement the K-nearest neighbors classifier to predict the class of each example from the test dataset. Exactly how you implement this part is up to you, but your code should be decomposed into functions, well commented, and easy to understand. Here are some suggestions:\n",
        "\n",
        "**Classification**\n",
        "Create a function that takes as input the train set, (at least) a test example and an integer K, and outputs a prediction based on a nearest-neighbor classifier. This function will loop through all the training examples, find the distance between each one and the input test example, and then find the K nearest neighbors (you are welcome to use numpy sorting methods, but look up how they work first). For this subroutine, we will need a distance function. In practice, you have to implement the algorithm 3 in <a href=\"http://ciml.info/dl/v0_99/ciml-v0_99-ch03.pdf\">Duame</a> (pag. 33).\n",
        "\n",
        "\n",
        "You should implement a Python function like:"
      ],
      "metadata": {
        "id": "ZPNOPCNrlUk8"
      }
    },
    {
      "cell_type": "markdown",
      "source": [
        "## Student note: The implementation below is too slow, there is an optimised version of functions get_euc_distance() and KNN() at the later part of this notebook. "
      ],
      "metadata": {}
    },
    {
      "cell_type": "code",
      "execution_count": 38,
      "source": [
        "def get_euc_distance(A, B):\n",
        "    \"\"\"\n",
        "    For given array A and B, return the euclidean distance. \n",
        "    \"\"\"\n",
        "\n",
        "    # The line below should be read from right to left: \n",
        "    #  for each pair (a, b) in the combination of A, B, \n",
        "    #  calculate (a - b) and then raise to the power of 2, \n",
        "    #  Because this 'for' loop is wrapped in a square bracket, \n",
        "    #  the outcome of each iteration in the loop will become \n",
        "    #  a list. \n",
        "    #  Then we use np.sum to get the sum of this list. \n",
        "    #  Finally return the square root of this sum. \n",
        "    return np.sqrt(np.sum([(a - b) ** 2 for a, b in zip(A, B)]))\n",
        "\n",
        "\n",
        "def KNN(train: list, test: list, K: int) -> list:  \n",
        "    \"\"\"\n",
        "    Given a training set, one or more test cases, and an integer K, \n",
        "    predict the class of each test case using K-nearest-neighbours \n",
        "    algorithm. \n",
        "\n",
        "    @param train: a list of training samples, can contain multiple classes, \n",
        "                    each element in this list is a sub-list with its first \n",
        "                    item being the class, and following 256 elements combined \n",
        "                    is the training sample. \n",
        "    @param test: a list of (one or more) test cases. \n",
        "    @param K: integer number indicating how many neighbours to look at. \n",
        "\n",
        "    @return: a list of prediction result, this list has the same size as the \n",
        "                input parameter 'test' \n",
        "    \"\"\"\n",
        "    if len(test) == 0:  # if the test parameter is empty, return an empty list. \n",
        "        print('No test case given. ')\n",
        "        return []\n",
        "    \n",
        "    prediction_results = []  # place-holder list for the classification result\n",
        "    \n",
        "    test_iter_count = 0\n",
        "    for test_case in test:  # there could be multiple test cases\n",
        "        # extract the test class\n",
        "        test_class = test_case[0]\n",
        "        # extract the test sample\n",
        "        test_case = test_case[1:]  \n",
        "\n",
        "        # calculate distances between this test_case and each of training examples. \n",
        "        distances = []\n",
        "        for train_sample in train:\n",
        "            train_class = train_sample[0]  # extract the class for later use\n",
        "            train_sample = train_sample[1:]  # now exclude the class from the train_sample var. \n",
        "\n",
        "            # now append (as a small list) the distance between this test case and train sample, \n",
        "            # and this train sample's class. \n",
        "            distances.append([get_euc_distance(test_case, train_sample), train_class])\n",
        "        \n",
        "        # sort the distances array so smallest distance comes first. \n",
        "        # using lambda function meaning for each of the element 'x' in the list, only look at \n",
        "        # the first item in 'x' (shown by x[0], being the distance) when sorting. \n",
        "        distances = sorted(distances, key=lambda x : x[0]) \n",
        "\n",
        "        # Now take the first K values in the 'distances' list and vote on its classes\n",
        "        # This is where converting the training samples' labels to be -1 and +1 comes in \n",
        "        # handy as Enrique mentioned above, as after the voting, we can just look at \n",
        "        # the sign of the sum. \n",
        "        # As I didn't make this change to the dataset, I need to keep a vote count manually. \n",
        "        vote_count = {}  # store the votes as key-value pairs\n",
        "\n",
        "        for res in distances[:K]: \n",
        "            if res[1] in vote_count:\n",
        "                # if this class exists in my count set, update the count value by 1\n",
        "                vote_count[res[1]] += 1\n",
        "            else:\n",
        "                # if not, add this class to the set and give it a value of 1\n",
        "                vote_count[res[1]] = 1\n",
        "\n",
        "        # try to find the max count and its type in the vote_count set\n",
        "        max_count, max_type = 0, None  # start with 0\n",
        "        for key, val in vote_count.items():\n",
        "            if val > max_count:\n",
        "                max_count = val\n",
        "                max_type = key\n",
        "\n",
        "        prediction_results.append(max_type)\n",
        "\n",
        "        test_iter_count += 1\n",
        "        print(f'KNN: K - {K}, total tests: {len(test)}, current: {test_iter_count / len(test) * 100}%')\n",
        "\n",
        "    return prediction_results"
      ],
      "outputs": [],
      "metadata": {
        "id": "0UOu4rRklUk8"
      }
    },
    {
      "cell_type": "markdown",
      "source": [
        "**Distance function**\n",
        "An important part of many machine learning methods is the concept of \"distance\" between examples. We often phrase this as a \"metric\" on our inputs. Create a function that takes as input two examples (any two examples, although in this case we will use it with one test and one train), and outputs the distance (we will use Euclidean for now) between them. Although there are many built-in functions the perform this task, please implement your distance function from scratch. However, you are welcome to use numpy functions as part of it (for example, you may use np.sum and similar functions, but look up how they work first).\n"
      ],
      "metadata": {
        "id": "BIKGEbjRlUk8"
      }
    },
    {
      "cell_type": "markdown",
      "source": [
        "## Student note\n",
        "The distance function is implemented in the code cell above, before the KNN function. "
      ],
      "metadata": {}
    },
    {
      "cell_type": "markdown",
      "source": [
        "## Test the KNN algorithm"
      ],
      "metadata": {}
    },
    {
      "cell_type": "code",
      "execution_count": 19,
      "source": [
        "# take a look at the classes of the first 10 tests\n",
        "print([row[0] for row in test_23[:10]])"
      ],
      "outputs": [
        {
          "output_type": "stream",
          "name": "stdout",
          "text": [
            "[3.0, 2.0, 2.0, 3.0, 2.0, 2.0, 2.0, 3.0, 3.0, 2.0]\n"
          ]
        }
      ],
      "metadata": {}
    },
    {
      "cell_type": "code",
      "execution_count": 20,
      "source": [
        "KNN(train=train_23, test=test_23[:10], K=3)  # test with K=3, and only the first 10 test cases "
      ],
      "outputs": [
        {
          "output_type": "execute_result",
          "data": {
            "text/plain": [
              "[3.0, 2.0, 2.0, 3.0, 2.0, 2.0, 2.0, 3.0, 3.0, 2.0]"
            ]
          },
          "metadata": {},
          "execution_count": 20
        }
      ],
      "metadata": {}
    },
    {
      "cell_type": "markdown",
      "source": [
        "\n",
        "\n",
        "**Quantify the accuracy**\n",
        "Loop through all the filtered test examples, using your classification function to predict the label for each one. Also create a way of determining if the prediction was correct or not, based on the labels of the test data. Compute the fraction or percentage of correctly predicted examples. How does this change as $K$ varies? Try $K$ 1-10 (at least) and record the accuracy.\n",
        "\n"
      ],
      "metadata": {}
    },
    {
      "cell_type": "markdown",
      "source": [
        "## Quantify the accuracy"
      ],
      "metadata": {}
    },
    {
      "cell_type": "code",
      "execution_count": 21,
      "source": [
        "# Try with K from 1 to 50\n",
        "results = []  # place holder for K values, and its accuracy\n",
        "\n",
        "# extract all test classes\n",
        "test_classes = [row[0] for row in test_data]\n"
      ],
      "outputs": [],
      "metadata": {}
    },
    {
      "cell_type": "code",
      "execution_count": 60,
      "source": [
        "max_K = 25\n",
        "for k_iter in range(1, max_K + 1):\n",
        "    # use all train available and all tests available\n",
        "    test_res = KNN_optimised(train=train_data, test=test_data, K=k_iter)\n",
        "\n",
        "    # compare the test results with the known test classes and calculate accuracy\n",
        "    #  the line below means for each pair (a, b) in the combination of \n",
        "    #  test_classes and test results, check if a == b, if yes, add a '1' to a list\n",
        "    #  finally take the sum of this list of ones. \n",
        "    correct_count = sum([1 for a, b in zip(test_classes, test_res) if a == b])\n",
        "\n",
        "    # append this K, and the accuracy (correct count over all test cases) to the results\n",
        "    results.append([k_iter, correct_count / len(test_classes)])\n",
        "\n",
        "    # show where we are during the process, as well as the accuracy from this iteration\n",
        "    print(f'K: {k_iter} ({k_iter / max_K * 100:.2f}%) -- {results[k_iter - 1][1]}')"
      ],
      "outputs": [],
      "metadata": {}
    },
    {
      "cell_type": "markdown",
      "source": [
        "## Student note: The above process is too slow, takes about 40 minutes to complete one iteration, I didn't wait for it. "
      ],
      "metadata": {}
    },
    {
      "cell_type": "markdown",
      "source": [
        "## The optimised version of get_euc_distance() and KNN()"
      ],
      "metadata": {}
    },
    {
      "cell_type": "code",
      "execution_count": 64,
      "source": [
        "from scipy.spatial import distance\n",
        "def get_euc_distance_optimised(A, B):\n",
        "    \"\"\"\n",
        "    For given array A and B, return the euclidean distance. \n",
        "    \"\"\"\n",
        "\n",
        "    # check if 2 arrays are of the same size\n",
        "    if len(A) != len(B):\n",
        "        raise ValueError('Two arrays need to be the same size. ')\n",
        "    # convert both input to numpy array\n",
        "    A = np.asarray(A)\n",
        "    B = np.asarray(B)\n",
        "\n",
        "    # get the difference between each pair\n",
        "    diff = np.subtract(A, B)\n",
        "    # raise each difference by the power of 2\n",
        "    squared = np.power(diff, 2)\n",
        "    # finally return the sqrt of sum\n",
        "    return np.sqrt(np.sum(squared))\n",
        "\n",
        "def KNN_all_train_test(train: list, test: list) -> list:\n",
        "    \"\"\"\n",
        "    This is a function that returns all distances for each test cases, then \n",
        "    in the function below \"KNN_optimised\", we don't need to calculate these \n",
        "    distances for every K, we just need to calculate once, and then take the \n",
        "    K values from the overall distances list. \n",
        "    \"\"\"\n",
        "    if len(test) == 0:  # if the test parameter is empty, return an empty list. \n",
        "        print('No test case given. ')\n",
        "        return []\n",
        "    \n",
        "    all_distances = []\n",
        "\n",
        "    test_iter_count = 0  # this counter is used to show progress \n",
        "    \n",
        "    for test_case in test:  # there could be multiple test cases\n",
        "        # extract the test class\n",
        "        test_class = test_case[0]\n",
        "        # extract the test sample\n",
        "        test_case = test_case[1:]\n",
        "\n",
        "        # calculate distances between this test_case and each of training examples. \n",
        "        # distances = distance.cdist(all_train_values, test_case, metric='euclidean') \n",
        "\n",
        "        # NOTE: the get_euc_distance function is replaced with scipy's cdist. see \n",
        "        # https://docs.scipy.org/doc/scipy/reference/generated/scipy.spatial.distance.cdist.html\n",
        "\n",
        "        # NOTE: scipy cdist is slower than my implementation, abandoning... \n",
        "        distances = []\n",
        "        for train_sample in train:\n",
        "            train_class = train_sample[0]  # extract the class for later use\n",
        "            train_sample = train_sample[1:]  # now exclude the class from the train_sample var. \n",
        "\n",
        "            # now append (as a small list) the distance between this test case and train sample, \n",
        "            # and this train sample's class. \n",
        "            distances.append([get_euc_distance(test_case, train_sample), train_class])\n",
        "        \n",
        "        # sort the distances array so smallest distance comes first. \n",
        "        # using lambda function meaning for each of the element 'x' in the list, only look at \n",
        "        # the first item in 'x' (shown by x[0], being the distance) when sorting. \n",
        "        distances = sorted(distances, key=lambda x : x[0]) \n",
        "\n",
        "        all_distances.append(distances)\n",
        "\n",
        "        test_iter_count += 1\n",
        "    \n",
        "        curr_percentage = test_iter_count / len(test) \n",
        "        if 0.245 < curr_percentage < 0.255\\\n",
        "            or 0.495 < curr_percentage < 0.505 \\\n",
        "                or 0.745 < curr_percentage < 0.755:\n",
        "            print(f'Total tests: {len(test)}, current: {curr_percentage * 100:.2f}%')\n",
        "    \n",
        "    return all_distances\n",
        "\n",
        "def KNN_optimised(all_distance: list, K: int) -> list:  \n",
        "    \"\"\"\n",
        "    Given a training set, one or more test cases, and an integer K, \n",
        "    predict the class of each test case using K-nearest-neighbours \n",
        "    algorithm. \n",
        "\n",
        "    @param all_distance: the collection of calculated euclidean \n",
        "                distances between all train samples and all test samples (M * N)\n",
        "                \n",
        "                Each row in this collection is the distance calculation for \n",
        "                one test case, ordered by distance ascending. \n",
        "                To use it, take first K as needed. \n",
        "    @param K: integer number indicating how many neighbours to look at. \n",
        "\n",
        "    @return: a list of prediction result, this list has the same size as the \n",
        "                input parameter 'test' \n",
        "    \"\"\"\n",
        "\n",
        "    prediction_results = []  # place-holder list for the classification results\n",
        "\n",
        "\n",
        "    # Now go through all the distances\n",
        "    for row in all_distance: \n",
        "        vote_count = {}  # store the votes as key-value pairs\n",
        "\n",
        "        for res in row[:K]:  # only look at the first K results and vote. \n",
        "            if res[1] in vote_count:\n",
        "                # if this class exists in my count set, update the count value by 1\n",
        "                vote_count[res[1]] += 1\n",
        "            else:\n",
        "                # if not, add this class to the set and give it a value of 1\n",
        "                vote_count[res[1]] = 1\n",
        "\n",
        "        # try to find the max count and its type in the vote_count set\n",
        "        max_count, max_type = 0, None  # start with 0\n",
        "        for key, val in vote_count.items():\n",
        "            if val > max_count:\n",
        "                max_count = val \n",
        "                max_type = key\n",
        "\n",
        "        prediction_results.append(max_type)\n",
        "\n",
        "    return prediction_results"
      ],
      "outputs": [],
      "metadata": {}
    },
    {
      "cell_type": "code",
      "execution_count": 65,
      "source": [
        "results = []  # place holder for K values, and its accuracy\n",
        "\n",
        "# extract all test classes\n",
        "test_classes = [row[0] for row in test_data]\n",
        "\n",
        "# calculate all distances between all train and all test data. \n",
        "all_distances = KNN_all_train_test(train=train_data, test=test_data)\n",
        "\n",
        "print('All_distances calculation complete. ')\n",
        "\n",
        "# Try with K from 1 to 50\n",
        "max_K = 50\n",
        "for k_iter in range(1, max_K + 1):\n",
        "    # use all train available and all tests available\n",
        "    test_res = KNN_optimised(all_distances, K=k_iter)\n",
        "\n",
        "    # compare the test results with the known test classes and calculate accuracy\n",
        "    #  the line below means for each pair (a, b) in the combination of \n",
        "    #  test_classes and test results, check if a == b, if yes, add a '1' to a list\n",
        "    #  finally take the sum of this list of ones. \n",
        "    correct_count = sum([1 for a, b in zip(test_classes, test_res) if a == b])\n",
        "\n",
        "    # append this K, and the accuracy (correct count over all test cases) to the results\n",
        "    results.append([k_iter, correct_count / len(test_classes)])\n",
        "\n",
        "    # show where we are during the process, as well as the accuracy from this iteration\n",
        "    print(f'K: {k_iter} ({k_iter / max_K * 100:.2f}%) -- {results[k_iter - 1][1]}')\n"
      ],
      "outputs": [
        {
          "output_type": "stream",
          "name": "stdout",
          "text": [
            "Total tests: 2007, current: 24.51%\n",
            "Total tests: 2007, current: 24.56%\n",
            "Total tests: 2007, current: 24.61%\n",
            "Total tests: 2007, current: 24.66%\n",
            "Total tests: 2007, current: 24.71%\n",
            "Total tests: 2007, current: 24.76%\n",
            "Total tests: 2007, current: 24.81%\n",
            "Total tests: 2007, current: 24.86%\n",
            "Total tests: 2007, current: 24.91%\n",
            "Total tests: 2007, current: 24.96%\n",
            "Total tests: 2007, current: 25.01%\n",
            "Total tests: 2007, current: 25.06%\n",
            "Total tests: 2007, current: 25.11%\n",
            "Total tests: 2007, current: 25.16%\n",
            "Total tests: 2007, current: 25.21%\n",
            "Total tests: 2007, current: 25.26%\n",
            "Total tests: 2007, current: 25.31%\n",
            "Total tests: 2007, current: 25.36%\n",
            "Total tests: 2007, current: 25.41%\n",
            "Total tests: 2007, current: 25.46%\n",
            "Total tests: 2007, current: 49.53%\n",
            "Total tests: 2007, current: 49.58%\n",
            "Total tests: 2007, current: 49.63%\n",
            "Total tests: 2007, current: 49.68%\n",
            "Total tests: 2007, current: 49.73%\n",
            "Total tests: 2007, current: 49.78%\n",
            "Total tests: 2007, current: 49.83%\n",
            "Total tests: 2007, current: 49.88%\n",
            "Total tests: 2007, current: 49.93%\n",
            "Total tests: 2007, current: 49.98%\n",
            "Total tests: 2007, current: 50.02%\n",
            "Total tests: 2007, current: 50.07%\n",
            "Total tests: 2007, current: 50.12%\n",
            "Total tests: 2007, current: 50.17%\n",
            "Total tests: 2007, current: 50.22%\n",
            "Total tests: 2007, current: 50.27%\n",
            "Total tests: 2007, current: 50.32%\n",
            "Total tests: 2007, current: 50.37%\n",
            "Total tests: 2007, current: 50.42%\n",
            "Total tests: 2007, current: 50.47%\n",
            "Total tests: 2007, current: 74.54%\n",
            "Total tests: 2007, current: 74.59%\n",
            "Total tests: 2007, current: 74.64%\n",
            "Total tests: 2007, current: 74.69%\n",
            "Total tests: 2007, current: 74.74%\n",
            "Total tests: 2007, current: 74.79%\n",
            "Total tests: 2007, current: 74.84%\n",
            "Total tests: 2007, current: 74.89%\n",
            "Total tests: 2007, current: 74.94%\n",
            "Total tests: 2007, current: 74.99%\n",
            "Total tests: 2007, current: 75.04%\n",
            "Total tests: 2007, current: 75.09%\n",
            "Total tests: 2007, current: 75.14%\n",
            "Total tests: 2007, current: 75.19%\n",
            "Total tests: 2007, current: 75.24%\n",
            "Total tests: 2007, current: 75.29%\n",
            "Total tests: 2007, current: 75.34%\n",
            "Total tests: 2007, current: 75.39%\n",
            "Total tests: 2007, current: 75.44%\n",
            "Total tests: 2007, current: 75.49%\n",
            "All_distances calculation complete. \n",
            "K: 1 (2.00%) -- 0.9436970602889886\n",
            "K: 2 (4.00%) -- 0.9436970602889886\n",
            "K: 3 (6.00%) -- 0.9451918285999004\n",
            "K: 4 (8.00%) -- 0.9476831091180867\n",
            "K: 5 (10.00%) -- 0.9441953163926258\n",
            "K: 6 (12.00%) -- 0.9446935724962631\n",
            "K: 7 (14.00%) -- 0.9436970602889886\n",
            "K: 8 (16.00%) -- 0.9446935724962631\n",
            "K: 9 (18.00%) -- 0.9382162431489786\n",
            "K: 10 (20.00%) -- 0.9397110114598903\n",
            "K: 11 (22.00%) -- 0.935226706527155\n",
            "K: 12 (24.00%) -- 0.9337319382162431\n",
            "K: 13 (26.00%) -- 0.9302441454907823\n",
            "K: 14 (28.00%) -- 0.931738913801694\n",
            "K: 15 (30.00%) -- 0.9302441454907823\n",
            "K: 16 (32.00%) -- 0.9287493771798705\n",
            "K: 17 (34.00%) -- 0.9272546088689586\n",
            "K: 18 (36.00%) -- 0.9272546088689586\n",
            "K: 19 (38.00%) -- 0.9237668161434978\n",
            "K: 20 (40.00%) -- 0.922272047832586\n",
            "K: 21 (42.00%) -- 0.9217737917289487\n",
            "K: 22 (44.00%) -- 0.9232685600398605\n",
            "K: 23 (46.00%) -- 0.9217737917289487\n",
            "K: 24 (48.00%) -- 0.9207772795216741\n",
            "K: 25 (50.00%) -- 0.9202790234180369\n",
            "K: 26 (52.00%) -- 0.9197807673143996\n",
            "K: 27 (54.00%) -- 0.9197807673143996\n",
            "K: 28 (56.00%) -- 0.9177877428998505\n",
            "K: 29 (58.00%) -- 0.9177877428998505\n",
            "K: 30 (60.00%) -- 0.9157947184853015\n",
            "K: 31 (62.00%) -- 0.9133034379671151\n",
            "K: 32 (64.00%) -- 0.9152964623816642\n",
            "K: 33 (66.00%) -- 0.9138016940707524\n",
            "K: 34 (68.00%) -- 0.9118086696562033\n",
            "K: 35 (70.00%) -- 0.9123069257598405\n",
            "K: 36 (72.00%) -- 0.9128051818634778\n",
            "K: 37 (74.00%) -- 0.9098156452416543\n",
            "K: 38 (76.00%) -- 0.9083208769307424\n",
            "K: 39 (78.00%) -- 0.9083208769307424\n",
            "K: 40 (80.00%) -- 0.905829596412556\n",
            "K: 41 (82.00%) -- 0.9038365719980069\n",
            "K: 42 (84.00%) -- 0.9033383158943697\n",
            "K: 43 (86.00%) -- 0.9038365719980069\n",
            "K: 44 (88.00%) -- 0.9028400597907325\n",
            "K: 45 (90.00%) -- 0.9028400597907325\n",
            "K: 46 (92.00%) -- 0.8993522670652716\n",
            "K: 47 (94.00%) -- 0.898355754857997\n",
            "K: 48 (96.00%) -- 0.898355754857997\n",
            "K: 49 (98.00%) -- 0.8973592426507224\n",
            "K: 50 (100.00%) -- 0.8978574987543597\n"
          ]
        }
      ],
      "metadata": {}
    },
    {
      "cell_type": "markdown",
      "source": [
        "## Questions:\n",
        "* What is the accuracy of KNN in the test set for K=1?\n",
        "* What is the accuracy of KNN in the test set for K=2?\n",
        "* What is the accuracy of KNN in the test set for K=3?\n",
        "* ...\n",
        "* What is the accuracy of KNN in the test set for K=10?"
      ],
      "metadata": {
        "id": "6EL9XEpUlUk9"
      }
    },
    {
      "cell_type": "code",
      "execution_count": 67,
      "source": [
        "# answer to the above questions K range from 1 to 10: \n",
        "for i in range(10):\n",
        "    print(results[i])"
      ],
      "outputs": [
        {
          "output_type": "stream",
          "name": "stdout",
          "text": [
            "[1, 0.9436970602889886]\n",
            "[2, 0.9436970602889886]\n",
            "[3, 0.9451918285999004]\n",
            "[4, 0.9476831091180867]\n",
            "[5, 0.9441953163926258]\n",
            "[6, 0.9446935724962631]\n",
            "[7, 0.9436970602889886]\n",
            "[8, 0.9446935724962631]\n",
            "[9, 0.9382162431489786]\n",
            "[10, 0.9397110114598903]\n"
          ]
        }
      ],
      "metadata": {}
    },
    {
      "cell_type": "markdown",
      "source": [
        "## In depth questions\n",
        "\n",
        "Extend your algorithm to a multi-class setting (i.e. distinguish between 3 or more digits). How does this change your best value of K?\n",
        "\n",
        "* I started off with multi-class implementation, didn't try the 2-class scenario, thus could not observe the change of best K. \n",
        "\n",
        "If you are familiar with confusion matrices, create one for this test dataset and your “best” value of K.\n",
        "\n",
        "* Best value of K: 4, TP: 0.9477, FN: 0.0523 TN: N/A, FN: N/A\n",
        "\n",
        "Create a plot of accuracy vs. K.\n",
        "\n",
        "* Please see code cell below for the plot. \n",
        "\n",
        "Visualize some of the examples that were classified incorrectly. The examples are 16x16 gray-scale images, so you can plot them on a grid.\n",
        "\n",
        "* Please see code cell below. \n"
      ],
      "metadata": {
        "id": "Q9Tb96s3lUk9"
      }
    },
    {
      "cell_type": "markdown",
      "source": [
        "## Plot of accuracy vs K"
      ],
      "metadata": {}
    },
    {
      "cell_type": "code",
      "execution_count": 71,
      "source": [
        "import matplotlib.pyplot as plt\n",
        "plt.plot([row[0] for row in results], [row[1] for row in results])\n",
        "plt.title('Accuracy vs K')\n",
        "plt.xlabel('K')\n",
        "plt.ylabel('Accuracy')\n",
        "plt.show()"
      ],
      "outputs": [
        {
          "output_type": "display_data",
          "data": {
            "text/plain": [
              "<Figure size 432x288 with 1 Axes>"
            ],
            "image/png": "[encoded data removed]"
          },
          "metadata": {
            "needs_background": "light"
          }
        }
      ],
      "metadata": {}
    },
    {
      "cell_type": "markdown",
      "source": [
        "## Best accuracy (best K)"
      ],
      "metadata": {}
    },
    {
      "cell_type": "code",
      "execution_count": 72,
      "source": [
        "print(max(results, key=lambda x:x[1]))"
      ],
      "outputs": [
        {
          "output_type": "stream",
          "name": "stdout",
          "text": [
            "[4, 0.9476831091180867]\n"
          ]
        }
      ],
      "metadata": {}
    },
    {
      "cell_type": "markdown",
      "source": [
        "## Some plots of mistakes"
      ],
      "metadata": {}
    },
    {
      "cell_type": "code",
      "execution_count": 75,
      "source": [
        "# get the classification result for K == 4\n",
        "test_res_k4 = KNN_optimised(all_distances, K=4)\n",
        "\n",
        "# compare with the test sample labels and highlight the index of wrong classifications \n",
        "all_mistakes = []\n",
        "for idx, (actual, test) in enumerate(zip(test_classes, test_res_k4)):\n",
        "    if actual != test:\n",
        "        # if the actual label and the test result doesn't match, append this index to the list\n",
        "        all_mistakes.append(idx)\n"
      ],
      "outputs": [],
      "metadata": {}
    },
    {
      "cell_type": "code",
      "execution_count": 76,
      "source": [
        "print(len(all_mistakes))"
      ],
      "outputs": [
        {
          "output_type": "stream",
          "name": "stdout",
          "text": [
            "105\n"
          ]
        }
      ],
      "metadata": {}
    },
    {
      "cell_type": "code",
      "execution_count": 101,
      "source": [
        "# plot the first 10 wrong classification\n",
        "# create a matplotlib subplot\n",
        "plt.figure()\n",
        "fig, axs = plt.subplots(2, 5)\n",
        "tricky_graphs = []\n",
        "tricky_labels = []\n",
        "# populate a list of tricky graphs and their labels\n",
        "for idx in all_mistakes[:10]:\n",
        "    img = test_data[idx][1:]\n",
        "    tricky_graphs.append(img.reshape(16, 16))\n",
        "    tricky_labels.append(test_data[idx][0])\n",
        "\n",
        "# plot on each of the subplots, and update the plots' x-y coordianates\n",
        "x = 0\n",
        "for idx, img in enumerate(tricky_graphs):\n",
        "    y = idx % 5\n",
        "    if idx == 5:\n",
        "        x += 1\n",
        "    axs[x, y].imshow(img)\n",
        "    axs[x, y].title.set_text(str(int(tricky_labels[idx])))\n",
        "\n",
        "plt.show()"
      ],
      "outputs": [
        {
          "output_type": "display_data",
          "data": {
            "text/plain": [
              "<Figure size 432x288 with 0 Axes>"
            ]
          },
          "metadata": {}
        },
        {
          "output_type": "display_data",
          "data": {
            "text/plain": [
              "<Figure size 432x288 with 10 Axes>"
            ],
            "image/png": "[encoded data removed]"
          },
          "metadata": {
            "needs_background": "light"
          }
        }
      ],
      "metadata": {}
    },
    {
      "cell_type": "markdown",
      "source": [
        "**Analysis Questions**\n",
        "\n",
        "What values of k did you try?\n",
        "\n",
        "- I tried different K's ranging from 1 to 50. \n",
        "\n",
        "Which value of k produced the highest accuracy? What general trends did you observe as k increased?\n",
        "\n",
        "- Best K is 4, with accuracy of around 94.77 percent. General trend is as K increases, accuracy drops. \n",
        "\n",
        "When using the entire training dataset, what are your observations about the runtime of K-nearest neighbors? List 1-2 ideas for making this algorithm faster.\n",
        "\n",
        "- It is painfully slow when using the entire dataset, as the calculation needed is roughly the number of training set multiplied by the number of test sets, then each of these calculation includes an euclidean calculation of 2 arrays of size 256... so about 7,000 * 2,000 * 256\n",
        "\n",
        "- One idea to improve run time is to use Numpy matrix calculation, essentially turning the nested loop to one giant matrix calculation. Downside of this is it will require quite a lot of memory space, in essence, memory / run time trade-off. \n",
        "\n",
        "- For calculating euclidean distance, we can change it from a simple for-loop to numpy matrix calculation, take all differences between each pair, raise it to the power of 2, sum it, then take sqrt of the sum. (This is implemented in the optimised version of get_euc_distance())\n",
        "\n",
        "- For going through different K values, we can change the KNN() function to first calculate the distance between each training record and testing record, once we have this giant m * n array, going through different K becomes a problem of taking the first K from each of this resulting distance list. (This is implemented in the optimised version of KNN())\n",
        "\n",
        "\n"
      ],
      "metadata": {}
    }
  ]
}