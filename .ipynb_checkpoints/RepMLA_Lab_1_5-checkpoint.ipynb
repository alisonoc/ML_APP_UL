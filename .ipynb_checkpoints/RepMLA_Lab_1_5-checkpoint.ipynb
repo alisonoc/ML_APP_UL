{
 "cells": [
  {
   "cell_type": "markdown",
   "metadata": {
    "id": "Qvexyww7a-0o"
   },
   "source": [
    "<div>\n",
    "<img src=\"https://drive.google.com/uc?export=view&id=1vK33e_EqaHgBHcbRV_m38hx6IkG0blK_\" width=\"350\"/>\n",
    "</div> \n",
    "\n",
    "#**Artificial Intelligence - MSc**\n",
    "CS6501 - MACHINE LEARNING AND APPLICATIONS\n",
    "#**Business Analytics - MSc**\n",
    "ET5003 - MACHINE LEARNING APPLICATIONS \n",
    "##***Annual Repeat***\n",
    "###Instructor: Enrique Naredo\n",
    "\n",
    "###RepMLA_Lab-1.5\n",
    "\n",
    "Student ID: \n",
    "\n",
    "Student name: "
   ]
  },
  {
   "cell_type": "markdown",
   "metadata": {
    "id": "PFvNOA7si2d_"
   },
   "source": [
    "# Numpy"
   ]
  },
  {
   "cell_type": "markdown",
   "metadata": {
    "id": "_JcEGZQDi2eC"
   },
   "source": [
    "\n",
    "This part focuses on Numpy, see <a href=\"http://cs.haverford.edu/faculty/smathieson/teaching/f19/labs/lab01/lab01.html\">numpy quickstart tutorial</a>, which I encourage you to reference throughout the course.\n",
    "\n",
    "\n",
    "Some problems about numpy\n",
    "\n"
   ]
  },
  {
   "cell_type": "code",
   "execution_count": 2,
   "metadata": {},
   "outputs": [],
   "source": [
    "import numpy as np"
   ]
  },
  {
   "cell_type": "markdown",
   "metadata": {
    "id": "eGjXvhYEi2eG"
   },
   "source": [
    "# Problem 6\n",
    "Create a 10x10 array with random values and find the minimum and maximum values"
   ]
  },
  {
   "cell_type": "code",
   "execution_count": 4,
   "metadata": {},
   "outputs": [
    {
     "name": "stdout",
     "output_type": "stream",
     "text": [
      "[[0.54156331 0.09773842 0.63600431 0.8643277  0.65379788 0.31712602\n",
      "  0.44422253 0.2056525  0.09285519 0.51889334]\n",
      " [0.82793379 0.67782997 0.96973309 0.90639702 0.24321125 0.17159815\n",
      "  0.83974391 0.47249052 0.2959893  0.68226354]\n",
      " [0.00638247 0.48777823 0.6528664  0.57173142 0.21684043 0.26042734\n",
      "  0.02762934 0.32882946 0.5243501  0.19080406]\n",
      " [0.12800613 0.42266218 0.48629294 0.95525281 0.80206154 0.8698752\n",
      "  0.16817845 0.41035991 0.28846799 0.76943602]\n",
      " [0.1327113  0.04932951 0.25373784 0.83917575 0.18361678 0.82676145\n",
      "  0.7468587  0.25572649 0.42539128 0.34002213]\n",
      " [0.42307848 0.75367689 0.65584531 0.4668217  0.54514229 0.66000607\n",
      "  0.04130993 0.35275271 0.26217692 0.71068001]\n",
      " [0.41739887 0.75994045 0.33541771 0.11376593 0.90308712 0.63873708\n",
      "  0.84375725 0.80555603 0.46719893 0.58231718]\n",
      " [0.14583283 0.09237561 0.02136425 0.69212771 0.20493788 0.96937951\n",
      "  0.46899003 0.88154585 0.95099698 0.09844984]\n",
      " [0.66221004 0.72897883 0.81886376 0.90339172 0.31446153 0.454875\n",
      "  0.27427093 0.86298826 0.36440385 0.47015061]\n",
      " [0.04507444 0.52410471 0.99384397 0.37097995 0.53764255 0.18104817\n",
      "  0.03290617 0.43847053 0.22495031 0.97520282]]\n",
      "0.006382467893199628 0.9938439746390536\n"
     ]
    }
   ],
   "source": [
    "a=np.random.random((10, 10))\n",
    "my_min, my_max=a.min(), a.max()\n",
    "print(a)\n",
    "print(my_min, my_max)"
   ]
  },
  {
   "cell_type": "markdown",
   "metadata": {
    "id": "mzF2KFJdi2eG"
   },
   "source": [
    "# Problem 7\n",
    "Create a random vector of size 30 and find the mean value "
   ]
  },
  {
   "cell_type": "code",
   "execution_count": 7,
   "metadata": {},
   "outputs": [
    {
     "name": "stdout",
     "output_type": "stream",
     "text": [
      "[0.13116472 0.29036211 0.55046426 0.80826762 0.33280703 0.20806141\n",
      " 0.64271811 0.20238764 0.77084363 0.52421649 0.2599167  0.32849231\n",
      " 0.33584648 0.56459667 0.76463047 0.81448936 0.49778206 0.0653811\n",
      " 0.86540948 0.8797138  0.77984395 0.33671377 0.64852715 0.10834403\n",
      " 0.00756387 0.26876661 0.4407579  0.84873386 0.56131749 0.48793521]\n",
      "0.4775351764045454\n"
     ]
    }
   ],
   "source": [
    "arr=np.random.random((30))\n",
    "m=arr.mean()\n",
    "print(arr)\n",
    "print(m)"
   ]
  },
  {
   "cell_type": "markdown",
   "metadata": {
    "id": "8hbO1bKni2eH"
   },
   "source": [
    "# Problem 8\n",
    "Create a random vector of size 30 and find the mean value "
   ]
  },
  {
   "cell_type": "code",
   "execution_count": null,
   "metadata": {},
   "outputs": [],
   "source": [
    "##see above"
   ]
  },
  {
   "cell_type": "markdown",
   "metadata": {
    "id": "XRUmWno7i2eH"
   },
   "source": [
    "# Problem 9\n",
    "Create a random vector of size 10 and sort it \n"
   ]
  },
  {
   "cell_type": "code",
   "execution_count": 14,
   "metadata": {},
   "outputs": [
    {
     "name": "stdout",
     "output_type": "stream",
     "text": [
      "[0.25775805 0.47694055 0.30305188 0.68056925 0.7619076  0.36318167\n",
      " 0.12379004 0.4154846  0.54975206 0.67799326]\n",
      "[0.12379004 0.25775805 0.30305188 0.36318167 0.4154846  0.47694055\n",
      " 0.54975206 0.67799326 0.68056925 0.7619076 ]\n"
     ]
    }
   ],
   "source": [
    "arr=np.random.random((10))\n",
    "arr2=np.sort(arr)\n",
    "print(arr)\n",
    "print(arr2)"
   ]
  },
  {
   "cell_type": "markdown",
   "metadata": {
    "id": "A1xyFNONi2eH"
   },
   "source": [
    "# Problem 10\n",
    "\n",
    "Subtract the mean of each row of a matrix (Use `X = np.random.rand(5, 10)` to generate the array)"
   ]
  },
  {
   "cell_type": "code",
   "execution_count": 33,
   "metadata": {},
   "outputs": [
    {
     "name": "stdout",
     "output_type": "stream",
     "text": [
      "[[0.59545625 0.25137803 0.98451398 0.77233009 0.22467566 0.84689774\n",
      "  0.95513404 0.28972165 0.27123645 0.16968906]\n",
      " [0.34920044 0.79085652 0.78370109 0.50335312 0.776836   0.77402192\n",
      "  0.8565369  0.97497591 0.36327645 0.30509218]\n",
      " [0.88669052 0.44568528 0.96645349 0.82703486 0.27236548 0.75012725\n",
      "  0.88532822 0.16027521 0.83029433 0.88750839]\n",
      " [0.88022818 0.22443388 0.96834957 0.16503601 0.61877351 0.72890021\n",
      "  0.38001975 0.04536599 0.04913207 0.58988159]\n",
      " [0.62082312 0.34732807 0.80544875 0.44658198 0.33237373 0.58719404\n",
      "  0.93602916 0.00324093 0.59772486 0.46763347]]\n",
      "[[0.53610329]\n",
      " [0.64778505]\n",
      " [0.6911763 ]\n",
      " [0.46501208]\n",
      " [0.51443781]]\n",
      "[[ 0.05935295 -0.28472526  0.44841068  0.2362268  -0.31142764  0.31079444\n",
      "   0.41903075 -0.24638165 -0.26486685 -0.36641423]\n",
      " [-0.29858461  0.14307147  0.13591604 -0.14443194  0.12905094  0.12623687\n",
      "   0.20875184  0.32719086 -0.28450861 -0.34269287]\n",
      " [ 0.19551422 -0.24549102  0.27527719  0.13585855 -0.41881083  0.05895095\n",
      "   0.19415192 -0.5309011   0.13911803  0.19633209]\n",
      " [ 0.41521611 -0.24057819  0.50333749 -0.29997606  0.15376143  0.26388814\n",
      "  -0.08499232 -0.41964609 -0.41588001  0.12486951]\n",
      " [ 0.10638531 -0.16710974  0.29101094 -0.06785583 -0.18206408  0.07275623\n",
      "   0.42159135 -0.51119688  0.08328705 -0.04680434]]\n"
     ]
    }
   ],
   "source": [
    "X=np.random.rand(5,10)\n",
    "print(X)\n",
    "##CREATE MEAN ARRAY WITH ROWS=ROWS IN X and one column\n",
    "mean=np.mean(X, axis=1, keepdims=True)\n",
    "print(mean)\n",
    "##create new array with original X values minus mean values\n",
    "new_x=X - mean\n",
    "print(new_x)\n"
   ]
  },
  {
   "cell_type": "code",
   "execution_count": null,
   "metadata": {},
   "outputs": [],
   "source": []
  }
 ],
 "metadata": {
  "colab": {
   "name": "RepMLA_Lab-1_5.ipynb",
   "provenance": []
  },
  "kernelspec": {
   "display_name": "Python 3",
   "language": "python",
   "name": "python3"
  },
  "language_info": {
   "codemirror_mode": {
    "name": "ipython",
    "version": 3
   },
   "file_extension": ".py",
   "mimetype": "text/x-python",
   "name": "python",
   "nbconvert_exporter": "python",
   "pygments_lexer": "ipython3",
   "version": "3.8.8"
  }
 },
 "nbformat": 4,
 "nbformat_minor": 1
}
