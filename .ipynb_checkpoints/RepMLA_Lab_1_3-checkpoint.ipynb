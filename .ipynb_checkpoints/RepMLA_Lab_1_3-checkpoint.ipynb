{
 "cells": [
  {
   "cell_type": "markdown",
   "metadata": {
    "id": "UNsbVVScekC7"
   },
   "source": [
    "<div>\n",
    "<img src=\"https://drive.google.com/uc?export=view&id=1vK33e_EqaHgBHcbRV_m38hx6IkG0blK_\" width=\"350\"/>\n",
    "</div> \n",
    "\n",
    "#**Artificial Intelligence - MSc**\n",
    "CS6501 - MACHINE LEARNING AND APPLICATIONS\n",
    "#**Business Analytics - MSc**\n",
    "ET5003 - MACHINE LEARNING APPLICATIONS \n",
    "##***Annual Repeat***\n",
    "###Instructor: Enrique Naredo\n",
    "\n",
    "###RepMLA_Lab-1.3\n",
    "\n",
    "Student ID: \n",
    "\n",
    "Student name: "
   ]
  },
  {
   "cell_type": "markdown",
   "metadata": {},
   "source": [
    "# IMPORT STATEMENTS"
   ]
  },
  {
   "cell_type": "code",
   "execution_count": 1,
   "metadata": {},
   "outputs": [],
   "source": [
    "import numpy as np\n",
    "import matplotlib.pyplot as plt\n",
    "import pandas as pd\n",
    "import math as m"
   ]
  },
  {
   "cell_type": "markdown",
   "metadata": {
    "id": "04pGqRnTe7aT"
   },
   "source": [
    "## Problem 11\n",
    "Create a function that returns the sum of all even elements in a 2D matrix.\n",
    "\n",
    "Examples\n",
    ">sum_of_evens([\n",
    "  [1, 0, 2],\n",
    "  [5, 5, 7],\n",
    "  [9, 4, 3]\n",
    "]) ➞ 6\n",
    ">\n",
    ">sum_of_evens([\n",
    "  [1, 1],\n",
    "  [1, 1]\n",
    "]) ➞ 0\n",
    ">\n",
    ">sum_of_evens([\n",
    "  [42, 9],\n",
    "  [16, 8]\n",
    "]) ➞ 66\n",
    ">\n",
    ">sum_of_evens([\n",
    "  [],\n",
    "  [],\n",
    "  []\n",
    "]) ➞ 0\n",
    "\n",
    "Notes\n",
    "\n",
    "    Submatrices will be of equal length.\n",
    "    Return 0 if the 2D matrix only consists of empty submatrices."
   ]
  },
  {
   "cell_type": "code",
   "execution_count": 2,
   "metadata": {},
   "outputs": [],
   "source": [
    "def sum_of_evens(arr):\n",
    "    #return arr of even values only\n",
    "    arr=np.where(np.mod(arr, 2), 0, arr)\n",
    "    #sum the values in the arr\n",
    "    val=np.sum(arr)\n",
    "    #return the summation of the array\n",
    "    return val"
   ]
  },
  {
   "cell_type": "code",
   "execution_count": 3,
   "metadata": {},
   "outputs": [
    {
     "name": "stdout",
     "output_type": "stream",
     "text": [
      "{'a': 6, 'b': 0, 'c': 66, 'd': 0.0}\n"
     ]
    }
   ],
   "source": [
    "arr_dic={'a':[ [1, 0, 2], [5, 5, 7], [9, 4, 3] ],\n",
    "         'b':[ [1, 1], [1, 1] ],\n",
    "         'c':[ [42, 9], [16, 8] ],\n",
    "         'd':[ [], [], [] ]}\n",
    "##create empty dictionary to hold values with associated keys\n",
    "sum_dic={}\n",
    "for k, v in arr_dic.items():\n",
    "    val=sum_of_evens(v)\n",
    "    sum_dic[k]=val\n",
    "print(sum_dic)"
   ]
  },
  {
   "cell_type": "markdown",
   "metadata": {
    "id": "_NDCiZ36e7aT"
   },
   "source": [
    "## Problem 12\n",
    "In each input list, every number repeats at least once, except for two. Write a function that returns the two unique numbers.\n",
    "\n",
    "Examples\n",
    ">return_unique([1, 9, 8, 8, 7, 6, 1, 6]) ➞ [9, 7]\n",
    ">\n",
    ">return_unique([5, 5, 2, 4, 4, 4, 9, 9, 9, 1]) ➞ [2, 1]\n",
    ">\n",
    ">return_unique([9, 5, 6, 8, 7, 7, 1, 1, 1, 1, 1, 9, 8]) ➞ [5, 6]\n",
    "\n",
    "Notes\n",
    "\n",
    "Keep the same ordering in the output."
   ]
  },
  {
   "cell_type": "code",
   "execution_count": 4,
   "metadata": {},
   "outputs": [],
   "source": [
    "def find_unique(arr):\n",
    "    ##Identify unique values\n",
    "    unique_value, value_ind, value_counts=np.unique(arr, return_index=True, return_counts=True)\n",
    "#     print(unique_value, value_ind, value_counts)\n",
    "    ##get ind position of original array where value counts=1\n",
    "    ind=value_ind[np.where(value_counts==1)]\n",
    "#     print(ind)\n",
    "    \n",
    "    ##return values at the index use 'sorted' to keep order\n",
    "    return ([arr[item] for item in sorted(ind)])    "
   ]
  },
  {
   "cell_type": "code",
   "execution_count": 5,
   "metadata": {},
   "outputs": [
    {
     "name": "stdout",
     "output_type": "stream",
     "text": [
      "[9, 7]\n",
      "[2, 1]\n",
      "[5, 6]\n"
     ]
    }
   ],
   "source": [
    "arr_dic={'a': [1, 9, 8, 8, 7, 6, 1, 6],\n",
    "        'b': [5, 5, 2, 4, 4, 4, 9, 9, 9, 1],\n",
    "        'c': [9, 5, 6, 8, 7, 7, 1, 1, 1, 1, 1, 9, 8]}\n",
    "\n",
    "for k, v in arr_dic.items():\n",
    "    unique=find_unique(v)\n",
    "    print(unique)"
   ]
  },
  {
   "cell_type": "markdown",
   "metadata": {
    "id": "4ppr2nFMe7aU"
   },
   "source": [
    "## Problem 13\n",
    "This is a reverse coding challenge. Normally you're given explicit directions with how to create a function. Here, you must generate your own function to satisfy the relationship between the inputs and outputs.\n",
    "\n",
    "Your task is to create a function that, when fed the inputs below, produces the sample outputs shown.\n",
    "\n",
    ">mystery_func(152) ➞ 10\n",
    ">\n",
    ">mystery_func(832) ➞ 48\n",
    ">\n",
    ">mystery_func(19) ➞ 9\n",
    ">\n",
    ">mystery_func(133) ➞ 9"
   ]
  },
  {
   "cell_type": "code",
   "execution_count": 8,
   "metadata": {},
   "outputs": [
    {
     "data": {
      "text/plain": [
       "{152: 10, 832: 48, 19: 9, 133: 9}"
      ]
     },
     "execution_count": 8,
     "metadata": {},
     "output_type": "execute_result"
    }
   ],
   "source": [
    "input_arr=[152, 832, 19, 133]\n",
    "\n",
    "##AS PER INFO FROM @CIARAN COX THE OUTPUT CAN BE GENERATED BY MULTIPLYING ALL INPUT VALUES\n",
    "multi_dic={}\n",
    "for item in input_arr:\n",
    "    my_s=str(item)\n",
    "    s_list=[]\n",
    "    for char in my_s:\n",
    "        s_list.append(int(char))\n",
    "    multi=np.prod(s_list)\n",
    "    multi_dic[item]=multi\n",
    "multi_dic"
   ]
  },
  {
   "cell_type": "markdown",
   "metadata": {
    "id": "dxZaNTX8e7aU"
   },
   "source": [
    "## Problem 14\n",
    "Build a function that creates histograms. Every bar needs to be on a new line and its length corresponds to the numbers in the list passed as an argument. The second argument of the function represents the character that needs to be used.\n",
    "\n",
    "> histogram(lst, char) -> str\n",
    "\n",
    "Examples\n",
    ">histogram([1, 3, 4], \"\\#\") ➞ \"\\#\\n\\#\\#\\#\\n\\#\\#\\#\\#\"\n",
    ">\n",
    ">\\#\n",
    ">\n",
    ">\\###\n",
    ">\n",
    ">\\####\n",
    ">\n",
    ">histogram([6, 2, 15, 3], \"=\") ➞ \"======\\n==\\n===============\\n===\"\n",
    ">\n",
    ">======\n",
    ">\n",
    ">==\n",
    ">\n",
    ">===============\n",
    ">\n",
    ">===\n",
    ">\n",
    ">histogram([1, 10], \"+\") ➞ \"+\\n++++++++++\"\n",
    ">\n",
    ">+\n",
    ">\n",
    ">++++++++++"
   ]
  },
  {
   "cell_type": "code",
   "execution_count": null,
   "metadata": {},
   "outputs": [],
   "source": [
    "def histogram(my_list, my_char):\n",
    "    \n",
    "    bar_dic={}\n",
    "    for i in range(0, len(my_list)):\n",
    "        bar_list=[]\n",
    "        for j in range(0, my_list[i]):\n",
    "            bar_list.append(my_char)\n",
    "        bar_dic[i]=bar_list\n",
    "    return bar_dic"
   ]
  },
  {
   "cell_type": "code",
   "execution_count": null,
   "metadata": {},
   "outputs": [],
   "source": [
    "hist_dic={'#':[1,3,4],\n",
    "         '=':[6,2,15,3],\n",
    "         '+':[1,10]}\n",
    "\n",
    "for k, v in hist_dic.items():\n",
    "    ##create dictionary of bars (each key is bar), value(list of items)\n",
    "    dic=histogram(v, k)\n",
    "    print('NEW HISTOGRAM')\n",
    "    for k2,v2 in dic.items():\n",
    "        #print(joined list and new line comands)\n",
    "        print(''.join(v2), '\\n')\n"
   ]
  },
  {
   "cell_type": "markdown",
   "metadata": {
    "id": "IQOnaBOBe7aV"
   },
   "source": [
    "## Problem 15\n",
    "This challenge will deal further with writing recursive functions by covering the Euclidean Algorithm. The \"Euclidean Algorithm\" is a method for finding the greatest common divisor (GCD) of two numbers. It was originally described by the Greek mathematician Euclid.\n",
    "Algorithm\n",
    "\n",
    "For the sake of simplicity I'll refer to the first number as \"a\", the second number as \"b\", and the remainder as \"r\". The algorithm can be broken down into four steps:\n",
    "\n",
    "    Ensure that \"a\" >= \"b\". If \"a\" < \"b\", swap them.\n",
    "    Find the remainder. Divide \"a\" by \"b\" and set \"r\" as the remainder.\n",
    "    Is \"r\" zero? If so terminate the function and return \"b\" (the second number).\n",
    "    Set \"a\" = \"b\" and \"b\" = \"r\" and start the algorithm over again.\n",
    "\n",
    "Instructions\n",
    "\n",
    "Create a recursive function that returns the GCD between two positive numbers using the Euclidean Algorithm.\n",
    "\n",
    "Examples\n",
    ">euclidean(8, 6) ➞ 2\n",
    ">\n",
    ">euclidean(25, 5) ➞ 5\n",
    ">\n",
    ">euclidean(49, 14) ➞ 7\n",
    "\n",
    "Notes\n",
    "\n",
    "    Remember that to find the remainder of two numbers use the modulus % operator.\n",
    "    Both numbers will be positive and neither number will be null."
   ]
  },
  {
   "cell_type": "code",
   "execution_count": null,
   "metadata": {},
   "outputs": [],
   "source": [
    "##There is already a function in math module that provide gcd\n",
    "values=[(8, 6), (25, 5), (49,14)]\n",
    "\n",
    "for tup in values:\n",
    "    print(m.gcd(tup[0],tup[1]))"
   ]
  },
  {
   "cell_type": "code",
   "execution_count": null,
   "metadata": {},
   "outputs": [],
   "source": [
    "def get_gcd(a, b):\n",
    "    \n",
    "    if a < b:\n",
    "        i=b\n",
    "        j=a\n",
    "    else:\n",
    "        i=a\n",
    "        j=b\n",
    "        \n",
    "    #get the remainder\n",
    "    z=i%j\n",
    "    ##if there is no remainder then greatest common denom is j\n",
    "    if z==0:\n",
    "        z=j\n",
    "    return z"
   ]
  },
  {
   "cell_type": "code",
   "execution_count": null,
   "metadata": {},
   "outputs": [],
   "source": [
    "for tup in values:\n",
    "    print(get_gcd(tup[0], tup[1]))"
   ]
  },
  {
   "cell_type": "code",
   "execution_count": null,
   "metadata": {},
   "outputs": [],
   "source": []
  }
 ],
 "metadata": {
  "colab": {
   "name": "RepMLA_Lab_1_3.ipynb",
   "provenance": []
  },
  "kernelspec": {
   "display_name": "Python 3",
   "language": "python",
   "name": "python3"
  },
  "language_info": {
   "codemirror_mode": {
    "name": "ipython",
    "version": 3
   },
   "file_extension": ".py",
   "mimetype": "text/x-python",
   "name": "python",
   "nbconvert_exporter": "python",
   "pygments_lexer": "ipython3",
   "version": "3.8.8"
  }
 },
 "nbformat": 4,
 "nbformat_minor": 1
}
