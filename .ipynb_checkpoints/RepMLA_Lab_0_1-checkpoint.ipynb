{
 "cells": [
  {
   "cell_type": "markdown",
   "metadata": {
    "id": "ZnChNjRtxReo"
   },
   "source": [
    "<div>\n",
    "<img src=\"https://drive.google.com/uc?export=view&id=1vK33e_EqaHgBHcbRV_m38hx6IkG0blK_\" width=\"350\"/>\n",
    "</div> \n",
    "\n",
    "#**Artificial Intelligence - MSc**\n",
    "CS6501 - MACHINE LEARNING AND APPLICATIONS\n",
    "#**Business Analytics - MSc**\n",
    "ET5003 - MACHINE LEARNING APPLICATIONS \n",
    "##***Annual Repeat***\n",
    "###Instructor: Enrique Naredo\n",
    "\n",
    "###RepMLA_Lab-0.1"
   ]
  },
  {
   "cell_type": "markdown",
   "metadata": {
    "id": "JLpPSD9Z8pBO"
   },
   "source": [
    "# Python Basics"
   ]
  },
  {
   "cell_type": "markdown",
   "metadata": {
    "id": "CLNU1zRpEwgi"
   },
   "source": [
    "### Markdown Examples"
   ]
  },
  {
   "cell_type": "markdown",
   "metadata": {
    "id": "XEiC0hkaE74A"
   },
   "source": [
    "This is **bold**. \n",
    "\n",
    "This is *italic*. \n",
    "\n",
    "This is ~strikethrough~."
   ]
  },
  {
   "cell_type": "markdown",
   "metadata": {
    "id": "tNFS8gVRFLXS"
   },
   "source": [
    "Mathematical Equations\n",
    "\n",
    "$\\sqrt{3x-1}+(1+x)^2$\n",
    "\n",
    "$e^x=\\sum_{i=0}^\\infty \\frac{1}{i!}x^i$"
   ]
  },
  {
   "cell_type": "markdown",
   "metadata": {
    "id": "PRq1ZrpU9kNC"
   },
   "source": [
    "### Python Comments"
   ]
  },
  {
   "cell_type": "code",
   "execution_count": 1,
   "metadata": {
    "id": "XnuvhtLg9npr"
   },
   "outputs": [],
   "source": [
    "# This is a single line comment"
   ]
  },
  {
   "cell_type": "code",
   "execution_count": 2,
   "metadata": {
    "id": "v4LN70Yq-CEm"
   },
   "outputs": [
    {
     "data": {
      "text/plain": [
       "'\\nTHIS IS A MULTILINE COMMENT\\nUSING STRING LITERALS!\\n'"
      ]
     },
     "execution_count": 2,
     "metadata": {},
     "output_type": "execute_result"
    }
   ],
   "source": [
    "'''\n",
    "THIS IS A MULTILINE COMMENT\n",
    "USING STRING LITERALS!\n",
    "'''"
   ]
  },
  {
   "cell_type": "code",
   "execution_count": 3,
   "metadata": {
    "id": "7cfq_n8U-bNp"
   },
   "outputs": [
    {
     "data": {
      "text/plain": [
       "'\\nThis is a comment\\nwritten in\\nmore than just one line\\n'"
      ]
     },
     "execution_count": 3,
     "metadata": {},
     "output_type": "execute_result"
    }
   ],
   "source": [
    "\"\"\"\n",
    "This is a comment\n",
    "written in\n",
    "more than just one line\n",
    "\"\"\""
   ]
  },
  {
   "cell_type": "markdown",
   "metadata": {
    "id": "vhRIJ7OD5iaS"
   },
   "source": [
    "### Python Indentation"
   ]
  },
  {
   "cell_type": "code",
   "execution_count": 4,
   "metadata": {
    "id": "5m8_yPXz5Vgz"
   },
   "outputs": [
    {
     "name": "stdout",
     "output_type": "stream",
     "text": [
      "Ten is greater than five!\n"
     ]
    }
   ],
   "source": [
    "## Good indentation\n",
    "\n",
    "if 10 > 5:\n",
    "  print(\"Ten is greater than five!\")"
   ]
  },
  {
   "cell_type": "code",
   "execution_count": 5,
   "metadata": {
    "id": "r3ezf2th8wqd"
   },
   "outputs": [
    {
     "ename": "IndentationError",
     "evalue": "expected an indented block (<ipython-input-5-0c3a2f89da0e>, line 5)",
     "output_type": "error",
     "traceback": [
      "\u001b[1;36m  File \u001b[1;32m\"<ipython-input-5-0c3a2f89da0e>\"\u001b[1;36m, line \u001b[1;32m5\u001b[0m\n\u001b[1;33m    print(\"Ten is greater than five!\")\u001b[0m\n\u001b[1;37m    ^\u001b[0m\n\u001b[1;31mIndentationError\u001b[0m\u001b[1;31m:\u001b[0m expected an indented block\n"
     ]
    }
   ],
   "source": [
    "## Wrong indentation\n",
    "# add blank spaces to get the right indentation\n",
    "\n",
    "if 10 > 5:\n",
    "print(\"Ten is greater than five!\")"
   ]
  },
  {
   "cell_type": "markdown",
   "metadata": {
    "id": "_vz_Eylu9Ij6"
   },
   "source": [
    "### Python Variables"
   ]
  },
  {
   "cell_type": "code",
   "execution_count": 6,
   "metadata": {
    "id": "hFE6bW7e9N3X"
   },
   "outputs": [],
   "source": [
    "x = 10\n",
    "y = \"Hello, Friend!\""
   ]
  },
  {
   "cell_type": "code",
   "execution_count": 7,
   "metadata": {
    "id": "ctn4HhFW-_M0"
   },
   "outputs": [],
   "source": [
    "z = \"Celtics\"\n",
    "# is the same as\n",
    "z = 'Celtics'"
   ]
  },
  {
   "cell_type": "code",
   "execution_count": 8,
   "metadata": {
    "id": "iKYY8GOQ_UAa"
   },
   "outputs": [],
   "source": [
    "a = 4\n",
    "# is NOT the same as\n",
    "A = 4"
   ]
  },
  {
   "cell_type": "code",
   "execution_count": 9,
   "metadata": {
    "id": "DqAs1TeI_xXY"
   },
   "outputs": [],
   "source": [
    "# Legal variable names\n",
    "\n",
    "myvar   = \"Anything\"\n",
    "my_var  = \"Anything\"\n",
    "_my_var = \"Anything\"\n",
    "myVar   = \"Anything\"\n",
    "MYVAR   = \"Anything\"\n",
    "myvar2  = \"Anything\""
   ]
  },
  {
   "cell_type": "code",
   "execution_count": 10,
   "metadata": {
    "id": "rYeVoiVIAHZE"
   },
   "outputs": [],
   "source": [
    "# Camel Case\n",
    "myVariableName = \"Something\""
   ]
  },
  {
   "cell_type": "code",
   "execution_count": 11,
   "metadata": {
    "id": "2SxZ4LsFATuG"
   },
   "outputs": [],
   "source": [
    "# Pascal Case\n",
    "MyVariableName = \"Something\""
   ]
  },
  {
   "cell_type": "code",
   "execution_count": 12,
   "metadata": {
    "id": "KTTOCto2Aha_"
   },
   "outputs": [],
   "source": [
    "# Snake Case\n",
    "my_variable_name = \"Something\""
   ]
  },
  {
   "cell_type": "code",
   "execution_count": 13,
   "metadata": {
    "id": "Pi4inIHgApVE"
   },
   "outputs": [
    {
     "ename": "SyntaxError",
     "evalue": "cannot assign to operator (<ipython-input-13-bf51a23b4787>, line 2)",
     "output_type": "error",
     "traceback": [
      "\u001b[1;36m  File \u001b[1;32m\"<ipython-input-13-bf51a23b4787>\"\u001b[1;36m, line \u001b[1;32m2\u001b[0m\n\u001b[1;33m    my_Variable-NAME = \"Something\"\u001b[0m\n\u001b[1;37m    ^\u001b[0m\n\u001b[1;31mSyntaxError\u001b[0m\u001b[1;31m:\u001b[0m cannot assign to operator\n"
     ]
    }
   ],
   "source": [
    "# Invent your own case\n",
    "my_Variable-NAME = \"Something\""
   ]
  },
  {
   "cell_type": "code",
   "execution_count": 14,
   "metadata": {
    "id": "McJxzxxeBEAu"
   },
   "outputs": [
    {
     "name": "stdout",
     "output_type": "stream",
     "text": [
      "Anything\n",
      "Something\n",
      "Whatever\n"
     ]
    }
   ],
   "source": [
    "# Many Values to Multiple Variables\n",
    "alpha, beta, gamma = \"Anything\", \"Something\", \"Whatever\"\n",
    "print(alpha)\n",
    "print(beta)\n",
    "print(gamma)"
   ]
  },
  {
   "cell_type": "code",
   "execution_count": 15,
   "metadata": {
    "id": "Q1-y_vo3BfXC"
   },
   "outputs": [
    {
     "name": "stdout",
     "output_type": "stream",
     "text": [
      "Everything\n",
      "Everything\n",
      "Everything\n"
     ]
    }
   ],
   "source": [
    "# One Value to Multiple Variables\n",
    "alpha = beta = gamma = \"Everything\"\n",
    "print(alpha)\n",
    "print(beta)\n",
    "print(gamma)"
   ]
  },
  {
   "cell_type": "code",
   "execution_count": null,
   "metadata": {},
   "outputs": [],
   "source": []
  }
 ],
 "metadata": {
  "colab": {
   "name": "RepMLA_Lab_0_1.ipynb",
   "provenance": []
  },
  "kernelspec": {
   "display_name": "Python 3",
   "language": "python",
   "name": "python3"
  },
  "language_info": {
   "codemirror_mode": {
    "name": "ipython",
    "version": 3
   },
   "file_extension": ".py",
   "mimetype": "text/x-python",
   "name": "python",
   "nbconvert_exporter": "python",
   "pygments_lexer": "ipython3",
   "version": "3.8.8"
  }
 },
 "nbformat": 4,
 "nbformat_minor": 1
}
