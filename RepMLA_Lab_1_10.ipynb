{
  "nbformat": 4,
  "nbformat_minor": 0,
  "metadata": {
    "colab": {
      "name": "RepMLA_Lab-1_10.ipynb",
      "provenance": []
    },
    "kernelspec": {
      "name": "python3",
      "display_name": "Python 3"
    },
    "language_info": {
      "name": "python"
    }
  },
  "cells": [
    {
      "cell_type": "markdown",
      "metadata": {
        "id": "S8CO3y1RLSuF"
      },
      "source": [
        "<div>\n",
        "<img src=\"https://drive.google.com/uc?export=view&id=1vK33e_EqaHgBHcbRV_m38hx6IkG0blK_\" width=\"350\"/>\n",
        "</div> \n",
        "\n",
        "#**Artificial Intelligence - MSc**\n",
        "CS6501 - MACHINE LEARNING AND APPLICATIONS\n",
        "#**Business Analytics - MSc**\n",
        "ET5003 - MACHINE LEARNING APPLICATIONS \n",
        "##***Annual Repeat***\n",
        "###Instructor: Enrique Naredo\n",
        "\n",
        "###RepMLA_Lab-1.10\n",
        "\n",
        "Student ID: \n",
        "\n",
        "Student name: "
      ]
    },
    {
      "cell_type": "markdown",
      "metadata": {
        "id": "J0aR26eeLSuG"
      },
      "source": [
        "# Pandas exercise"
      ]
    },
    {
      "cell_type": "code",
      "metadata": {
        "id": "Z4X9nmpgLSuH"
      },
      "source": [
        "import pandas as pd"
      ],
      "execution_count": null,
      "outputs": []
    },
    {
      "cell_type": "markdown",
      "metadata": {
        "id": "EXylxsEgj4Ht"
      },
      "source": [
        "# Problem 16\n",
        "\n",
        "Compute the [euclidean distance](https://en.wikipedia.org/wiki/Euclidean_distance) between series (points) p and q, without using a formula from a library.\n"
      ]
    },
    {
      "cell_type": "code",
      "metadata": {
        "id": "_ghm-RI9j4Ht"
      },
      "source": [
        "# Input\n",
        "p = pd.Series([1, 2, 3, 4, 5, 6, 7, 8, 9, 10])\n",
        "q = pd.Series([10, 9, 8, 7, 6, 5, 4, 3, 2, 1])\n",
        "'''\n",
        "Desired Output\n",
        "\n",
        "18.165\n",
        "'''\n"
      ],
      "execution_count": null,
      "outputs": []
    },
    {
      "cell_type": "markdown",
      "metadata": {
        "id": "LdqpH6Uhj4Ht"
      },
      "source": [
        "# Problem 17 \n",
        "\n",
        "Rename a specific columns in a dataframe?\n"
      ]
    },
    {
      "cell_type": "code",
      "metadata": {
        "id": "yk-vUQ1Rj4Ht",
        "outputId": "98c874ea-8d1d-49be-8358-7de0ddd19eac"
      },
      "source": [
        "# input\n",
        "# Rename the column Type as CarType in df and replace the ‘.’ in column names with ‘_’.\n",
        "cars93 = pd.read_csv(\"datasets/Cars93.csv\", index_col=0)#load the dataset\n",
        "print(cars93.head())\n",
        "\n",
        "'''\n",
        "Desired Output\n",
        "\n",
        "Index(['Manufacturer', 'Model', 'CarType', 'Min_Price', 'Price', 'Max_Price',\n",
        "        'MPG_city', 'MPG_highway', 'AirBags', 'DriveTrain', 'Cylinders',\n",
        "        'EngineSize', 'Horsepower', 'RPM', 'Rev_per_mile', 'Man_trans_avail',\n",
        "        'Fuel_tank_capacity', 'Passengers', 'Length', 'Wheelbase', 'Width',\n",
        "        'Turn_circle', 'Rear_seat_room', 'Luggage_room', 'Weight', 'Origin',\n",
        "        'Make'],\n",
        "       dtype='object')\n",
        "'''"
      ],
      "execution_count": null,
      "outputs": [
        {
          "output_type": "stream",
          "text": [
            "  Manufacturer    Model     Type  Min.Price  Price  Max.Price  MPG.city  \\\n",
            "1        Acura  Integra    Small       12.9   15.9       18.8        25   \n",
            "2        Acura   Legend  Midsize       29.2   33.9       38.7        18   \n",
            "3         Audi       90  Compact       25.9   29.1       32.3        20   \n",
            "4         Audi      100  Midsize       30.8   37.7       44.6        19   \n",
            "5          BMW     535i  Midsize       23.7   30.0       36.2        22   \n",
            "\n",
            "   MPG.highway             AirBags DriveTrain  ... Passengers  Length  \\\n",
            "1           31                None      Front  ...          5     177   \n",
            "2           25  Driver & Passenger      Front  ...          5     195   \n",
            "3           26         Driver only      Front  ...          5     180   \n",
            "4           26  Driver & Passenger      Front  ...          6     193   \n",
            "5           30         Driver only       Rear  ...          4     186   \n",
            "\n",
            "   Wheelbase  Width  Turn.circle Rear.seat.room  Luggage.room  Weight  \\\n",
            "1        102     68           37           26.5          11.0    2705   \n",
            "2        115     71           38           30.0          15.0    3560   \n",
            "3        102     67           37           28.0          14.0    3375   \n",
            "4        106     70           37           31.0          17.0    3405   \n",
            "5        109     69           39           27.0          13.0    3640   \n",
            "\n",
            "    Origin           Make  \n",
            "1  non-USA  Acura Integra  \n",
            "2  non-USA   Acura Legend  \n",
            "3  non-USA        Audi 90  \n",
            "4  non-USA       Audi 100  \n",
            "5  non-USA       BMW 535i  \n",
            "\n",
            "[5 rows x 27 columns]\n"
          ],
          "name": "stdout"
        },
        {
          "output_type": "execute_result",
          "data": {
            "text/plain": [
              "\"\\nDesired Output\\n\\nIndex(['Manufacturer', 'Model', 'CarType', 'Min_Price', 'Price', 'Max_Price',\\n        'MPG_city', 'MPG_highway', 'AirBags', 'DriveTrain', 'Cylinders',\\n        'EngineSize', 'Horsepower', 'RPM', 'Rev_per_mile', 'Man_trans_avail',\\n        'Fuel_tank_capacity', 'Passengers', 'Length', 'Wheelbase', 'Width',\\n        'Turn_circle', 'Rear_seat_room', 'Luggage_room', 'Weight', 'Origin',\\n        'Make'],\\n       dtype='object')\\n\""
            ]
          },
          "metadata": {
            "tags": []
          },
          "execution_count": 19
        }
      ]
    },
    {
      "cell_type": "markdown",
      "metadata": {
        "id": "Vka4x8Spj4Hu"
      },
      "source": [
        "# Problem 18\n",
        "\n",
        "Check if a dataframe has any missing values?"
      ]
    },
    {
      "cell_type": "code",
      "metadata": {
        "id": "RWQslFAXj4Hu",
        "outputId": "e8d381df-0d90-4afb-a952-b07bd7c4a928"
      },
      "source": [
        "# input\n",
        "df = pd.read_csv(\"datasets/Cars93.csv\")\n",
        "print(df.columns)\n",
        "df['Luggage.room'].iloc[87:]# the NaN is an example of missing value in the column 'Luggage.room'"
      ],
      "execution_count": null,
      "outputs": [
        {
          "output_type": "stream",
          "text": [
            "Index(['Unnamed: 0', 'Manufacturer', 'Model', 'Type', 'Min.Price', 'Price',\n",
            "       'Max.Price', 'MPG.city', 'MPG.highway', 'AirBags', 'DriveTrain',\n",
            "       'Cylinders', 'EngineSize', 'Horsepower', 'RPM', 'Rev.per.mile',\n",
            "       'Man.trans.avail', 'Fuel.tank.capacity', 'Passengers', 'Length',\n",
            "       'Wheelbase', 'Width', 'Turn.circle', 'Rear.seat.room', 'Luggage.room',\n",
            "       'Weight', 'Origin', 'Make'],\n",
            "      dtype='object')\n"
          ],
          "name": "stdout"
        },
        {
          "output_type": "execute_result",
          "data": {
            "text/plain": [
              "87    10.0\n",
              "88     NaN\n",
              "89    14.0\n",
              "90    15.0\n",
              "91    14.0\n",
              "92    15.0\n",
              "Name: Luggage.room, dtype: float64"
            ]
          },
          "metadata": {
            "tags": []
          },
          "execution_count": 33
        }
      ]
    },
    {
      "cell_type": "markdown",
      "metadata": {
        "id": "s2sI1QsOj4Hu"
      },
      "source": [
        "# Problem 19\n",
        "\n",
        "Count the number of missing values in each column of df. Which column has the maximum number of missing values?\n"
      ]
    },
    {
      "cell_type": "code",
      "metadata": {
        "id": "MjwHVGS7j4Hu"
      },
      "source": [
        "# input\n",
        "df = pd.read_csv(\"datasets/Cars93.csv\")"
      ],
      "execution_count": null,
      "outputs": []
    },
    {
      "cell_type": "markdown",
      "metadata": {
        "id": "p5L9aMDtj4Hv"
      },
      "source": [
        "# Problem 20\n",
        "\n",
        "Replace missing values in Luggage.room columns with the column mean.\n",
        "\n"
      ]
    },
    {
      "cell_type": "code",
      "metadata": {
        "id": "euZYWfNjj4Hv",
        "outputId": "9a0dd00a-0599-4c06-8c7d-09d37dbd8a12"
      },
      "source": [
        "# input\n",
        "df = pd.read_csv(\"datasets/Cars93.csv\")\n",
        "df[[\"Luggage.room\"]]"
      ],
      "execution_count": null,
      "outputs": [
        {
          "output_type": "execute_result",
          "data": {
            "text/html": [
              "<div>\n",
              "<style scoped>\n",
              "    .dataframe tbody tr th:only-of-type {\n",
              "        vertical-align: middle;\n",
              "    }\n",
              "\n",
              "    .dataframe tbody tr th {\n",
              "        vertical-align: top;\n",
              "    }\n",
              "\n",
              "    .dataframe thead th {\n",
              "        text-align: right;\n",
              "    }\n",
              "</style>\n",
              "<table border=\"1\" class=\"dataframe\">\n",
              "  <thead>\n",
              "    <tr style=\"text-align: right;\">\n",
              "      <th></th>\n",
              "      <th>Luggage.room</th>\n",
              "    </tr>\n",
              "  </thead>\n",
              "  <tbody>\n",
              "    <tr>\n",
              "      <th>0</th>\n",
              "      <td>11.0</td>\n",
              "    </tr>\n",
              "    <tr>\n",
              "      <th>1</th>\n",
              "      <td>15.0</td>\n",
              "    </tr>\n",
              "    <tr>\n",
              "      <th>2</th>\n",
              "      <td>14.0</td>\n",
              "    </tr>\n",
              "    <tr>\n",
              "      <th>3</th>\n",
              "      <td>17.0</td>\n",
              "    </tr>\n",
              "    <tr>\n",
              "      <th>4</th>\n",
              "      <td>13.0</td>\n",
              "    </tr>\n",
              "    <tr>\n",
              "      <th>...</th>\n",
              "      <td>...</td>\n",
              "    </tr>\n",
              "    <tr>\n",
              "      <th>88</th>\n",
              "      <td>NaN</td>\n",
              "    </tr>\n",
              "    <tr>\n",
              "      <th>89</th>\n",
              "      <td>14.0</td>\n",
              "    </tr>\n",
              "    <tr>\n",
              "      <th>90</th>\n",
              "      <td>15.0</td>\n",
              "    </tr>\n",
              "    <tr>\n",
              "      <th>91</th>\n",
              "      <td>14.0</td>\n",
              "    </tr>\n",
              "    <tr>\n",
              "      <th>92</th>\n",
              "      <td>15.0</td>\n",
              "    </tr>\n",
              "  </tbody>\n",
              "</table>\n",
              "<p>93 rows × 1 columns</p>\n",
              "</div>"
            ],
            "text/plain": [
              "    Luggage.room\n",
              "0           11.0\n",
              "1           15.0\n",
              "2           14.0\n",
              "3           17.0\n",
              "4           13.0\n",
              "..           ...\n",
              "88           NaN\n",
              "89          14.0\n",
              "90          15.0\n",
              "91          14.0\n",
              "92          15.0\n",
              "\n",
              "[93 rows x 1 columns]"
            ]
          },
          "metadata": {
            "tags": []
          },
          "execution_count": 34
        }
      ]
    }
  ]
}