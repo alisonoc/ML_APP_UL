{
  "nbformat": 4,
  "nbformat_minor": 0,
  "metadata": {
    "colab": {
      "name": "RepMLA_Lab-1_7.ipynb",
      "provenance": []
    },
    "kernelspec": {
      "name": "python3",
      "display_name": "Python 3"
    },
    "language_info": {
      "name": "python"
    }
  },
  "cells": [
    {
      "cell_type": "markdown",
      "metadata": {
        "id": "Qvexyww7a-0o"
      },
      "source": [
        "<div>\n",
        "<img src=\"https://drive.google.com/uc?export=view&id=1vK33e_EqaHgBHcbRV_m38hx6IkG0blK_\" width=\"350\"/>\n",
        "</div> \n",
        "\n",
        "#**Artificial Intelligence - MSc**\n",
        "CS6501 - MACHINE LEARNING AND APPLICATIONS\n",
        "#**Business Analytics - MSc**\n",
        "ET5003 - MACHINE LEARNING APPLICATIONS \n",
        "##***Annual Repeat***\n",
        "###Instructor: Enrique Naredo\n",
        "\n",
        "###RepMLA_Lab-1.7\n",
        "\n",
        "Student ID: \n",
        "\n",
        "Student name: "
      ]
    },
    {
      "cell_type": "markdown",
      "metadata": {
        "id": "X1_C9yoDj4Hh"
      },
      "source": [
        "# Pandas exercise"
      ]
    },
    {
      "cell_type": "code",
      "metadata": {
        "id": "4eZ2rBThj4Hj"
      },
      "source": [
        "import pandas as pd"
      ],
      "execution_count": null,
      "outputs": []
    },
    {
      "cell_type": "markdown",
      "metadata": {
        "id": "zfPDogFvj4Hk"
      },
      "source": [
        "\n",
        "# Problem 1 \n",
        "\n",
        "Create a pandas series from each of the items below: a list, numpy and a dictionary\n",
        "\n"
      ]
    },
    {
      "cell_type": "code",
      "metadata": {
        "id": "i6QPxTEwj4Hk"
      },
      "source": [
        "# Input\n",
        "import numpy as np\n",
        "a_list = list(\"abcdefg\")\n",
        "numpy_array = np.arange(1, 10)\n",
        "dictionary = {\"A\":  0, \"B\":1, \"C\":2, \"D\":3, \"E\":5}"
      ],
      "execution_count": null,
      "outputs": []
    },
    {
      "cell_type": "code",
      "metadata": {
        "id": "65XGEKC0j4Hl",
        "outputId": "c1d5bd68-7232-4cea-9337-a0f2f69ee4e0"
      },
      "source": [
        "#Solutions (different ways)\n",
        "series1 = pd.Series(a_list)\n",
        "print(series1)\n",
        "series2 = pd.Series(numpy_array)\n",
        "print(series2)\n",
        "series3 = pd.Series(dictionary)\n",
        "print(series3)"
      ],
      "execution_count": null,
      "outputs": [
        {
          "output_type": "stream",
          "text": [
            "0    a\n",
            "1    b\n",
            "2    c\n",
            "3    d\n",
            "4    e\n",
            "5    f\n",
            "6    g\n",
            "dtype: object\n",
            "0    1\n",
            "1    2\n",
            "2    3\n",
            "3    4\n",
            "4    5\n",
            "5    6\n",
            "6    7\n",
            "7    8\n",
            "8    9\n",
            "dtype: int64\n",
            "A    0\n",
            "B    1\n",
            "C    2\n",
            "D    3\n",
            "E    5\n",
            "dtype: int64\n"
          ],
          "name": "stdout"
        }
      ]
    },
    {
      "cell_type": "markdown",
      "metadata": {
        "id": "Nj7N1fLzj4Hm"
      },
      "source": [
        "# Problem 2\n",
        "\n",
        "Convert the series `ser` into a dataframe with its index as another column on the dataframe.\n",
        "\n"
      ]
    },
    {
      "cell_type": "code",
      "metadata": {
        "id": "faSwMSEIj4Hm",
        "outputId": "6efba7b7-cae3-476c-da21-92fab5af72bb"
      },
      "source": [
        "# input\n",
        "mylist = list('abcedfghijklmnopqrstuvwxyz')\n",
        "myarr = np.arange(26)\n",
        "mydict = dict(zip(mylist, myarr))\n",
        "ser = pd.Series(mydict)\n",
        "print(ser[:5])"
      ],
      "execution_count": null,
      "outputs": [
        {
          "output_type": "stream",
          "text": [
            "a    0\n",
            "b    1\n",
            "c    2\n",
            "e    3\n",
            "d    4\n",
            "dtype: int64\n"
          ],
          "name": "stdout"
        }
      ]
    },
    {
      "cell_type": "markdown",
      "metadata": {
        "id": "DSe-0tIDj4Hm"
      },
      "source": [
        "# Problem 3 \n",
        "\n",
        "Combine ser1 and ser2 to form a dataframe with two columns.\n",
        "\n"
      ]
    },
    {
      "cell_type": "code",
      "metadata": {
        "id": "ycsF4mQzj4Hn"
      },
      "source": [
        "# input\n",
        "ser1 = pd.Series(list('abcedfghijklmnopqrstuvwxyz'))\n",
        "ser2 = pd.Series(np.arange(26))"
      ],
      "execution_count": null,
      "outputs": []
    },
    {
      "cell_type": "markdown",
      "metadata": {
        "id": "wi8FWUhRj4Hn"
      },
      "source": [
        "# Problem 4\n",
        "\n",
        "Get all items of ser1 and ser2 not common to both.\n",
        "\n"
      ]
    },
    {
      "cell_type": "code",
      "metadata": {
        "id": "lJMe_T3tj4Hn"
      },
      "source": [
        "# input\n",
        "ser1 = pd.Series([1, 2, 3, 4, 5])\n",
        "ser2 = pd.Series([4, 5, 6, 7, 8])"
      ],
      "execution_count": null,
      "outputs": []
    },
    {
      "cell_type": "markdown",
      "metadata": {
        "id": "QohmzVrlj4Ho"
      },
      "source": [
        "# Problem 5\n",
        "\n",
        "Get all items of ser1 and ser2 not common to both.\n"
      ]
    },
    {
      "cell_type": "code",
      "metadata": {
        "id": "flOVf_wBj4Ho"
      },
      "source": [
        "# input\n",
        "ser1 = pd.Series([1, 2, 3, 4, 5])\n",
        "ser2 = pd.Series([4, 5, 6, 7, 8])"
      ],
      "execution_count": null,
      "outputs": []
    }
  ]
}