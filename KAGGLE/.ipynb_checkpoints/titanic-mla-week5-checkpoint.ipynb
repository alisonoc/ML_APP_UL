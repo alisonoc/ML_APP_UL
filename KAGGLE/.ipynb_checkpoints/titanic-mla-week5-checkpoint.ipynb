{
 "cells": [
  {
   "cell_type": "markdown",
   "metadata": {},
   "source": [
    "# Import modules"
   ]
  },
  {
   "cell_type": "code",
   "execution_count": 15,
   "metadata": {
    "execution": {
     "iopub.execute_input": "2021-08-23T12:29:01.913109Z",
     "iopub.status.busy": "2021-08-23T12:29:01.912499Z",
     "iopub.status.idle": "2021-08-23T12:29:02.556014Z",
     "shell.execute_reply": "2021-08-23T12:29:02.554621Z",
     "shell.execute_reply.started": "2021-08-23T12:29:01.913037Z"
    }
   },
   "outputs": [],
   "source": [
    "import os\n",
    "import numpy as np\n",
    "import pandas as pd\n",
    "import matplotlib.pyplot as plt\n",
    "import matplotlib.transforms as mtransforms\n",
    "plt.rcParams[\"figure.figsize\"] = (10,6)\n",
    "##set font size\n",
    "font={'family': 'sans-serif',\n",
    "      'weight': 'normal',\n",
    "      'size':14}\n",
    "plt.rc('font', **font)\n",
    "import seaborn as sns\n",
    "import missingno\n",
    "from sklearn.model_selection import train_test_split\n",
    "from sklearn.preprocessing import MinMaxScaler\n",
    "from sklearn.preprocessing import StandardScaler\n",
    "from sklearn.metrics import accuracy_score #CALCULATE ACCURACY\n",
    "from sklearn.metrics import confusion_matrix #CALCULATE CONFUSION\n",
    "from sklearn.linear_model import LogisticRegression \n",
    "from sklearn.svm import SVC\n",
    "from sklearn.neighbors import KNeighborsClassifier\n",
    "from sklearn.ensemble import RandomForestClassifier\n",
    "import time"
   ]
  },
  {
   "cell_type": "markdown",
   "metadata": {},
   "source": [
    "# Import dataset"
   ]
  },
  {
   "cell_type": "code",
   "execution_count": 2,
   "metadata": {
    "execution": {
     "iopub.execute_input": "2021-08-23T12:29:02.562832Z",
     "iopub.status.busy": "2021-08-23T12:29:02.562444Z",
     "iopub.status.idle": "2021-08-23T12:29:02.594678Z",
     "shell.execute_reply": "2021-08-23T12:29:02.593566Z",
     "shell.execute_reply.started": "2021-08-23T12:29:02.562786Z"
    }
   },
   "outputs": [
    {
     "name": "stdout",
     "output_type": "stream",
     "text": [
      "submission small_titanic_gender_submission.csv\n",
      "train small_titanic_train.csv\n",
      "test small_titanic_test.csv\n"
     ]
    }
   ],
   "source": [
    "file_type=['test', 'train', 'submission']\n",
    "data_dic={}\n",
    "for r, d, f in os.walk('/kaggle/input'):\n",
    "    if f:\n",
    "        for filename in f:\n",
    "            for t in file_type:\n",
    "                if t in filename:\n",
    "                    print(t, filename)\n",
    "                    ##READ THE DF\n",
    "                    df=pd.read_csv(os.path.join(r, filename))\n",
    "                    data_dic[t.upper()]=df\n",
    "                    \n",
    "# data_dic"
   ]
  },
  {
   "cell_type": "markdown",
   "metadata": {},
   "source": [
    "# 3. Data description and initial data analysis\n",
    "\n",
    "Here we discuss what we know about the dataset. 12 columns of data listed below for more info\n",
    "\n",
    "* Passenger ID: Representative identification number\n",
    "* Survived=1, Died: Survived=0\n",
    "* Pclass: represents the ticket class (proxy for socio-economic status)\n",
    "    * 1 = First class\n",
    "    * 2 = Second class\n",
    "    * 3 = Third classs\n",
    "* Name: Passenger name listed as Surname, First Name\n",
    "* Sex: M = Male, F=Female\n",
    "* Age: Age in years (fractional if less than 1)\n",
    "* SibSp: Number of siblings onboard (sister, brother, stepsister/stepbrother included)\n",
    "* Parch: 1 - travelled with mother/father, 0 - travelled without parent\n",
    "* Ticket: ticket number\n",
    "* Fare: Ticket price\n",
    "* Cabin: cabin number - note: incase of families there can be multiple cabins assigned.\n",
    "* Embarked: port the passenger got onboard\n",
    "    * C - Cherbourg\n",
    "    * Q - Queenstown - BTW THIS WAS HOW THE BRITISH REFERRED TO COBH CO CORK DURING THE OCCUPATION OF IRELAND\n",
    "    * S - Southampton\n"
   ]
  },
  {
   "cell_type": "code",
   "execution_count": 3,
   "metadata": {
    "execution": {
     "iopub.execute_input": "2021-08-23T12:29:02.597803Z",
     "iopub.status.busy": "2021-08-23T12:29:02.597370Z",
     "iopub.status.idle": "2021-08-23T12:29:02.608192Z",
     "shell.execute_reply": "2021-08-23T12:29:02.606499Z",
     "shell.execute_reply.started": "2021-08-23T12:29:02.597758Z"
    }
   },
   "outputs": [],
   "source": [
    "##LETS SET PASSENGER ID AS OUR INDEX (ALL DATASETS CONTAIN THIS INFORMATION AND ID CAN BE USED TO INDEX OTHER RELEVANT INFO)\n",
    "for k in data_dic.keys():\n",
    "    df=data_dic[k]\n",
    "    df=df.set_index('PassengerId')\n",
    "    data_dic[k]=df"
   ]
  },
  {
   "cell_type": "code",
   "execution_count": 4,
   "metadata": {
    "execution": {
     "iopub.execute_input": "2021-08-23T12:29:02.610310Z",
     "iopub.status.busy": "2021-08-23T12:29:02.609969Z",
     "iopub.status.idle": "2021-08-23T12:29:02.620700Z",
     "shell.execute_reply": "2021-08-23T12:29:02.619237Z",
     "shell.execute_reply.started": "2021-08-23T12:29:02.610267Z"
    }
   },
   "outputs": [
    {
     "name": "stdout",
     "output_type": "stream",
     "text": [
      "test (891, 10)\n",
      "train (891, 11)\n",
      "submission (267, 1)\n"
     ]
    }
   ],
   "source": [
    "##LETS LOOK AT THE SHAPE OF THE DATASETS\n",
    "for t in file_type:\n",
    "    df=data_dic[t.upper()]\n",
    "    print(t, df.shape)"
   ]
  },
  {
   "cell_type": "markdown",
   "metadata": {},
   "source": [
    "Here we can see that the test and training datasets are very similiar. We need to check what columns/row differences exist here because perhaps these are identical and we need to split the data?"
   ]
  },
  {
   "cell_type": "code",
   "execution_count": 5,
   "metadata": {
    "execution": {
     "iopub.execute_input": "2021-08-23T12:29:02.623188Z",
     "iopub.status.busy": "2021-08-23T12:29:02.622697Z",
     "iopub.status.idle": "2021-08-23T12:29:02.641596Z",
     "shell.execute_reply": "2021-08-23T12:29:02.639880Z",
     "shell.execute_reply.started": "2021-08-23T12:29:02.623141Z"
    }
   },
   "outputs": [
    {
     "name": "stdout",
     "output_type": "stream",
     "text": [
      "COLUMNS IN TRAIN THAT DO NOT APPEAR IN TEST:  ['Survived']\n",
      "PASSENGER IDS IN TRAIN THAT DO NOT APPEAR IN TEST:,  []\n"
     ]
    }
   ],
   "source": [
    "##TRAINING AND TESTS SETS LOOK VERY ALIKE\n",
    "##LETS INVESTIGATE FURTHER\n",
    "train_cols=data_dic['TRAIN'].columns\n",
    "test_cols=data_dic['TEST'].columns\n",
    "diff_cols=[x for x in train_cols if x not in test_cols]\n",
    "\n",
    "##LETS LOOK AT THE PASSENGER ID NUMS AND SEE WHAT IS SAME/DIFF\n",
    "train_ind=data_dic['TRAIN'].index.tolist()\n",
    "test_ind=data_dic['TEST'].index.tolist()\n",
    "diff_ind=[x for x in train_ind if x not in test_ind]\n",
    "\n",
    "\n",
    "print('COLUMNS IN TRAIN THAT DO NOT APPEAR IN TEST: ', diff_cols)\n",
    "print('PASSENGER IDS IN TRAIN THAT DO NOT APPEAR IN TEST:, ', diff_ind)\n",
    "# print(train_ind)\n",
    "# print(test_ind)"
   ]
  },
  {
   "cell_type": "markdown",
   "metadata": {},
   "source": [
    "Other than the Survived column it's not clear what how test/train datasets actually differ, lets check whether one has more/less values than another"
   ]
  },
  {
   "cell_type": "code",
   "execution_count": 6,
   "metadata": {
    "execution": {
     "iopub.execute_input": "2021-08-23T12:29:02.644450Z",
     "iopub.status.busy": "2021-08-23T12:29:02.643873Z",
     "iopub.status.idle": "2021-08-23T12:29:03.282893Z",
     "shell.execute_reply": "2021-08-23T12:29:03.281664Z",
     "shell.execute_reply.started": "2021-08-23T12:29:02.644403Z"
    }
   },
   "outputs": [
    {
     "data": {
      "text/plain": [
       "<AxesSubplot:>"
      ]
     },
     "execution_count": 6,
     "metadata": {},
     "output_type": "execute_result"
    },
    {
     "data": {
      "image/png": "[encoded data removed]",
      "text/plain": [
       "<Figure size 1800x720 with 2 Axes>"
      ]
     },
     "metadata": {
      "needs_background": "light"
     },
     "output_type": "display_data"
    }
   ],
   "source": [
    "missingno.matrix(data_dic['TRAIN'])"
   ]
  },
  {
   "cell_type": "code",
   "execution_count": 7,
   "metadata": {
    "execution": {
     "iopub.execute_input": "2021-08-23T12:29:03.284839Z",
     "iopub.status.busy": "2021-08-23T12:29:03.284517Z",
     "iopub.status.idle": "2021-08-23T12:29:03.843225Z",
     "shell.execute_reply": "2021-08-23T12:29:03.842373Z",
     "shell.execute_reply.started": "2021-08-23T12:29:03.284808Z"
    }
   },
   "outputs": [
    {
     "data": {
      "text/plain": [
       "<AxesSubplot:>"
      ]
     },
     "execution_count": 7,
     "metadata": {},
     "output_type": "execute_result"
    },
    {
     "data": {
      "image/png": "[encoded data removed]",
      "text/plain": [
       "<Figure size 1800x720 with 2 Axes>"
      ]
     },
     "metadata": {
      "needs_background": "light"
     },
     "output_type": "display_data"
    }
   ],
   "source": [
    "missingno.matrix(data_dic['TEST'])"
   ]
  },
  {
   "cell_type": "markdown",
   "metadata": {},
   "source": [
    "It's clear these datasets are identical. So let's drop the test set and work only on training set. Then, later, once data preprocessing is completed we will split the dataset and remove known 'Survived' data from the test set."
   ]
  },
  {
   "cell_type": "code",
   "execution_count": 8,
   "metadata": {
    "execution": {
     "iopub.execute_input": "2021-08-23T12:29:03.846213Z",
     "iopub.status.busy": "2021-08-23T12:29:03.845765Z",
     "iopub.status.idle": "2021-08-23T12:29:03.852531Z",
     "shell.execute_reply": "2021-08-23T12:29:03.851075Z",
     "shell.execute_reply.started": "2021-08-23T12:29:03.846181Z"
    }
   },
   "outputs": [
    {
     "name": "stdout",
     "output_type": "stream",
     "text": [
      "dict_keys(['SUBMISSION', 'TRAIN'])\n"
     ]
    }
   ],
   "source": [
    "##LETS DROP THE TEST SET AND WE WILL LATER SPLIT THE TRAINING SET \n",
    "##INTO TEST/TRAINING APPROPRIATELY\n",
    "del data_dic['TEST']\n",
    "\n",
    "print(data_dic.keys())"
   ]
  },
  {
   "cell_type": "code",
   "execution_count": 9,
   "metadata": {
    "execution": {
     "iopub.execute_input": "2021-08-23T12:29:03.856422Z",
     "iopub.status.busy": "2021-08-23T12:29:03.855878Z",
     "iopub.status.idle": "2021-08-23T12:29:04.038851Z",
     "shell.execute_reply": "2021-08-23T12:29:04.037619Z",
     "shell.execute_reply.started": "2021-08-23T12:29:03.856383Z"
    }
   },
   "outputs": [
    {
     "data": {
      "text/html": [
       "<div>\n",
       "<style scoped>\n",
       "    .dataframe tbody tr th:only-of-type {\n",
       "        vertical-align: middle;\n",
       "    }\n",
       "\n",
       "    .dataframe tbody tr th {\n",
       "        vertical-align: top;\n",
       "    }\n",
       "\n",
       "    .dataframe thead th {\n",
       "        text-align: right;\n",
       "    }\n",
       "</style>\n",
       "<table border=\"1\" class=\"dataframe\">\n",
       "  <thead>\n",
       "    <tr style=\"text-align: right;\">\n",
       "      <th></th>\n",
       "      <th>Survived</th>\n",
       "      <th>Pclass</th>\n",
       "      <th>Age</th>\n",
       "      <th>SibSp</th>\n",
       "      <th>Parch</th>\n",
       "      <th>Fare</th>\n",
       "    </tr>\n",
       "  </thead>\n",
       "  <tbody>\n",
       "    <tr>\n",
       "      <th>count</th>\n",
       "      <td>891.000000</td>\n",
       "      <td>891.000000</td>\n",
       "      <td>714.000000</td>\n",
       "      <td>891.000000</td>\n",
       "      <td>891.000000</td>\n",
       "      <td>891.000000</td>\n",
       "    </tr>\n",
       "    <tr>\n",
       "      <th>mean</th>\n",
       "      <td>0.383838</td>\n",
       "      <td>2.308642</td>\n",
       "      <td>29.699118</td>\n",
       "      <td>0.523008</td>\n",
       "      <td>0.381594</td>\n",
       "      <td>32.204208</td>\n",
       "    </tr>\n",
       "    <tr>\n",
       "      <th>std</th>\n",
       "      <td>0.486592</td>\n",
       "      <td>0.836071</td>\n",
       "      <td>14.526497</td>\n",
       "      <td>1.102743</td>\n",
       "      <td>0.806057</td>\n",
       "      <td>49.693429</td>\n",
       "    </tr>\n",
       "    <tr>\n",
       "      <th>min</th>\n",
       "      <td>0.000000</td>\n",
       "      <td>1.000000</td>\n",
       "      <td>0.420000</td>\n",
       "      <td>0.000000</td>\n",
       "      <td>0.000000</td>\n",
       "      <td>0.000000</td>\n",
       "    </tr>\n",
       "    <tr>\n",
       "      <th>25%</th>\n",
       "      <td>0.000000</td>\n",
       "      <td>2.000000</td>\n",
       "      <td>20.125000</td>\n",
       "      <td>0.000000</td>\n",
       "      <td>0.000000</td>\n",
       "      <td>7.910400</td>\n",
       "    </tr>\n",
       "    <tr>\n",
       "      <th>50%</th>\n",
       "      <td>0.000000</td>\n",
       "      <td>3.000000</td>\n",
       "      <td>28.000000</td>\n",
       "      <td>0.000000</td>\n",
       "      <td>0.000000</td>\n",
       "      <td>14.454200</td>\n",
       "    </tr>\n",
       "    <tr>\n",
       "      <th>75%</th>\n",
       "      <td>1.000000</td>\n",
       "      <td>3.000000</td>\n",
       "      <td>38.000000</td>\n",
       "      <td>1.000000</td>\n",
       "      <td>0.000000</td>\n",
       "      <td>31.000000</td>\n",
       "    </tr>\n",
       "    <tr>\n",
       "      <th>max</th>\n",
       "      <td>1.000000</td>\n",
       "      <td>3.000000</td>\n",
       "      <td>80.000000</td>\n",
       "      <td>8.000000</td>\n",
       "      <td>6.000000</td>\n",
       "      <td>512.329200</td>\n",
       "    </tr>\n",
       "  </tbody>\n",
       "</table>\n",
       "</div>"
      ],
      "text/plain": [
       "         Survived      Pclass         Age       SibSp       Parch        Fare\n",
       "count  891.000000  891.000000  714.000000  891.000000  891.000000  891.000000\n",
       "mean     0.383838    2.308642   29.699118    0.523008    0.381594   32.204208\n",
       "std      0.486592    0.836071   14.526497    1.102743    0.806057   49.693429\n",
       "min      0.000000    1.000000    0.420000    0.000000    0.000000    0.000000\n",
       "25%      0.000000    2.000000   20.125000    0.000000    0.000000    7.910400\n",
       "50%      0.000000    3.000000   28.000000    0.000000    0.000000   14.454200\n",
       "75%      1.000000    3.000000   38.000000    1.000000    0.000000   31.000000\n",
       "max      1.000000    3.000000   80.000000    8.000000    6.000000  512.329200"
      ]
     },
     "execution_count": 9,
     "metadata": {},
     "output_type": "execute_result"
    }
   ],
   "source": [
    "##GET SOME STATISTICAL DESCRIPTION\n",
    "data_dic['TRAIN'].describe()"
   ]
  },
  {
   "cell_type": "code",
   "execution_count": 10,
   "metadata": {
    "execution": {
     "iopub.execute_input": "2021-08-23T12:29:04.041215Z",
     "iopub.status.busy": "2021-08-23T12:29:04.040785Z",
     "iopub.status.idle": "2021-08-23T12:29:04.296747Z",
     "shell.execute_reply": "2021-08-23T12:29:04.295306Z",
     "shell.execute_reply.started": "2021-08-23T12:29:04.041170Z"
    }
   },
   "outputs": [
    {
     "data": {
      "text/plain": [
       "<AxesSubplot:>"
      ]
     },
     "execution_count": 10,
     "metadata": {},
     "output_type": "execute_result"
    },
    {
     "data": {
      "image/png": "[encoded data removed]",
      "text/plain": [
       "<Figure size 720x432 with 1 Axes>"
      ]
     },
     "metadata": {
      "needs_background": "light"
     },
     "output_type": "display_data"
    }
   ],
   "source": [
    "##Lets get some idea of how our numerical values look\n",
    "data_dic['TRAIN'].plot.box()"
   ]
  },
  {
   "cell_type": "markdown",
   "metadata": {},
   "source": [
    "# Define our dataset"
   ]
  },
  {
   "cell_type": "code",
   "execution_count": 11,
   "metadata": {
    "execution": {
     "iopub.execute_input": "2021-08-23T12:29:04.298952Z",
     "iopub.status.busy": "2021-08-23T12:29:04.298499Z",
     "iopub.status.idle": "2021-08-23T12:29:04.304539Z",
     "shell.execute_reply": "2021-08-23T12:29:04.303122Z",
     "shell.execute_reply.started": "2021-08-23T12:29:04.298907Z"
    }
   },
   "outputs": [],
   "source": [
    "traindf=data_dic['TRAIN'].copy()"
   ]
  },
  {
   "cell_type": "markdown",
   "metadata": {},
   "source": [
    "# Scaling and Standardisation"
   ]
  },
  {
   "cell_type": "markdown",
   "metadata": {},
   "source": [
    "## Scaling numerical data\n",
    "\n",
    "The above plot shows that the Age and Fare categories contain outliers. These data have magntitudes that are well above those of 'Survived' and 'Pclass' categories which may affect data visualisation and analysis. We are going to scale our data to the range 0-1."
   ]
  },
  {
   "cell_type": "code",
   "execution_count": 12,
   "metadata": {
    "execution": {
     "iopub.execute_input": "2021-08-23T12:29:04.306582Z",
     "iopub.status.busy": "2021-08-23T12:29:04.305882Z",
     "iopub.status.idle": "2021-08-23T12:29:04.352140Z",
     "shell.execute_reply": "2021-08-23T12:29:04.351194Z",
     "shell.execute_reply.started": "2021-08-23T12:29:04.306529Z"
    }
   },
   "outputs": [
    {
     "data": {
      "text/html": [
       "<div>\n",
       "<style scoped>\n",
       "    .dataframe tbody tr th:only-of-type {\n",
       "        vertical-align: middle;\n",
       "    }\n",
       "\n",
       "    .dataframe tbody tr th {\n",
       "        vertical-align: top;\n",
       "    }\n",
       "\n",
       "    .dataframe thead th {\n",
       "        text-align: right;\n",
       "    }\n",
       "</style>\n",
       "<table border=\"1\" class=\"dataframe\">\n",
       "  <thead>\n",
       "    <tr style=\"text-align: right;\">\n",
       "      <th></th>\n",
       "      <th>Survived</th>\n",
       "      <th>Pclass</th>\n",
       "      <th>Name</th>\n",
       "      <th>Sex</th>\n",
       "      <th>Age</th>\n",
       "      <th>SibSp</th>\n",
       "      <th>Parch</th>\n",
       "      <th>Ticket</th>\n",
       "      <th>Fare</th>\n",
       "      <th>Cabin</th>\n",
       "      <th>Embarked</th>\n",
       "    </tr>\n",
       "    <tr>\n",
       "      <th>PassengerId</th>\n",
       "      <th></th>\n",
       "      <th></th>\n",
       "      <th></th>\n",
       "      <th></th>\n",
       "      <th></th>\n",
       "      <th></th>\n",
       "      <th></th>\n",
       "      <th></th>\n",
       "      <th></th>\n",
       "      <th></th>\n",
       "      <th></th>\n",
       "    </tr>\n",
       "  </thead>\n",
       "  <tbody>\n",
       "    <tr>\n",
       "      <th>1</th>\n",
       "      <td>0</td>\n",
       "      <td>1.0</td>\n",
       "      <td>Braund, Mr. Owen Harris</td>\n",
       "      <td>male</td>\n",
       "      <td>0.271174</td>\n",
       "      <td>0.125</td>\n",
       "      <td>0.000000</td>\n",
       "      <td>A/5 21171</td>\n",
       "      <td>0.014151</td>\n",
       "      <td>NaN</td>\n",
       "      <td>S</td>\n",
       "    </tr>\n",
       "    <tr>\n",
       "      <th>2</th>\n",
       "      <td>1</td>\n",
       "      <td>0.0</td>\n",
       "      <td>Cumings, Mrs. John Bradley (Florence Briggs Th...</td>\n",
       "      <td>female</td>\n",
       "      <td>0.472229</td>\n",
       "      <td>0.125</td>\n",
       "      <td>0.000000</td>\n",
       "      <td>PC 17599</td>\n",
       "      <td>0.139136</td>\n",
       "      <td>C85</td>\n",
       "      <td>C</td>\n",
       "    </tr>\n",
       "    <tr>\n",
       "      <th>3</th>\n",
       "      <td>1</td>\n",
       "      <td>1.0</td>\n",
       "      <td>Heikkinen, Miss. Laina</td>\n",
       "      <td>female</td>\n",
       "      <td>0.321438</td>\n",
       "      <td>0.000</td>\n",
       "      <td>0.000000</td>\n",
       "      <td>STON/O2. 3101282</td>\n",
       "      <td>0.015469</td>\n",
       "      <td>NaN</td>\n",
       "      <td>S</td>\n",
       "    </tr>\n",
       "    <tr>\n",
       "      <th>4</th>\n",
       "      <td>1</td>\n",
       "      <td>0.0</td>\n",
       "      <td>Futrelle, Mrs. Jacques Heath (Lily May Peel)</td>\n",
       "      <td>female</td>\n",
       "      <td>0.434531</td>\n",
       "      <td>0.125</td>\n",
       "      <td>0.000000</td>\n",
       "      <td>113803</td>\n",
       "      <td>0.103644</td>\n",
       "      <td>C123</td>\n",
       "      <td>S</td>\n",
       "    </tr>\n",
       "    <tr>\n",
       "      <th>5</th>\n",
       "      <td>0</td>\n",
       "      <td>1.0</td>\n",
       "      <td>Allen, Mr. William Henry</td>\n",
       "      <td>male</td>\n",
       "      <td>0.434531</td>\n",
       "      <td>0.000</td>\n",
       "      <td>0.000000</td>\n",
       "      <td>373450</td>\n",
       "      <td>0.015713</td>\n",
       "      <td>NaN</td>\n",
       "      <td>S</td>\n",
       "    </tr>\n",
       "    <tr>\n",
       "      <th>...</th>\n",
       "      <td>...</td>\n",
       "      <td>...</td>\n",
       "      <td>...</td>\n",
       "      <td>...</td>\n",
       "      <td>...</td>\n",
       "      <td>...</td>\n",
       "      <td>...</td>\n",
       "      <td>...</td>\n",
       "      <td>...</td>\n",
       "      <td>...</td>\n",
       "      <td>...</td>\n",
       "    </tr>\n",
       "    <tr>\n",
       "      <th>887</th>\n",
       "      <td>0</td>\n",
       "      <td>0.5</td>\n",
       "      <td>Montvila, Rev. Juozas</td>\n",
       "      <td>male</td>\n",
       "      <td>0.334004</td>\n",
       "      <td>0.000</td>\n",
       "      <td>0.000000</td>\n",
       "      <td>211536</td>\n",
       "      <td>0.025374</td>\n",
       "      <td>NaN</td>\n",
       "      <td>S</td>\n",
       "    </tr>\n",
       "    <tr>\n",
       "      <th>888</th>\n",
       "      <td>1</td>\n",
       "      <td>0.0</td>\n",
       "      <td>Graham, Miss. Margaret Edith</td>\n",
       "      <td>female</td>\n",
       "      <td>0.233476</td>\n",
       "      <td>0.000</td>\n",
       "      <td>0.000000</td>\n",
       "      <td>112053</td>\n",
       "      <td>0.058556</td>\n",
       "      <td>B42</td>\n",
       "      <td>S</td>\n",
       "    </tr>\n",
       "    <tr>\n",
       "      <th>889</th>\n",
       "      <td>0</td>\n",
       "      <td>1.0</td>\n",
       "      <td>Johnston, Miss. Catherine Helen \"Carrie\"</td>\n",
       "      <td>female</td>\n",
       "      <td>NaN</td>\n",
       "      <td>0.125</td>\n",
       "      <td>0.333333</td>\n",
       "      <td>W./C. 6607</td>\n",
       "      <td>0.045771</td>\n",
       "      <td>NaN</td>\n",
       "      <td>S</td>\n",
       "    </tr>\n",
       "    <tr>\n",
       "      <th>890</th>\n",
       "      <td>1</td>\n",
       "      <td>0.0</td>\n",
       "      <td>Behr, Mr. Karl Howell</td>\n",
       "      <td>male</td>\n",
       "      <td>0.321438</td>\n",
       "      <td>0.000</td>\n",
       "      <td>0.000000</td>\n",
       "      <td>111369</td>\n",
       "      <td>0.058556</td>\n",
       "      <td>C148</td>\n",
       "      <td>C</td>\n",
       "    </tr>\n",
       "    <tr>\n",
       "      <th>891</th>\n",
       "      <td>0</td>\n",
       "      <td>1.0</td>\n",
       "      <td>Dooley, Mr. Patrick</td>\n",
       "      <td>male</td>\n",
       "      <td>0.396833</td>\n",
       "      <td>0.000</td>\n",
       "      <td>0.000000</td>\n",
       "      <td>370376</td>\n",
       "      <td>0.015127</td>\n",
       "      <td>NaN</td>\n",
       "      <td>Q</td>\n",
       "    </tr>\n",
       "  </tbody>\n",
       "</table>\n",
       "<p>891 rows × 11 columns</p>\n",
       "</div>"
      ],
      "text/plain": [
       "             Survived  Pclass  \\\n",
       "PassengerId                     \n",
       "1                   0     1.0   \n",
       "2                   1     0.0   \n",
       "3                   1     1.0   \n",
       "4                   1     0.0   \n",
       "5                   0     1.0   \n",
       "...               ...     ...   \n",
       "887                 0     0.5   \n",
       "888                 1     0.0   \n",
       "889                 0     1.0   \n",
       "890                 1     0.0   \n",
       "891                 0     1.0   \n",
       "\n",
       "                                                          Name     Sex  \\\n",
       "PassengerId                                                              \n",
       "1                                      Braund, Mr. Owen Harris    male   \n",
       "2            Cumings, Mrs. John Bradley (Florence Briggs Th...  female   \n",
       "3                                       Heikkinen, Miss. Laina  female   \n",
       "4                 Futrelle, Mrs. Jacques Heath (Lily May Peel)  female   \n",
       "5                                     Allen, Mr. William Henry    male   \n",
       "...                                                        ...     ...   \n",
       "887                                      Montvila, Rev. Juozas    male   \n",
       "888                               Graham, Miss. Margaret Edith  female   \n",
       "889                   Johnston, Miss. Catherine Helen \"Carrie\"  female   \n",
       "890                                      Behr, Mr. Karl Howell    male   \n",
       "891                                        Dooley, Mr. Patrick    male   \n",
       "\n",
       "                  Age  SibSp     Parch            Ticket      Fare Cabin  \\\n",
       "PassengerId                                                                \n",
       "1            0.271174  0.125  0.000000         A/5 21171  0.014151   NaN   \n",
       "2            0.472229  0.125  0.000000          PC 17599  0.139136   C85   \n",
       "3            0.321438  0.000  0.000000  STON/O2. 3101282  0.015469   NaN   \n",
       "4            0.434531  0.125  0.000000            113803  0.103644  C123   \n",
       "5            0.434531  0.000  0.000000            373450  0.015713   NaN   \n",
       "...               ...    ...       ...               ...       ...   ...   \n",
       "887          0.334004  0.000  0.000000            211536  0.025374   NaN   \n",
       "888          0.233476  0.000  0.000000            112053  0.058556   B42   \n",
       "889               NaN  0.125  0.333333        W./C. 6607  0.045771   NaN   \n",
       "890          0.321438  0.000  0.000000            111369  0.058556  C148   \n",
       "891          0.396833  0.000  0.000000            370376  0.015127   NaN   \n",
       "\n",
       "            Embarked  \n",
       "PassengerId           \n",
       "1                  S  \n",
       "2                  C  \n",
       "3                  S  \n",
       "4                  S  \n",
       "5                  S  \n",
       "...              ...  \n",
       "887                S  \n",
       "888                S  \n",
       "889                S  \n",
       "890                C  \n",
       "891                Q  \n",
       "\n",
       "[891 rows x 11 columns]"
      ]
     },
     "execution_count": 12,
     "metadata": {},
     "output_type": "execute_result"
    }
   ],
   "source": [
    "#CREATE COPY OF TRAINDF\n",
    "scaled=data_dic['TRAIN'].copy()\n",
    "#IDENTIFY RELEVANT COLUMNS FOR SCALING\n",
    "features=traindf[['Pclass', 'Age', 'SibSp', 'Parch', 'Fare']]\n",
    "\n",
    "for i, col in features.iteritems():\n",
    "    scaler=MinMaxScaler()\n",
    "    ##ADD SCALED DATA TO DF\n",
    "    scaled[i]=scaler.fit_transform(col.values.reshape(-1,1))\n",
    "scaled"
   ]
  },
  {
   "cell_type": "code",
   "execution_count": 13,
   "metadata": {
    "execution": {
     "iopub.execute_input": "2021-08-23T12:29:04.354361Z",
     "iopub.status.busy": "2021-08-23T12:29:04.353774Z",
     "iopub.status.idle": "2021-08-23T12:29:04.596601Z",
     "shell.execute_reply": "2021-08-23T12:29:04.595403Z",
     "shell.execute_reply.started": "2021-08-23T12:29:04.354310Z"
    }
   },
   "outputs": [
    {
     "data": {
      "text/plain": [
       "<AxesSubplot:>"
      ]
     },
     "execution_count": 13,
     "metadata": {},
     "output_type": "execute_result"
    },
    {
     "data": {
      "image/png": "[encoded data removed]",
      "text/plain": [
       "<Figure size 720x432 with 1 Axes>"
      ]
     },
     "metadata": {
      "needs_background": "light"
     },
     "output_type": "display_data"
    }
   ],
   "source": [
    "##Lets get some idea of how our numerical values look\n",
    "scaled.plot.box()"
   ]
  },
  {
   "cell_type": "code",
   "execution_count": 14,
   "metadata": {
    "execution": {
     "iopub.execute_input": "2021-08-23T12:29:04.598509Z",
     "iopub.status.busy": "2021-08-23T12:29:04.598154Z",
     "iopub.status.idle": "2021-08-23T12:29:04.631860Z",
     "shell.execute_reply": "2021-08-23T12:29:04.630411Z",
     "shell.execute_reply.started": "2021-08-23T12:29:04.598476Z"
    }
   },
   "outputs": [
    {
     "data": {
      "text/html": [
       "<div>\n",
       "<style scoped>\n",
       "    .dataframe tbody tr th:only-of-type {\n",
       "        vertical-align: middle;\n",
       "    }\n",
       "\n",
       "    .dataframe tbody tr th {\n",
       "        vertical-align: top;\n",
       "    }\n",
       "\n",
       "    .dataframe thead th {\n",
       "        text-align: right;\n",
       "    }\n",
       "</style>\n",
       "<table border=\"1\" class=\"dataframe\">\n",
       "  <thead>\n",
       "    <tr style=\"text-align: right;\">\n",
       "      <th></th>\n",
       "      <th>Survived</th>\n",
       "      <th>Pclass</th>\n",
       "      <th>Age</th>\n",
       "      <th>SibSp</th>\n",
       "      <th>Parch</th>\n",
       "      <th>Fare</th>\n",
       "    </tr>\n",
       "  </thead>\n",
       "  <tbody>\n",
       "    <tr>\n",
       "      <th>count</th>\n",
       "      <td>891.000000</td>\n",
       "      <td>891.000000</td>\n",
       "      <td>714.000000</td>\n",
       "      <td>891.000000</td>\n",
       "      <td>891.000000</td>\n",
       "      <td>891.000000</td>\n",
       "    </tr>\n",
       "    <tr>\n",
       "      <th>mean</th>\n",
       "      <td>0.383838</td>\n",
       "      <td>0.654321</td>\n",
       "      <td>0.367921</td>\n",
       "      <td>0.065376</td>\n",
       "      <td>0.063599</td>\n",
       "      <td>0.062858</td>\n",
       "    </tr>\n",
       "    <tr>\n",
       "      <th>std</th>\n",
       "      <td>0.486592</td>\n",
       "      <td>0.418036</td>\n",
       "      <td>0.182540</td>\n",
       "      <td>0.137843</td>\n",
       "      <td>0.134343</td>\n",
       "      <td>0.096995</td>\n",
       "    </tr>\n",
       "    <tr>\n",
       "      <th>min</th>\n",
       "      <td>0.000000</td>\n",
       "      <td>0.000000</td>\n",
       "      <td>0.000000</td>\n",
       "      <td>0.000000</td>\n",
       "      <td>0.000000</td>\n",
       "      <td>0.000000</td>\n",
       "    </tr>\n",
       "    <tr>\n",
       "      <th>25%</th>\n",
       "      <td>0.000000</td>\n",
       "      <td>0.500000</td>\n",
       "      <td>0.247612</td>\n",
       "      <td>0.000000</td>\n",
       "      <td>0.000000</td>\n",
       "      <td>0.015440</td>\n",
       "    </tr>\n",
       "    <tr>\n",
       "      <th>50%</th>\n",
       "      <td>0.000000</td>\n",
       "      <td>1.000000</td>\n",
       "      <td>0.346569</td>\n",
       "      <td>0.000000</td>\n",
       "      <td>0.000000</td>\n",
       "      <td>0.028213</td>\n",
       "    </tr>\n",
       "    <tr>\n",
       "      <th>75%</th>\n",
       "      <td>1.000000</td>\n",
       "      <td>1.000000</td>\n",
       "      <td>0.472229</td>\n",
       "      <td>0.125000</td>\n",
       "      <td>0.000000</td>\n",
       "      <td>0.060508</td>\n",
       "    </tr>\n",
       "    <tr>\n",
       "      <th>max</th>\n",
       "      <td>1.000000</td>\n",
       "      <td>1.000000</td>\n",
       "      <td>1.000000</td>\n",
       "      <td>1.000000</td>\n",
       "      <td>1.000000</td>\n",
       "      <td>1.000000</td>\n",
       "    </tr>\n",
       "  </tbody>\n",
       "</table>\n",
       "</div>"
      ],
      "text/plain": [
       "         Survived      Pclass         Age       SibSp       Parch        Fare\n",
       "count  891.000000  891.000000  714.000000  891.000000  891.000000  891.000000\n",
       "mean     0.383838    0.654321    0.367921    0.065376    0.063599    0.062858\n",
       "std      0.486592    0.418036    0.182540    0.137843    0.134343    0.096995\n",
       "min      0.000000    0.000000    0.000000    0.000000    0.000000    0.000000\n",
       "25%      0.000000    0.500000    0.247612    0.000000    0.000000    0.015440\n",
       "50%      0.000000    1.000000    0.346569    0.000000    0.000000    0.028213\n",
       "75%      1.000000    1.000000    0.472229    0.125000    0.000000    0.060508\n",
       "max      1.000000    1.000000    1.000000    1.000000    1.000000    1.000000"
      ]
     },
     "execution_count": 14,
     "metadata": {},
     "output_type": "execute_result"
    }
   ],
   "source": [
    "scaled.describe()"
   ]
  },
  {
   "cell_type": "markdown",
   "metadata": {},
   "source": [
    "## Standardising numerical data\n",
    "\n",
    "Let's look at what happens if we use standardisation rather than normalisation on our dataset"
   ]
  },
  {
   "cell_type": "code",
   "execution_count": 15,
   "metadata": {
    "execution": {
     "iopub.execute_input": "2021-08-23T12:29:04.634152Z",
     "iopub.status.busy": "2021-08-23T12:29:04.633693Z",
     "iopub.status.idle": "2021-08-23T12:29:04.676180Z",
     "shell.execute_reply": "2021-08-23T12:29:04.674788Z",
     "shell.execute_reply.started": "2021-08-23T12:29:04.634104Z"
    }
   },
   "outputs": [
    {
     "data": {
      "text/html": [
       "<div>\n",
       "<style scoped>\n",
       "    .dataframe tbody tr th:only-of-type {\n",
       "        vertical-align: middle;\n",
       "    }\n",
       "\n",
       "    .dataframe tbody tr th {\n",
       "        vertical-align: top;\n",
       "    }\n",
       "\n",
       "    .dataframe thead th {\n",
       "        text-align: right;\n",
       "    }\n",
       "</style>\n",
       "<table border=\"1\" class=\"dataframe\">\n",
       "  <thead>\n",
       "    <tr style=\"text-align: right;\">\n",
       "      <th></th>\n",
       "      <th>Survived</th>\n",
       "      <th>Pclass</th>\n",
       "      <th>Name</th>\n",
       "      <th>Sex</th>\n",
       "      <th>Age</th>\n",
       "      <th>SibSp</th>\n",
       "      <th>Parch</th>\n",
       "      <th>Ticket</th>\n",
       "      <th>Fare</th>\n",
       "      <th>Cabin</th>\n",
       "      <th>Embarked</th>\n",
       "    </tr>\n",
       "    <tr>\n",
       "      <th>PassengerId</th>\n",
       "      <th></th>\n",
       "      <th></th>\n",
       "      <th></th>\n",
       "      <th></th>\n",
       "      <th></th>\n",
       "      <th></th>\n",
       "      <th></th>\n",
       "      <th></th>\n",
       "      <th></th>\n",
       "      <th></th>\n",
       "      <th></th>\n",
       "    </tr>\n",
       "  </thead>\n",
       "  <tbody>\n",
       "    <tr>\n",
       "      <th>1</th>\n",
       "      <td>0</td>\n",
       "      <td>0.827377</td>\n",
       "      <td>Braund, Mr. Owen Harris</td>\n",
       "      <td>male</td>\n",
       "      <td>-0.530377</td>\n",
       "      <td>0.432793</td>\n",
       "      <td>-0.473674</td>\n",
       "      <td>A/5 21171</td>\n",
       "      <td>-0.502445</td>\n",
       "      <td>NaN</td>\n",
       "      <td>S</td>\n",
       "    </tr>\n",
       "    <tr>\n",
       "      <th>2</th>\n",
       "      <td>1</td>\n",
       "      <td>-1.566107</td>\n",
       "      <td>Cumings, Mrs. John Bradley (Florence Briggs Th...</td>\n",
       "      <td>female</td>\n",
       "      <td>0.571831</td>\n",
       "      <td>0.432793</td>\n",
       "      <td>-0.473674</td>\n",
       "      <td>PC 17599</td>\n",
       "      <td>0.786845</td>\n",
       "      <td>C85</td>\n",
       "      <td>C</td>\n",
       "    </tr>\n",
       "    <tr>\n",
       "      <th>3</th>\n",
       "      <td>1</td>\n",
       "      <td>0.827377</td>\n",
       "      <td>Heikkinen, Miss. Laina</td>\n",
       "      <td>female</td>\n",
       "      <td>-0.254825</td>\n",
       "      <td>-0.474545</td>\n",
       "      <td>-0.473674</td>\n",
       "      <td>STON/O2. 3101282</td>\n",
       "      <td>-0.488854</td>\n",
       "      <td>NaN</td>\n",
       "      <td>S</td>\n",
       "    </tr>\n",
       "    <tr>\n",
       "      <th>4</th>\n",
       "      <td>1</td>\n",
       "      <td>-1.566107</td>\n",
       "      <td>Futrelle, Mrs. Jacques Heath (Lily May Peel)</td>\n",
       "      <td>female</td>\n",
       "      <td>0.365167</td>\n",
       "      <td>0.432793</td>\n",
       "      <td>-0.473674</td>\n",
       "      <td>113803</td>\n",
       "      <td>0.420730</td>\n",
       "      <td>C123</td>\n",
       "      <td>S</td>\n",
       "    </tr>\n",
       "    <tr>\n",
       "      <th>5</th>\n",
       "      <td>0</td>\n",
       "      <td>0.827377</td>\n",
       "      <td>Allen, Mr. William Henry</td>\n",
       "      <td>male</td>\n",
       "      <td>0.365167</td>\n",
       "      <td>-0.474545</td>\n",
       "      <td>-0.473674</td>\n",
       "      <td>373450</td>\n",
       "      <td>-0.486337</td>\n",
       "      <td>NaN</td>\n",
       "      <td>S</td>\n",
       "    </tr>\n",
       "    <tr>\n",
       "      <th>...</th>\n",
       "      <td>...</td>\n",
       "      <td>...</td>\n",
       "      <td>...</td>\n",
       "      <td>...</td>\n",
       "      <td>...</td>\n",
       "      <td>...</td>\n",
       "      <td>...</td>\n",
       "      <td>...</td>\n",
       "      <td>...</td>\n",
       "      <td>...</td>\n",
       "      <td>...</td>\n",
       "    </tr>\n",
       "    <tr>\n",
       "      <th>887</th>\n",
       "      <td>0</td>\n",
       "      <td>-0.369365</td>\n",
       "      <td>Montvila, Rev. Juozas</td>\n",
       "      <td>male</td>\n",
       "      <td>-0.185937</td>\n",
       "      <td>-0.474545</td>\n",
       "      <td>-0.473674</td>\n",
       "      <td>211536</td>\n",
       "      <td>-0.386671</td>\n",
       "      <td>NaN</td>\n",
       "      <td>S</td>\n",
       "    </tr>\n",
       "    <tr>\n",
       "      <th>888</th>\n",
       "      <td>1</td>\n",
       "      <td>-1.566107</td>\n",
       "      <td>Graham, Miss. Margaret Edith</td>\n",
       "      <td>female</td>\n",
       "      <td>-0.737041</td>\n",
       "      <td>-0.474545</td>\n",
       "      <td>-0.473674</td>\n",
       "      <td>112053</td>\n",
       "      <td>-0.044381</td>\n",
       "      <td>B42</td>\n",
       "      <td>S</td>\n",
       "    </tr>\n",
       "    <tr>\n",
       "      <th>889</th>\n",
       "      <td>0</td>\n",
       "      <td>0.827377</td>\n",
       "      <td>Johnston, Miss. Catherine Helen \"Carrie\"</td>\n",
       "      <td>female</td>\n",
       "      <td>NaN</td>\n",
       "      <td>0.432793</td>\n",
       "      <td>2.008933</td>\n",
       "      <td>W./C. 6607</td>\n",
       "      <td>-0.176263</td>\n",
       "      <td>NaN</td>\n",
       "      <td>S</td>\n",
       "    </tr>\n",
       "    <tr>\n",
       "      <th>890</th>\n",
       "      <td>1</td>\n",
       "      <td>-1.566107</td>\n",
       "      <td>Behr, Mr. Karl Howell</td>\n",
       "      <td>male</td>\n",
       "      <td>-0.254825</td>\n",
       "      <td>-0.474545</td>\n",
       "      <td>-0.473674</td>\n",
       "      <td>111369</td>\n",
       "      <td>-0.044381</td>\n",
       "      <td>C148</td>\n",
       "      <td>C</td>\n",
       "    </tr>\n",
       "    <tr>\n",
       "      <th>891</th>\n",
       "      <td>0</td>\n",
       "      <td>0.827377</td>\n",
       "      <td>Dooley, Mr. Patrick</td>\n",
       "      <td>male</td>\n",
       "      <td>0.158503</td>\n",
       "      <td>-0.474545</td>\n",
       "      <td>-0.473674</td>\n",
       "      <td>370376</td>\n",
       "      <td>-0.492378</td>\n",
       "      <td>NaN</td>\n",
       "      <td>Q</td>\n",
       "    </tr>\n",
       "  </tbody>\n",
       "</table>\n",
       "<p>891 rows × 11 columns</p>\n",
       "</div>"
      ],
      "text/plain": [
       "             Survived    Pclass  \\\n",
       "PassengerId                       \n",
       "1                   0  0.827377   \n",
       "2                   1 -1.566107   \n",
       "3                   1  0.827377   \n",
       "4                   1 -1.566107   \n",
       "5                   0  0.827377   \n",
       "...               ...       ...   \n",
       "887                 0 -0.369365   \n",
       "888                 1 -1.566107   \n",
       "889                 0  0.827377   \n",
       "890                 1 -1.566107   \n",
       "891                 0  0.827377   \n",
       "\n",
       "                                                          Name     Sex  \\\n",
       "PassengerId                                                              \n",
       "1                                      Braund, Mr. Owen Harris    male   \n",
       "2            Cumings, Mrs. John Bradley (Florence Briggs Th...  female   \n",
       "3                                       Heikkinen, Miss. Laina  female   \n",
       "4                 Futrelle, Mrs. Jacques Heath (Lily May Peel)  female   \n",
       "5                                     Allen, Mr. William Henry    male   \n",
       "...                                                        ...     ...   \n",
       "887                                      Montvila, Rev. Juozas    male   \n",
       "888                               Graham, Miss. Margaret Edith  female   \n",
       "889                   Johnston, Miss. Catherine Helen \"Carrie\"  female   \n",
       "890                                      Behr, Mr. Karl Howell    male   \n",
       "891                                        Dooley, Mr. Patrick    male   \n",
       "\n",
       "                  Age     SibSp     Parch            Ticket      Fare Cabin  \\\n",
       "PassengerId                                                                   \n",
       "1           -0.530377  0.432793 -0.473674         A/5 21171 -0.502445   NaN   \n",
       "2            0.571831  0.432793 -0.473674          PC 17599  0.786845   C85   \n",
       "3           -0.254825 -0.474545 -0.473674  STON/O2. 3101282 -0.488854   NaN   \n",
       "4            0.365167  0.432793 -0.473674            113803  0.420730  C123   \n",
       "5            0.365167 -0.474545 -0.473674            373450 -0.486337   NaN   \n",
       "...               ...       ...       ...               ...       ...   ...   \n",
       "887         -0.185937 -0.474545 -0.473674            211536 -0.386671   NaN   \n",
       "888         -0.737041 -0.474545 -0.473674            112053 -0.044381   B42   \n",
       "889               NaN  0.432793  2.008933        W./C. 6607 -0.176263   NaN   \n",
       "890         -0.254825 -0.474545 -0.473674            111369 -0.044381  C148   \n",
       "891          0.158503 -0.474545 -0.473674            370376 -0.492378   NaN   \n",
       "\n",
       "            Embarked  \n",
       "PassengerId           \n",
       "1                  S  \n",
       "2                  C  \n",
       "3                  S  \n",
       "4                  S  \n",
       "5                  S  \n",
       "...              ...  \n",
       "887                S  \n",
       "888                S  \n",
       "889                S  \n",
       "890                C  \n",
       "891                Q  \n",
       "\n",
       "[891 rows x 11 columns]"
      ]
     },
     "execution_count": 15,
     "metadata": {},
     "output_type": "execute_result"
    }
   ],
   "source": [
    "#CREATE COPY OF TRAINDF\n",
    "std=traindf.copy()\n",
    "#IDENTIFY RELEVANT COLUMNS FOR SCALING\n",
    "features=traindf[['Pclass', 'Age', 'SibSp', 'Parch', 'Fare']]\n",
    "\n",
    "for i, col in features.iteritems():\n",
    "    scaler=StandardScaler()\n",
    "    ##ADD SCALED DATA TO DF\n",
    "    std[i]=scaler.fit_transform(col.values.reshape(-1,1))\n",
    "std"
   ]
  },
  {
   "cell_type": "code",
   "execution_count": 16,
   "metadata": {
    "execution": {
     "iopub.execute_input": "2021-08-23T12:29:04.678496Z",
     "iopub.status.busy": "2021-08-23T12:29:04.678002Z",
     "iopub.status.idle": "2021-08-23T12:29:04.934776Z",
     "shell.execute_reply": "2021-08-23T12:29:04.933383Z",
     "shell.execute_reply.started": "2021-08-23T12:29:04.678447Z"
    }
   },
   "outputs": [
    {
     "data": {
      "text/plain": [
       "<AxesSubplot:>"
      ]
     },
     "execution_count": 16,
     "metadata": {},
     "output_type": "execute_result"
    },
    {
     "data": {
      "image/png": "[encoded data removed]",
      "text/plain": [
       "<Figure size 720x432 with 1 Axes>"
      ]
     },
     "metadata": {
      "needs_background": "light"
     },
     "output_type": "display_data"
    }
   ],
   "source": [
    "##Lets get some idea of how our numerical values look\n",
    "std.plot.box()"
   ]
  },
  {
   "cell_type": "code",
   "execution_count": 17,
   "metadata": {
    "execution": {
     "iopub.execute_input": "2021-08-23T12:29:04.936597Z",
     "iopub.status.busy": "2021-08-23T12:29:04.936245Z",
     "iopub.status.idle": "2021-08-23T12:29:04.976798Z",
     "shell.execute_reply": "2021-08-23T12:29:04.975454Z",
     "shell.execute_reply.started": "2021-08-23T12:29:04.936557Z"
    }
   },
   "outputs": [
    {
     "data": {
      "text/html": [
       "<div>\n",
       "<style scoped>\n",
       "    .dataframe tbody tr th:only-of-type {\n",
       "        vertical-align: middle;\n",
       "    }\n",
       "\n",
       "    .dataframe tbody tr th {\n",
       "        vertical-align: top;\n",
       "    }\n",
       "\n",
       "    .dataframe thead th {\n",
       "        text-align: right;\n",
       "    }\n",
       "</style>\n",
       "<table border=\"1\" class=\"dataframe\">\n",
       "  <thead>\n",
       "    <tr style=\"text-align: right;\">\n",
       "      <th></th>\n",
       "      <th>Survived</th>\n",
       "      <th>Pclass</th>\n",
       "      <th>Age</th>\n",
       "      <th>SibSp</th>\n",
       "      <th>Parch</th>\n",
       "      <th>Fare</th>\n",
       "    </tr>\n",
       "  </thead>\n",
       "  <tbody>\n",
       "    <tr>\n",
       "      <th>count</th>\n",
       "      <td>891.000000</td>\n",
       "      <td>8.910000e+02</td>\n",
       "      <td>7.140000e+02</td>\n",
       "      <td>8.910000e+02</td>\n",
       "      <td>8.910000e+02</td>\n",
       "      <td>8.910000e+02</td>\n",
       "    </tr>\n",
       "    <tr>\n",
       "      <th>mean</th>\n",
       "      <td>0.383838</td>\n",
       "      <td>-2.031048e-16</td>\n",
       "      <td>2.174187e-16</td>\n",
       "      <td>3.456519e-16</td>\n",
       "      <td>6.716164e-17</td>\n",
       "      <td>-4.373606e-17</td>\n",
       "    </tr>\n",
       "    <tr>\n",
       "      <th>std</th>\n",
       "      <td>0.486592</td>\n",
       "      <td>1.000562e+00</td>\n",
       "      <td>1.000701e+00</td>\n",
       "      <td>1.000562e+00</td>\n",
       "      <td>1.000562e+00</td>\n",
       "      <td>1.000562e+00</td>\n",
       "    </tr>\n",
       "    <tr>\n",
       "      <th>min</th>\n",
       "      <td>0.000000</td>\n",
       "      <td>-1.566107e+00</td>\n",
       "      <td>-2.016979e+00</td>\n",
       "      <td>-4.745452e-01</td>\n",
       "      <td>-4.736736e-01</td>\n",
       "      <td>-6.484217e-01</td>\n",
       "    </tr>\n",
       "    <tr>\n",
       "      <th>25%</th>\n",
       "      <td>0.000000</td>\n",
       "      <td>-3.693648e-01</td>\n",
       "      <td>-6.595416e-01</td>\n",
       "      <td>-4.745452e-01</td>\n",
       "      <td>-4.736736e-01</td>\n",
       "      <td>-4.891482e-01</td>\n",
       "    </tr>\n",
       "    <tr>\n",
       "      <th>50%</th>\n",
       "      <td>0.000000</td>\n",
       "      <td>8.273772e-01</td>\n",
       "      <td>-1.170488e-01</td>\n",
       "      <td>-4.745452e-01</td>\n",
       "      <td>-4.736736e-01</td>\n",
       "      <td>-3.573909e-01</td>\n",
       "    </tr>\n",
       "    <tr>\n",
       "      <th>75%</th>\n",
       "      <td>1.000000</td>\n",
       "      <td>8.273772e-01</td>\n",
       "      <td>5.718310e-01</td>\n",
       "      <td>4.327934e-01</td>\n",
       "      <td>-4.736736e-01</td>\n",
       "      <td>-2.424635e-02</td>\n",
       "    </tr>\n",
       "    <tr>\n",
       "      <th>max</th>\n",
       "      <td>1.000000</td>\n",
       "      <td>8.273772e-01</td>\n",
       "      <td>3.465126e+00</td>\n",
       "      <td>6.784163e+00</td>\n",
       "      <td>6.974147e+00</td>\n",
       "      <td>9.667167e+00</td>\n",
       "    </tr>\n",
       "  </tbody>\n",
       "</table>\n",
       "</div>"
      ],
      "text/plain": [
       "         Survived        Pclass           Age         SibSp         Parch  \\\n",
       "count  891.000000  8.910000e+02  7.140000e+02  8.910000e+02  8.910000e+02   \n",
       "mean     0.383838 -2.031048e-16  2.174187e-16  3.456519e-16  6.716164e-17   \n",
       "std      0.486592  1.000562e+00  1.000701e+00  1.000562e+00  1.000562e+00   \n",
       "min      0.000000 -1.566107e+00 -2.016979e+00 -4.745452e-01 -4.736736e-01   \n",
       "25%      0.000000 -3.693648e-01 -6.595416e-01 -4.745452e-01 -4.736736e-01   \n",
       "50%      0.000000  8.273772e-01 -1.170488e-01 -4.745452e-01 -4.736736e-01   \n",
       "75%      1.000000  8.273772e-01  5.718310e-01  4.327934e-01 -4.736736e-01   \n",
       "max      1.000000  8.273772e-01  3.465126e+00  6.784163e+00  6.974147e+00   \n",
       "\n",
       "               Fare  \n",
       "count  8.910000e+02  \n",
       "mean  -4.373606e-17  \n",
       "std    1.000562e+00  \n",
       "min   -6.484217e-01  \n",
       "25%   -4.891482e-01  \n",
       "50%   -3.573909e-01  \n",
       "75%   -2.424635e-02  \n",
       "max    9.667167e+00  "
      ]
     },
     "execution_count": 17,
     "metadata": {},
     "output_type": "execute_result"
    }
   ],
   "source": [
    "std.describe()"
   ]
  },
  {
   "cell_type": "markdown",
   "metadata": {},
   "source": [
    "# Summary: Scaling data\n",
    "\n",
    "* Normalising the data in the range 0-1 forces our data into comparable ranges and allows us to better see the deviation of various columns in a comparable manner.\n",
    "* Standardising the data increases the variance of our data substantially. Hence standardisation is considered inappropriate. \n",
    "\n",
    "* Further data processing, addresssing missing values etc. is required. Addressing data processing is likely to be column specific so we will first investigate each column in it's original condition and then later apply normalisation prior to training/testing dataset with machine learning. \n",
    "\n"
   ]
  },
  {
   "cell_type": "markdown",
   "metadata": {},
   "source": [
    "# Removing irrelevant data\n",
    "\n",
    "Our previous plots have highlighted a significant number of missing values from the 'Cabin' category. There is too much data missing for us to make any estimates about what these values may be.\n",
    "\n",
    "We have ticket number for each passenger on the Titanic. These values are not required because we can already identify individual passengers through their identification number. \n",
    "\n",
    "\n",
    "* We will drop the cabin column from our dataset. \n",
    "* we will drop the ticket column from out dataset."
   ]
  },
  {
   "cell_type": "code",
   "execution_count": 18,
   "metadata": {
    "execution": {
     "iopub.execute_input": "2021-08-23T12:29:04.978964Z",
     "iopub.status.busy": "2021-08-23T12:29:04.978612Z",
     "iopub.status.idle": "2021-08-23T12:29:04.985831Z",
     "shell.execute_reply": "2021-08-23T12:29:04.984504Z",
     "shell.execute_reply.started": "2021-08-23T12:29:04.978931Z"
    }
   },
   "outputs": [],
   "source": [
    "##DROP CABIN COLUMN FROM THE DATASET\n",
    "traindf.drop('Cabin', axis=1, inplace=True)"
   ]
  },
  {
   "cell_type": "code",
   "execution_count": 19,
   "metadata": {
    "execution": {
     "iopub.execute_input": "2021-08-23T12:29:04.988126Z",
     "iopub.status.busy": "2021-08-23T12:29:04.987779Z",
     "iopub.status.idle": "2021-08-23T12:29:05.001419Z",
     "shell.execute_reply": "2021-08-23T12:29:05.000136Z",
     "shell.execute_reply.started": "2021-08-23T12:29:04.988093Z"
    }
   },
   "outputs": [],
   "source": [
    "##DROP TICKET COLUMN FROM THE DATASET\n",
    "traindf.drop('Ticket', axis=1, inplace=True)"
   ]
  },
  {
   "cell_type": "markdown",
   "metadata": {},
   "source": [
    "# Missing data\n",
    "\n",
    "Our previous plots have highlighted that a significant number of values are missing from the 'Age' category. 'Embarked' is missing two values. \n",
    "\n",
    "* Fill missing values"
   ]
  },
  {
   "cell_type": "code",
   "execution_count": 20,
   "metadata": {
    "execution": {
     "iopub.execute_input": "2021-08-23T12:29:05.003484Z",
     "iopub.status.busy": "2021-08-23T12:29:05.003033Z",
     "iopub.status.idle": "2021-08-23T12:29:05.023086Z",
     "shell.execute_reply": "2021-08-23T12:29:05.021760Z",
     "shell.execute_reply.started": "2021-08-23T12:29:05.003374Z"
    }
   },
   "outputs": [
    {
     "name": "stdout",
     "output_type": "stream",
     "text": [
      "Survived      0\n",
      "Pclass        0\n",
      "Name          0\n",
      "Sex           0\n",
      "Age         177\n",
      "SibSp         0\n",
      "Parch         0\n",
      "Fare          0\n",
      "Embarked      2\n",
      "dtype: int64\n"
     ]
    }
   ],
   "source": [
    "##SO 708 ROWS ARE MISSING DATA. LETS SEE WHICH COLUMNS ARE AFFECTED\n",
    "print(traindf.isnull().sum())"
   ]
  },
  {
   "cell_type": "markdown",
   "metadata": {},
   "source": [
    "## Embarked Category"
   ]
  },
  {
   "cell_type": "code",
   "execution_count": 21,
   "metadata": {
    "execution": {
     "iopub.execute_input": "2021-08-23T12:29:05.024905Z",
     "iopub.status.busy": "2021-08-23T12:29:05.024561Z",
     "iopub.status.idle": "2021-08-23T12:29:05.042835Z",
     "shell.execute_reply": "2021-08-23T12:29:05.041940Z",
     "shell.execute_reply.started": "2021-08-23T12:29:05.024866Z"
    }
   },
   "outputs": [],
   "source": [
    "##THE EMBARK COLUMN IS MISSING TWO VALUES. \n",
    "unique=traindf['Embarked'].unique()\n",
    "\n",
    "##WE WILL FIND THE VALUE COUNTS FOR UNIQUE ITEMS\n",
    "_=traindf['Embarked'].value_counts().idxmax()\n",
    "# print(_)\n",
    "\n",
    "##REPLACE NAN WITH MOST FREQUENT VALUE\n",
    "traindf['Embarked'].fillna(_, inplace=True)"
   ]
  },
  {
   "cell_type": "code",
   "execution_count": 22,
   "metadata": {
    "execution": {
     "iopub.execute_input": "2021-08-23T12:29:05.044187Z",
     "iopub.status.busy": "2021-08-23T12:29:05.043916Z",
     "iopub.status.idle": "2021-08-23T12:29:05.062526Z",
     "shell.execute_reply": "2021-08-23T12:29:05.061065Z",
     "shell.execute_reply.started": "2021-08-23T12:29:05.044160Z"
    }
   },
   "outputs": [
    {
     "name": "stdout",
     "output_type": "stream",
     "text": [
      "Survived      0\n",
      "Pclass        0\n",
      "Name          0\n",
      "Sex           0\n",
      "Age         177\n",
      "SibSp         0\n",
      "Parch         0\n",
      "Fare          0\n",
      "Embarked      0\n",
      "dtype: int64\n"
     ]
    }
   ],
   "source": [
    "##CHECK FOR MISSING VALUES\n",
    "print(traindf.isnull().sum())"
   ]
  },
  {
   "cell_type": "code",
   "execution_count": 23,
   "metadata": {
    "execution": {
     "iopub.execute_input": "2021-08-23T12:29:05.065707Z",
     "iopub.status.busy": "2021-08-23T12:29:05.065347Z",
     "iopub.status.idle": "2021-08-23T12:29:05.103930Z",
     "shell.execute_reply": "2021-08-23T12:29:05.102517Z",
     "shell.execute_reply.started": "2021-08-23T12:29:05.065673Z"
    }
   },
   "outputs": [
    {
     "data": {
      "text/html": [
       "<div>\n",
       "<style scoped>\n",
       "    .dataframe tbody tr th:only-of-type {\n",
       "        vertical-align: middle;\n",
       "    }\n",
       "\n",
       "    .dataframe tbody tr th {\n",
       "        vertical-align: top;\n",
       "    }\n",
       "\n",
       "    .dataframe thead th {\n",
       "        text-align: right;\n",
       "    }\n",
       "</style>\n",
       "<table border=\"1\" class=\"dataframe\">\n",
       "  <thead>\n",
       "    <tr style=\"text-align: right;\">\n",
       "      <th></th>\n",
       "      <th>Survived</th>\n",
       "      <th>Pclass</th>\n",
       "      <th>Age</th>\n",
       "      <th>SibSp</th>\n",
       "      <th>Parch</th>\n",
       "      <th>Fare</th>\n",
       "    </tr>\n",
       "  </thead>\n",
       "  <tbody>\n",
       "    <tr>\n",
       "      <th>count</th>\n",
       "      <td>891.000000</td>\n",
       "      <td>891.000000</td>\n",
       "      <td>714.000000</td>\n",
       "      <td>891.000000</td>\n",
       "      <td>891.000000</td>\n",
       "      <td>891.000000</td>\n",
       "    </tr>\n",
       "    <tr>\n",
       "      <th>mean</th>\n",
       "      <td>0.383838</td>\n",
       "      <td>2.308642</td>\n",
       "      <td>29.699118</td>\n",
       "      <td>0.523008</td>\n",
       "      <td>0.381594</td>\n",
       "      <td>32.204208</td>\n",
       "    </tr>\n",
       "    <tr>\n",
       "      <th>std</th>\n",
       "      <td>0.486592</td>\n",
       "      <td>0.836071</td>\n",
       "      <td>14.526497</td>\n",
       "      <td>1.102743</td>\n",
       "      <td>0.806057</td>\n",
       "      <td>49.693429</td>\n",
       "    </tr>\n",
       "    <tr>\n",
       "      <th>min</th>\n",
       "      <td>0.000000</td>\n",
       "      <td>1.000000</td>\n",
       "      <td>0.420000</td>\n",
       "      <td>0.000000</td>\n",
       "      <td>0.000000</td>\n",
       "      <td>0.000000</td>\n",
       "    </tr>\n",
       "    <tr>\n",
       "      <th>25%</th>\n",
       "      <td>0.000000</td>\n",
       "      <td>2.000000</td>\n",
       "      <td>20.125000</td>\n",
       "      <td>0.000000</td>\n",
       "      <td>0.000000</td>\n",
       "      <td>7.910400</td>\n",
       "    </tr>\n",
       "    <tr>\n",
       "      <th>50%</th>\n",
       "      <td>0.000000</td>\n",
       "      <td>3.000000</td>\n",
       "      <td>28.000000</td>\n",
       "      <td>0.000000</td>\n",
       "      <td>0.000000</td>\n",
       "      <td>14.454200</td>\n",
       "    </tr>\n",
       "    <tr>\n",
       "      <th>75%</th>\n",
       "      <td>1.000000</td>\n",
       "      <td>3.000000</td>\n",
       "      <td>38.000000</td>\n",
       "      <td>1.000000</td>\n",
       "      <td>0.000000</td>\n",
       "      <td>31.000000</td>\n",
       "    </tr>\n",
       "    <tr>\n",
       "      <th>max</th>\n",
       "      <td>1.000000</td>\n",
       "      <td>3.000000</td>\n",
       "      <td>80.000000</td>\n",
       "      <td>8.000000</td>\n",
       "      <td>6.000000</td>\n",
       "      <td>512.329200</td>\n",
       "    </tr>\n",
       "  </tbody>\n",
       "</table>\n",
       "</div>"
      ],
      "text/plain": [
       "         Survived      Pclass         Age       SibSp       Parch        Fare\n",
       "count  891.000000  891.000000  714.000000  891.000000  891.000000  891.000000\n",
       "mean     0.383838    2.308642   29.699118    0.523008    0.381594   32.204208\n",
       "std      0.486592    0.836071   14.526497    1.102743    0.806057   49.693429\n",
       "min      0.000000    1.000000    0.420000    0.000000    0.000000    0.000000\n",
       "25%      0.000000    2.000000   20.125000    0.000000    0.000000    7.910400\n",
       "50%      0.000000    3.000000   28.000000    0.000000    0.000000   14.454200\n",
       "75%      1.000000    3.000000   38.000000    1.000000    0.000000   31.000000\n",
       "max      1.000000    3.000000   80.000000    8.000000    6.000000  512.329200"
      ]
     },
     "execution_count": 23,
     "metadata": {},
     "output_type": "execute_result"
    }
   ],
   "source": [
    "##STATISTICALLY DESCRIBE DATA\n",
    "traindf.describe()"
   ]
  },
  {
   "cell_type": "markdown",
   "metadata": {},
   "source": [
    "## Age category"
   ]
  },
  {
   "cell_type": "markdown",
   "metadata": {},
   "source": [
    "Here we can see that the Age column is skewed by outliers predominately in the older age category. Hence replacing missing age category values with the mean age is considered inappropriate. Hence we will replace missing age values with the median value of the age category. "
   ]
  },
  {
   "cell_type": "code",
   "execution_count": 24,
   "metadata": {
    "execution": {
     "iopub.execute_input": "2021-08-23T12:29:05.107306Z",
     "iopub.status.busy": "2021-08-23T12:29:05.106805Z",
     "iopub.status.idle": "2021-08-23T12:29:05.274711Z",
     "shell.execute_reply": "2021-08-23T12:29:05.273275Z",
     "shell.execute_reply.started": "2021-08-23T12:29:05.107257Z"
    }
   },
   "outputs": [
    {
     "data": {
      "text/plain": [
       "<AxesSubplot:>"
      ]
     },
     "execution_count": 24,
     "metadata": {},
     "output_type": "execute_result"
    },
    {
     "data": {
      "image/png": "[encoded data removed]",
      "text/plain": [
       "<Figure size 720x432 with 1 Axes>"
      ]
     },
     "metadata": {
      "needs_background": "light"
     },
     "output_type": "display_data"
    }
   ],
   "source": [
    "##LETS LOOK AT THE AGE COLUMN MORE CLOSELY\n",
    "traindf['Age'].plot.box()"
   ]
  },
  {
   "cell_type": "markdown",
   "metadata": {},
   "source": [
    "The age column is very diverse. It's not clear whether it correlates to any other columns."
   ]
  },
  {
   "cell_type": "code",
   "execution_count": 25,
   "metadata": {
    "execution": {
     "iopub.execute_input": "2021-08-23T12:29:05.277799Z",
     "iopub.status.busy": "2021-08-23T12:29:05.277434Z",
     "iopub.status.idle": "2021-08-23T12:29:05.999503Z",
     "shell.execute_reply": "2021-08-23T12:29:05.997882Z",
     "shell.execute_reply.started": "2021-08-23T12:29:05.277764Z"
    }
   },
   "outputs": [
    {
     "data": {
      "text/plain": [
       "(array([ 6.,  8., 10.,  6., 10.,  4.,  3.,  7.,  8.,  6.,  3., 12., 56.,\n",
       "        40., 67., 55., 63., 64., 51., 58., 35., 39., 29., 24., 17., 14.,\n",
       "        11.,  3.,  4.,  1.]),\n",
       " array([0.64807407, 0.924614  , 1.20115393, 1.47769385, 1.75423378,\n",
       "        2.03077371, 2.30731364, 2.58385357, 2.86039349, 3.13693342,\n",
       "        3.41347335, 3.69001328, 3.96655321, 4.24309313, 4.51963306,\n",
       "        4.79617299, 5.07271292, 5.34925285, 5.62579277, 5.9023327 ,\n",
       "        6.17887263, 6.45541256, 6.73195249, 7.00849241, 7.28503234,\n",
       "        7.56157227, 7.8381122 , 8.11465213, 8.39119205, 8.66773198,\n",
       "        8.94427191]),\n",
       " <BarContainer object of 30 artists>)"
      ]
     },
     "execution_count": 25,
     "metadata": {},
     "output_type": "execute_result"
    },
    {
     "data": {
      "image/png": "[encoded data removed]",
      "text/plain": [
       "<Figure size 720x432 with 3 Axes>"
      ]
     },
     "metadata": {
      "needs_background": "light"
     },
     "output_type": "display_data"
    }
   ],
   "source": [
    "##LETS LOOK AT THE AGE COLUMN MORE CLOSELY\n",
    "fig, ax=plt.subplots(1, 3, sharey=True, tight_layout=True)\n",
    "ax[0].hist(traindf['Age'], bins=30)\n",
    "##TRY A LOG TRANSFORMATION (UNLIKELY TO FIT THAT WELL BUT LETS SEE)\n",
    "ax[1].hist(np.log(traindf['Age']), bins=30)\n",
    "##TRY SQRT TRANSFORMATION\n",
    "ax[2].hist(np.sqrt(traindf['Age']), bins=30)"
   ]
  },
  {
   "cell_type": "markdown",
   "metadata": {},
   "source": [
    "None of the transformed plots look like they provide a more normalised version of the Age category. Hence we will not modify the age category for skewness but instead accept the original profile as providing the most normalised distribution. "
   ]
  },
  {
   "cell_type": "code",
   "execution_count": 26,
   "metadata": {
    "execution": {
     "iopub.execute_input": "2021-08-23T12:29:06.006209Z",
     "iopub.status.busy": "2021-08-23T12:29:06.005788Z",
     "iopub.status.idle": "2021-08-23T12:29:06.429403Z",
     "shell.execute_reply": "2021-08-23T12:29:06.428251Z",
     "shell.execute_reply.started": "2021-08-23T12:29:06.006174Z"
    }
   },
   "outputs": [
    {
     "data": {
      "text/plain": [
       "<AxesSubplot:ylabel='Frequency'>"
      ]
     },
     "execution_count": 26,
     "metadata": {},
     "output_type": "execute_result"
    },
    {
     "data": {
      "image/png": "[encoded data removed]",
      "text/plain": [
       "<Figure size 720x432 with 1 Axes>"
      ]
     },
     "metadata": {
      "needs_background": "light"
     },
     "output_type": "display_data"
    }
   ],
   "source": [
    "# age_bins=np.arange(0, traindf['Age'].max()+10, 5) #BINS FOR AGES IN 5 YEAR BLOCKS\n",
    "traindf.pivot(columns='Sex').Age.plot(kind='hist', stacked=True, bins=30)"
   ]
  },
  {
   "cell_type": "code",
   "execution_count": 27,
   "metadata": {
    "execution": {
     "iopub.execute_input": "2021-08-23T12:29:06.432388Z",
     "iopub.status.busy": "2021-08-23T12:29:06.432044Z",
     "iopub.status.idle": "2021-08-23T12:29:06.618409Z",
     "shell.execute_reply": "2021-08-23T12:29:06.617285Z",
     "shell.execute_reply.started": "2021-08-23T12:29:06.432354Z"
    }
   },
   "outputs": [
    {
     "data": {
      "text/plain": [
       "<AxesSubplot:xlabel='Sex', ylabel='Age'>"
      ]
     },
     "execution_count": 27,
     "metadata": {},
     "output_type": "execute_result"
    },
    {
     "data": {
      "image/png": "[encoded data removed]",
      "text/plain": [
       "<Figure size 720x432 with 1 Axes>"
      ]
     },
     "metadata": {
      "needs_background": "light"
     },
     "output_type": "display_data"
    }
   ],
   "source": [
    "##BOX PLOT OF M/F AGE GROUP\n",
    "sns.boxplot(x='Sex', y='Age', data=traindf)"
   ]
  },
  {
   "cell_type": "code",
   "execution_count": 28,
   "metadata": {
    "execution": {
     "iopub.execute_input": "2021-08-23T12:29:06.620466Z",
     "iopub.status.busy": "2021-08-23T12:29:06.620021Z",
     "iopub.status.idle": "2021-08-23T12:29:06.628373Z",
     "shell.execute_reply": "2021-08-23T12:29:06.627379Z",
     "shell.execute_reply.started": "2021-08-23T12:29:06.620419Z"
    }
   },
   "outputs": [],
   "source": [
    "##FUNCTION FOR ROUNDING NUMBERS TO SPECIFIC BASE\n",
    "def custom_round(x, base):\n",
    "    return int(base*round(float(x)/base))"
   ]
  },
  {
   "cell_type": "markdown",
   "metadata": {},
   "source": [
    "We seem to have a lot of outliers in older age bracket. Using the mean age value to fill missing data is considered inappropriate. "
   ]
  },
  {
   "cell_type": "markdown",
   "metadata": {},
   "source": [
    "### FIND MEDIAN AGE FOR CHILDREN\n",
    "\n",
    "Assume kids is anyone under 18 traveling with an adult"
   ]
  },
  {
   "cell_type": "code",
   "execution_count": 29,
   "metadata": {
    "execution": {
     "iopub.execute_input": "2021-08-23T12:29:06.630166Z",
     "iopub.status.busy": "2021-08-23T12:29:06.629798Z",
     "iopub.status.idle": "2021-08-23T12:29:06.826778Z",
     "shell.execute_reply": "2021-08-23T12:29:06.825621Z",
     "shell.execute_reply.started": "2021-08-23T12:29:06.630131Z"
    }
   },
   "outputs": [
    {
     "name": "stdout",
     "output_type": "stream",
     "text": [
      "5.0 4.0\n"
     ]
    },
    {
     "data": {
      "image/png": "[encoded data removed]",
      "text/plain": [
       "<Figure size 720x432 with 1 Axes>"
      ]
     },
     "metadata": {
      "needs_background": "light"
     },
     "output_type": "display_data"
    }
   ],
   "source": [
    "kids=traindf[(traindf['Age']<18) & (traindf['Parch']>0)]\n",
    "kids=kids.dropna()\n",
    "\n",
    "##BOX PLOT OF M/F AGE GROUP\n",
    "sns.boxplot(x='Sex', y='Age', data=kids)\n",
    "median_female=kids.groupby(['Sex'])['Age'].median().loc['female']\n",
    "median_male=kids.groupby(['Sex'])['Age'].median().loc['male']\n",
    "print(median_female, median_male)"
   ]
  },
  {
   "cell_type": "code",
   "execution_count": 30,
   "metadata": {
    "execution": {
     "iopub.execute_input": "2021-08-23T12:29:06.828280Z",
     "iopub.status.busy": "2021-08-23T12:29:06.827982Z",
     "iopub.status.idle": "2021-08-23T12:29:06.844474Z",
     "shell.execute_reply": "2021-08-23T12:29:06.843286Z",
     "shell.execute_reply.started": "2021-08-23T12:29:06.828251Z"
    }
   },
   "outputs": [
    {
     "name": "stdout",
     "output_type": "stream",
     "text": [
      "12 8 20\n"
     ]
    }
   ],
   "source": [
    "##REPLACE MISSING ROWS IN THE KIDS RELATED ROWS WITH MEDIAN AGE\n",
    "f_kids_ind=traindf[(traindf['Sex']=='female') & (traindf['Age'].isnull()) & (traindf['Parch']>0)].index.to_list()\n",
    "m_kids_ind=traindf[(traindf['Sex']=='male') & (traindf['Age'].isnull()) & (traindf['Parch']>0)].index.to_list()\n",
    "print(len(f_kids_ind), len(m_kids_ind), (len(f_kids_ind) + len(m_kids_ind)))\n",
    "##REPLACE VALUES\n",
    "traindf.loc[f_kids_ind, 'Age']=median_female\n",
    "traindf.loc[m_kids_ind, 'Age']=median_male"
   ]
  },
  {
   "cell_type": "code",
   "execution_count": 31,
   "metadata": {
    "execution": {
     "iopub.execute_input": "2021-08-23T12:29:06.845945Z",
     "iopub.status.busy": "2021-08-23T12:29:06.845662Z",
     "iopub.status.idle": "2021-08-23T12:29:06.859176Z",
     "shell.execute_reply": "2021-08-23T12:29:06.857844Z",
     "shell.execute_reply.started": "2021-08-23T12:29:06.845918Z"
    }
   },
   "outputs": [
    {
     "name": "stdout",
     "output_type": "stream",
     "text": [
      "Survived      0\n",
      "Pclass        0\n",
      "Name          0\n",
      "Sex           0\n",
      "Age         157\n",
      "SibSp         0\n",
      "Parch         0\n",
      "Fare          0\n",
      "Embarked      0\n",
      "dtype: int64\n"
     ]
    }
   ],
   "source": [
    "print(traindf.isnull().sum())"
   ]
  },
  {
   "cell_type": "markdown",
   "metadata": {},
   "source": [
    "### Replace remaining 'Age' column with median age"
   ]
  },
  {
   "cell_type": "code",
   "execution_count": 32,
   "metadata": {
    "execution": {
     "iopub.execute_input": "2021-08-23T12:29:06.861308Z",
     "iopub.status.busy": "2021-08-23T12:29:06.860910Z",
     "iopub.status.idle": "2021-08-23T12:29:06.877345Z",
     "shell.execute_reply": "2021-08-23T12:29:06.876105Z",
     "shell.execute_reply.started": "2021-08-23T12:29:06.861271Z"
    }
   },
   "outputs": [
    {
     "name": "stdout",
     "output_type": "stream",
     "text": [
      "Survived    0\n",
      "Pclass      0\n",
      "Name        0\n",
      "Sex         0\n",
      "Age         0\n",
      "SibSp       0\n",
      "Parch       0\n",
      "Fare        0\n",
      "Embarked    0\n",
      "dtype: int64\n"
     ]
    }
   ],
   "source": [
    "##THE AGE COLUMN IS MISSING 157 ROWS OF DATA. \n",
    "med_age=custom_round(traindf['Age'].median(), 1)\n",
    "##REPLACE MISSING VALUES IN AGE\n",
    "###IDENTIFY INDEX POSITIONS OF MISSING VALUES\n",
    "traindf['Age'].fillna(med_age, inplace=True)\n",
    "print(traindf.isnull().sum())"
   ]
  },
  {
   "cell_type": "markdown",
   "metadata": {},
   "source": [
    "### Scale the age category using minmaxscaler"
   ]
  },
  {
   "cell_type": "code",
   "execution_count": 33,
   "metadata": {
    "execution": {
     "iopub.execute_input": "2021-08-23T12:29:06.880596Z",
     "iopub.status.busy": "2021-08-23T12:29:06.879587Z",
     "iopub.status.idle": "2021-08-23T12:29:06.904238Z",
     "shell.execute_reply": "2021-08-23T12:29:06.902829Z",
     "shell.execute_reply.started": "2021-08-23T12:29:06.880437Z"
    }
   },
   "outputs": [
    {
     "data": {
      "text/html": [
       "<div>\n",
       "<style scoped>\n",
       "    .dataframe tbody tr th:only-of-type {\n",
       "        vertical-align: middle;\n",
       "    }\n",
       "\n",
       "    .dataframe tbody tr th {\n",
       "        vertical-align: top;\n",
       "    }\n",
       "\n",
       "    .dataframe thead th {\n",
       "        text-align: right;\n",
       "    }\n",
       "</style>\n",
       "<table border=\"1\" class=\"dataframe\">\n",
       "  <thead>\n",
       "    <tr style=\"text-align: right;\">\n",
       "      <th></th>\n",
       "      <th>Survived</th>\n",
       "      <th>Pclass</th>\n",
       "      <th>Name</th>\n",
       "      <th>Sex</th>\n",
       "      <th>Age</th>\n",
       "      <th>SibSp</th>\n",
       "      <th>Parch</th>\n",
       "      <th>Fare</th>\n",
       "      <th>Embarked</th>\n",
       "    </tr>\n",
       "    <tr>\n",
       "      <th>PassengerId</th>\n",
       "      <th></th>\n",
       "      <th></th>\n",
       "      <th></th>\n",
       "      <th></th>\n",
       "      <th></th>\n",
       "      <th></th>\n",
       "      <th></th>\n",
       "      <th></th>\n",
       "      <th></th>\n",
       "    </tr>\n",
       "  </thead>\n",
       "  <tbody>\n",
       "    <tr>\n",
       "      <th>1</th>\n",
       "      <td>0</td>\n",
       "      <td>3</td>\n",
       "      <td>Braund, Mr. Owen Harris</td>\n",
       "      <td>male</td>\n",
       "      <td>0.271174</td>\n",
       "      <td>1</td>\n",
       "      <td>0</td>\n",
       "      <td>7.2500</td>\n",
       "      <td>S</td>\n",
       "    </tr>\n",
       "    <tr>\n",
       "      <th>2</th>\n",
       "      <td>1</td>\n",
       "      <td>1</td>\n",
       "      <td>Cumings, Mrs. John Bradley (Florence Briggs Th...</td>\n",
       "      <td>female</td>\n",
       "      <td>0.472229</td>\n",
       "      <td>1</td>\n",
       "      <td>0</td>\n",
       "      <td>71.2833</td>\n",
       "      <td>C</td>\n",
       "    </tr>\n",
       "    <tr>\n",
       "      <th>3</th>\n",
       "      <td>1</td>\n",
       "      <td>3</td>\n",
       "      <td>Heikkinen, Miss. Laina</td>\n",
       "      <td>female</td>\n",
       "      <td>0.321438</td>\n",
       "      <td>0</td>\n",
       "      <td>0</td>\n",
       "      <td>7.9250</td>\n",
       "      <td>S</td>\n",
       "    </tr>\n",
       "    <tr>\n",
       "      <th>4</th>\n",
       "      <td>1</td>\n",
       "      <td>1</td>\n",
       "      <td>Futrelle, Mrs. Jacques Heath (Lily May Peel)</td>\n",
       "      <td>female</td>\n",
       "      <td>0.434531</td>\n",
       "      <td>1</td>\n",
       "      <td>0</td>\n",
       "      <td>53.1000</td>\n",
       "      <td>S</td>\n",
       "    </tr>\n",
       "    <tr>\n",
       "      <th>5</th>\n",
       "      <td>0</td>\n",
       "      <td>3</td>\n",
       "      <td>Allen, Mr. William Henry</td>\n",
       "      <td>male</td>\n",
       "      <td>0.434531</td>\n",
       "      <td>0</td>\n",
       "      <td>0</td>\n",
       "      <td>8.0500</td>\n",
       "      <td>S</td>\n",
       "    </tr>\n",
       "  </tbody>\n",
       "</table>\n",
       "</div>"
      ],
      "text/plain": [
       "             Survived  Pclass  \\\n",
       "PassengerId                     \n",
       "1                   0       3   \n",
       "2                   1       1   \n",
       "3                   1       3   \n",
       "4                   1       1   \n",
       "5                   0       3   \n",
       "\n",
       "                                                          Name     Sex  \\\n",
       "PassengerId                                                              \n",
       "1                                      Braund, Mr. Owen Harris    male   \n",
       "2            Cumings, Mrs. John Bradley (Florence Briggs Th...  female   \n",
       "3                                       Heikkinen, Miss. Laina  female   \n",
       "4                 Futrelle, Mrs. Jacques Heath (Lily May Peel)  female   \n",
       "5                                     Allen, Mr. William Henry    male   \n",
       "\n",
       "                  Age  SibSp  Parch     Fare Embarked  \n",
       "PassengerId                                            \n",
       "1            0.271174      1      0   7.2500        S  \n",
       "2            0.472229      1      0  71.2833        C  \n",
       "3            0.321438      0      0   7.9250        S  \n",
       "4            0.434531      1      0  53.1000        S  \n",
       "5            0.434531      0      0   8.0500        S  "
      ]
     },
     "execution_count": 33,
     "metadata": {},
     "output_type": "execute_result"
    }
   ],
   "source": [
    "scaler=MinMaxScaler()\n",
    "scaler.fit(traindf['Age'].values.reshape(-1,1))\n",
    "scaled_age=scaler.transform(traindf['Age'].values.reshape(-1,1))\n",
    "traindf['Age']=scaled_age\n",
    "traindf.head()"
   ]
  },
  {
   "cell_type": "markdown",
   "metadata": {},
   "source": [
    "Now we have filled in missing values in age category, no further missing data"
   ]
  },
  {
   "cell_type": "markdown",
   "metadata": {},
   "source": [
    "# Scale the Fare category"
   ]
  },
  {
   "cell_type": "code",
   "execution_count": 34,
   "metadata": {
    "execution": {
     "iopub.execute_input": "2021-08-23T12:29:06.906011Z",
     "iopub.status.busy": "2021-08-23T12:29:06.905579Z",
     "iopub.status.idle": "2021-08-23T12:29:06.916389Z",
     "shell.execute_reply": "2021-08-23T12:29:06.915558Z",
     "shell.execute_reply.started": "2021-08-23T12:29:06.905980Z"
    }
   },
   "outputs": [],
   "source": [
    "scaler=MinMaxScaler()\n",
    "scaler.fit(traindf['Fare'].values.reshape(-1,1))\n",
    "scaled_age=scaler.transform(traindf['Fare'].values.reshape(-1,1))\n",
    "traindf['Fare']=scaled_age"
   ]
  },
  {
   "cell_type": "code",
   "execution_count": 35,
   "metadata": {
    "execution": {
     "iopub.execute_input": "2021-08-23T12:29:06.917846Z",
     "iopub.status.busy": "2021-08-23T12:29:06.917409Z",
     "iopub.status.idle": "2021-08-23T12:29:06.942804Z",
     "shell.execute_reply": "2021-08-23T12:29:06.941598Z",
     "shell.execute_reply.started": "2021-08-23T12:29:06.917814Z"
    }
   },
   "outputs": [
    {
     "data": {
      "text/html": [
       "<div>\n",
       "<style scoped>\n",
       "    .dataframe tbody tr th:only-of-type {\n",
       "        vertical-align: middle;\n",
       "    }\n",
       "\n",
       "    .dataframe tbody tr th {\n",
       "        vertical-align: top;\n",
       "    }\n",
       "\n",
       "    .dataframe thead th {\n",
       "        text-align: right;\n",
       "    }\n",
       "</style>\n",
       "<table border=\"1\" class=\"dataframe\">\n",
       "  <thead>\n",
       "    <tr style=\"text-align: right;\">\n",
       "      <th></th>\n",
       "      <th>Survived</th>\n",
       "      <th>Pclass</th>\n",
       "      <th>Name</th>\n",
       "      <th>Sex</th>\n",
       "      <th>Age</th>\n",
       "      <th>SibSp</th>\n",
       "      <th>Parch</th>\n",
       "      <th>Fare</th>\n",
       "      <th>Embarked</th>\n",
       "    </tr>\n",
       "    <tr>\n",
       "      <th>PassengerId</th>\n",
       "      <th></th>\n",
       "      <th></th>\n",
       "      <th></th>\n",
       "      <th></th>\n",
       "      <th></th>\n",
       "      <th></th>\n",
       "      <th></th>\n",
       "      <th></th>\n",
       "      <th></th>\n",
       "    </tr>\n",
       "  </thead>\n",
       "  <tbody>\n",
       "    <tr>\n",
       "      <th>1</th>\n",
       "      <td>0</td>\n",
       "      <td>3</td>\n",
       "      <td>Braund, Mr. Owen Harris</td>\n",
       "      <td>male</td>\n",
       "      <td>0.271174</td>\n",
       "      <td>1</td>\n",
       "      <td>0</td>\n",
       "      <td>0.014151</td>\n",
       "      <td>S</td>\n",
       "    </tr>\n",
       "    <tr>\n",
       "      <th>2</th>\n",
       "      <td>1</td>\n",
       "      <td>1</td>\n",
       "      <td>Cumings, Mrs. John Bradley (Florence Briggs Th...</td>\n",
       "      <td>female</td>\n",
       "      <td>0.472229</td>\n",
       "      <td>1</td>\n",
       "      <td>0</td>\n",
       "      <td>0.139136</td>\n",
       "      <td>C</td>\n",
       "    </tr>\n",
       "    <tr>\n",
       "      <th>3</th>\n",
       "      <td>1</td>\n",
       "      <td>3</td>\n",
       "      <td>Heikkinen, Miss. Laina</td>\n",
       "      <td>female</td>\n",
       "      <td>0.321438</td>\n",
       "      <td>0</td>\n",
       "      <td>0</td>\n",
       "      <td>0.015469</td>\n",
       "      <td>S</td>\n",
       "    </tr>\n",
       "    <tr>\n",
       "      <th>4</th>\n",
       "      <td>1</td>\n",
       "      <td>1</td>\n",
       "      <td>Futrelle, Mrs. Jacques Heath (Lily May Peel)</td>\n",
       "      <td>female</td>\n",
       "      <td>0.434531</td>\n",
       "      <td>1</td>\n",
       "      <td>0</td>\n",
       "      <td>0.103644</td>\n",
       "      <td>S</td>\n",
       "    </tr>\n",
       "    <tr>\n",
       "      <th>5</th>\n",
       "      <td>0</td>\n",
       "      <td>3</td>\n",
       "      <td>Allen, Mr. William Henry</td>\n",
       "      <td>male</td>\n",
       "      <td>0.434531</td>\n",
       "      <td>0</td>\n",
       "      <td>0</td>\n",
       "      <td>0.015713</td>\n",
       "      <td>S</td>\n",
       "    </tr>\n",
       "  </tbody>\n",
       "</table>\n",
       "</div>"
      ],
      "text/plain": [
       "             Survived  Pclass  \\\n",
       "PassengerId                     \n",
       "1                   0       3   \n",
       "2                   1       1   \n",
       "3                   1       3   \n",
       "4                   1       1   \n",
       "5                   0       3   \n",
       "\n",
       "                                                          Name     Sex  \\\n",
       "PassengerId                                                              \n",
       "1                                      Braund, Mr. Owen Harris    male   \n",
       "2            Cumings, Mrs. John Bradley (Florence Briggs Th...  female   \n",
       "3                                       Heikkinen, Miss. Laina  female   \n",
       "4                 Futrelle, Mrs. Jacques Heath (Lily May Peel)  female   \n",
       "5                                     Allen, Mr. William Henry    male   \n",
       "\n",
       "                  Age  SibSp  Parch      Fare Embarked  \n",
       "PassengerId                                             \n",
       "1            0.271174      1      0  0.014151        S  \n",
       "2            0.472229      1      0  0.139136        C  \n",
       "3            0.321438      0      0  0.015469        S  \n",
       "4            0.434531      1      0  0.103644        S  \n",
       "5            0.434531      0      0  0.015713        S  "
      ]
     },
     "execution_count": 35,
     "metadata": {},
     "output_type": "execute_result"
    }
   ],
   "source": [
    "traindf.head()"
   ]
  },
  {
   "cell_type": "markdown",
   "metadata": {},
   "source": [
    "# Categorical data analysis\n",
    "\n",
    "Here we are going to look at probability of survival for each of the categorical groups. We know that women and children where prioritised during the evacuation of the Titanic so we expect women to have a higher survial probability compared to men. It's not clear whether other categorical columns 'Port of Embarkment' and/or 'Class' will affect the survival probability. It's expected that more first class ticket holders will survive compared to third class ticket holders. "
   ]
  },
  {
   "cell_type": "markdown",
   "metadata": {},
   "source": [
    "## Sex category"
   ]
  },
  {
   "cell_type": "code",
   "execution_count": 36,
   "metadata": {
    "execution": {
     "iopub.execute_input": "2021-08-23T12:29:06.944512Z",
     "iopub.status.busy": "2021-08-23T12:29:06.944015Z",
     "iopub.status.idle": "2021-08-23T12:29:06.961495Z",
     "shell.execute_reply": "2021-08-23T12:29:06.959974Z",
     "shell.execute_reply.started": "2021-08-23T12:29:06.944480Z"
    }
   },
   "outputs": [
    {
     "data": {
      "text/plain": [
       "male      577\n",
       "female    314\n",
       "Name: Sex, dtype: int64"
      ]
     },
     "execution_count": 36,
     "metadata": {},
     "output_type": "execute_result"
    }
   ],
   "source": [
    "traindf['Sex'].value_counts()"
   ]
  },
  {
   "cell_type": "code",
   "execution_count": 37,
   "metadata": {
    "execution": {
     "iopub.execute_input": "2021-08-23T12:29:06.963820Z",
     "iopub.status.busy": "2021-08-23T12:29:06.963409Z",
     "iopub.status.idle": "2021-08-23T12:29:06.987400Z",
     "shell.execute_reply": "2021-08-23T12:29:06.986150Z",
     "shell.execute_reply.started": "2021-08-23T12:29:06.963787Z"
    }
   },
   "outputs": [
    {
     "data": {
      "text/html": [
       "<div>\n",
       "<style scoped>\n",
       "    .dataframe tbody tr th:only-of-type {\n",
       "        vertical-align: middle;\n",
       "    }\n",
       "\n",
       "    .dataframe tbody tr th {\n",
       "        vertical-align: top;\n",
       "    }\n",
       "\n",
       "    .dataframe thead th {\n",
       "        text-align: right;\n",
       "    }\n",
       "</style>\n",
       "<table border=\"1\" class=\"dataframe\">\n",
       "  <thead>\n",
       "    <tr style=\"text-align: right;\">\n",
       "      <th></th>\n",
       "      <th>Sex</th>\n",
       "      <th>Survived</th>\n",
       "    </tr>\n",
       "  </thead>\n",
       "  <tbody>\n",
       "    <tr>\n",
       "      <th>0</th>\n",
       "      <td>female</td>\n",
       "      <td>0.742038</td>\n",
       "    </tr>\n",
       "    <tr>\n",
       "      <th>1</th>\n",
       "      <td>male</td>\n",
       "      <td>0.188908</td>\n",
       "    </tr>\n",
       "  </tbody>\n",
       "</table>\n",
       "</div>"
      ],
      "text/plain": [
       "      Sex  Survived\n",
       "0  female  0.742038\n",
       "1    male  0.188908"
      ]
     },
     "execution_count": 37,
     "metadata": {},
     "output_type": "execute_result"
    }
   ],
   "source": [
    "##COUNT HOW MANY OF EACH SEX SURVIVED\n",
    "traindf[['Sex', 'Survived']].groupby('Sex', as_index=False).mean().sort_values(by='Survived', ascending=False)"
   ]
  },
  {
   "cell_type": "code",
   "execution_count": 38,
   "metadata": {
    "execution": {
     "iopub.execute_input": "2021-08-23T12:29:06.989241Z",
     "iopub.status.busy": "2021-08-23T12:29:06.988931Z",
     "iopub.status.idle": "2021-08-23T12:29:07.247195Z",
     "shell.execute_reply": "2021-08-23T12:29:07.245962Z",
     "shell.execute_reply.started": "2021-08-23T12:29:06.989211Z"
    }
   },
   "outputs": [
    {
     "data": {
      "text/plain": [
       "Text(0, 0.5, 'Survival probability')"
      ]
     },
     "execution_count": 38,
     "metadata": {},
     "output_type": "execute_result"
    },
    {
     "data": {
      "image/png": "[encoded data removed]",
      "text/plain": [
       "<Figure size 720x432 with 1 Axes>"
      ]
     },
     "metadata": {
      "needs_background": "light"
     },
     "output_type": "display_data"
    }
   ],
   "source": [
    "sns.barplot(x='Sex', y='Survived', data=traindf)\n",
    "plt.ylabel('Survival probability')"
   ]
  },
  {
   "cell_type": "markdown",
   "metadata": {},
   "source": [
    "The above analysis shows that though there were more males than females on the Titanic, females had a higher probability of survival. "
   ]
  },
  {
   "cell_type": "markdown",
   "metadata": {},
   "source": [
    "## Encode Sex category\n",
    "\n",
    "Here we are going to encode 'Sex' so that Male=0, Female=1 this allows us to view this data in the same range as our numerical categories without loosing any data information. "
   ]
  },
  {
   "cell_type": "code",
   "execution_count": 39,
   "metadata": {
    "execution": {
     "iopub.execute_input": "2021-08-23T12:29:07.249097Z",
     "iopub.status.busy": "2021-08-23T12:29:07.248782Z",
     "iopub.status.idle": "2021-08-23T12:29:07.273748Z",
     "shell.execute_reply": "2021-08-23T12:29:07.272277Z",
     "shell.execute_reply.started": "2021-08-23T12:29:07.249065Z"
    }
   },
   "outputs": [
    {
     "data": {
      "text/html": [
       "<div>\n",
       "<style scoped>\n",
       "    .dataframe tbody tr th:only-of-type {\n",
       "        vertical-align: middle;\n",
       "    }\n",
       "\n",
       "    .dataframe tbody tr th {\n",
       "        vertical-align: top;\n",
       "    }\n",
       "\n",
       "    .dataframe thead th {\n",
       "        text-align: right;\n",
       "    }\n",
       "</style>\n",
       "<table border=\"1\" class=\"dataframe\">\n",
       "  <thead>\n",
       "    <tr style=\"text-align: right;\">\n",
       "      <th></th>\n",
       "      <th>Survived</th>\n",
       "      <th>Pclass</th>\n",
       "      <th>Name</th>\n",
       "      <th>Sex</th>\n",
       "      <th>Age</th>\n",
       "      <th>SibSp</th>\n",
       "      <th>Parch</th>\n",
       "      <th>Fare</th>\n",
       "      <th>Embarked</th>\n",
       "    </tr>\n",
       "    <tr>\n",
       "      <th>PassengerId</th>\n",
       "      <th></th>\n",
       "      <th></th>\n",
       "      <th></th>\n",
       "      <th></th>\n",
       "      <th></th>\n",
       "      <th></th>\n",
       "      <th></th>\n",
       "      <th></th>\n",
       "      <th></th>\n",
       "    </tr>\n",
       "  </thead>\n",
       "  <tbody>\n",
       "    <tr>\n",
       "      <th>1</th>\n",
       "      <td>0</td>\n",
       "      <td>3</td>\n",
       "      <td>Braund, Mr. Owen Harris</td>\n",
       "      <td>0</td>\n",
       "      <td>0.271174</td>\n",
       "      <td>1</td>\n",
       "      <td>0</td>\n",
       "      <td>0.014151</td>\n",
       "      <td>S</td>\n",
       "    </tr>\n",
       "    <tr>\n",
       "      <th>2</th>\n",
       "      <td>1</td>\n",
       "      <td>1</td>\n",
       "      <td>Cumings, Mrs. John Bradley (Florence Briggs Th...</td>\n",
       "      <td>1</td>\n",
       "      <td>0.472229</td>\n",
       "      <td>1</td>\n",
       "      <td>0</td>\n",
       "      <td>0.139136</td>\n",
       "      <td>C</td>\n",
       "    </tr>\n",
       "    <tr>\n",
       "      <th>3</th>\n",
       "      <td>1</td>\n",
       "      <td>3</td>\n",
       "      <td>Heikkinen, Miss. Laina</td>\n",
       "      <td>1</td>\n",
       "      <td>0.321438</td>\n",
       "      <td>0</td>\n",
       "      <td>0</td>\n",
       "      <td>0.015469</td>\n",
       "      <td>S</td>\n",
       "    </tr>\n",
       "    <tr>\n",
       "      <th>4</th>\n",
       "      <td>1</td>\n",
       "      <td>1</td>\n",
       "      <td>Futrelle, Mrs. Jacques Heath (Lily May Peel)</td>\n",
       "      <td>1</td>\n",
       "      <td>0.434531</td>\n",
       "      <td>1</td>\n",
       "      <td>0</td>\n",
       "      <td>0.103644</td>\n",
       "      <td>S</td>\n",
       "    </tr>\n",
       "    <tr>\n",
       "      <th>5</th>\n",
       "      <td>0</td>\n",
       "      <td>3</td>\n",
       "      <td>Allen, Mr. William Henry</td>\n",
       "      <td>0</td>\n",
       "      <td>0.434531</td>\n",
       "      <td>0</td>\n",
       "      <td>0</td>\n",
       "      <td>0.015713</td>\n",
       "      <td>S</td>\n",
       "    </tr>\n",
       "  </tbody>\n",
       "</table>\n",
       "</div>"
      ],
      "text/plain": [
       "             Survived  Pclass  \\\n",
       "PassengerId                     \n",
       "1                   0       3   \n",
       "2                   1       1   \n",
       "3                   1       3   \n",
       "4                   1       1   \n",
       "5                   0       3   \n",
       "\n",
       "                                                          Name Sex       Age  \\\n",
       "PassengerId                                                                    \n",
       "1                                      Braund, Mr. Owen Harris   0  0.271174   \n",
       "2            Cumings, Mrs. John Bradley (Florence Briggs Th...   1  0.472229   \n",
       "3                                       Heikkinen, Miss. Laina   1  0.321438   \n",
       "4                 Futrelle, Mrs. Jacques Heath (Lily May Peel)   1  0.434531   \n",
       "5                                     Allen, Mr. William Henry   0  0.434531   \n",
       "\n",
       "             SibSp  Parch      Fare Embarked  \n",
       "PassengerId                                   \n",
       "1                1      0  0.014151        S  \n",
       "2                1      0  0.139136        C  \n",
       "3                0      0  0.015469        S  \n",
       "4                1      0  0.103644        S  \n",
       "5                0      0  0.015713        S  "
      ]
     },
     "execution_count": 39,
     "metadata": {},
     "output_type": "execute_result"
    }
   ],
   "source": [
    "mind=traindf.loc[traindf['Sex']=='male'].index.to_list()\n",
    "find=traindf.loc[traindf['Sex']=='female'].index.to_list()\n",
    "traindf.loc[mind, 'Sex']=0\n",
    "traindf.loc[find, 'Sex']=1\n",
    "traindf.head()"
   ]
  },
  {
   "cell_type": "markdown",
   "metadata": {},
   "source": [
    "## Class category"
   ]
  },
  {
   "cell_type": "code",
   "execution_count": 40,
   "metadata": {
    "execution": {
     "iopub.execute_input": "2021-08-23T12:29:07.276451Z",
     "iopub.status.busy": "2021-08-23T12:29:07.275958Z",
     "iopub.status.idle": "2021-08-23T12:29:07.288765Z",
     "shell.execute_reply": "2021-08-23T12:29:07.287932Z",
     "shell.execute_reply.started": "2021-08-23T12:29:07.276402Z"
    }
   },
   "outputs": [
    {
     "data": {
      "text/plain": [
       "3    491\n",
       "1    216\n",
       "2    184\n",
       "Name: Pclass, dtype: int64"
      ]
     },
     "execution_count": 40,
     "metadata": {},
     "output_type": "execute_result"
    }
   ],
   "source": [
    "traindf['Pclass'].value_counts()"
   ]
  },
  {
   "cell_type": "markdown",
   "metadata": {},
   "source": [
    "Vast majority of passengers where in third class passengers. "
   ]
  },
  {
   "cell_type": "code",
   "execution_count": 41,
   "metadata": {
    "execution": {
     "iopub.execute_input": "2021-08-23T12:29:07.290417Z",
     "iopub.status.busy": "2021-08-23T12:29:07.289984Z",
     "iopub.status.idle": "2021-08-23T12:29:07.313090Z",
     "shell.execute_reply": "2021-08-23T12:29:07.311920Z",
     "shell.execute_reply.started": "2021-08-23T12:29:07.290384Z"
    }
   },
   "outputs": [
    {
     "data": {
      "text/html": [
       "<div>\n",
       "<style scoped>\n",
       "    .dataframe tbody tr th:only-of-type {\n",
       "        vertical-align: middle;\n",
       "    }\n",
       "\n",
       "    .dataframe tbody tr th {\n",
       "        vertical-align: top;\n",
       "    }\n",
       "\n",
       "    .dataframe thead th {\n",
       "        text-align: right;\n",
       "    }\n",
       "</style>\n",
       "<table border=\"1\" class=\"dataframe\">\n",
       "  <thead>\n",
       "    <tr style=\"text-align: right;\">\n",
       "      <th></th>\n",
       "      <th>Pclass</th>\n",
       "      <th>Survived</th>\n",
       "    </tr>\n",
       "  </thead>\n",
       "  <tbody>\n",
       "    <tr>\n",
       "      <th>0</th>\n",
       "      <td>1</td>\n",
       "      <td>0.629630</td>\n",
       "    </tr>\n",
       "    <tr>\n",
       "      <th>1</th>\n",
       "      <td>2</td>\n",
       "      <td>0.472826</td>\n",
       "    </tr>\n",
       "    <tr>\n",
       "      <th>2</th>\n",
       "      <td>3</td>\n",
       "      <td>0.242363</td>\n",
       "    </tr>\n",
       "  </tbody>\n",
       "</table>\n",
       "</div>"
      ],
      "text/plain": [
       "   Pclass  Survived\n",
       "0       1  0.629630\n",
       "1       2  0.472826\n",
       "2       3  0.242363"
      ]
     },
     "execution_count": 41,
     "metadata": {},
     "output_type": "execute_result"
    }
   ],
   "source": [
    "##COUNT HOW MANY OF EACH CLASS SURVIVED\n",
    "traindf[['Pclass', 'Survived']].groupby('Pclass', as_index=False).mean().sort_values(by='Survived', ascending=False)"
   ]
  },
  {
   "cell_type": "markdown",
   "metadata": {},
   "source": [
    "Wow ok so first class passengers are much more likely to survive compared to third class passengers. "
   ]
  },
  {
   "cell_type": "code",
   "execution_count": 42,
   "metadata": {
    "execution": {
     "iopub.execute_input": "2021-08-23T12:29:07.315544Z",
     "iopub.status.busy": "2021-08-23T12:29:07.314961Z",
     "iopub.status.idle": "2021-08-23T12:29:07.606658Z",
     "shell.execute_reply": "2021-08-23T12:29:07.605480Z",
     "shell.execute_reply.started": "2021-08-23T12:29:07.315509Z"
    }
   },
   "outputs": [
    {
     "data": {
      "text/plain": [
       "Text(0, 0.5, 'Survival probability')"
      ]
     },
     "execution_count": 42,
     "metadata": {},
     "output_type": "execute_result"
    },
    {
     "data": {
      "image/png": "[encoded data removed]",
      "text/plain": [
       "<Figure size 720x432 with 1 Axes>"
      ]
     },
     "metadata": {
      "needs_background": "light"
     },
     "output_type": "display_data"
    }
   ],
   "source": [
    "sns.barplot(x='Pclass', y='Survived', data=traindf)\n",
    "plt.ylabel('Survival probability')"
   ]
  },
  {
   "cell_type": "markdown",
   "metadata": {},
   "source": [
    "## Embarked category"
   ]
  },
  {
   "cell_type": "code",
   "execution_count": 43,
   "metadata": {
    "execution": {
     "iopub.execute_input": "2021-08-23T12:29:07.609153Z",
     "iopub.status.busy": "2021-08-23T12:29:07.608657Z",
     "iopub.status.idle": "2021-08-23T12:29:07.619314Z",
     "shell.execute_reply": "2021-08-23T12:29:07.618270Z",
     "shell.execute_reply.started": "2021-08-23T12:29:07.609103Z"
    }
   },
   "outputs": [
    {
     "data": {
      "text/plain": [
       "S    646\n",
       "C    168\n",
       "Q     77\n",
       "Name: Embarked, dtype: int64"
      ]
     },
     "execution_count": 43,
     "metadata": {},
     "output_type": "execute_result"
    }
   ],
   "source": [
    "traindf['Embarked'].value_counts()"
   ]
  },
  {
   "cell_type": "code",
   "execution_count": 44,
   "metadata": {
    "execution": {
     "iopub.execute_input": "2021-08-23T12:29:07.621215Z",
     "iopub.status.busy": "2021-08-23T12:29:07.620726Z",
     "iopub.status.idle": "2021-08-23T12:29:07.643371Z",
     "shell.execute_reply": "2021-08-23T12:29:07.641880Z",
     "shell.execute_reply.started": "2021-08-23T12:29:07.621168Z"
    }
   },
   "outputs": [
    {
     "data": {
      "text/html": [
       "<div>\n",
       "<style scoped>\n",
       "    .dataframe tbody tr th:only-of-type {\n",
       "        vertical-align: middle;\n",
       "    }\n",
       "\n",
       "    .dataframe tbody tr th {\n",
       "        vertical-align: top;\n",
       "    }\n",
       "\n",
       "    .dataframe thead th {\n",
       "        text-align: right;\n",
       "    }\n",
       "</style>\n",
       "<table border=\"1\" class=\"dataframe\">\n",
       "  <thead>\n",
       "    <tr style=\"text-align: right;\">\n",
       "      <th></th>\n",
       "      <th>Embarked</th>\n",
       "      <th>Survived</th>\n",
       "    </tr>\n",
       "  </thead>\n",
       "  <tbody>\n",
       "    <tr>\n",
       "      <th>0</th>\n",
       "      <td>C</td>\n",
       "      <td>0.553571</td>\n",
       "    </tr>\n",
       "    <tr>\n",
       "      <th>1</th>\n",
       "      <td>Q</td>\n",
       "      <td>0.389610</td>\n",
       "    </tr>\n",
       "    <tr>\n",
       "      <th>2</th>\n",
       "      <td>S</td>\n",
       "      <td>0.339009</td>\n",
       "    </tr>\n",
       "  </tbody>\n",
       "</table>\n",
       "</div>"
      ],
      "text/plain": [
       "  Embarked  Survived\n",
       "0        C  0.553571\n",
       "1        Q  0.389610\n",
       "2        S  0.339009"
      ]
     },
     "execution_count": 44,
     "metadata": {},
     "output_type": "execute_result"
    }
   ],
   "source": [
    "##COUNT HOW MANY OF EACH SEX SURVIVED\n",
    "traindf[['Embarked', 'Survived']].groupby('Embarked', as_index=False).mean().sort_values(by='Survived', ascending=False)"
   ]
  },
  {
   "cell_type": "code",
   "execution_count": 45,
   "metadata": {
    "execution": {
     "iopub.execute_input": "2021-08-23T12:29:07.645455Z",
     "iopub.status.busy": "2021-08-23T12:29:07.645115Z",
     "iopub.status.idle": "2021-08-23T12:29:07.941178Z",
     "shell.execute_reply": "2021-08-23T12:29:07.939812Z",
     "shell.execute_reply.started": "2021-08-23T12:29:07.645426Z"
    }
   },
   "outputs": [
    {
     "data": {
      "text/plain": [
       "Text(0, 0.5, 'Survival probability')"
      ]
     },
     "execution_count": 45,
     "metadata": {},
     "output_type": "execute_result"
    },
    {
     "data": {
      "image/png": "[encoded data removed]",
      "text/plain": [
       "<Figure size 720x432 with 1 Axes>"
      ]
     },
     "metadata": {
      "needs_background": "light"
     },
     "output_type": "display_data"
    }
   ],
   "source": [
    "sns.barplot(x='Embarked', y='Survived', data=traindf)\n",
    "plt.ylabel('Survival probability')"
   ]
  },
  {
   "cell_type": "markdown",
   "metadata": {},
   "source": [
    "### Encoding Embarked Category\n",
    "\n",
    "S=1, C=2, Q=3"
   ]
  },
  {
   "cell_type": "code",
   "execution_count": 46,
   "metadata": {
    "execution": {
     "iopub.execute_input": "2021-08-23T12:29:07.943496Z",
     "iopub.status.busy": "2021-08-23T12:29:07.943117Z",
     "iopub.status.idle": "2021-08-23T12:29:07.973945Z",
     "shell.execute_reply": "2021-08-23T12:29:07.972824Z",
     "shell.execute_reply.started": "2021-08-23T12:29:07.943459Z"
    }
   },
   "outputs": [
    {
     "data": {
      "text/html": [
       "<div>\n",
       "<style scoped>\n",
       "    .dataframe tbody tr th:only-of-type {\n",
       "        vertical-align: middle;\n",
       "    }\n",
       "\n",
       "    .dataframe tbody tr th {\n",
       "        vertical-align: top;\n",
       "    }\n",
       "\n",
       "    .dataframe thead th {\n",
       "        text-align: right;\n",
       "    }\n",
       "</style>\n",
       "<table border=\"1\" class=\"dataframe\">\n",
       "  <thead>\n",
       "    <tr style=\"text-align: right;\">\n",
       "      <th></th>\n",
       "      <th>Survived</th>\n",
       "      <th>Pclass</th>\n",
       "      <th>Name</th>\n",
       "      <th>Sex</th>\n",
       "      <th>Age</th>\n",
       "      <th>SibSp</th>\n",
       "      <th>Parch</th>\n",
       "      <th>Fare</th>\n",
       "      <th>Embarked</th>\n",
       "    </tr>\n",
       "    <tr>\n",
       "      <th>PassengerId</th>\n",
       "      <th></th>\n",
       "      <th></th>\n",
       "      <th></th>\n",
       "      <th></th>\n",
       "      <th></th>\n",
       "      <th></th>\n",
       "      <th></th>\n",
       "      <th></th>\n",
       "      <th></th>\n",
       "    </tr>\n",
       "  </thead>\n",
       "  <tbody>\n",
       "    <tr>\n",
       "      <th>1</th>\n",
       "      <td>0</td>\n",
       "      <td>3</td>\n",
       "      <td>Braund, Mr. Owen Harris</td>\n",
       "      <td>0</td>\n",
       "      <td>0.271174</td>\n",
       "      <td>1</td>\n",
       "      <td>0</td>\n",
       "      <td>0.014151</td>\n",
       "      <td>1</td>\n",
       "    </tr>\n",
       "    <tr>\n",
       "      <th>2</th>\n",
       "      <td>1</td>\n",
       "      <td>1</td>\n",
       "      <td>Cumings, Mrs. John Bradley (Florence Briggs Th...</td>\n",
       "      <td>1</td>\n",
       "      <td>0.472229</td>\n",
       "      <td>1</td>\n",
       "      <td>0</td>\n",
       "      <td>0.139136</td>\n",
       "      <td>2</td>\n",
       "    </tr>\n",
       "    <tr>\n",
       "      <th>3</th>\n",
       "      <td>1</td>\n",
       "      <td>3</td>\n",
       "      <td>Heikkinen, Miss. Laina</td>\n",
       "      <td>1</td>\n",
       "      <td>0.321438</td>\n",
       "      <td>0</td>\n",
       "      <td>0</td>\n",
       "      <td>0.015469</td>\n",
       "      <td>1</td>\n",
       "    </tr>\n",
       "    <tr>\n",
       "      <th>4</th>\n",
       "      <td>1</td>\n",
       "      <td>1</td>\n",
       "      <td>Futrelle, Mrs. Jacques Heath (Lily May Peel)</td>\n",
       "      <td>1</td>\n",
       "      <td>0.434531</td>\n",
       "      <td>1</td>\n",
       "      <td>0</td>\n",
       "      <td>0.103644</td>\n",
       "      <td>1</td>\n",
       "    </tr>\n",
       "    <tr>\n",
       "      <th>5</th>\n",
       "      <td>0</td>\n",
       "      <td>3</td>\n",
       "      <td>Allen, Mr. William Henry</td>\n",
       "      <td>0</td>\n",
       "      <td>0.434531</td>\n",
       "      <td>0</td>\n",
       "      <td>0</td>\n",
       "      <td>0.015713</td>\n",
       "      <td>1</td>\n",
       "    </tr>\n",
       "    <tr>\n",
       "      <th>6</th>\n",
       "      <td>0</td>\n",
       "      <td>3</td>\n",
       "      <td>Moran, Mr. James</td>\n",
       "      <td>0</td>\n",
       "      <td>0.346569</td>\n",
       "      <td>0</td>\n",
       "      <td>0</td>\n",
       "      <td>0.016510</td>\n",
       "      <td>3</td>\n",
       "    </tr>\n",
       "    <tr>\n",
       "      <th>7</th>\n",
       "      <td>0</td>\n",
       "      <td>1</td>\n",
       "      <td>McCarthy, Mr. Timothy J</td>\n",
       "      <td>0</td>\n",
       "      <td>0.673285</td>\n",
       "      <td>0</td>\n",
       "      <td>0</td>\n",
       "      <td>0.101229</td>\n",
       "      <td>1</td>\n",
       "    </tr>\n",
       "    <tr>\n",
       "      <th>8</th>\n",
       "      <td>0</td>\n",
       "      <td>3</td>\n",
       "      <td>Palsson, Master. Gosta Leonard</td>\n",
       "      <td>0</td>\n",
       "      <td>0.019854</td>\n",
       "      <td>3</td>\n",
       "      <td>1</td>\n",
       "      <td>0.041136</td>\n",
       "      <td>1</td>\n",
       "    </tr>\n",
       "    <tr>\n",
       "      <th>9</th>\n",
       "      <td>1</td>\n",
       "      <td>3</td>\n",
       "      <td>Johnson, Mrs. Oscar W (Elisabeth Vilhelmina Berg)</td>\n",
       "      <td>1</td>\n",
       "      <td>0.334004</td>\n",
       "      <td>0</td>\n",
       "      <td>2</td>\n",
       "      <td>0.021731</td>\n",
       "      <td>1</td>\n",
       "    </tr>\n",
       "  </tbody>\n",
       "</table>\n",
       "</div>"
      ],
      "text/plain": [
       "             Survived  Pclass  \\\n",
       "PassengerId                     \n",
       "1                   0       3   \n",
       "2                   1       1   \n",
       "3                   1       3   \n",
       "4                   1       1   \n",
       "5                   0       3   \n",
       "6                   0       3   \n",
       "7                   0       1   \n",
       "8                   0       3   \n",
       "9                   1       3   \n",
       "\n",
       "                                                          Name Sex       Age  \\\n",
       "PassengerId                                                                    \n",
       "1                                      Braund, Mr. Owen Harris   0  0.271174   \n",
       "2            Cumings, Mrs. John Bradley (Florence Briggs Th...   1  0.472229   \n",
       "3                                       Heikkinen, Miss. Laina   1  0.321438   \n",
       "4                 Futrelle, Mrs. Jacques Heath (Lily May Peel)   1  0.434531   \n",
       "5                                     Allen, Mr. William Henry   0  0.434531   \n",
       "6                                             Moran, Mr. James   0  0.346569   \n",
       "7                                      McCarthy, Mr. Timothy J   0  0.673285   \n",
       "8                               Palsson, Master. Gosta Leonard   0  0.019854   \n",
       "9            Johnson, Mrs. Oscar W (Elisabeth Vilhelmina Berg)   1  0.334004   \n",
       "\n",
       "             SibSp  Parch      Fare Embarked  \n",
       "PassengerId                                   \n",
       "1                1      0  0.014151        1  \n",
       "2                1      0  0.139136        2  \n",
       "3                0      0  0.015469        1  \n",
       "4                1      0  0.103644        1  \n",
       "5                0      0  0.015713        1  \n",
       "6                0      0  0.016510        3  \n",
       "7                0      0  0.101229        1  \n",
       "8                3      1  0.041136        1  \n",
       "9                0      2  0.021731        1  "
      ]
     },
     "execution_count": 46,
     "metadata": {},
     "output_type": "execute_result"
    }
   ],
   "source": [
    "s=traindf[traindf['Embarked']=='S'].index.to_list()\n",
    "c=traindf[traindf['Embarked']=='C'].index.to_list()\n",
    "q=traindf[traindf['Embarked']=='Q'].index.to_list()\n",
    "\n",
    "traindf.loc[s, ['Embarked']]=1\n",
    "traindf.loc[c, ['Embarked']]=2\n",
    "traindf.loc[q, ['Embarked']]=3\n",
    "traindf.head(9)"
   ]
  },
  {
   "cell_type": "markdown",
   "metadata": {},
   "source": [
    "# Numerical data analysis\n",
    "\n",
    "Here we are going to look at a correlation matrix to show how various numerical columns compare with survival probability"
   ]
  },
  {
   "cell_type": "code",
   "execution_count": 47,
   "metadata": {
    "execution": {
     "iopub.execute_input": "2021-08-23T12:29:07.975830Z",
     "iopub.status.busy": "2021-08-23T12:29:07.975504Z",
     "iopub.status.idle": "2021-08-23T12:29:08.484917Z",
     "shell.execute_reply": "2021-08-23T12:29:08.483537Z",
     "shell.execute_reply.started": "2021-08-23T12:29:07.975799Z"
    }
   },
   "outputs": [
    {
     "data": {
      "text/plain": [
       "<AxesSubplot:>"
      ]
     },
     "execution_count": 47,
     "metadata": {},
     "output_type": "execute_result"
    },
    {
     "data": {
      "image/png": "[encoded data removed]",
      "text/plain": [
       "<Figure size 720x432 with 2 Axes>"
      ]
     },
     "metadata": {
      "needs_background": "light"
     },
     "output_type": "display_data"
    }
   ],
   "source": [
    "numdf=traindf[['Survived', 'SibSp', 'Parch', 'Age', 'Fare']]\n",
    "sns.heatmap(numdf.corr(), annot=True, cmap='coolwarm')"
   ]
  },
  {
   "cell_type": "markdown",
   "metadata": {},
   "source": [
    "## SibSp category"
   ]
  },
  {
   "cell_type": "code",
   "execution_count": 48,
   "metadata": {
    "execution": {
     "iopub.execute_input": "2021-08-23T12:29:08.486787Z",
     "iopub.status.busy": "2021-08-23T12:29:08.486448Z",
     "iopub.status.idle": "2021-08-23T12:29:08.506679Z",
     "shell.execute_reply": "2021-08-23T12:29:08.505369Z",
     "shell.execute_reply.started": "2021-08-23T12:29:08.486756Z"
    }
   },
   "outputs": [
    {
     "data": {
      "text/html": [
       "<div>\n",
       "<style scoped>\n",
       "    .dataframe tbody tr th:only-of-type {\n",
       "        vertical-align: middle;\n",
       "    }\n",
       "\n",
       "    .dataframe tbody tr th {\n",
       "        vertical-align: top;\n",
       "    }\n",
       "\n",
       "    .dataframe thead th {\n",
       "        text-align: right;\n",
       "    }\n",
       "</style>\n",
       "<table border=\"1\" class=\"dataframe\">\n",
       "  <thead>\n",
       "    <tr style=\"text-align: right;\">\n",
       "      <th></th>\n",
       "      <th>SibSp</th>\n",
       "      <th>Survived</th>\n",
       "    </tr>\n",
       "  </thead>\n",
       "  <tbody>\n",
       "    <tr>\n",
       "      <th>1</th>\n",
       "      <td>1</td>\n",
       "      <td>0.535885</td>\n",
       "    </tr>\n",
       "    <tr>\n",
       "      <th>2</th>\n",
       "      <td>2</td>\n",
       "      <td>0.464286</td>\n",
       "    </tr>\n",
       "    <tr>\n",
       "      <th>0</th>\n",
       "      <td>0</td>\n",
       "      <td>0.345395</td>\n",
       "    </tr>\n",
       "    <tr>\n",
       "      <th>3</th>\n",
       "      <td>3</td>\n",
       "      <td>0.250000</td>\n",
       "    </tr>\n",
       "    <tr>\n",
       "      <th>4</th>\n",
       "      <td>4</td>\n",
       "      <td>0.166667</td>\n",
       "    </tr>\n",
       "    <tr>\n",
       "      <th>5</th>\n",
       "      <td>5</td>\n",
       "      <td>0.000000</td>\n",
       "    </tr>\n",
       "    <tr>\n",
       "      <th>6</th>\n",
       "      <td>8</td>\n",
       "      <td>0.000000</td>\n",
       "    </tr>\n",
       "  </tbody>\n",
       "</table>\n",
       "</div>"
      ],
      "text/plain": [
       "   SibSp  Survived\n",
       "1      1  0.535885\n",
       "2      2  0.464286\n",
       "0      0  0.345395\n",
       "3      3  0.250000\n",
       "4      4  0.166667\n",
       "5      5  0.000000\n",
       "6      8  0.000000"
      ]
     },
     "execution_count": 48,
     "metadata": {},
     "output_type": "execute_result"
    }
   ],
   "source": [
    "cat='SibSp'\n",
    "traindf[cat].value_counts()\n",
    "##COUNT HOW MANY OF EACH SEX SURVIVED\n",
    "traindf[[cat, 'Survived']].groupby(cat, as_index=False).mean().sort_values(by='Survived', ascending=False)"
   ]
  },
  {
   "cell_type": "code",
   "execution_count": 49,
   "metadata": {
    "execution": {
     "iopub.execute_input": "2021-08-23T12:29:08.508509Z",
     "iopub.status.busy": "2021-08-23T12:29:08.508171Z",
     "iopub.status.idle": "2021-08-23T12:29:08.966352Z",
     "shell.execute_reply": "2021-08-23T12:29:08.965503Z",
     "shell.execute_reply.started": "2021-08-23T12:29:08.508479Z"
    }
   },
   "outputs": [
    {
     "data": {
      "text/plain": [
       "Text(0, 0.5, 'Survival probability')"
      ]
     },
     "execution_count": 49,
     "metadata": {},
     "output_type": "execute_result"
    },
    {
     "data": {
      "image/png": "[encoded data removed]",
      "text/plain": [
       "<Figure size 720x432 with 1 Axes>"
      ]
     },
     "metadata": {
      "needs_background": "light"
     },
     "output_type": "display_data"
    }
   ],
   "source": [
    "sns.barplot(x=cat, y='Survived', data=traindf)\n",
    "plt.ylabel('Survival probability')"
   ]
  },
  {
   "cell_type": "markdown",
   "metadata": {},
   "source": [
    "## Normalising the SibSp category"
   ]
  },
  {
   "cell_type": "code",
   "execution_count": 50,
   "metadata": {
    "execution": {
     "iopub.execute_input": "2021-08-23T12:29:08.967728Z",
     "iopub.status.busy": "2021-08-23T12:29:08.967430Z",
     "iopub.status.idle": "2021-08-23T12:29:08.976678Z",
     "shell.execute_reply": "2021-08-23T12:29:08.975299Z",
     "shell.execute_reply.started": "2021-08-23T12:29:08.967699Z"
    }
   },
   "outputs": [],
   "source": [
    "scaler=MinMaxScaler()\n",
    "scaler.fit(traindf['SibSp'].values.reshape(-1,1))\n",
    "scaled_age=scaler.transform(traindf['SibSp'].values.reshape(-1,1))\n",
    "traindf['SibSp']=scaled_age"
   ]
  },
  {
   "cell_type": "code",
   "execution_count": 51,
   "metadata": {
    "execution": {
     "iopub.execute_input": "2021-08-23T12:29:08.978447Z",
     "iopub.status.busy": "2021-08-23T12:29:08.978089Z",
     "iopub.status.idle": "2021-08-23T12:29:09.004262Z",
     "shell.execute_reply": "2021-08-23T12:29:09.003081Z",
     "shell.execute_reply.started": "2021-08-23T12:29:08.978414Z"
    }
   },
   "outputs": [
    {
     "data": {
      "text/html": [
       "<div>\n",
       "<style scoped>\n",
       "    .dataframe tbody tr th:only-of-type {\n",
       "        vertical-align: middle;\n",
       "    }\n",
       "\n",
       "    .dataframe tbody tr th {\n",
       "        vertical-align: top;\n",
       "    }\n",
       "\n",
       "    .dataframe thead th {\n",
       "        text-align: right;\n",
       "    }\n",
       "</style>\n",
       "<table border=\"1\" class=\"dataframe\">\n",
       "  <thead>\n",
       "    <tr style=\"text-align: right;\">\n",
       "      <th></th>\n",
       "      <th>Survived</th>\n",
       "      <th>Pclass</th>\n",
       "      <th>Name</th>\n",
       "      <th>Sex</th>\n",
       "      <th>Age</th>\n",
       "      <th>SibSp</th>\n",
       "      <th>Parch</th>\n",
       "      <th>Fare</th>\n",
       "      <th>Embarked</th>\n",
       "    </tr>\n",
       "    <tr>\n",
       "      <th>PassengerId</th>\n",
       "      <th></th>\n",
       "      <th></th>\n",
       "      <th></th>\n",
       "      <th></th>\n",
       "      <th></th>\n",
       "      <th></th>\n",
       "      <th></th>\n",
       "      <th></th>\n",
       "      <th></th>\n",
       "    </tr>\n",
       "  </thead>\n",
       "  <tbody>\n",
       "    <tr>\n",
       "      <th>1</th>\n",
       "      <td>0</td>\n",
       "      <td>3</td>\n",
       "      <td>Braund, Mr. Owen Harris</td>\n",
       "      <td>0</td>\n",
       "      <td>0.271174</td>\n",
       "      <td>0.125</td>\n",
       "      <td>0</td>\n",
       "      <td>0.014151</td>\n",
       "      <td>1</td>\n",
       "    </tr>\n",
       "    <tr>\n",
       "      <th>2</th>\n",
       "      <td>1</td>\n",
       "      <td>1</td>\n",
       "      <td>Cumings, Mrs. John Bradley (Florence Briggs Th...</td>\n",
       "      <td>1</td>\n",
       "      <td>0.472229</td>\n",
       "      <td>0.125</td>\n",
       "      <td>0</td>\n",
       "      <td>0.139136</td>\n",
       "      <td>2</td>\n",
       "    </tr>\n",
       "    <tr>\n",
       "      <th>3</th>\n",
       "      <td>1</td>\n",
       "      <td>3</td>\n",
       "      <td>Heikkinen, Miss. Laina</td>\n",
       "      <td>1</td>\n",
       "      <td>0.321438</td>\n",
       "      <td>0.000</td>\n",
       "      <td>0</td>\n",
       "      <td>0.015469</td>\n",
       "      <td>1</td>\n",
       "    </tr>\n",
       "    <tr>\n",
       "      <th>4</th>\n",
       "      <td>1</td>\n",
       "      <td>1</td>\n",
       "      <td>Futrelle, Mrs. Jacques Heath (Lily May Peel)</td>\n",
       "      <td>1</td>\n",
       "      <td>0.434531</td>\n",
       "      <td>0.125</td>\n",
       "      <td>0</td>\n",
       "      <td>0.103644</td>\n",
       "      <td>1</td>\n",
       "    </tr>\n",
       "    <tr>\n",
       "      <th>5</th>\n",
       "      <td>0</td>\n",
       "      <td>3</td>\n",
       "      <td>Allen, Mr. William Henry</td>\n",
       "      <td>0</td>\n",
       "      <td>0.434531</td>\n",
       "      <td>0.000</td>\n",
       "      <td>0</td>\n",
       "      <td>0.015713</td>\n",
       "      <td>1</td>\n",
       "    </tr>\n",
       "  </tbody>\n",
       "</table>\n",
       "</div>"
      ],
      "text/plain": [
       "             Survived  Pclass  \\\n",
       "PassengerId                     \n",
       "1                   0       3   \n",
       "2                   1       1   \n",
       "3                   1       3   \n",
       "4                   1       1   \n",
       "5                   0       3   \n",
       "\n",
       "                                                          Name Sex       Age  \\\n",
       "PassengerId                                                                    \n",
       "1                                      Braund, Mr. Owen Harris   0  0.271174   \n",
       "2            Cumings, Mrs. John Bradley (Florence Briggs Th...   1  0.472229   \n",
       "3                                       Heikkinen, Miss. Laina   1  0.321438   \n",
       "4                 Futrelle, Mrs. Jacques Heath (Lily May Peel)   1  0.434531   \n",
       "5                                     Allen, Mr. William Henry   0  0.434531   \n",
       "\n",
       "             SibSp  Parch      Fare Embarked  \n",
       "PassengerId                                   \n",
       "1            0.125      0  0.014151        1  \n",
       "2            0.125      0  0.139136        2  \n",
       "3            0.000      0  0.015469        1  \n",
       "4            0.125      0  0.103644        1  \n",
       "5            0.000      0  0.015713        1  "
      ]
     },
     "execution_count": 51,
     "metadata": {},
     "output_type": "execute_result"
    }
   ],
   "source": [
    "traindf.head()"
   ]
  },
  {
   "cell_type": "code",
   "execution_count": 52,
   "metadata": {
    "execution": {
     "iopub.execute_input": "2021-08-23T12:29:09.006150Z",
     "iopub.status.busy": "2021-08-23T12:29:09.005825Z",
     "iopub.status.idle": "2021-08-23T12:29:09.452791Z",
     "shell.execute_reply": "2021-08-23T12:29:09.451453Z",
     "shell.execute_reply.started": "2021-08-23T12:29:09.006117Z"
    }
   },
   "outputs": [
    {
     "data": {
      "text/plain": [
       "Text(0, 0.5, 'Survival probability')"
      ]
     },
     "execution_count": 52,
     "metadata": {},
     "output_type": "execute_result"
    },
    {
     "data": {
      "image/png": "[encoded data removed]",
      "text/plain": [
       "<Figure size 720x432 with 1 Axes>"
      ]
     },
     "metadata": {
      "needs_background": "light"
     },
     "output_type": "display_data"
    }
   ],
   "source": [
    "sns.barplot(x=cat, y='Survived', data=traindf)\n",
    "plt.ylabel('Survival probability')"
   ]
  },
  {
   "cell_type": "markdown",
   "metadata": {},
   "source": [
    "## Parch category"
   ]
  },
  {
   "cell_type": "code",
   "execution_count": 53,
   "metadata": {
    "execution": {
     "iopub.execute_input": "2021-08-23T12:29:09.454675Z",
     "iopub.status.busy": "2021-08-23T12:29:09.454366Z",
     "iopub.status.idle": "2021-08-23T12:29:09.867609Z",
     "shell.execute_reply": "2021-08-23T12:29:09.866365Z",
     "shell.execute_reply.started": "2021-08-23T12:29:09.454645Z"
    }
   },
   "outputs": [
    {
     "name": "stdout",
     "output_type": "stream",
     "text": [
      "   Parch  Survived\n",
      "3      3  0.600000\n",
      "1      1  0.550847\n",
      "2      2  0.500000\n",
      "0      0  0.343658\n",
      "5      5  0.200000\n",
      "4      4  0.000000\n",
      "6      6  0.000000\n"
     ]
    },
    {
     "data": {
      "text/plain": [
       "Text(0, 0.5, 'Survival probability')"
      ]
     },
     "execution_count": 53,
     "metadata": {},
     "output_type": "execute_result"
    },
    {
     "data": {
      "image/png": "[encoded data removed]",
      "text/plain": [
       "<Figure size 720x432 with 1 Axes>"
      ]
     },
     "metadata": {
      "needs_background": "light"
     },
     "output_type": "display_data"
    }
   ],
   "source": [
    "cat='Parch'\n",
    "traindf[cat].value_counts()\n",
    "##COUNT HOW MANY OF EACH SEX SURVIVED\n",
    "print(traindf[[cat, 'Survived']].groupby(cat, as_index=False).mean().sort_values(by='Survived', ascending=False))\n",
    "sns.barplot(x=cat, y='Survived', data=traindf)\n",
    "plt.ylabel('Survival probability')"
   ]
  },
  {
   "cell_type": "markdown",
   "metadata": {},
   "source": [
    "## Normalising the Parch "
   ]
  },
  {
   "cell_type": "code",
   "execution_count": 54,
   "metadata": {
    "execution": {
     "iopub.execute_input": "2021-08-23T12:29:09.869688Z",
     "iopub.status.busy": "2021-08-23T12:29:09.869228Z",
     "iopub.status.idle": "2021-08-23T12:29:09.878355Z",
     "shell.execute_reply": "2021-08-23T12:29:09.877013Z",
     "shell.execute_reply.started": "2021-08-23T12:29:09.869645Z"
    }
   },
   "outputs": [],
   "source": [
    "scaler=MinMaxScaler()\n",
    "scaler.fit(traindf['Parch'].values.reshape(-1,1))\n",
    "scaled_age=scaler.transform(traindf['Parch'].values.reshape(-1,1))\n",
    "traindf['Parch']=scaled_age"
   ]
  },
  {
   "cell_type": "code",
   "execution_count": 55,
   "metadata": {
    "execution": {
     "iopub.execute_input": "2021-08-23T12:29:09.880951Z",
     "iopub.status.busy": "2021-08-23T12:29:09.880422Z",
     "iopub.status.idle": "2021-08-23T12:29:09.892292Z",
     "shell.execute_reply": "2021-08-23T12:29:09.891114Z",
     "shell.execute_reply.started": "2021-08-23T12:29:09.880904Z"
    }
   },
   "outputs": [],
   "source": [
    "# traindf.head(20)"
   ]
  },
  {
   "cell_type": "code",
   "execution_count": 56,
   "metadata": {
    "execution": {
     "iopub.execute_input": "2021-08-23T12:29:09.893947Z",
     "iopub.status.busy": "2021-08-23T12:29:09.893573Z",
     "iopub.status.idle": "2021-08-23T12:29:10.385008Z",
     "shell.execute_reply": "2021-08-23T12:29:10.383844Z",
     "shell.execute_reply.started": "2021-08-23T12:29:09.893914Z"
    }
   },
   "outputs": [
    {
     "data": {
      "text/plain": [
       "<seaborn.axisgrid.FacetGrid at 0x7fee584edb90>"
      ]
     },
     "execution_count": 56,
     "metadata": {},
     "output_type": "execute_result"
    },
    {
     "data": {
      "image/png": "[encoded data removed]",
      "text/plain": [
       "<Figure size 432x216 with 2 Axes>"
      ]
     },
     "metadata": {
      "needs_background": "light"
     },
     "output_type": "display_data"
    }
   ],
   "source": [
    "g=sns.FacetGrid(traindf, col='Survived')\n",
    "g.map(sns.histplot, 'Age')"
   ]
  },
  {
   "cell_type": "markdown",
   "metadata": {},
   "source": [
    "## Fare category"
   ]
  },
  {
   "cell_type": "code",
   "execution_count": 57,
   "metadata": {
    "execution": {
     "iopub.execute_input": "2021-08-23T12:29:10.386960Z",
     "iopub.status.busy": "2021-08-23T12:29:10.386555Z",
     "iopub.status.idle": "2021-08-23T12:29:10.952619Z",
     "shell.execute_reply": "2021-08-23T12:29:10.951520Z",
     "shell.execute_reply.started": "2021-08-23T12:29:10.386927Z"
    }
   },
   "outputs": [
    {
     "data": {
      "text/plain": [
       "<seaborn.axisgrid.FacetGrid at 0x7fee58437550>"
      ]
     },
     "execution_count": 57,
     "metadata": {},
     "output_type": "execute_result"
    },
    {
     "data": {
      "image/png": "[encoded data removed]",
      "text/plain": [
       "<Figure size 360x360 with 1 Axes>"
      ]
     },
     "metadata": {
      "needs_background": "light"
     },
     "output_type": "display_data"
    }
   ],
   "source": [
    "sns.displot(traindf['Fare'])"
   ]
  },
  {
   "cell_type": "markdown",
   "metadata": {},
   "source": [
    "# SEND TRAINDF TO CSV"
   ]
  },
  {
   "cell_type": "code",
   "execution_count": 58,
   "metadata": {
    "execution": {
     "iopub.execute_input": "2021-08-23T12:29:10.954509Z",
     "iopub.status.busy": "2021-08-23T12:29:10.953978Z",
     "iopub.status.idle": "2021-08-23T12:29:10.974006Z",
     "shell.execute_reply": "2021-08-23T12:29:10.972965Z",
     "shell.execute_reply.started": "2021-08-23T12:29:10.954457Z"
    }
   },
   "outputs": [],
   "source": [
    "traindf.to_csv('MOD_TITANIC.csv')"
   ]
  },
  {
   "cell_type": "markdown",
   "metadata": {},
   "source": [
    "# MACHINE LEARNING ATTEMPT 1\n",
    "\n",
    "This attempt uses the traindf dataframe without feature engineering"
   ]
  },
  {
   "cell_type": "markdown",
   "metadata": {},
   "source": [
    "## Split train and test sets"
   ]
  },
  {
   "cell_type": "code",
   "execution_count": 59,
   "metadata": {
    "execution": {
     "iopub.execute_input": "2021-08-23T12:29:10.976014Z",
     "iopub.status.busy": "2021-08-23T12:29:10.975458Z",
     "iopub.status.idle": "2021-08-23T12:29:10.982735Z",
     "shell.execute_reply": "2021-08-23T12:29:10.981477Z",
     "shell.execute_reply.started": "2021-08-23T12:29:10.975959Z"
    }
   },
   "outputs": [],
   "source": [
    "##DROP NAME COL\n",
    "datadf=traindf.copy()\n",
    "datadf.drop('Name', axis=1,  inplace=True)"
   ]
  },
  {
   "cell_type": "code",
   "execution_count": 67,
   "metadata": {
    "execution": {
     "iopub.execute_input": "2021-08-23T12:32:08.708889Z",
     "iopub.status.busy": "2021-08-23T12:32:08.708375Z",
     "iopub.status.idle": "2021-08-23T12:32:08.723843Z",
     "shell.execute_reply": "2021-08-23T12:32:08.722890Z",
     "shell.execute_reply.started": "2021-08-23T12:32:08.708851Z"
    }
   },
   "outputs": [
    {
     "name": "stdout",
     "output_type": "stream",
     "text": [
      "<class 'pandas.core.frame.DataFrame'>\n"
     ]
    },
    {
     "data": {
      "text/plain": [
       "((624, 7), (624,), (267, 7), None)"
      ]
     },
     "execution_count": 67,
     "metadata": {},
     "output_type": "execute_result"
    }
   ],
   "source": [
    "##SPECIFY X, Y PARTS\n",
    "X=datadf.drop(['Survived'], axis=1)\n",
    "y=datadf.loc[:, 'Survived']\n",
    "\n",
    "##SPLIT USING 70, 30\n",
    "X_train, X_test, y_train, y_test=train_test_split(X, y, test_size=0.299, shuffle=False)\n",
    "\n",
    "X_train.shape, y_train.shape, X_test.shape, print(type(X_train))"
   ]
  },
  {
   "cell_type": "code",
   "execution_count": 68,
   "metadata": {
    "execution": {
     "iopub.execute_input": "2021-08-23T12:32:10.184436Z",
     "iopub.status.busy": "2021-08-23T12:32:10.183813Z",
     "iopub.status.idle": "2021-08-23T12:32:10.201166Z",
     "shell.execute_reply": "2021-08-23T12:32:10.200277Z",
     "shell.execute_reply.started": "2021-08-23T12:32:10.184401Z"
    }
   },
   "outputs": [
    {
     "data": {
      "text/html": [
       "<div>\n",
       "<style scoped>\n",
       "    .dataframe tbody tr th:only-of-type {\n",
       "        vertical-align: middle;\n",
       "    }\n",
       "\n",
       "    .dataframe tbody tr th {\n",
       "        vertical-align: top;\n",
       "    }\n",
       "\n",
       "    .dataframe thead th {\n",
       "        text-align: right;\n",
       "    }\n",
       "</style>\n",
       "<table border=\"1\" class=\"dataframe\">\n",
       "  <thead>\n",
       "    <tr style=\"text-align: right;\">\n",
       "      <th></th>\n",
       "      <th>Pclass</th>\n",
       "      <th>Sex</th>\n",
       "      <th>Age</th>\n",
       "      <th>SibSp</th>\n",
       "      <th>Parch</th>\n",
       "      <th>Fare</th>\n",
       "      <th>Embarked</th>\n",
       "    </tr>\n",
       "    <tr>\n",
       "      <th>PassengerId</th>\n",
       "      <th></th>\n",
       "      <th></th>\n",
       "      <th></th>\n",
       "      <th></th>\n",
       "      <th></th>\n",
       "      <th></th>\n",
       "      <th></th>\n",
       "    </tr>\n",
       "  </thead>\n",
       "  <tbody>\n",
       "    <tr>\n",
       "      <th>1</th>\n",
       "      <td>3</td>\n",
       "      <td>0</td>\n",
       "      <td>0.271174</td>\n",
       "      <td>0.125</td>\n",
       "      <td>0.0</td>\n",
       "      <td>0.014151</td>\n",
       "      <td>1</td>\n",
       "    </tr>\n",
       "    <tr>\n",
       "      <th>2</th>\n",
       "      <td>1</td>\n",
       "      <td>1</td>\n",
       "      <td>0.472229</td>\n",
       "      <td>0.125</td>\n",
       "      <td>0.0</td>\n",
       "      <td>0.139136</td>\n",
       "      <td>2</td>\n",
       "    </tr>\n",
       "    <tr>\n",
       "      <th>3</th>\n",
       "      <td>3</td>\n",
       "      <td>1</td>\n",
       "      <td>0.321438</td>\n",
       "      <td>0.000</td>\n",
       "      <td>0.0</td>\n",
       "      <td>0.015469</td>\n",
       "      <td>1</td>\n",
       "    </tr>\n",
       "    <tr>\n",
       "      <th>4</th>\n",
       "      <td>1</td>\n",
       "      <td>1</td>\n",
       "      <td>0.434531</td>\n",
       "      <td>0.125</td>\n",
       "      <td>0.0</td>\n",
       "      <td>0.103644</td>\n",
       "      <td>1</td>\n",
       "    </tr>\n",
       "    <tr>\n",
       "      <th>5</th>\n",
       "      <td>3</td>\n",
       "      <td>0</td>\n",
       "      <td>0.434531</td>\n",
       "      <td>0.000</td>\n",
       "      <td>0.0</td>\n",
       "      <td>0.015713</td>\n",
       "      <td>1</td>\n",
       "    </tr>\n",
       "  </tbody>\n",
       "</table>\n",
       "</div>"
      ],
      "text/plain": [
       "             Pclass Sex       Age  SibSp  Parch      Fare Embarked\n",
       "PassengerId                                                       \n",
       "1                 3   0  0.271174  0.125    0.0  0.014151        1\n",
       "2                 1   1  0.472229  0.125    0.0  0.139136        2\n",
       "3                 3   1  0.321438  0.000    0.0  0.015469        1\n",
       "4                 1   1  0.434531  0.125    0.0  0.103644        1\n",
       "5                 3   0  0.434531  0.000    0.0  0.015713        1"
      ]
     },
     "execution_count": 68,
     "metadata": {},
     "output_type": "execute_result"
    }
   ],
   "source": [
    "X_train.head(5)"
   ]
  },
  {
   "cell_type": "code",
   "execution_count": 69,
   "metadata": {
    "execution": {
     "iopub.execute_input": "2021-08-23T12:32:11.240717Z",
     "iopub.status.busy": "2021-08-23T12:32:11.240279Z",
     "iopub.status.idle": "2021-08-23T12:32:11.249784Z",
     "shell.execute_reply": "2021-08-23T12:32:11.248225Z",
     "shell.execute_reply.started": "2021-08-23T12:32:11.240682Z"
    }
   },
   "outputs": [
    {
     "data": {
      "text/plain": [
       "PassengerId\n",
       "1    0\n",
       "2    1\n",
       "3    1\n",
       "4    1\n",
       "5    0\n",
       "Name: Survived, dtype: int64"
      ]
     },
     "execution_count": 69,
     "metadata": {},
     "output_type": "execute_result"
    }
   ],
   "source": [
    "y_train.head(5)"
   ]
  },
  {
   "cell_type": "markdown",
   "metadata": {},
   "source": [
    "## Logistic Regression"
   ]
  },
  {
   "cell_type": "code",
   "execution_count": 70,
   "metadata": {
    "execution": {
     "iopub.execute_input": "2021-08-23T12:32:12.441765Z",
     "iopub.status.busy": "2021-08-23T12:32:12.441159Z",
     "iopub.status.idle": "2021-08-23T12:32:12.483568Z",
     "shell.execute_reply": "2021-08-23T12:32:12.482357Z",
     "shell.execute_reply.started": "2021-08-23T12:32:12.441725Z"
    }
   },
   "outputs": [
    {
     "name": "stdout",
     "output_type": "stream",
     "text": [
      "267\n",
      "0.8014981273408239\n"
     ]
    },
    {
     "data": {
      "text/html": [
       "<div>\n",
       "<style scoped>\n",
       "    .dataframe tbody tr th:only-of-type {\n",
       "        vertical-align: middle;\n",
       "    }\n",
       "\n",
       "    .dataframe tbody tr th {\n",
       "        vertical-align: top;\n",
       "    }\n",
       "\n",
       "    .dataframe thead th {\n",
       "        text-align: right;\n",
       "    }\n",
       "</style>\n",
       "<table border=\"1\" class=\"dataframe\">\n",
       "  <thead>\n",
       "    <tr style=\"text-align: right;\">\n",
       "      <th></th>\n",
       "      <th>Survived</th>\n",
       "    </tr>\n",
       "    <tr>\n",
       "      <th>PassengerId</th>\n",
       "      <th></th>\n",
       "    </tr>\n",
       "  </thead>\n",
       "  <tbody>\n",
       "    <tr>\n",
       "      <th>625</th>\n",
       "      <td>0</td>\n",
       "    </tr>\n",
       "    <tr>\n",
       "      <th>626</th>\n",
       "      <td>0</td>\n",
       "    </tr>\n",
       "    <tr>\n",
       "      <th>627</th>\n",
       "      <td>0</td>\n",
       "    </tr>\n",
       "    <tr>\n",
       "      <th>628</th>\n",
       "      <td>1</td>\n",
       "    </tr>\n",
       "    <tr>\n",
       "      <th>629</th>\n",
       "      <td>0</td>\n",
       "    </tr>\n",
       "    <tr>\n",
       "      <th>...</th>\n",
       "      <td>...</td>\n",
       "    </tr>\n",
       "    <tr>\n",
       "      <th>887</th>\n",
       "      <td>0</td>\n",
       "    </tr>\n",
       "    <tr>\n",
       "      <th>888</th>\n",
       "      <td>1</td>\n",
       "    </tr>\n",
       "    <tr>\n",
       "      <th>889</th>\n",
       "      <td>1</td>\n",
       "    </tr>\n",
       "    <tr>\n",
       "      <th>890</th>\n",
       "      <td>1</td>\n",
       "    </tr>\n",
       "    <tr>\n",
       "      <th>891</th>\n",
       "      <td>0</td>\n",
       "    </tr>\n",
       "  </tbody>\n",
       "</table>\n",
       "<p>267 rows × 1 columns</p>\n",
       "</div>"
      ],
      "text/plain": [
       "             Survived\n",
       "PassengerId          \n",
       "625                 0\n",
       "626                 0\n",
       "627                 0\n",
       "628                 1\n",
       "629                 0\n",
       "...               ...\n",
       "887                 0\n",
       "888                 1\n",
       "889                 1\n",
       "890                 1\n",
       "891                 0\n",
       "\n",
       "[267 rows x 1 columns]"
      ]
     },
     "execution_count": 70,
     "metadata": {},
     "output_type": "execute_result"
    }
   ],
   "source": [
    "lr=LogisticRegression()\n",
    "lr.fit(X_train, y_train)\n",
    "y_pred=lr.predict(X_test)\n",
    "print(len(y_pred))\n",
    "\n",
    "##HOW ACCURATE ARE THE PREDICTIONS\n",
    "lr_score=accuracy_score(y_test, y_pred)\n",
    "\n",
    "df_pred=pd.DataFrame(y_pred, index=y_test.index)\n",
    "df_pred.columns=['Survived']\n",
    "\n",
    "df_pred.to_csv('LR_PRED.csv')\n",
    "\n",
    "print(lr_score)\n",
    "df_pred"
   ]
  },
  {
   "cell_type": "markdown",
   "metadata": {},
   "source": [
    "## Support Vector Machines"
   ]
  },
  {
   "cell_type": "code",
   "execution_count": 71,
   "metadata": {
    "execution": {
     "iopub.execute_input": "2021-08-23T12:32:14.083875Z",
     "iopub.status.busy": "2021-08-23T12:32:14.083491Z",
     "iopub.status.idle": "2021-08-23T12:32:14.113628Z",
     "shell.execute_reply": "2021-08-23T12:32:14.112304Z",
     "shell.execute_reply.started": "2021-08-23T12:32:14.083845Z"
    }
   },
   "outputs": [
    {
     "name": "stdout",
     "output_type": "stream",
     "text": [
      "0.8202247191011236\n"
     ]
    }
   ],
   "source": [
    "svc=SVC()\n",
    "svc.fit(X_train, y_train)\n",
    "y_pred=svc.predict(X_test)\n",
    "\n",
    "##HOW ACCURATE ARE THE PREDICTIONS\n",
    "svm_score=accuracy_score(y_test, y_pred)\n",
    "\n",
    "##DF PRED\n",
    "df_pred=pd.DataFrame(y_pred, index=y_test.index)\n",
    "df_pred.columns=['Survived']\n",
    "\n",
    "df_pred.to_csv('SVM_PRED.csv')\n",
    "\n",
    "print(svm_score)\n"
   ]
  },
  {
   "cell_type": "markdown",
   "metadata": {},
   "source": [
    "### K Nearest Neighbour (KNN)"
   ]
  },
  {
   "cell_type": "code",
   "execution_count": 72,
   "metadata": {
    "execution": {
     "iopub.execute_input": "2021-08-23T12:32:15.997693Z",
     "iopub.status.busy": "2021-08-23T12:32:15.997126Z",
     "iopub.status.idle": "2021-08-23T12:32:16.028072Z",
     "shell.execute_reply": "2021-08-23T12:32:16.026840Z",
     "shell.execute_reply.started": "2021-08-23T12:32:15.997652Z"
    }
   },
   "outputs": [
    {
     "name": "stdout",
     "output_type": "stream",
     "text": [
      "0.7902621722846442\n"
     ]
    }
   ],
   "source": [
    "knn=KNeighborsClassifier(n_neighbors=5)\n",
    "knn.fit(X_train, y_train)\n",
    "y_pred=knn.predict(X_test)\n",
    "\n",
    "##HOW ACCURATE ARE THE PREDICTIONS\n",
    "knn_score=accuracy_score(y_test, y_pred)\n",
    "\n",
    "##DF PRED\n",
    "df_pred=pd.DataFrame(y_pred, index=y_test.index)\n",
    "df_pred.columns=['Survived']\n",
    "\n",
    "df_pred.to_csv('KNN_PRED.csv')\n",
    "\n",
    "print(knn_score)"
   ]
  },
  {
   "cell_type": "markdown",
   "metadata": {},
   "source": [
    "## Random Forest Classifer"
   ]
  },
  {
   "cell_type": "code",
   "execution_count": 73,
   "metadata": {
    "execution": {
     "iopub.execute_input": "2021-08-23T12:32:17.262771Z",
     "iopub.status.busy": "2021-08-23T12:32:17.262401Z",
     "iopub.status.idle": "2021-08-23T12:32:17.493667Z",
     "shell.execute_reply": "2021-08-23T12:32:17.492528Z",
     "shell.execute_reply.started": "2021-08-23T12:32:17.262736Z"
    }
   },
   "outputs": [
    {
     "name": "stdout",
     "output_type": "stream",
     "text": [
      "0.8239700374531835\n"
     ]
    }
   ],
   "source": [
    "model=RandomForestClassifier(n_estimators=100, max_depth=5, random_state=1)\n",
    "model.fit(X_train, y_train)\n",
    "y_pred=model.predict(X_test)\n",
    "\n",
    "##HOW ACCURATE ARE THE PREDICTIONS\n",
    "rfc_score=accuracy_score(y_test, y_pred)\n",
    "\n",
    "##DF PRED\n",
    "df_pred=pd.DataFrame(y_pred, index=y_test.index)\n",
    "df_pred.columns=['Survived']\n",
    "\n",
    "df_pred.to_csv('RFC_PRED.csv')\n",
    "\n",
    "print(rfc_score)"
   ]
  },
  {
   "cell_type": "code",
   "execution_count": null,
   "metadata": {},
   "outputs": [],
   "source": []
  },
  {
   "cell_type": "code",
   "execution_count": null,
   "metadata": {},
   "outputs": [],
   "source": []
  },
  {
   "cell_type": "code",
   "execution_count": null,
   "metadata": {},
   "outputs": [],
   "source": []
  }
 ],
 "metadata": {
  "kernelspec": {
   "display_name": "Python 3",
   "language": "python",
   "name": "python3"
  },
  "language_info": {
   "codemirror_mode": {
    "name": "ipython",
    "version": 3
   },
   "file_extension": ".py",
   "mimetype": "text/x-python",
   "name": "python",
   "nbconvert_exporter": "python",
   "pygments_lexer": "ipython3",
   "version": "3.8.8"
  }
 },
 "nbformat": 4,
 "nbformat_minor": 4
}
