{
  "nbformat": 4,
  "nbformat_minor": 0,
  "metadata": {
    "colab": {
      "name": "RepMLA_Lab-1_6.ipynb",
      "provenance": []
    },
    "kernelspec": {
      "name": "python3",
      "display_name": "Python 3"
    },
    "language_info": {
      "name": "python"
    }
  },
  "cells": [
    {
      "cell_type": "markdown",
      "metadata": {
        "id": "Qvexyww7a-0o"
      },
      "source": [
        "<div>\n",
        "<img src=\"https://drive.google.com/uc?export=view&id=1vK33e_EqaHgBHcbRV_m38hx6IkG0blK_\" width=\"350\"/>\n",
        "</div> \n",
        "\n",
        "#**Artificial Intelligence - MSc**\n",
        "CS6501 - MACHINE LEARNING AND APPLICATIONS\n",
        "#**Business Analytics - MSc**\n",
        "ET5003 - MACHINE LEARNING APPLICATIONS \n",
        "##***Annual Repeat***\n",
        "###Instructor: Enrique Naredo\n",
        "\n",
        "###RepMLA_Lab-1.6\n",
        "\n",
        "Student ID: \n",
        "\n",
        "Student name: "
      ]
    },
    {
      "cell_type": "markdown",
      "metadata": {
        "id": "PFvNOA7si2d_"
      },
      "source": [
        "# Numpy"
      ]
    },
    {
      "cell_type": "markdown",
      "metadata": {
        "id": "_JcEGZQDi2eC"
      },
      "source": [
        "\n",
        "This part focuses on Numpy, see <a href=\"http://cs.haverford.edu/faculty/smathieson/teaching/f19/labs/lab01/lab01.html\">numpy quickstart tutorial</a>, which I encourage you to reference throughout the course.\n",
        "\n",
        "\n",
        "Some problems about numpy\n",
        "\n"
      ]
    },
    {
      "cell_type": "markdown",
      "metadata": {
        "id": "GmTAAkiAi2eH"
      },
      "source": [
        "# Problem 11\n",
        "Normalize a 5x5 random matrix\n",
        "\n",
        "Solution:\n",
        ">Z = np.random.random((5,5))\n",
        ">\n",
        ">Z = (Z - np.mean (Z)) / (np.std (Z))\n",
        ">\n",
        ">print(Z)\n"
      ]
    },
    {
      "cell_type": "markdown",
      "metadata": {
        "id": "Y73QHZ8fi2eH"
      },
      "source": [
        "# Problem 12\n",
        "\n",
        "Multiply a 5x3 matrix by a 3x2 matrix (matrix product)"
      ]
    },
    {
      "cell_type": "markdown",
      "metadata": {
        "id": "qd0RVtHhi2eI"
      },
      "source": [
        "# Problem 13\n",
        "Given a 1D array, negate all elements which are between 3 and 8, in place. "
      ]
    },
    {
      "cell_type": "markdown",
      "metadata": {
        "id": "ATdBweZpi2eI"
      },
      "source": [
        "# Problem 14\n",
        "How to find common values between two arrays?\n"
      ]
    },
    {
      "cell_type": "markdown",
      "metadata": {
        "id": "enAmhXegi2eI"
      },
      "source": [
        "# Problem 15\n",
        "How to find the most frequent value in an array? (Use `Z = np.random.randint(0,10,50)` to generate the array)"
      ]
    }
  ]
}