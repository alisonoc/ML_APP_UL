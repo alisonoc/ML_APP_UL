{
  "nbformat": 4,
  "nbformat_minor": 0,
  "metadata": {
    "colab": {
      "name": "RepMLA_Lab-1_13.ipynb",
      "provenance": []
    },
    "kernelspec": {
      "name": "python3",
      "display_name": "Python 3"
    },
    "language_info": {
      "name": "python"
    }
  },
  "cells": [
    {
      "cell_type": "markdown",
      "metadata": {
        "id": "Qvexyww7a-0o"
      },
      "source": [
        "<div>\n",
        "<img src=\"https://drive.google.com/uc?export=view&id=1vK33e_EqaHgBHcbRV_m38hx6IkG0blK_\" width=\"350\"/>\n",
        "</div> \n",
        "\n",
        "#**Artificial Intelligence - MSc**\n",
        "CS6501 - MACHINE LEARNING AND APPLICATIONS\n",
        "#**Business Analytics - MSc**\n",
        "ET5003 - MACHINE LEARNING APPLICATIONS \n",
        "##***Annual Repeat***\n",
        "###Instructor: Enrique Naredo\n",
        "\n",
        "###RepMLA_Lab-1.13\n",
        "\n",
        "Student ID: \n",
        "\n",
        "Student name: "
      ]
    },
    {
      "cell_type": "markdown",
      "metadata": {
        "id": "pLNHPNlXlUk0"
      },
      "source": [
        "# E-tivity: K-Nearest Neighbors"
      ]
    },
    {
      "cell_type": "markdown",
      "metadata": {
        "id": "wbGmVVOWlUk3"
      },
      "source": [
        "## Overview\n",
        "\n",
        "The goal is to implement the K-nearest neighbors algorithm (a supervised machine learning algorithm) and apply it to a real dataset. Along the way you should familiarize yourself with some of the terminology you have read in the note. You will also get a chance to practice with Python and working with large datasets.\n"
      ]
    },
    {
      "cell_type": "markdown",
      "metadata": {
        "id": "0TpgU67FlUk3"
      },
      "source": [
        "## Dataset introduction\n",
        "\n",
        "The handwritten digit recognition is the ability of computers to recognize human handwritten digits. It is a hard task for the machine because handwritten digits are not perfect and can be made with many different flavors. The handwritten digit recognition is the solution to this problem which uses the image of a digit and recognizes the digit present in the image.\n",
        "\n",
        "The dataset for this E-tivity is a set of handwritten digits from zip codes written on hand-addressed letters (MNIST-Modified National Institute of Standards and Technology database). \n",
        "\n",
        "Read about this dataset by going to the Elements of Statistical Learning website, <a href=\"https://web.stanford.edu/~hastie/ElemStatLearn/\">ESL</a>, then clicking on the `Data` tab, then clicking on the `Info` for the zip code dataset (the last dataset). \n",
        "\n",
        "Use the command less in the terminal to view the beginning of each file. Both datasets have the same format: the first column is the \"label\" (or class) (here an integer between 0 and 9, inclusive, that corresponds to the identity of a hand-written zip code digit), and the rest of each row is made up of gray-scale values corresponding to the image of this hand-written digit.\n",
        "\n",
        "One useful technique is to load a dataset from a file into a numpy array. Here is an example:"
      ]
    },
    {
      "cell_type": "code",
      "metadata": {
        "id": "fWOGDvcolUk4",
        "outputId": "f961bf17-07e8-49dc-a9fc-32c9cc220d47"
      },
      "source": [
        "import numpy as np\n",
        "train_data = np.loadtxt(\"datasets/mnist.train\") #\"path/to/train/file\"\n",
        "test_data  = np.loadtxt(\"datasets/mnist.test\")\n",
        "\n",
        "print(train_data.shape)\n",
        "print(test_data.shape)"
      ],
      "execution_count": null,
      "outputs": [
        {
          "output_type": "stream",
          "text": [
            "(7291, 257)\n",
            "(2007, 257)\n"
          ],
          "name": "stdout"
        }
      ]
    },
    {
      "cell_type": "code",
      "metadata": {
        "id": "_--pMIHJlUk5",
        "outputId": "f738db1f-27d8-460a-fe9a-e82dd96c441a"
      },
      "source": [
        "train_data #each row is a different image"
      ],
      "execution_count": null,
      "outputs": [
        {
          "output_type": "execute_result",
          "data": {
            "text/plain": [
              "array([[ 6.   , -1.   , -1.   , ..., -1.   , -1.   , -1.   ],\n",
              "       [ 5.   , -1.   , -1.   , ..., -0.671, -0.828, -1.   ],\n",
              "       [ 4.   , -1.   , -1.   , ..., -1.   , -1.   , -1.   ],\n",
              "       ...,\n",
              "       [ 3.   , -1.   , -1.   , ..., -1.   , -1.   , -1.   ],\n",
              "       [ 0.   , -1.   , -1.   , ..., -1.   , -1.   , -1.   ],\n",
              "       [ 1.   , -1.   , -1.   , ..., -1.   , -1.   , -1.   ]])"
            ]
          },
          "metadata": {
            "tags": []
          },
          "execution_count": 40
        }
      ]
    },
    {
      "cell_type": "markdown",
      "metadata": {
        "id": "336Q8CIUlUk6"
      },
      "source": [
        "The first column is the class, it tells us which digit we will find in the image, as you can see hereafter for the first row (it is a 6):"
      ]
    },
    {
      "cell_type": "code",
      "metadata": {
        "id": "UyPvWvnzlUk6",
        "outputId": "844b1f57-b4f1-4d07-bdce-8e0deb5eed0c"
      },
      "source": [
        "import matplotlib.pyplot as plt\n",
        "row=0\n",
        "flatten_image=train_data[row,1:]# each 16x16 image has been flatten into a vector\n",
        "im=flatten_image.reshape(16,16)\n",
        "print(im)#as a matrix\n",
        "plt.gray()\n",
        "plt.imshow(im)#as an image"
      ],
      "execution_count": null,
      "outputs": [
        {
          "output_type": "stream",
          "text": [
            "[[-1.    -1.    -1.    -1.    -1.    -1.    -1.    -0.631  0.862 -0.167\n",
            "  -1.    -1.    -1.    -1.    -1.    -1.   ]\n",
            " [-1.    -1.    -1.    -1.    -1.    -1.    -0.992  0.297  1.     0.307\n",
            "  -1.    -1.    -1.    -1.    -1.    -1.   ]\n",
            " [-1.    -1.    -1.    -1.    -1.    -1.    -0.41   1.     0.986 -0.565\n",
            "  -1.    -1.    -1.    -1.    -1.    -1.   ]\n",
            " [-1.    -1.    -1.    -1.    -1.    -0.683  0.825  1.     0.562 -1.\n",
            "  -1.    -1.    -1.    -1.    -1.    -1.   ]\n",
            " [-1.    -1.    -1.    -1.    -0.938  0.54   1.     0.778 -0.715 -1.\n",
            "  -1.    -1.    -1.    -1.    -1.    -1.   ]\n",
            " [-1.    -1.    -1.    -1.     0.1    1.     0.922 -0.439 -1.    -1.\n",
            "  -1.    -1.    -1.    -1.    -1.    -1.   ]\n",
            " [-1.    -1.    -1.    -0.257  0.95   1.    -0.162 -1.    -1.    -1.\n",
            "  -0.987 -0.714 -0.832 -1.    -1.    -1.   ]\n",
            " [-1.    -1.    -0.797  0.909  1.     0.3   -0.961 -1.    -1.    -0.55\n",
            "   0.485  0.996  0.867  0.092 -1.    -1.   ]\n",
            " [-1.    -1.     0.278  1.     0.877 -0.824 -1.    -0.905  0.145  0.977\n",
            "   1.     1.     1.     0.99  -0.745 -1.   ]\n",
            " [-1.    -0.95   0.847  1.     0.327 -1.    -1.     0.355  1.     0.655\n",
            "  -0.109 -0.185  1.     0.988 -0.723 -1.   ]\n",
            " [-1.    -0.63   1.     1.     0.068 -0.925  0.113  0.96   0.308 -0.884\n",
            "  -1.    -0.075  1.     0.641 -0.995 -1.   ]\n",
            " [-1.    -0.677  1.     1.     0.753  0.341  1.     0.707 -0.942 -1.\n",
            "  -1.     0.545  1.     0.027 -1.    -1.   ]\n",
            " [-1.    -0.903  0.792  1.     1.     1.     1.     0.536  0.184  0.812\n",
            "   0.837  0.978  0.864 -0.63  -1.    -1.   ]\n",
            " [-1.    -1.    -0.452  0.828  1.     1.     1.     1.     1.     1.\n",
            "   1.     1.     0.135 -1.    -1.    -1.   ]\n",
            " [-1.    -1.    -1.    -0.483  0.813  1.     1.     1.     1.     1.\n",
            "   1.     0.219 -0.943 -1.    -1.    -1.   ]\n",
            " [-1.    -1.    -1.    -1.    -0.974 -0.429  0.304  0.823  1.     0.482\n",
            "  -0.474 -0.991 -1.    -1.    -1.    -1.   ]]\n"
          ],
          "name": "stdout"
        },
        {
          "output_type": "execute_result",
          "data": {
            "text/plain": [
              "<matplotlib.image.AxesImage at 0x7f4e93a293c8>"
            ]
          },
          "metadata": {
            "tags": []
          },
          "execution_count": 41
        },
        {
          "output_type": "display_data",
          "data": {
            "image/png": "[encoded data removed]",
            "text/plain": [
              "<Figure size 432x288 with 1 Axes>"
            ]
          },
          "metadata": {
            "tags": [],
            "needs_background": "light"
          }
        }
      ]
    },
    {
      "cell_type": "markdown",
      "metadata": {
        "id": "AktYMkHQlUk7"
      },
      "source": [
        "The test set is similar:"
      ]
    },
    {
      "cell_type": "code",
      "metadata": {
        "id": "rIn2eSfSlUk7",
        "outputId": "2989e2e3-54ab-492a-e071-25cbd7c0c4bb"
      },
      "source": [
        "test_data"
      ],
      "execution_count": null,
      "outputs": [
        {
          "output_type": "execute_result",
          "data": {
            "text/plain": [
              "array([[ 9., -1., -1., ..., -1., -1., -1.],\n",
              "       [ 6., -1., -1., ..., -1., -1., -1.],\n",
              "       [ 3., -1., -1., ..., -1., -1., -1.],\n",
              "       ...,\n",
              "       [ 4., -1., -1., ..., -1., -1., -1.],\n",
              "       [ 0., -1., -1., ..., -1., -1., -1.],\n",
              "       [ 1., -1., -1., ..., -1., -1., -1.]])"
            ]
          },
          "metadata": {
            "tags": []
          },
          "execution_count": 42
        }
      ]
    },
    {
      "cell_type": "markdown",
      "metadata": {
        "id": "CQ3I2AgxlUk7"
      },
      "source": [
        "## Step 2: Filter the Data\n",
        "To start, we will just consider two classes, but here we have 10. We will get to such problems later, but for now, devise a way to retain only the rows which have label 2 or 3. Do this for both the train and test data.\n",
        "\n",
        "One important note: it may be convenient to relabel the 2 to -1 and the 3 to +1, since this will work better with our methods later on (but you do not have to do this).\n"
      ]
    },
    {
      "cell_type": "markdown",
      "metadata": {
        "id": "ZPNOPCNrlUk8"
      },
      "source": [
        "## Implement K-nearest neighbors\n",
        "\n",
        "The main goal of the E-tivity is to implement the K-nearest neighbors classifier to predict the class of each example from the test dataset. Exactly how you implement this part is up to you, but your code should be decomposed into functions, well commented, and easy to understand. Here are some suggestions:\n",
        "\n",
        "**Classification**\n",
        "Create a function that takes as input the train set, (at least) a test example and an integer K, and outputs a prediction based on a nearest-neighbor classifier. This function will loop through all the training examples, find the distance between each one and the input test example, and then find the K nearest neighbors (you are welcome to use numpy sorting methods, but look up how they work first). For this subroutine, we will need a distance function. In practice, you have to implement the algorithm 3 in <a href=\"http://ciml.info/dl/v0_99/ciml-v0_99-ch03.pdf\">Duame</a> (pag. 33).\n",
        "\n",
        "\n",
        "You should implement a Python function like:"
      ]
    },
    {
      "cell_type": "code",
      "metadata": {
        "id": "0UOu4rRklUk8"
      },
      "source": [
        "def KNN(train,test,K):\n",
        "    #FILL IT\n",
        "    return predicted_class_for_each_instance_in_test_set"
      ],
      "execution_count": null,
      "outputs": []
    },
    {
      "cell_type": "markdown",
      "metadata": {
        "id": "BIKGEbjRlUk8"
      },
      "source": [
        "**Distance function**\n",
        "An important part of many machine learning methods is the concept of \"distance\" between examples. We often phrase this as a \"metric\" on our inputs. Create a function that takes as input two examples (any two examples, although in this case we will use it with one test and one train), and outputs the distance (we will use Euclidean for now) between them. Although there are many built-in functions the perform this task, please implement your distance function from scratch. However, you are welcome to use numpy functions as part of it (for example, you may use np.sum and similar functions, but look up how they work first).\n",
        "\n",
        "\n",
        "**Quantify the accuracy**\n",
        "Loop through all the filtered test examples, using your classification function to predict the label for each one. Also create a way of determining if the prediction was correct or not, based on the labels of the test data. Compute the fraction or percentage of correctly predicted examples. How does this change as $K$ varies? Try $K$ 1-10 (at least) and record the accuracy.\n",
        "\n"
      ]
    },
    {
      "cell_type": "markdown",
      "metadata": {
        "id": "6EL9XEpUlUk9"
      },
      "source": [
        "## Questions:\n",
        "* What is the accuracy of KNN in the test set for K=1?\n",
        "* What is the accuracy of KNN in the test set for K=2?\n",
        "* What is the accuracy of KNN in the test set for K=3?\n",
        "* ...\n",
        "* What is the accuracy of KNN in the test set for K=10?"
      ]
    },
    {
      "cell_type": "markdown",
      "metadata": {
        "id": "Q9Tb96s3lUk9"
      },
      "source": [
        "## In depth questions\n",
        "\n",
        "* Extend your algorithm to a multi-class setting (i.e. distinguish between 3 or more digits). How does this change your best value of K?\n",
        "* If you are familiar with confusion matrices, create one for this test dataset and your “best” value of K.\n",
        "* Create a plot of accuracy vs. K.\n",
        "* Visualize some of the examples that were classified incorrectly. The examples are 16x16 gray-scale images, so you can plot them on a grid.\n",
        "\n",
        "**Analysis Questions**\n",
        "\n",
        "* What values of k did you try?\n",
        "* Which value of k produced the highest accuracy? What general trends did you observe as k increased?\n",
        "* When using the entire training dataset, what are your observations about the runtime of K-nearest neighbors? List 1-2 ideas for making this algorithm faster.\n"
      ]
    }
  ]
}