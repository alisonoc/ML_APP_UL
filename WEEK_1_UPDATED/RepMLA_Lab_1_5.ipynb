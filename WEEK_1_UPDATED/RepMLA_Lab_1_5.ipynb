{
  "nbformat": 4,
  "nbformat_minor": 0,
  "metadata": {
    "colab": {
      "name": "RepMLA_Lab_1_5.ipynb",
      "provenance": []
    },
    "kernelspec": {
      "name": "python3",
      "display_name": "Python 3"
    },
    "language_info": {
      "name": "python"
    }
  },
  "cells": [
    {
      "cell_type": "markdown",
      "metadata": {
        "id": "Qvexyww7a-0o"
      },
      "source": [
        "<div>\n",
        "<img src=\"https://drive.google.com/uc?export=view&id=1vK33e_EqaHgBHcbRV_m38hx6IkG0blK_\" width=\"350\"/>\n",
        "</div> \n",
        "\n",
        "#**Artificial Intelligence - MSc**\n",
        "CS6501 - MACHINE LEARNING AND APPLICATIONS\n",
        "#**Business Analytics - MSc**\n",
        "ET5003 - MACHINE LEARNING APPLICATIONS \n",
        "##***Annual Repeat***\n",
        "###Instructor: Enrique Naredo\n",
        "\n",
        "###RepMLA_Lab-1.5\n",
        "\n",
        "Student ID: \n",
        "\n",
        "Student name: "
      ]
    },
    {
      "cell_type": "markdown",
      "metadata": {
        "id": "PFvNOA7si2d_"
      },
      "source": [
        "# Numpy"
      ]
    },
    {
      "cell_type": "markdown",
      "metadata": {
        "id": "_JcEGZQDi2eC"
      },
      "source": [
        "\n",
        "This part focuses on Numpy, see <a href=\"http://cs.haverford.edu/faculty/smathieson/teaching/f19/labs/lab01/lab01.html\">numpy quickstart tutorial</a>, which I encourage you to reference throughout the course.\n",
        "\n",
        "\n",
        "Some problems about numpy\n",
        "\n"
      ]
    },
    {
      "cell_type": "markdown",
      "metadata": {
        "id": "eGjXvhYEi2eG"
      },
      "source": [
        "# Problem 6\n",
        "Create a 10x10 array with random values and find the minimum and maximum values"
      ]
    },
    {
      "cell_type": "markdown",
      "metadata": {
        "id": "mzF2KFJdi2eG"
      },
      "source": [
        "# Problem 7\n",
        "Create a random vector of size 30 and find the mean value "
      ]
    },
    {
      "cell_type": "markdown",
      "metadata": {
        "id": "8hbO1bKni2eH"
      },
      "source": [
        "# Problem 8\n",
        "Create a 5x5 matrix with values 1,2,3,4 just below the diagonal"
      ]
    },
    {
      "cell_type": "markdown",
      "metadata": {
        "id": "XRUmWno7i2eH"
      },
      "source": [
        "# Problem 9\n",
        "Create a random vector of size 10 and sort it \n"
      ]
    },
    {
      "cell_type": "markdown",
      "metadata": {
        "id": "A1xyFNONi2eH"
      },
      "source": [
        "# Problem 10\n",
        "\n",
        "Subtract the mean of each row of a matrix (Use `X = np.random.rand(5, 10)` to generate the array)"
      ]
    }
  ]
}