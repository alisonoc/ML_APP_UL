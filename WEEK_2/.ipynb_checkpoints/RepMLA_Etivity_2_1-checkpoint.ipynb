{
 "cells": [
  {
   "cell_type": "markdown",
   "metadata": {
    "id": "ee4IZsxFIMT4"
   },
   "source": [
    "<div>\n",
    "<img src=\"https://drive.google.com/uc?export=view&id=1vK33e_EqaHgBHcbRV_m38hx6IkG0blK_\" width=\"350\"/>\n",
    "</div> \n",
    "\n",
    "#**Artificial Intelligence - MSc**\n",
    "CS6501 - MACHINE LEARNING AND APPLICATIONS\n",
    "#**Business Analytics - MSc**\n",
    "ET5003 - MACHINE LEARNING APPLICATIONS \n",
    "##***Annual Repeat***\n",
    "###Instructor: Enrique Naredo\n",
    "\n",
    "###RepMLA_Etivity-2.1"
   ]
  },
  {
   "cell_type": "markdown",
   "metadata": {
    "id": "_4TXn9dKIWAU"
   },
   "source": [
    "# Introduction"
   ]
  },
  {
   "cell_type": "markdown",
   "metadata": {
    "id": "jhwC4auynd4n"
   },
   "source": [
    "[Classification](https://towardsdatascience.com/machine-learning-classifiers-a5cc4e1b0623) is the process of predicting the class of given data points.\n",
    "\n",
    "- An easy to understand example is classifying emails as “spam” or “not spam.”\n",
    "- In machine learning an algorithm learns how to assign a class label to examples from a problem domain.\n",
    "- Classification belongs to the category of supervised learning where the targets also provided with the input data."
   ]
  },
  {
   "cell_type": "markdown",
   "metadata": {
    "id": "GDih1vn1Jf7x"
   },
   "source": [
    "In this notebook we will solve a classification problem using the well-known Mnist dataset and the also well-known classifier algorithm Logistic Regression."
   ]
  },
  {
   "cell_type": "markdown",
   "metadata": {
    "id": "Q_RAVIJnJysQ"
   },
   "source": [
    "# Dataset"
   ]
  },
  {
   "cell_type": "markdown",
   "metadata": {
    "id": "qzwHVb4OKBUS"
   },
   "source": [
    "The [MNIST](https://en.wikipedia.org/wiki/MNIST_database) database (Modified National Institute of Standards and Technology database) is a large database of handwritten digits.\n",
    "\n",
    "- The MNIST database contains 60,000 training images and 10,000 testing images.\n",
    "- An extended dataset similar to MNIST called EMNIST has been published in 2017, which contains 240,000 training images, and 40,000 testing images of handwritten digits and characters"
   ]
  },
  {
   "cell_type": "markdown",
   "metadata": {
    "id": "udF-FXvDKzbY"
   },
   "source": [
    "### Import Dataset"
   ]
  },
  {
   "cell_type": "code",
   "execution_count": 4,
   "metadata": {
    "id": "J80jE-o8LBLc"
   },
   "outputs": [],
   "source": [
    "# Import libraries\n",
    "import numpy as np\n",
    "import pandas as pd\n",
    "import matplotlib.pyplot as plt\n"
   ]
  },
  {
   "cell_type": "code",
   "execution_count": 5,
   "metadata": {
    "id": "5dVhizkkLIXd"
   },
   "outputs": [],
   "source": [
    "# import some data from sklearn\n",
    "from sklearn import datasets\n",
    "\n",
    "# load the MNIST (digits) dataset\n",
    "mnist = datasets.load_digits()"
   ]
  },
  {
   "cell_type": "code",
   "execution_count": 6,
   "metadata": {
    "colab": {
     "base_uri": "https://localhost:8080/"
    },
    "id": "uIV4UwgKMvHI",
    "outputId": "63bef4fd-2686-4892-fab6-b2065ba080ed"
   },
   "outputs": [
    {
     "name": "stdout",
     "output_type": "stream",
     "text": [
      "[[ 0.  0.  5. 13.  9.  1.  0.  0.  0.  0. 13. 15. 10. 15.  5.  0.  0.  3.\n",
      "  15.  2.  0. 11.  8.  0.  0.  4. 12.  0.  0.  8.  8.  0.  0.  5.  8.  0.\n",
      "   0.  9.  8.  0.  0.  4. 11.  0.  1. 12.  7.  0.  0.  2. 14.  5. 10. 12.\n",
      "   0.  0.  0.  0.  6. 13. 10.  0.  0.  0.]\n",
      " [ 0.  0.  0. 12. 13.  5.  0.  0.  0.  0.  0. 11. 16.  9.  0.  0.  0.  0.\n",
      "   3. 15. 16.  6.  0.  0.  0.  7. 15. 16. 16.  2.  0.  0.  0.  0.  1. 16.\n",
      "  16.  3.  0.  0.  0.  0.  1. 16. 16.  6.  0.  0.  0.  0.  1. 16. 16.  6.\n",
      "   0.  0.  0.  0.  0. 11. 16. 10.  0.  0.]\n",
      " [ 0.  0.  0.  4. 15. 12.  0.  0.  0.  0.  3. 16. 15. 14.  0.  0.  0.  0.\n",
      "   8. 13.  8. 16.  0.  0.  0.  0.  1.  6. 15. 11.  0.  0.  0.  1.  8. 13.\n",
      "  15.  1.  0.  0.  0.  9. 16. 16.  5.  0.  0.  0.  0.  3. 13. 16. 16. 11.\n",
      "   5.  0.  0.  0.  0.  3. 11. 16.  9.  0.]]\n"
     ]
    }
   ],
   "source": [
    "# take only the dataset\n",
    "X = mnist.data\n",
    "\n",
    "# show first 3 data elements\n",
    "print(X[0:3])"
   ]
  },
  {
   "cell_type": "code",
   "execution_count": 7,
   "metadata": {
    "colab": {
     "base_uri": "https://localhost:8080/"
    },
    "id": "nemjxET8O1aw",
    "outputId": "ba7c55a2-2f32-42de-b3bb-776eabe8ae3d"
   },
   "outputs": [
    {
     "name": "stdout",
     "output_type": "stream",
     "text": [
      "[0 1 2]\n"
     ]
    }
   ],
   "source": [
    "# show first 3 class labels\n",
    "y = mnist.target\n",
    "print(y[0:3])"
   ]
  },
  {
   "cell_type": "markdown",
   "metadata": {
    "id": "PRX3tkZ1VYYE"
   },
   "source": [
    "### Training and Testing set"
   ]
  },
  {
   "cell_type": "markdown",
   "metadata": {
    "id": "Z-SLNPvKsJbh"
   },
   "source": [
    "* The model is initially trained (fit) on a training dataset  \n",
    "* The model is then tested on a  different (separate) test dataset"
   ]
  },
  {
   "cell_type": "markdown",
   "metadata": {
    "id": "NF41QUyx4m0e"
   },
   "source": [
    "#### sklearn"
   ]
  },
  {
   "cell_type": "code",
   "execution_count": 8,
   "metadata": {
    "colab": {
     "base_uri": "https://localhost:8080/"
    },
    "id": "c9leUrZEv9ET",
    "outputId": "ab260c2c-0b8f-44b4-d066-c019d410a2f1"
   },
   "outputs": [
    {
     "name": "stdout",
     "output_type": "stream",
     "text": [
      "(1437, 64) (1437,) (360, 64) (360,)\n"
     ]
    }
   ],
   "source": [
    "from sklearn.model_selection import train_test_split\n",
    "\n",
    "# if want to split the raw dataset into 80% traing and 20% for test\n",
    "# then using the 'train_test_split' function define test set = 20%\n",
    "# and the rest (80%) will be the training set\n",
    "Xtrain,Xtest,ytrain,ytest = train_test_split(X,y,test_size=0.2)\n",
    "\n",
    "# show the shape of both training and test sets\n",
    "print(Xtrain.shape, ytrain.shape, Xtest.shape, ytest.shape)"
   ]
  },
  {
   "cell_type": "code",
   "execution_count": 9,
   "metadata": {
    "colab": {
     "base_uri": "https://localhost:8080/"
    },
    "id": "Qov-d2B7wElB",
    "outputId": "7d9945f7-1c99-4495-b917-2f409779fae4"
   },
   "outputs": [
    {
     "name": "stdout",
     "output_type": "stream",
     "text": [
      "(1437, 64) (1437,) (360, 64) (360,)\n"
     ]
    }
   ],
   "source": [
    "# you could define the training set instead\n",
    "Xtrain,Xtest,ytrain,ytest = train_test_split(X,y,train_size=0.8)\n",
    "\n",
    "# show the shape of both training and test sets\n",
    "print(Xtrain.shape, ytrain.shape, Xtest.shape, ytest.shape)"
   ]
  },
  {
   "cell_type": "markdown",
   "metadata": {
    "id": "tu3IV4AJWovg"
   },
   "source": [
    "**Train**\n",
    " - Xtrain: uint8 NumPy array of grayscale image data with shapes (1437, 64), containing the training data.\n",
    " - 1,437 images\n",
    " - Each image is a vector of 64 pixels\n",
    " - Pixel values range from 0 to 255.\n",
    "\n",
    " - ytrain: uint8 NumPy array of digit labels (integers in range 0-9) with shape (60000,) for the training data.\n"
   ]
  },
  {
   "cell_type": "code",
   "execution_count": 10,
   "metadata": {
    "colab": {
     "base_uri": "https://localhost:8080/"
    },
    "id": "P7EwNbwaWTYc",
    "outputId": "b864ecc5-aea1-4767-ba1a-545759964678"
   },
   "outputs": [
    {
     "name": "stdout",
     "output_type": "stream",
     "text": [
      "(1437, 64)\n",
      "(1437,)\n"
     ]
    }
   ],
   "source": [
    "# shape returns the number of corresponding elements\n",
    "print(Xtrain.shape)\n",
    "print(ytrain.shape)"
   ]
  },
  {
   "cell_type": "markdown",
   "metadata": {
    "id": "11JK12ILPdMp"
   },
   "source": [
    "**Test**\n",
    " - Xtest: uint8 NumPy array of grayscale image data with shapes (360, 64), containing the test data. \n",
    " - 360 images\n",
    " - Each image is a vector of 64 pixels\n",
    " - Pixel values range from 0 to 255.\n",
    "\n",
    " - ytest: uint8 NumPy array of digit labels (integers in range 0-9) with shape (10000,) for the test data."
   ]
  },
  {
   "cell_type": "code",
   "execution_count": 11,
   "metadata": {
    "colab": {
     "base_uri": "https://localhost:8080/"
    },
    "id": "r9UkVWopXCX4",
    "outputId": "8a3f6608-86cc-45fc-871d-27f72f19b7b5"
   },
   "outputs": [
    {
     "name": "stdout",
     "output_type": "stream",
     "text": [
      "(360, 64)\n",
      "(360,)\n"
     ]
    }
   ],
   "source": [
    "# shape returns the number of corresponding elements\n",
    "print(Xtest.shape)\n",
    "print(ytest.shape)"
   ]
  },
  {
   "cell_type": "markdown",
   "metadata": {
    "id": "8VohQJIWViKV"
   },
   "source": [
    "### Showing the data"
   ]
  },
  {
   "cell_type": "code",
   "execution_count": 12,
   "metadata": {
    "colab": {
     "base_uri": "https://localhost:8080/"
    },
    "id": "GnpDk8XJZWQ2",
    "outputId": "0c34c6b5-b656-462f-8ee7-3d25f4c41bb3"
   },
   "outputs": [
    {
     "data": {
      "text/plain": [
       "array([ 0.,  0.,  0.,  8., 15.,  3.,  0.,  0.,  0.,  0.,  1., 15., 11.,\n",
       "        2.,  0.,  0.,  0.,  0., 13., 16.,  1.,  0.,  0.,  0.,  0.,  3.,\n",
       "       16., 14.,  0.,  0.,  0.,  0.,  0.,  3., 16., 15.,  5.,  0.,  0.,\n",
       "        0.,  0.,  3., 15., 16., 11., 14.,  7.,  0.,  0.,  0., 11., 16.,\n",
       "        6.,  6., 15.,  0.,  0.,  0.,  0., 10., 14., 12.,  8.,  0.])"
      ]
     },
     "execution_count": 12,
     "metadata": {
      "tags": []
     },
     "output_type": "execute_result"
    }
   ],
   "source": [
    "# each data element is a different image\n",
    "# arranged in a matrix with pixel values range from 0 to 255\n",
    "# pixels close to 0 tends to black\n",
    "# pixels close to 255 tends to white\n",
    "# here the first image (vector)\n",
    "Xtrain[0]"
   ]
  },
  {
   "cell_type": "code",
   "execution_count": 13,
   "metadata": {
    "colab": {
     "base_uri": "https://localhost:8080/"
    },
    "id": "fhFofmuTrNqs",
    "outputId": "99ea2c2b-5732-4fbc-a2a2-a3836e7f9248"
   },
   "outputs": [
    {
     "data": {
      "text/plain": [
       "array([[ 0.,  0.,  0.,  8., 15.,  3.,  0.,  0.],\n",
       "       [ 0.,  0.,  1., 15., 11.,  2.,  0.,  0.],\n",
       "       [ 0.,  0., 13., 16.,  1.,  0.,  0.,  0.],\n",
       "       [ 0.,  3., 16., 14.,  0.,  0.,  0.,  0.],\n",
       "       [ 0.,  3., 16., 15.,  5.,  0.,  0.,  0.],\n",
       "       [ 0.,  3., 15., 16., 11., 14.,  7.,  0.],\n",
       "       [ 0.,  0., 11., 16.,  6.,  6., 15.,  0.],\n",
       "       [ 0.,  0.,  0., 10., 14., 12.,  8.,  0.]])"
      ]
     },
     "execution_count": 13,
     "metadata": {
      "tags": []
     },
     "output_type": "execute_result"
    }
   ],
   "source": [
    "# here the first image (matrix)\n",
    "Xtrain[0].reshape(8, 8)"
   ]
  },
  {
   "cell_type": "code",
   "execution_count": 14,
   "metadata": {
    "colab": {
     "base_uri": "https://localhost:8080/",
     "height": 282
    },
    "id": "nEuyIFcKqJYz",
    "outputId": "c54582ee-ca19-4d99-8975-01dd3783e5fd"
   },
   "outputs": [
    {
     "data": {
      "text/plain": [
       "<matplotlib.image.AxesImage at 0x7f01cd4a4990>"
      ]
     },
     "execution_count": 14,
     "metadata": {
      "tags": []
     },
     "output_type": "execute_result"
    },
    {
     "data": {
      "image/png": "[encoded data removed]",
      "text/plain": [
       "<Figure size 432x288 with 1 Axes>"
      ]
     },
     "metadata": {
      "needs_background": "light",
      "tags": []
     },
     "output_type": "display_data"
    }
   ],
   "source": [
    "# show the first image in the training set\n",
    "image_train = 0\n",
    "plt.imshow(Xtrain[image_train].reshape(8, 8), cmap=plt.cm.gray_r, interpolation='nearest')"
   ]
  },
  {
   "cell_type": "code",
   "execution_count": 15,
   "metadata": {
    "colab": {
     "base_uri": "https://localhost:8080/"
    },
    "id": "j-x3oOoXabF6",
    "outputId": "e4ea8824-7555-46a0-d278-98c502ae50dd"
   },
   "outputs": [
    {
     "data": {
      "text/plain": [
       "array([6, 7, 8, 2, 0, 9, 5, 9, 6, 5])"
      ]
     },
     "execution_count": 15,
     "metadata": {
      "tags": []
     },
     "output_type": "execute_result"
    }
   ],
   "source": [
    "# class labels are the number \n",
    "# corresponding to the handwriten\n",
    "\n",
    "# here the first 10 in the training set\n",
    "ytrain[0:10]"
   ]
  },
  {
   "cell_type": "code",
   "execution_count": 16,
   "metadata": {
    "colab": {
     "base_uri": "https://localhost:8080/",
     "height": 282
    },
    "id": "BQc_ciFAsnKX",
    "outputId": "1ff47eed-ba68-45af-fbe9-d7700bc3414c"
   },
   "outputs": [
    {
     "data": {
      "text/plain": [
       "<matplotlib.image.AxesImage at 0x7f01cd396790>"
      ]
     },
     "execution_count": 16,
     "metadata": {
      "tags": []
     },
     "output_type": "execute_result"
    },
    {
     "data": {
      "image/png": "[encoded data removed]",
      "text/plain": [
       "<Figure size 432x288 with 1 Axes>"
      ]
     },
     "metadata": {
      "needs_background": "light",
      "tags": []
     },
     "output_type": "display_data"
    }
   ],
   "source": [
    "# show the first image in the test set\n",
    "image_test = 0\n",
    "plt.imshow(Xtest[image_train].reshape(8, 8), cmap=plt.cm.gray_r, interpolation='nearest')"
   ]
  },
  {
   "cell_type": "code",
   "execution_count": 17,
   "metadata": {
    "colab": {
     "base_uri": "https://localhost:8080/"
    },
    "id": "DYTQAeHLtIo2",
    "outputId": "1568c00c-a4ca-4b4f-d741-f52f7c1319f1"
   },
   "outputs": [
    {
     "data": {
      "text/plain": [
       "array([1, 2, 0, 3, 0, 7, 6, 8, 9, 8])"
      ]
     },
     "execution_count": 17,
     "metadata": {
      "tags": []
     },
     "output_type": "execute_result"
    }
   ],
   "source": [
    "# here the first 10 in the test set\n",
    "ytest[0:10]"
   ]
  },
  {
   "cell_type": "code",
   "execution_count": 18,
   "metadata": {
    "id": "zPsh1YEmHEfw"
   },
   "outputs": [],
   "source": [
    "# Function to plot an arrange of images\n",
    "def plot_images(instances, images_per_row=5, **options):\n",
    "    # images-> 8x8=64\n",
    "    size = 8\n",
    "    images_per_row = min(len(instances), images_per_row)\n",
    "    images = [instance.reshape(size,size) for instance in instances]\n",
    "    n_rows = (len(instances) - 1) // images_per_row + 1\n",
    "    row_images = []\n",
    "    n_empty = n_rows * images_per_row - len(instances)\n",
    "    images.append(np.zeros((size, size * n_empty)))\n",
    "    for row in range(n_rows):\n",
    "        rimages = images[row * images_per_row : (row + 1) * images_per_row]\n",
    "        row_images.append(np.concatenate(rimages, axis=1))\n",
    "    image = np.concatenate(row_images, axis=0)\n",
    "    plt.imshow(image,  cmap='gray', **options)\n",
    "    plt.axis(\"off\")"
   ]
  },
  {
   "cell_type": "code",
   "execution_count": 19,
   "metadata": {
    "colab": {
     "base_uri": "https://localhost:8080/",
     "height": 246
    },
    "id": "gLuOqVswHEf0",
    "outputId": "452daff7-c4a2-4c99-83d4-359b09284f5c"
   },
   "outputs": [
    {
     "name": "stdout",
     "output_type": "stream",
     "text": [
      "True value =\n",
      " [[6 7 8 2 0 9 5 9 6]\n",
      " [5 8 7 5 9 4 6 6 1]\n",
      " [2 9 6 8 4 2 5 8 7]]\n"
     ]
    },
    {
     "data": {
      "image/png": "[encoded data removed]",
      "text/plain": [
       "<Figure size 504x504 with 1 Axes>"
      ]
     },
     "metadata": {
      "needs_background": "light",
      "tags": []
     },
     "output_type": "display_data"
    }
   ],
   "source": [
    "# Plotting a set of images from training\n",
    "plt.figure(figsize=(7,7))\n",
    "plot_images(Xtrain[0:27],images_per_row=9)\n",
    "plt.title(\"Set of images from training\", fontsize=14)\n",
    "print(\"True value =\\n\",ytrain[0:27].reshape(-1,9))"
   ]
  },
  {
   "cell_type": "code",
   "execution_count": 20,
   "metadata": {
    "colab": {
     "base_uri": "https://localhost:8080/",
     "height": 246
    },
    "id": "J5yeegLGiqQo",
    "outputId": "c85fa6dd-5913-4524-bc54-244e8f2df0f7"
   },
   "outputs": [
    {
     "name": "stdout",
     "output_type": "stream",
     "text": [
      "True value =\n",
      " [[1 2 0 3 0 7 6 8 9]\n",
      " [8 7 6 7 9 8 2 1 5]\n",
      " [7 4 4 4 4 7 9 5 2]]\n"
     ]
    },
    {
     "data": {
      "image/png": "[encoded data removed]",
      "text/plain": [
       "<Figure size 504x504 with 1 Axes>"
      ]
     },
     "metadata": {
      "needs_background": "light",
      "tags": []
     },
     "output_type": "display_data"
    }
   ],
   "source": [
    "# Plotting a set of images from test\n",
    "plt.figure(figsize=(7,7))\n",
    "plot_images(Xtest[0:27],images_per_row=9)\n",
    "plt.title(\"Set of images from test\", fontsize=14)\n",
    "print(\"True value =\\n\",ytest[0:27].reshape(-1,9))"
   ]
  },
  {
   "cell_type": "markdown",
   "metadata": {
    "id": "Jjnl439XHEfx"
   },
   "source": [
    "# Classifying images"
   ]
  },
  {
   "cell_type": "markdown",
   "metadata": {
    "id": "O8aPlhBskhv6"
   },
   "source": [
    "An [image](https://en.wikipedia.org/wiki/Image) (from Latin: imago) is an artifact that depicts visual perception, such as a photograph or other two-dimensional picture, that resembles a subject—usually a physical object—and thus provides a depiction of it. \n",
    "\n",
    "- In the context of signal processing, an image is a distributed amplitude of color(s).\n",
    "- A [greyscale](https://en.wikipedia.org/wiki/Grayscale) image is one in which the value of each pixel is a single sample representing only an amount of light; that is, it carries only intensity information. \n",
    "- Greyscale images, a kind of black-and-white or grey monochrome, are composed exclusively of shades of grey. \n",
    "- The contrast ranges from black at the weakest intensity to white at the strongest."
   ]
  },
  {
   "cell_type": "code",
   "execution_count": 21,
   "metadata": {
    "colab": {
     "base_uri": "https://localhost:8080/",
     "height": 276
    },
    "id": "F5TOGZyUHEf1",
    "outputId": "59edd60e-ab33-47f4-b2e5-bff527afbc0c"
   },
   "outputs": [
    {
     "data": {
      "text/html": [
       "<style  type=\"text/css\" >\n",
       "#T_a2919bf2_f131_11eb_8010_0242ac1c0002row0_col0,#T_a2919bf2_f131_11eb_8010_0242ac1c0002row0_col1,#T_a2919bf2_f131_11eb_8010_0242ac1c0002row0_col2,#T_a2919bf2_f131_11eb_8010_0242ac1c0002row0_col6,#T_a2919bf2_f131_11eb_8010_0242ac1c0002row0_col7,#T_a2919bf2_f131_11eb_8010_0242ac1c0002row1_col0,#T_a2919bf2_f131_11eb_8010_0242ac1c0002row1_col7,#T_a2919bf2_f131_11eb_8010_0242ac1c0002row2_col0,#T_a2919bf2_f131_11eb_8010_0242ac1c0002row2_col7,#T_a2919bf2_f131_11eb_8010_0242ac1c0002row3_col0,#T_a2919bf2_f131_11eb_8010_0242ac1c0002row3_col4,#T_a2919bf2_f131_11eb_8010_0242ac1c0002row3_col5,#T_a2919bf2_f131_11eb_8010_0242ac1c0002row3_col6,#T_a2919bf2_f131_11eb_8010_0242ac1c0002row3_col7,#T_a2919bf2_f131_11eb_8010_0242ac1c0002row4_col0,#T_a2919bf2_f131_11eb_8010_0242ac1c0002row4_col5,#T_a2919bf2_f131_11eb_8010_0242ac1c0002row4_col6,#T_a2919bf2_f131_11eb_8010_0242ac1c0002row4_col7,#T_a2919bf2_f131_11eb_8010_0242ac1c0002row5_col0,#T_a2919bf2_f131_11eb_8010_0242ac1c0002row5_col3,#T_a2919bf2_f131_11eb_8010_0242ac1c0002row5_col6,#T_a2919bf2_f131_11eb_8010_0242ac1c0002row5_col7,#T_a2919bf2_f131_11eb_8010_0242ac1c0002row6_col0,#T_a2919bf2_f131_11eb_8010_0242ac1c0002row6_col4,#T_a2919bf2_f131_11eb_8010_0242ac1c0002row6_col6,#T_a2919bf2_f131_11eb_8010_0242ac1c0002row6_col7,#T_a2919bf2_f131_11eb_8010_0242ac1c0002row7_col0,#T_a2919bf2_f131_11eb_8010_0242ac1c0002row7_col1,#T_a2919bf2_f131_11eb_8010_0242ac1c0002row7_col2,#T_a2919bf2_f131_11eb_8010_0242ac1c0002row7_col6,#T_a2919bf2_f131_11eb_8010_0242ac1c0002row7_col7{\n",
       "            background-color:  #000000;\n",
       "            color:  #f1f1f1;\n",
       "        }#T_a2919bf2_f131_11eb_8010_0242ac1c0002row0_col3,#T_a2919bf2_f131_11eb_8010_0242ac1c0002row4_col3{\n",
       "            background-color:  #c0c0c0;\n",
       "            color:  #000000;\n",
       "        }#T_a2919bf2_f131_11eb_8010_0242ac1c0002row0_col4,#T_a2919bf2_f131_11eb_8010_0242ac1c0002row1_col1,#T_a2919bf2_f131_11eb_8010_0242ac1c0002row1_col5,#T_a2919bf2_f131_11eb_8010_0242ac1c0002row1_col6,#T_a2919bf2_f131_11eb_8010_0242ac1c0002row3_col3,#T_a2919bf2_f131_11eb_8010_0242ac1c0002row4_col2,#T_a2919bf2_f131_11eb_8010_0242ac1c0002row5_col1,#T_a2919bf2_f131_11eb_8010_0242ac1c0002row6_col2,#T_a2919bf2_f131_11eb_8010_0242ac1c0002row6_col5{\n",
       "            background-color:  #ffffff;\n",
       "            color:  #000000;\n",
       "        }#T_a2919bf2_f131_11eb_8010_0242ac1c0002row0_col5,#T_a2919bf2_f131_11eb_8010_0242ac1c0002row5_col5,#T_a2919bf2_f131_11eb_8010_0242ac1c0002row7_col5{\n",
       "            background-color:  #777777;\n",
       "            color:  #000000;\n",
       "        }#T_a2919bf2_f131_11eb_8010_0242ac1c0002row1_col2,#T_a2919bf2_f131_11eb_8010_0242ac1c0002row3_col2{\n",
       "            background-color:  #e6e6e6;\n",
       "            color:  #000000;\n",
       "        }#T_a2919bf2_f131_11eb_8010_0242ac1c0002row1_col3,#T_a2919bf2_f131_11eb_8010_0242ac1c0002row6_col3{\n",
       "            background-color:  #404040;\n",
       "            color:  #f1f1f1;\n",
       "        }#T_a2919bf2_f131_11eb_8010_0242ac1c0002row1_col4,#T_a2919bf2_f131_11eb_8010_0242ac1c0002row4_col4{\n",
       "            background-color:  #808080;\n",
       "            color:  #000000;\n",
       "        }#T_a2919bf2_f131_11eb_8010_0242ac1c0002row2_col1,#T_a2919bf2_f131_11eb_8010_0242ac1c0002row2_col2{\n",
       "            background-color:  #cccccc;\n",
       "            color:  #000000;\n",
       "        }#T_a2919bf2_f131_11eb_8010_0242ac1c0002row2_col3{\n",
       "            background-color:  #606060;\n",
       "            color:  #f1f1f1;\n",
       "        }#T_a2919bf2_f131_11eb_8010_0242ac1c0002row2_col4,#T_a2919bf2_f131_11eb_8010_0242ac1c0002row7_col4{\n",
       "            background-color:  #dbdbdb;\n",
       "            color:  #000000;\n",
       "        }#T_a2919bf2_f131_11eb_8010_0242ac1c0002row2_col5,#T_a2919bf2_f131_11eb_8010_0242ac1c0002row2_col6{\n",
       "            background-color:  #666666;\n",
       "            color:  #f1f1f1;\n",
       "        }#T_a2919bf2_f131_11eb_8010_0242ac1c0002row3_col1{\n",
       "            background-color:  #333333;\n",
       "            color:  #f1f1f1;\n",
       "        }#T_a2919bf2_f131_11eb_8010_0242ac1c0002row4_col1,#T_a2919bf2_f131_11eb_8010_0242ac1c0002row6_col1{\n",
       "            background-color:  #999999;\n",
       "            color:  #000000;\n",
       "        }#T_a2919bf2_f131_11eb_8010_0242ac1c0002row5_col2{\n",
       "            background-color:  #b3b3b3;\n",
       "            color:  #000000;\n",
       "        }#T_a2919bf2_f131_11eb_8010_0242ac1c0002row5_col4{\n",
       "            background-color:  #929292;\n",
       "            color:  #000000;\n",
       "        }#T_a2919bf2_f131_11eb_8010_0242ac1c0002row7_col3{\n",
       "            background-color:  #e0e0e0;\n",
       "            color:  #000000;\n",
       "        }</style><table id=\"T_a2919bf2_f131_11eb_8010_0242ac1c0002\" ><thead>    <tr>        <th class=\"blank level0\" ></th>        <th class=\"col_heading level0 col0\" >0</th>        <th class=\"col_heading level0 col1\" >1</th>        <th class=\"col_heading level0 col2\" >2</th>        <th class=\"col_heading level0 col3\" >3</th>        <th class=\"col_heading level0 col4\" >4</th>        <th class=\"col_heading level0 col5\" >5</th>        <th class=\"col_heading level0 col6\" >6</th>        <th class=\"col_heading level0 col7\" >7</th>    </tr></thead><tbody>\n",
       "                <tr>\n",
       "                        <th id=\"T_a2919bf2_f131_11eb_8010_0242ac1c0002level0_row0\" class=\"row_heading level0 row0\" >0</th>\n",
       "                        <td id=\"T_a2919bf2_f131_11eb_8010_0242ac1c0002row0_col0\" class=\"data row0 col0\" >0.000000</td>\n",
       "                        <td id=\"T_a2919bf2_f131_11eb_8010_0242ac1c0002row0_col1\" class=\"data row0 col1\" >0.000000</td>\n",
       "                        <td id=\"T_a2919bf2_f131_11eb_8010_0242ac1c0002row0_col2\" class=\"data row0 col2\" >5.000000</td>\n",
       "                        <td id=\"T_a2919bf2_f131_11eb_8010_0242ac1c0002row0_col3\" class=\"data row0 col3\" >12.000000</td>\n",
       "                        <td id=\"T_a2919bf2_f131_11eb_8010_0242ac1c0002row0_col4\" class=\"data row0 col4\" >16.000000</td>\n",
       "                        <td id=\"T_a2919bf2_f131_11eb_8010_0242ac1c0002row0_col5\" class=\"data row0 col5\" >7.000000</td>\n",
       "                        <td id=\"T_a2919bf2_f131_11eb_8010_0242ac1c0002row0_col6\" class=\"data row0 col6\" >0.000000</td>\n",
       "                        <td id=\"T_a2919bf2_f131_11eb_8010_0242ac1c0002row0_col7\" class=\"data row0 col7\" >0.000000</td>\n",
       "            </tr>\n",
       "            <tr>\n",
       "                        <th id=\"T_a2919bf2_f131_11eb_8010_0242ac1c0002level0_row1\" class=\"row_heading level0 row1\" >1</th>\n",
       "                        <td id=\"T_a2919bf2_f131_11eb_8010_0242ac1c0002row1_col0\" class=\"data row1 col0\" >0.000000</td>\n",
       "                        <td id=\"T_a2919bf2_f131_11eb_8010_0242ac1c0002row1_col1\" class=\"data row1 col1\" >5.000000</td>\n",
       "                        <td id=\"T_a2919bf2_f131_11eb_8010_0242ac1c0002row1_col2\" class=\"data row1 col2\" >14.000000</td>\n",
       "                        <td id=\"T_a2919bf2_f131_11eb_8010_0242ac1c0002row1_col3\" class=\"data row1 col3\" >4.000000</td>\n",
       "                        <td id=\"T_a2919bf2_f131_11eb_8010_0242ac1c0002row1_col4\" class=\"data row1 col4\" >9.000000</td>\n",
       "                        <td id=\"T_a2919bf2_f131_11eb_8010_0242ac1c0002row1_col5\" class=\"data row1 col5\" >15.000000</td>\n",
       "                        <td id=\"T_a2919bf2_f131_11eb_8010_0242ac1c0002row1_col6\" class=\"data row1 col6\" >5.000000</td>\n",
       "                        <td id=\"T_a2919bf2_f131_11eb_8010_0242ac1c0002row1_col7\" class=\"data row1 col7\" >0.000000</td>\n",
       "            </tr>\n",
       "            <tr>\n",
       "                        <th id=\"T_a2919bf2_f131_11eb_8010_0242ac1c0002level0_row2\" class=\"row_heading level0 row2\" >2</th>\n",
       "                        <td id=\"T_a2919bf2_f131_11eb_8010_0242ac1c0002row2_col0\" class=\"data row2 col0\" >0.000000</td>\n",
       "                        <td id=\"T_a2919bf2_f131_11eb_8010_0242ac1c0002row2_col1\" class=\"data row2 col1\" >4.000000</td>\n",
       "                        <td id=\"T_a2919bf2_f131_11eb_8010_0242ac1c0002row2_col2\" class=\"data row2 col2\" >13.000000</td>\n",
       "                        <td id=\"T_a2919bf2_f131_11eb_8010_0242ac1c0002row2_col3\" class=\"data row2 col3\" >6.000000</td>\n",
       "                        <td id=\"T_a2919bf2_f131_11eb_8010_0242ac1c0002row2_col4\" class=\"data row2 col4\" >14.000000</td>\n",
       "                        <td id=\"T_a2919bf2_f131_11eb_8010_0242ac1c0002row2_col5\" class=\"data row2 col5\" >6.000000</td>\n",
       "                        <td id=\"T_a2919bf2_f131_11eb_8010_0242ac1c0002row2_col6\" class=\"data row2 col6\" >2.000000</td>\n",
       "                        <td id=\"T_a2919bf2_f131_11eb_8010_0242ac1c0002row2_col7\" class=\"data row2 col7\" >0.000000</td>\n",
       "            </tr>\n",
       "            <tr>\n",
       "                        <th id=\"T_a2919bf2_f131_11eb_8010_0242ac1c0002level0_row3\" class=\"row_heading level0 row3\" >3</th>\n",
       "                        <td id=\"T_a2919bf2_f131_11eb_8010_0242ac1c0002row3_col0\" class=\"data row3 col0\" >0.000000</td>\n",
       "                        <td id=\"T_a2919bf2_f131_11eb_8010_0242ac1c0002row3_col1\" class=\"data row3 col1\" >1.000000</td>\n",
       "                        <td id=\"T_a2919bf2_f131_11eb_8010_0242ac1c0002row3_col2\" class=\"data row3 col2\" >14.000000</td>\n",
       "                        <td id=\"T_a2919bf2_f131_11eb_8010_0242ac1c0002row3_col3\" class=\"data row3 col3\" >16.000000</td>\n",
       "                        <td id=\"T_a2919bf2_f131_11eb_8010_0242ac1c0002row3_col4\" class=\"data row3 col4\" >2.000000</td>\n",
       "                        <td id=\"T_a2919bf2_f131_11eb_8010_0242ac1c0002row3_col5\" class=\"data row3 col5\" >0.000000</td>\n",
       "                        <td id=\"T_a2919bf2_f131_11eb_8010_0242ac1c0002row3_col6\" class=\"data row3 col6\" >0.000000</td>\n",
       "                        <td id=\"T_a2919bf2_f131_11eb_8010_0242ac1c0002row3_col7\" class=\"data row3 col7\" >0.000000</td>\n",
       "            </tr>\n",
       "            <tr>\n",
       "                        <th id=\"T_a2919bf2_f131_11eb_8010_0242ac1c0002level0_row4\" class=\"row_heading level0 row4\" >4</th>\n",
       "                        <td id=\"T_a2919bf2_f131_11eb_8010_0242ac1c0002row4_col0\" class=\"data row4 col0\" >0.000000</td>\n",
       "                        <td id=\"T_a2919bf2_f131_11eb_8010_0242ac1c0002row4_col1\" class=\"data row4 col1\" >3.000000</td>\n",
       "                        <td id=\"T_a2919bf2_f131_11eb_8010_0242ac1c0002row4_col2\" class=\"data row4 col2\" >15.000000</td>\n",
       "                        <td id=\"T_a2919bf2_f131_11eb_8010_0242ac1c0002row4_col3\" class=\"data row4 col3\" >12.000000</td>\n",
       "                        <td id=\"T_a2919bf2_f131_11eb_8010_0242ac1c0002row4_col4\" class=\"data row4 col4\" >9.000000</td>\n",
       "                        <td id=\"T_a2919bf2_f131_11eb_8010_0242ac1c0002row4_col5\" class=\"data row4 col5\" >0.000000</td>\n",
       "                        <td id=\"T_a2919bf2_f131_11eb_8010_0242ac1c0002row4_col6\" class=\"data row4 col6\" >0.000000</td>\n",
       "                        <td id=\"T_a2919bf2_f131_11eb_8010_0242ac1c0002row4_col7\" class=\"data row4 col7\" >0.000000</td>\n",
       "            </tr>\n",
       "            <tr>\n",
       "                        <th id=\"T_a2919bf2_f131_11eb_8010_0242ac1c0002level0_row5\" class=\"row_heading level0 row5\" >5</th>\n",
       "                        <td id=\"T_a2919bf2_f131_11eb_8010_0242ac1c0002row5_col0\" class=\"data row5 col0\" >0.000000</td>\n",
       "                        <td id=\"T_a2919bf2_f131_11eb_8010_0242ac1c0002row5_col1\" class=\"data row5 col1\" >5.000000</td>\n",
       "                        <td id=\"T_a2919bf2_f131_11eb_8010_0242ac1c0002row5_col2\" class=\"data row5 col2\" >12.000000</td>\n",
       "                        <td id=\"T_a2919bf2_f131_11eb_8010_0242ac1c0002row5_col3\" class=\"data row5 col3\" >0.000000</td>\n",
       "                        <td id=\"T_a2919bf2_f131_11eb_8010_0242ac1c0002row5_col4\" class=\"data row5 col4\" >10.000000</td>\n",
       "                        <td id=\"T_a2919bf2_f131_11eb_8010_0242ac1c0002row5_col5\" class=\"data row5 col5\" >7.000000</td>\n",
       "                        <td id=\"T_a2919bf2_f131_11eb_8010_0242ac1c0002row5_col6\" class=\"data row5 col6\" >0.000000</td>\n",
       "                        <td id=\"T_a2919bf2_f131_11eb_8010_0242ac1c0002row5_col7\" class=\"data row5 col7\" >0.000000</td>\n",
       "            </tr>\n",
       "            <tr>\n",
       "                        <th id=\"T_a2919bf2_f131_11eb_8010_0242ac1c0002level0_row6\" class=\"row_heading level0 row6\" >6</th>\n",
       "                        <td id=\"T_a2919bf2_f131_11eb_8010_0242ac1c0002row6_col0\" class=\"data row6 col0\" >0.000000</td>\n",
       "                        <td id=\"T_a2919bf2_f131_11eb_8010_0242ac1c0002row6_col1\" class=\"data row6 col1\" >3.000000</td>\n",
       "                        <td id=\"T_a2919bf2_f131_11eb_8010_0242ac1c0002row6_col2\" class=\"data row6 col2\" >15.000000</td>\n",
       "                        <td id=\"T_a2919bf2_f131_11eb_8010_0242ac1c0002row6_col3\" class=\"data row6 col3\" >4.000000</td>\n",
       "                        <td id=\"T_a2919bf2_f131_11eb_8010_0242ac1c0002row6_col4\" class=\"data row6 col4\" >2.000000</td>\n",
       "                        <td id=\"T_a2919bf2_f131_11eb_8010_0242ac1c0002row6_col5\" class=\"data row6 col5\" >15.000000</td>\n",
       "                        <td id=\"T_a2919bf2_f131_11eb_8010_0242ac1c0002row6_col6\" class=\"data row6 col6\" >0.000000</td>\n",
       "                        <td id=\"T_a2919bf2_f131_11eb_8010_0242ac1c0002row6_col7\" class=\"data row6 col7\" >0.000000</td>\n",
       "            </tr>\n",
       "            <tr>\n",
       "                        <th id=\"T_a2919bf2_f131_11eb_8010_0242ac1c0002level0_row7\" class=\"row_heading level0 row7\" >7</th>\n",
       "                        <td id=\"T_a2919bf2_f131_11eb_8010_0242ac1c0002row7_col0\" class=\"data row7 col0\" >0.000000</td>\n",
       "                        <td id=\"T_a2919bf2_f131_11eb_8010_0242ac1c0002row7_col1\" class=\"data row7 col1\" >0.000000</td>\n",
       "                        <td id=\"T_a2919bf2_f131_11eb_8010_0242ac1c0002row7_col2\" class=\"data row7 col2\" >5.000000</td>\n",
       "                        <td id=\"T_a2919bf2_f131_11eb_8010_0242ac1c0002row7_col3\" class=\"data row7 col3\" >14.000000</td>\n",
       "                        <td id=\"T_a2919bf2_f131_11eb_8010_0242ac1c0002row7_col4\" class=\"data row7 col4\" >14.000000</td>\n",
       "                        <td id=\"T_a2919bf2_f131_11eb_8010_0242ac1c0002row7_col5\" class=\"data row7 col5\" >7.000000</td>\n",
       "                        <td id=\"T_a2919bf2_f131_11eb_8010_0242ac1c0002row7_col6\" class=\"data row7 col6\" >0.000000</td>\n",
       "                        <td id=\"T_a2919bf2_f131_11eb_8010_0242ac1c0002row7_col7\" class=\"data row7 col7\" >0.000000</td>\n",
       "            </tr>\n",
       "    </tbody></table>"
      ],
      "text/plain": [
       "<pandas.io.formats.style.Styler at 0x7f01cd3ecd50>"
      ]
     },
     "metadata": {
      "tags": []
     },
     "output_type": "display_data"
    },
    {
     "name": "stdout",
     "output_type": "stream",
     "text": [
      "\n",
      "\n",
      "\n",
      "Class label for this image: 8\n"
     ]
    }
   ],
   "source": [
    "# Visualize the intensity values\n",
    "# and the actual tone in each pixel\n",
    "# from the training set\n",
    "image2show = 10\n",
    "\n",
    "df = pd.DataFrame(Xtrain[image2show].reshape(8, 8))\n",
    "df = df.style.background_gradient(cmap='gray')\n",
    "display(df)\n",
    "\n",
    "print('\\n\\n\\nClass label for this image: ' + str(ytrain[image2show]))"
   ]
  },
  {
   "cell_type": "markdown",
   "metadata": {
    "id": "R-5QpuYoHEf2"
   },
   "source": [
    "## Set of images into a table\n",
    "The images are already a **row** vector with dimension of $1 \\times 64$."
   ]
  },
  {
   "cell_type": "code",
   "execution_count": 22,
   "metadata": {
    "colab": {
     "base_uri": "https://localhost:8080/",
     "height": 207
    },
    "id": "Yde13Q00HEf2",
    "outputId": "181d55c2-6511-4c60-fe45-bc81721a0399"
   },
   "outputs": [
    {
     "data": {
      "text/html": [
       "<style  type=\"text/css\" >\n",
       "#T_a2a910e8_f131_11eb_8010_0242ac1c0002row0_col0,#T_a2a910e8_f131_11eb_8010_0242ac1c0002row0_col1,#T_a2a910e8_f131_11eb_8010_0242ac1c0002row0_col2,#T_a2a910e8_f131_11eb_8010_0242ac1c0002row0_col6,#T_a2a910e8_f131_11eb_8010_0242ac1c0002row0_col7,#T_a2a910e8_f131_11eb_8010_0242ac1c0002row0_col8,#T_a2a910e8_f131_11eb_8010_0242ac1c0002row0_col9,#T_a2a910e8_f131_11eb_8010_0242ac1c0002row0_col10,#T_a2a910e8_f131_11eb_8010_0242ac1c0002row0_col13,#T_a2a910e8_f131_11eb_8010_0242ac1c0002row0_col14,#T_a2a910e8_f131_11eb_8010_0242ac1c0002row0_col15,#T_a2a910e8_f131_11eb_8010_0242ac1c0002row0_col16,#T_a2a910e8_f131_11eb_8010_0242ac1c0002row0_col17,#T_a2a910e8_f131_11eb_8010_0242ac1c0002row0_col20,#T_a2a910e8_f131_11eb_8010_0242ac1c0002row0_col21,#T_a2a910e8_f131_11eb_8010_0242ac1c0002row0_col22,#T_a2a910e8_f131_11eb_8010_0242ac1c0002row0_col23,#T_a2a910e8_f131_11eb_8010_0242ac1c0002row0_col24,#T_a2a910e8_f131_11eb_8010_0242ac1c0002row0_col28,#T_a2a910e8_f131_11eb_8010_0242ac1c0002row0_col29,#T_a2a910e8_f131_11eb_8010_0242ac1c0002row0_col30,#T_a2a910e8_f131_11eb_8010_0242ac1c0002row0_col31,#T_a2a910e8_f131_11eb_8010_0242ac1c0002row0_col32,#T_a2a910e8_f131_11eb_8010_0242ac1c0002row0_col37,#T_a2a910e8_f131_11eb_8010_0242ac1c0002row0_col38,#T_a2a910e8_f131_11eb_8010_0242ac1c0002row0_col39,#T_a2a910e8_f131_11eb_8010_0242ac1c0002row0_col40,#T_a2a910e8_f131_11eb_8010_0242ac1c0002row0_col47,#T_a2a910e8_f131_11eb_8010_0242ac1c0002row0_col48,#T_a2a910e8_f131_11eb_8010_0242ac1c0002row0_col49,#T_a2a910e8_f131_11eb_8010_0242ac1c0002row0_col55,#T_a2a910e8_f131_11eb_8010_0242ac1c0002row0_col56,#T_a2a910e8_f131_11eb_8010_0242ac1c0002row0_col57,#T_a2a910e8_f131_11eb_8010_0242ac1c0002row0_col58,#T_a2a910e8_f131_11eb_8010_0242ac1c0002row0_col63,#T_a2a910e8_f131_11eb_8010_0242ac1c0002row1_col0,#T_a2a910e8_f131_11eb_8010_0242ac1c0002row1_col1,#T_a2a910e8_f131_11eb_8010_0242ac1c0002row1_col6,#T_a2a910e8_f131_11eb_8010_0242ac1c0002row1_col7,#T_a2a910e8_f131_11eb_8010_0242ac1c0002row1_col8,#T_a2a910e8_f131_11eb_8010_0242ac1c0002row1_col14,#T_a2a910e8_f131_11eb_8010_0242ac1c0002row1_col15,#T_a2a910e8_f131_11eb_8010_0242ac1c0002row1_col16,#T_a2a910e8_f131_11eb_8010_0242ac1c0002row1_col18,#T_a2a910e8_f131_11eb_8010_0242ac1c0002row1_col19,#T_a2a910e8_f131_11eb_8010_0242ac1c0002row1_col22,#T_a2a910e8_f131_11eb_8010_0242ac1c0002row1_col23,#T_a2a910e8_f131_11eb_8010_0242ac1c0002row1_col24,#T_a2a910e8_f131_11eb_8010_0242ac1c0002row1_col25,#T_a2a910e8_f131_11eb_8010_0242ac1c0002row1_col26,#T_a2a910e8_f131_11eb_8010_0242ac1c0002row1_col31,#T_a2a910e8_f131_11eb_8010_0242ac1c0002row1_col32,#T_a2a910e8_f131_11eb_8010_0242ac1c0002row1_col33,#T_a2a910e8_f131_11eb_8010_0242ac1c0002row1_col39,#T_a2a910e8_f131_11eb_8010_0242ac1c0002row1_col40,#T_a2a910e8_f131_11eb_8010_0242ac1c0002row1_col47,#T_a2a910e8_f131_11eb_8010_0242ac1c0002row1_col48,#T_a2a910e8_f131_11eb_8010_0242ac1c0002row1_col49,#T_a2a910e8_f131_11eb_8010_0242ac1c0002row1_col50,#T_a2a910e8_f131_11eb_8010_0242ac1c0002row1_col53,#T_a2a910e8_f131_11eb_8010_0242ac1c0002row1_col54,#T_a2a910e8_f131_11eb_8010_0242ac1c0002row1_col55,#T_a2a910e8_f131_11eb_8010_0242ac1c0002row1_col56,#T_a2a910e8_f131_11eb_8010_0242ac1c0002row1_col57,#T_a2a910e8_f131_11eb_8010_0242ac1c0002row1_col58,#T_a2a910e8_f131_11eb_8010_0242ac1c0002row1_col60,#T_a2a910e8_f131_11eb_8010_0242ac1c0002row1_col61,#T_a2a910e8_f131_11eb_8010_0242ac1c0002row1_col62,#T_a2a910e8_f131_11eb_8010_0242ac1c0002row1_col63,#T_a2a910e8_f131_11eb_8010_0242ac1c0002row2_col0,#T_a2a910e8_f131_11eb_8010_0242ac1c0002row2_col1,#T_a2a910e8_f131_11eb_8010_0242ac1c0002row2_col2,#T_a2a910e8_f131_11eb_8010_0242ac1c0002row2_col3,#T_a2a910e8_f131_11eb_8010_0242ac1c0002row2_col7,#T_a2a910e8_f131_11eb_8010_0242ac1c0002row2_col8,#T_a2a910e8_f131_11eb_8010_0242ac1c0002row2_col9,#T_a2a910e8_f131_11eb_8010_0242ac1c0002row2_col15,#T_a2a910e8_f131_11eb_8010_0242ac1c0002row2_col16,#T_a2a910e8_f131_11eb_8010_0242ac1c0002row2_col17,#T_a2a910e8_f131_11eb_8010_0242ac1c0002row2_col20,#T_a2a910e8_f131_11eb_8010_0242ac1c0002row2_col23,#T_a2a910e8_f131_11eb_8010_0242ac1c0002row2_col24,#T_a2a910e8_f131_11eb_8010_0242ac1c0002row2_col25,#T_a2a910e8_f131_11eb_8010_0242ac1c0002row2_col30,#T_a2a910e8_f131_11eb_8010_0242ac1c0002row2_col31,#T_a2a910e8_f131_11eb_8010_0242ac1c0002row2_col32,#T_a2a910e8_f131_11eb_8010_0242ac1c0002row2_col37,#T_a2a910e8_f131_11eb_8010_0242ac1c0002row2_col38,#T_a2a910e8_f131_11eb_8010_0242ac1c0002row2_col39,#T_a2a910e8_f131_11eb_8010_0242ac1c0002row2_col40,#T_a2a910e8_f131_11eb_8010_0242ac1c0002row2_col46,#T_a2a910e8_f131_11eb_8010_0242ac1c0002row2_col47,#T_a2a910e8_f131_11eb_8010_0242ac1c0002row2_col48,#T_a2a910e8_f131_11eb_8010_0242ac1c0002row2_col49,#T_a2a910e8_f131_11eb_8010_0242ac1c0002row2_col54,#T_a2a910e8_f131_11eb_8010_0242ac1c0002row2_col55,#T_a2a910e8_f131_11eb_8010_0242ac1c0002row2_col56,#T_a2a910e8_f131_11eb_8010_0242ac1c0002row2_col57,#T_a2a910e8_f131_11eb_8010_0242ac1c0002row2_col58,#T_a2a910e8_f131_11eb_8010_0242ac1c0002row2_col59,#T_a2a910e8_f131_11eb_8010_0242ac1c0002row2_col63,#T_a2a910e8_f131_11eb_8010_0242ac1c0002row3_col0,#T_a2a910e8_f131_11eb_8010_0242ac1c0002row3_col1,#T_a2a910e8_f131_11eb_8010_0242ac1c0002row3_col5,#T_a2a910e8_f131_11eb_8010_0242ac1c0002row3_col6,#T_a2a910e8_f131_11eb_8010_0242ac1c0002row3_col7,#T_a2a910e8_f131_11eb_8010_0242ac1c0002row3_col8,#T_a2a910e8_f131_11eb_8010_0242ac1c0002row3_col13,#T_a2a910e8_f131_11eb_8010_0242ac1c0002row3_col14,#T_a2a910e8_f131_11eb_8010_0242ac1c0002row3_col15,#T_a2a910e8_f131_11eb_8010_0242ac1c0002row3_col16,#T_a2a910e8_f131_11eb_8010_0242ac1c0002row3_col22,#T_a2a910e8_f131_11eb_8010_0242ac1c0002row3_col23,#T_a2a910e8_f131_11eb_8010_0242ac1c0002row3_col24,#T_a2a910e8_f131_11eb_8010_0242ac1c0002row3_col30,#T_a2a910e8_f131_11eb_8010_0242ac1c0002row3_col31,#T_a2a910e8_f131_11eb_8010_0242ac1c0002row3_col32,#T_a2a910e8_f131_11eb_8010_0242ac1c0002row3_col33,#T_a2a910e8_f131_11eb_8010_0242ac1c0002row3_col34,#T_a2a910e8_f131_11eb_8010_0242ac1c0002row3_col37,#T_a2a910e8_f131_11eb_8010_0242ac1c0002row3_col38,#T_a2a910e8_f131_11eb_8010_0242ac1c0002row3_col39,#T_a2a910e8_f131_11eb_8010_0242ac1c0002row3_col40,#T_a2a910e8_f131_11eb_8010_0242ac1c0002row3_col41,#T_a2a910e8_f131_11eb_8010_0242ac1c0002row3_col45,#T_a2a910e8_f131_11eb_8010_0242ac1c0002row3_col46,#T_a2a910e8_f131_11eb_8010_0242ac1c0002row3_col47,#T_a2a910e8_f131_11eb_8010_0242ac1c0002row3_col48,#T_a2a910e8_f131_11eb_8010_0242ac1c0002row3_col49,#T_a2a910e8_f131_11eb_8010_0242ac1c0002row3_col55,#T_a2a910e8_f131_11eb_8010_0242ac1c0002row3_col56,#T_a2a910e8_f131_11eb_8010_0242ac1c0002row3_col57,#T_a2a910e8_f131_11eb_8010_0242ac1c0002row3_col63,#T_a2a910e8_f131_11eb_8010_0242ac1c0002row4_col0,#T_a2a910e8_f131_11eb_8010_0242ac1c0002row4_col1,#T_a2a910e8_f131_11eb_8010_0242ac1c0002row4_col4,#T_a2a910e8_f131_11eb_8010_0242ac1c0002row4_col5,#T_a2a910e8_f131_11eb_8010_0242ac1c0002row4_col6,#T_a2a910e8_f131_11eb_8010_0242ac1c0002row4_col7,#T_a2a910e8_f131_11eb_8010_0242ac1c0002row4_col8,#T_a2a910e8_f131_11eb_8010_0242ac1c0002row4_col9,#T_a2a910e8_f131_11eb_8010_0242ac1c0002row4_col13,#T_a2a910e8_f131_11eb_8010_0242ac1c0002row4_col14,#T_a2a910e8_f131_11eb_8010_0242ac1c0002row4_col15,#T_a2a910e8_f131_11eb_8010_0242ac1c0002row4_col16,#T_a2a910e8_f131_11eb_8010_0242ac1c0002row4_col22,#T_a2a910e8_f131_11eb_8010_0242ac1c0002row4_col23,#T_a2a910e8_f131_11eb_8010_0242ac1c0002row4_col24,#T_a2a910e8_f131_11eb_8010_0242ac1c0002row4_col27,#T_a2a910e8_f131_11eb_8010_0242ac1c0002row4_col31,#T_a2a910e8_f131_11eb_8010_0242ac1c0002row4_col32,#T_a2a910e8_f131_11eb_8010_0242ac1c0002row4_col35,#T_a2a910e8_f131_11eb_8010_0242ac1c0002row4_col36,#T_a2a910e8_f131_11eb_8010_0242ac1c0002row4_col39,#T_a2a910e8_f131_11eb_8010_0242ac1c0002row4_col40,#T_a2a910e8_f131_11eb_8010_0242ac1c0002row4_col43,#T_a2a910e8_f131_11eb_8010_0242ac1c0002row4_col47,#T_a2a910e8_f131_11eb_8010_0242ac1c0002row4_col48,#T_a2a910e8_f131_11eb_8010_0242ac1c0002row4_col55,#T_a2a910e8_f131_11eb_8010_0242ac1c0002row4_col56,#T_a2a910e8_f131_11eb_8010_0242ac1c0002row4_col57,#T_a2a910e8_f131_11eb_8010_0242ac1c0002row4_col62,#T_a2a910e8_f131_11eb_8010_0242ac1c0002row4_col63,#T_a2a910e8_f131_11eb_8010_0242ac1c0002row4_col64,#T_a2a910e8_f131_11eb_8010_0242ac1c0002row5_col0,#T_a2a910e8_f131_11eb_8010_0242ac1c0002row5_col1,#T_a2a910e8_f131_11eb_8010_0242ac1c0002row5_col7,#T_a2a910e8_f131_11eb_8010_0242ac1c0002row5_col8,#T_a2a910e8_f131_11eb_8010_0242ac1c0002row5_col11,#T_a2a910e8_f131_11eb_8010_0242ac1c0002row5_col12,#T_a2a910e8_f131_11eb_8010_0242ac1c0002row5_col15,#T_a2a910e8_f131_11eb_8010_0242ac1c0002row5_col16,#T_a2a910e8_f131_11eb_8010_0242ac1c0002row5_col19,#T_a2a910e8_f131_11eb_8010_0242ac1c0002row5_col23,#T_a2a910e8_f131_11eb_8010_0242ac1c0002row5_col24,#T_a2a910e8_f131_11eb_8010_0242ac1c0002row5_col31,#T_a2a910e8_f131_11eb_8010_0242ac1c0002row5_col32,#T_a2a910e8_f131_11eb_8010_0242ac1c0002row5_col33,#T_a2a910e8_f131_11eb_8010_0242ac1c0002row5_col34,#T_a2a910e8_f131_11eb_8010_0242ac1c0002row5_col36,#T_a2a910e8_f131_11eb_8010_0242ac1c0002row5_col39,#T_a2a910e8_f131_11eb_8010_0242ac1c0002row5_col40,#T_a2a910e8_f131_11eb_8010_0242ac1c0002row5_col41,#T_a2a910e8_f131_11eb_8010_0242ac1c0002row5_col42,#T_a2a910e8_f131_11eb_8010_0242ac1c0002row5_col43,#T_a2a910e8_f131_11eb_8010_0242ac1c0002row5_col44,#T_a2a910e8_f131_11eb_8010_0242ac1c0002row5_col47,#T_a2a910e8_f131_11eb_8010_0242ac1c0002row5_col48,#T_a2a910e8_f131_11eb_8010_0242ac1c0002row5_col51,#T_a2a910e8_f131_11eb_8010_0242ac1c0002row5_col52,#T_a2a910e8_f131_11eb_8010_0242ac1c0002row5_col55,#T_a2a910e8_f131_11eb_8010_0242ac1c0002row5_col56,#T_a2a910e8_f131_11eb_8010_0242ac1c0002row5_col62,#T_a2a910e8_f131_11eb_8010_0242ac1c0002row5_col63,#T_a2a910e8_f131_11eb_8010_0242ac1c0002row6_col0,#T_a2a910e8_f131_11eb_8010_0242ac1c0002row6_col1,#T_a2a910e8_f131_11eb_8010_0242ac1c0002row6_col7,#T_a2a910e8_f131_11eb_8010_0242ac1c0002row6_col8,#T_a2a910e8_f131_11eb_8010_0242ac1c0002row6_col9,#T_a2a910e8_f131_11eb_8010_0242ac1c0002row6_col15,#T_a2a910e8_f131_11eb_8010_0242ac1c0002row6_col16,#T_a2a910e8_f131_11eb_8010_0242ac1c0002row6_col17,#T_a2a910e8_f131_11eb_8010_0242ac1c0002row6_col21,#T_a2a910e8_f131_11eb_8010_0242ac1c0002row6_col22,#T_a2a910e8_f131_11eb_8010_0242ac1c0002row6_col23,#T_a2a910e8_f131_11eb_8010_0242ac1c0002row6_col24,#T_a2a910e8_f131_11eb_8010_0242ac1c0002row6_col25,#T_a2a910e8_f131_11eb_8010_0242ac1c0002row6_col30,#T_a2a910e8_f131_11eb_8010_0242ac1c0002row6_col31,#T_a2a910e8_f131_11eb_8010_0242ac1c0002row6_col32,#T_a2a910e8_f131_11eb_8010_0242ac1c0002row6_col33,#T_a2a910e8_f131_11eb_8010_0242ac1c0002row6_col38,#T_a2a910e8_f131_11eb_8010_0242ac1c0002row6_col39,#T_a2a910e8_f131_11eb_8010_0242ac1c0002row6_col40,#T_a2a910e8_f131_11eb_8010_0242ac1c0002row6_col41,#T_a2a910e8_f131_11eb_8010_0242ac1c0002row6_col42,#T_a2a910e8_f131_11eb_8010_0242ac1c0002row6_col43,#T_a2a910e8_f131_11eb_8010_0242ac1c0002row6_col46,#T_a2a910e8_f131_11eb_8010_0242ac1c0002row6_col47,#T_a2a910e8_f131_11eb_8010_0242ac1c0002row6_col48,#T_a2a910e8_f131_11eb_8010_0242ac1c0002row6_col49,#T_a2a910e8_f131_11eb_8010_0242ac1c0002row6_col55,#T_a2a910e8_f131_11eb_8010_0242ac1c0002row6_col56,#T_a2a910e8_f131_11eb_8010_0242ac1c0002row6_col62,#T_a2a910e8_f131_11eb_8010_0242ac1c0002row6_col63{\n",
       "            background-color:  #000000;\n",
       "            color:  #f1f1f1;\n",
       "        }#T_a2a910e8_f131_11eb_8010_0242ac1c0002row0_col3,#T_a2a910e8_f131_11eb_8010_0242ac1c0002row1_col3{\n",
       "            background-color:  #1c1c1c;\n",
       "            color:  #f1f1f1;\n",
       "        }#T_a2a910e8_f131_11eb_8010_0242ac1c0002row0_col4,#T_a2a910e8_f131_11eb_8010_0242ac1c0002row0_col11,#T_a2a910e8_f131_11eb_8010_0242ac1c0002row0_col19,#T_a2a910e8_f131_11eb_8010_0242ac1c0002row0_col26,#T_a2a910e8_f131_11eb_8010_0242ac1c0002row0_col34,#T_a2a910e8_f131_11eb_8010_0242ac1c0002row0_col43,#T_a2a910e8_f131_11eb_8010_0242ac1c0002row0_col51,#T_a2a910e8_f131_11eb_8010_0242ac1c0002row0_col54,#T_a2a910e8_f131_11eb_8010_0242ac1c0002row1_col4,#T_a2a910e8_f131_11eb_8010_0242ac1c0002row1_col11,#T_a2a910e8_f131_11eb_8010_0242ac1c0002row1_col13,#T_a2a910e8_f131_11eb_8010_0242ac1c0002row1_col34,#T_a2a910e8_f131_11eb_8010_0242ac1c0002row1_col35,#T_a2a910e8_f131_11eb_8010_0242ac1c0002row1_col36,#T_a2a910e8_f131_11eb_8010_0242ac1c0002row1_col37,#T_a2a910e8_f131_11eb_8010_0242ac1c0002row1_col38,#T_a2a910e8_f131_11eb_8010_0242ac1c0002row1_col44,#T_a2a910e8_f131_11eb_8010_0242ac1c0002row2_col5,#T_a2a910e8_f131_11eb_8010_0242ac1c0002row2_col14,#T_a2a910e8_f131_11eb_8010_0242ac1c0002row2_col35,#T_a2a910e8_f131_11eb_8010_0242ac1c0002row2_col41,#T_a2a910e8_f131_11eb_8010_0242ac1c0002row2_col42,#T_a2a910e8_f131_11eb_8010_0242ac1c0002row2_col44,#T_a2a910e8_f131_11eb_8010_0242ac1c0002row3_col3,#T_a2a910e8_f131_11eb_8010_0242ac1c0002row3_col9,#T_a2a910e8_f131_11eb_8010_0242ac1c0002row3_col17,#T_a2a910e8_f131_11eb_8010_0242ac1c0002row3_col20,#T_a2a910e8_f131_11eb_8010_0242ac1c0002row3_col25,#T_a2a910e8_f131_11eb_8010_0242ac1c0002row3_col28,#T_a2a910e8_f131_11eb_8010_0242ac1c0002row3_col43,#T_a2a910e8_f131_11eb_8010_0242ac1c0002row3_col59,#T_a2a910e8_f131_11eb_8010_0242ac1c0002row3_col60,#T_a2a910e8_f131_11eb_8010_0242ac1c0002row3_col61,#T_a2a910e8_f131_11eb_8010_0242ac1c0002row3_col62,#T_a2a910e8_f131_11eb_8010_0242ac1c0002row4_col12,#T_a2a910e8_f131_11eb_8010_0242ac1c0002row4_col18,#T_a2a910e8_f131_11eb_8010_0242ac1c0002row4_col29,#T_a2a910e8_f131_11eb_8010_0242ac1c0002row4_col33,#T_a2a910e8_f131_11eb_8010_0242ac1c0002row4_col45,#T_a2a910e8_f131_11eb_8010_0242ac1c0002row4_col46,#T_a2a910e8_f131_11eb_8010_0242ac1c0002row4_col50,#T_a2a910e8_f131_11eb_8010_0242ac1c0002row4_col52,#T_a2a910e8_f131_11eb_8010_0242ac1c0002row4_col53,#T_a2a910e8_f131_11eb_8010_0242ac1c0002row5_col14,#T_a2a910e8_f131_11eb_8010_0242ac1c0002row5_col21,#T_a2a910e8_f131_11eb_8010_0242ac1c0002row5_col22,#T_a2a910e8_f131_11eb_8010_0242ac1c0002row5_col30,#T_a2a910e8_f131_11eb_8010_0242ac1c0002row5_col49,#T_a2a910e8_f131_11eb_8010_0242ac1c0002row5_col50,#T_a2a910e8_f131_11eb_8010_0242ac1c0002row5_col57,#T_a2a910e8_f131_11eb_8010_0242ac1c0002row5_col64,#T_a2a910e8_f131_11eb_8010_0242ac1c0002row6_col2,#T_a2a910e8_f131_11eb_8010_0242ac1c0002row6_col5,#T_a2a910e8_f131_11eb_8010_0242ac1c0002row6_col6,#T_a2a910e8_f131_11eb_8010_0242ac1c0002row6_col10,#T_a2a910e8_f131_11eb_8010_0242ac1c0002row6_col27,#T_a2a910e8_f131_11eb_8010_0242ac1c0002row6_col28,#T_a2a910e8_f131_11eb_8010_0242ac1c0002row6_col57,#T_a2a910e8_f131_11eb_8010_0242ac1c0002row6_col58{\n",
       "            background-color:  #ffffff;\n",
       "            color:  #000000;\n",
       "        }#T_a2a910e8_f131_11eb_8010_0242ac1c0002row0_col5{\n",
       "            background-color:  #3b3b3b;\n",
       "            color:  #f1f1f1;\n",
       "        }#T_a2a910e8_f131_11eb_8010_0242ac1c0002row0_col12{\n",
       "            background-color:  #b0b0b0;\n",
       "            color:  #000000;\n",
       "        }#T_a2a910e8_f131_11eb_8010_0242ac1c0002row0_col18,#T_a2a910e8_f131_11eb_8010_0242ac1c0002row1_col20,#T_a2a910e8_f131_11eb_8010_0242ac1c0002row4_col10,#T_a2a910e8_f131_11eb_8010_0242ac1c0002row5_col27{\n",
       "            background-color:  #999999;\n",
       "            color:  #000000;\n",
       "        }#T_a2a910e8_f131_11eb_8010_0242ac1c0002row0_col25,#T_a2a910e8_f131_11eb_8010_0242ac1c0002row0_col33,#T_a2a910e8_f131_11eb_8010_0242ac1c0002row0_col41,#T_a2a910e8_f131_11eb_8010_0242ac1c0002row5_col60{\n",
       "            background-color:  #6d6d6d;\n",
       "            color:  #000000;\n",
       "        }#T_a2a910e8_f131_11eb_8010_0242ac1c0002row0_col27,#T_a2a910e8_f131_11eb_8010_0242ac1c0002row0_col45,#T_a2a910e8_f131_11eb_8010_0242ac1c0002row2_col53,#T_a2a910e8_f131_11eb_8010_0242ac1c0002row3_col10,#T_a2a910e8_f131_11eb_8010_0242ac1c0002row5_col10,#T_a2a910e8_f131_11eb_8010_0242ac1c0002row5_col53{\n",
       "            background-color:  #eeeeee;\n",
       "            color:  #000000;\n",
       "        }#T_a2a910e8_f131_11eb_8010_0242ac1c0002row0_col35,#T_a2a910e8_f131_11eb_8010_0242ac1c0002row0_col42,#T_a2a910e8_f131_11eb_8010_0242ac1c0002row1_col28,#T_a2a910e8_f131_11eb_8010_0242ac1c0002row3_col12,#T_a2a910e8_f131_11eb_8010_0242ac1c0002row3_col35{\n",
       "            background-color:  #f0f0f0;\n",
       "            color:  #000000;\n",
       "        }#T_a2a910e8_f131_11eb_8010_0242ac1c0002row0_col36,#T_a2a910e8_f131_11eb_8010_0242ac1c0002row4_col61{\n",
       "            background-color:  #505050;\n",
       "            color:  #f1f1f1;\n",
       "        }#T_a2a910e8_f131_11eb_8010_0242ac1c0002row0_col44,#T_a2a910e8_f131_11eb_8010_0242ac1c0002row2_col51{\n",
       "            background-color:  #c9c9c9;\n",
       "            color:  #000000;\n",
       "        }#T_a2a910e8_f131_11eb_8010_0242ac1c0002row0_col46,#T_a2a910e8_f131_11eb_8010_0242ac1c0002row1_col12,#T_a2a910e8_f131_11eb_8010_0242ac1c0002row2_col22,#T_a2a910e8_f131_11eb_8010_0242ac1c0002row2_col28,#T_a2a910e8_f131_11eb_8010_0242ac1c0002row2_col61,#T_a2a910e8_f131_11eb_8010_0242ac1c0002row4_col42,#T_a2a910e8_f131_11eb_8010_0242ac1c0002row5_col28,#T_a2a910e8_f131_11eb_8010_0242ac1c0002row5_col29{\n",
       "            background-color:  #e0e0e0;\n",
       "            color:  #000000;\n",
       "        }#T_a2a910e8_f131_11eb_8010_0242ac1c0002row0_col50,#T_a2a910e8_f131_11eb_8010_0242ac1c0002row2_col21,#T_a2a910e8_f131_11eb_8010_0242ac1c0002row4_col21,#T_a2a910e8_f131_11eb_8010_0242ac1c0002row4_col34{\n",
       "            background-color:  #bbbbbb;\n",
       "            color:  #000000;\n",
       "        }#T_a2a910e8_f131_11eb_8010_0242ac1c0002row0_col52,#T_a2a910e8_f131_11eb_8010_0242ac1c0002row0_col53,#T_a2a910e8_f131_11eb_8010_0242ac1c0002row0_col59,#T_a2a910e8_f131_11eb_8010_0242ac1c0002row2_col18,#T_a2a910e8_f131_11eb_8010_0242ac1c0002row2_col34,#T_a2a910e8_f131_11eb_8010_0242ac1c0002row3_col27,#T_a2a910e8_f131_11eb_8010_0242ac1c0002row5_col18{\n",
       "            background-color:  #666666;\n",
       "            color:  #f1f1f1;\n",
       "        }#T_a2a910e8_f131_11eb_8010_0242ac1c0002row0_col60,#T_a2a910e8_f131_11eb_8010_0242ac1c0002row3_col2,#T_a2a910e8_f131_11eb_8010_0242ac1c0002row4_col60{\n",
       "            background-color:  #b6b6b6;\n",
       "            color:  #000000;\n",
       "        }#T_a2a910e8_f131_11eb_8010_0242ac1c0002row0_col61,#T_a2a910e8_f131_11eb_8010_0242ac1c0002row1_col43,#T_a2a910e8_f131_11eb_8010_0242ac1c0002row4_col37,#T_a2a910e8_f131_11eb_8010_0242ac1c0002row5_col37{\n",
       "            background-color:  #c0c0c0;\n",
       "            color:  #000000;\n",
       "        }#T_a2a910e8_f131_11eb_8010_0242ac1c0002row0_col62,#T_a2a910e8_f131_11eb_8010_0242ac1c0002row1_col45,#T_a2a910e8_f131_11eb_8010_0242ac1c0002row3_col52,#T_a2a910e8_f131_11eb_8010_0242ac1c0002row6_col52{\n",
       "            background-color:  #888888;\n",
       "            color:  #000000;\n",
       "        }#T_a2a910e8_f131_11eb_8010_0242ac1c0002row0_col64,#T_a2a910e8_f131_11eb_8010_0242ac1c0002row2_col4,#T_a2a910e8_f131_11eb_8010_0242ac1c0002row2_col11,#T_a2a910e8_f131_11eb_8010_0242ac1c0002row2_col13,#T_a2a910e8_f131_11eb_8010_0242ac1c0002row2_col27,#T_a2a910e8_f131_11eb_8010_0242ac1c0002row3_col53,#T_a2a910e8_f131_11eb_8010_0242ac1c0002row4_col20,#T_a2a910e8_f131_11eb_8010_0242ac1c0002row4_col38,#T_a2a910e8_f131_11eb_8010_0242ac1c0002row5_col6,#T_a2a910e8_f131_11eb_8010_0242ac1c0002row6_col4{\n",
       "            background-color:  #aaaaaa;\n",
       "            color:  #000000;\n",
       "        }#T_a2a910e8_f131_11eb_8010_0242ac1c0002row1_col2,#T_a2a910e8_f131_11eb_8010_0242ac1c0002row4_col44{\n",
       "            background-color:  #121212;\n",
       "            color:  #f1f1f1;\n",
       "        }#T_a2a910e8_f131_11eb_8010_0242ac1c0002row1_col5{\n",
       "            background-color:  #c4c4c4;\n",
       "            color:  #000000;\n",
       "        }#T_a2a910e8_f131_11eb_8010_0242ac1c0002row1_col9,#T_a2a910e8_f131_11eb_8010_0242ac1c0002row1_col46,#T_a2a910e8_f131_11eb_8010_0242ac1c0002row5_col9,#T_a2a910e8_f131_11eb_8010_0242ac1c0002row6_col36{\n",
       "            background-color:  #606060;\n",
       "            color:  #f1f1f1;\n",
       "        }#T_a2a910e8_f131_11eb_8010_0242ac1c0002row1_col10,#T_a2a910e8_f131_11eb_8010_0242ac1c0002row1_col21,#T_a2a910e8_f131_11eb_8010_0242ac1c0002row3_col50,#T_a2a910e8_f131_11eb_8010_0242ac1c0002row3_col58,#T_a2a910e8_f131_11eb_8010_0242ac1c0002row5_col45,#T_a2a910e8_f131_11eb_8010_0242ac1c0002row5_col59,#T_a2a910e8_f131_11eb_8010_0242ac1c0002row6_col18,#T_a2a910e8_f131_11eb_8010_0242ac1c0002row6_col34,#T_a2a910e8_f131_11eb_8010_0242ac1c0002row6_col53{\n",
       "            background-color:  #cccccc;\n",
       "            color:  #000000;\n",
       "        }#T_a2a910e8_f131_11eb_8010_0242ac1c0002row1_col17,#T_a2a910e8_f131_11eb_8010_0242ac1c0002row5_col17{\n",
       "            background-color:  #747474;\n",
       "            color:  #000000;\n",
       "        }#T_a2a910e8_f131_11eb_8010_0242ac1c0002row1_col27,#T_a2a910e8_f131_11eb_8010_0242ac1c0002row2_col6,#T_a2a910e8_f131_11eb_8010_0242ac1c0002row2_col52,#T_a2a910e8_f131_11eb_8010_0242ac1c0002row3_col21,#T_a2a910e8_f131_11eb_8010_0242ac1c0002row3_col54,#T_a2a910e8_f131_11eb_8010_0242ac1c0002row4_col49,#T_a2a910e8_f131_11eb_8010_0242ac1c0002row4_col58,#T_a2a910e8_f131_11eb_8010_0242ac1c0002row6_col13,#T_a2a910e8_f131_11eb_8010_0242ac1c0002row6_col50{\n",
       "            background-color:  #555555;\n",
       "            color:  #f1f1f1;\n",
       "        }#T_a2a910e8_f131_11eb_8010_0242ac1c0002row1_col29,#T_a2a910e8_f131_11eb_8010_0242ac1c0002row3_col36,#T_a2a910e8_f131_11eb_8010_0242ac1c0002row3_col42{\n",
       "            background-color:  #a0a0a0;\n",
       "            color:  #000000;\n",
       "        }#T_a2a910e8_f131_11eb_8010_0242ac1c0002row1_col30,#T_a2a910e8_f131_11eb_8010_0242ac1c0002row4_col30{\n",
       "            background-color:  #404040;\n",
       "            color:  #f1f1f1;\n",
       "        }#T_a2a910e8_f131_11eb_8010_0242ac1c0002row1_col41,#T_a2a910e8_f131_11eb_8010_0242ac1c0002row2_col33,#T_a2a910e8_f131_11eb_8010_0242ac1c0002row3_col44,#T_a2a910e8_f131_11eb_8010_0242ac1c0002row6_col51{\n",
       "            background-color:  #242424;\n",
       "            color:  #f1f1f1;\n",
       "        }#T_a2a910e8_f131_11eb_8010_0242ac1c0002row1_col42,#T_a2a910e8_f131_11eb_8010_0242ac1c0002row1_col59,#T_a2a910e8_f131_11eb_8010_0242ac1c0002row2_col29,#T_a2a910e8_f131_11eb_8010_0242ac1c0002row5_col46,#T_a2a910e8_f131_11eb_8010_0242ac1c0002row6_col12,#T_a2a910e8_f131_11eb_8010_0242ac1c0002row6_col37{\n",
       "            background-color:  #808080;\n",
       "            color:  #000000;\n",
       "        }#T_a2a910e8_f131_11eb_8010_0242ac1c0002row1_col51,#T_a2a910e8_f131_11eb_8010_0242ac1c0002row4_col25,#T_a2a910e8_f131_11eb_8010_0242ac1c0002row4_col41{\n",
       "            background-color:  #929292;\n",
       "            color:  #000000;\n",
       "        }#T_a2a910e8_f131_11eb_8010_0242ac1c0002row1_col52,#T_a2a910e8_f131_11eb_8010_0242ac1c0002row6_col45{\n",
       "            background-color:  #dddddd;\n",
       "            color:  #000000;\n",
       "        }#T_a2a910e8_f131_11eb_8010_0242ac1c0002row1_col64,#T_a2a910e8_f131_11eb_8010_0242ac1c0002row5_col3{\n",
       "            background-color:  #c7c7c7;\n",
       "            color:  #000000;\n",
       "        }#T_a2a910e8_f131_11eb_8010_0242ac1c0002row2_col10,#T_a2a910e8_f131_11eb_8010_0242ac1c0002row2_col50,#T_a2a910e8_f131_11eb_8010_0242ac1c0002row5_col58{\n",
       "            background-color:  #777777;\n",
       "            color:  #000000;\n",
       "        }#T_a2a910e8_f131_11eb_8010_0242ac1c0002row2_col12,#T_a2a910e8_f131_11eb_8010_0242ac1c0002row4_col19{\n",
       "            background-color:  #101010;\n",
       "            color:  #f1f1f1;\n",
       "        }#T_a2a910e8_f131_11eb_8010_0242ac1c0002row2_col19,#T_a2a910e8_f131_11eb_8010_0242ac1c0002row3_col19,#T_a2a910e8_f131_11eb_8010_0242ac1c0002row4_col28,#T_a2a910e8_f131_11eb_8010_0242ac1c0002row6_col14,#T_a2a910e8_f131_11eb_8010_0242ac1c0002row6_col29{\n",
       "            background-color:  #202020;\n",
       "            color:  #f1f1f1;\n",
       "        }#T_a2a910e8_f131_11eb_8010_0242ac1c0002row2_col26{\n",
       "            background-color:  #898989;\n",
       "            color:  #000000;\n",
       "        }#T_a2a910e8_f131_11eb_8010_0242ac1c0002row2_col36,#T_a2a910e8_f131_11eb_8010_0242ac1c0002row5_col61{\n",
       "            background-color:  #909090;\n",
       "            color:  #000000;\n",
       "        }#T_a2a910e8_f131_11eb_8010_0242ac1c0002row2_col43,#T_a2a910e8_f131_11eb_8010_0242ac1c0002row6_col19{\n",
       "            background-color:  #707070;\n",
       "            color:  #000000;\n",
       "        }#T_a2a910e8_f131_11eb_8010_0242ac1c0002row2_col45,#T_a2a910e8_f131_11eb_8010_0242ac1c0002row3_col18{\n",
       "            background-color:  #333333;\n",
       "            color:  #f1f1f1;\n",
       "        }#T_a2a910e8_f131_11eb_8010_0242ac1c0002row2_col60,#T_a2a910e8_f131_11eb_8010_0242ac1c0002row3_col51,#T_a2a910e8_f131_11eb_8010_0242ac1c0002row4_col51{\n",
       "            background-color:  #dbdbdb;\n",
       "            color:  #000000;\n",
       "        }#T_a2a910e8_f131_11eb_8010_0242ac1c0002row2_col62{\n",
       "            background-color:  #222222;\n",
       "            color:  #f1f1f1;\n",
       "        }#T_a2a910e8_f131_11eb_8010_0242ac1c0002row2_col64,#T_a2a910e8_f131_11eb_8010_0242ac1c0002row5_col4{\n",
       "            background-color:  #e3e3e3;\n",
       "            color:  #000000;\n",
       "        }#T_a2a910e8_f131_11eb_8010_0242ac1c0002row3_col4,#T_a2a910e8_f131_11eb_8010_0242ac1c0002row6_col3,#T_a2a910e8_f131_11eb_8010_0242ac1c0002row6_col64{\n",
       "            background-color:  #8e8e8e;\n",
       "            color:  #000000;\n",
       "        }#T_a2a910e8_f131_11eb_8010_0242ac1c0002row3_col11{\n",
       "            background-color:  #959595;\n",
       "            color:  #000000;\n",
       "        }#T_a2a910e8_f131_11eb_8010_0242ac1c0002row3_col26{\n",
       "            background-color:  #272727;\n",
       "            color:  #f1f1f1;\n",
       "        }#T_a2a910e8_f131_11eb_8010_0242ac1c0002row3_col29,#T_a2a910e8_f131_11eb_8010_0242ac1c0002row5_col35,#T_a2a910e8_f131_11eb_8010_0242ac1c0002row6_col35,#T_a2a910e8_f131_11eb_8010_0242ac1c0002row6_col61{\n",
       "            background-color:  #303030;\n",
       "            color:  #f1f1f1;\n",
       "        }#T_a2a910e8_f131_11eb_8010_0242ac1c0002row3_col64{\n",
       "            background-color:  #383838;\n",
       "            color:  #f1f1f1;\n",
       "        }#T_a2a910e8_f131_11eb_8010_0242ac1c0002row4_col2,#T_a2a910e8_f131_11eb_8010_0242ac1c0002row6_col44{\n",
       "            background-color:  #363636;\n",
       "            color:  #f1f1f1;\n",
       "        }#T_a2a910e8_f131_11eb_8010_0242ac1c0002row4_col3{\n",
       "            background-color:  #717171;\n",
       "            color:  #000000;\n",
       "        }#T_a2a910e8_f131_11eb_8010_0242ac1c0002row4_col11,#T_a2a910e8_f131_11eb_8010_0242ac1c0002row5_col13{\n",
       "            background-color:  #eaeaea;\n",
       "            color:  #000000;\n",
       "        }#T_a2a910e8_f131_11eb_8010_0242ac1c0002row4_col17{\n",
       "            background-color:  #454545;\n",
       "            color:  #f1f1f1;\n",
       "        }#T_a2a910e8_f131_11eb_8010_0242ac1c0002row4_col26{\n",
       "            background-color:  #b1b1b1;\n",
       "            color:  #000000;\n",
       "        }#T_a2a910e8_f131_11eb_8010_0242ac1c0002row4_col54,#T_a2a910e8_f131_11eb_8010_0242ac1c0002row5_col20,#T_a2a910e8_f131_11eb_8010_0242ac1c0002row5_col54,#T_a2a910e8_f131_11eb_8010_0242ac1c0002row6_col54{\n",
       "            background-color:  #111111;\n",
       "            color:  #f1f1f1;\n",
       "        }#T_a2a910e8_f131_11eb_8010_0242ac1c0002row4_col59{\n",
       "            background-color:  #b3b3b3;\n",
       "            color:  #000000;\n",
       "        }#T_a2a910e8_f131_11eb_8010_0242ac1c0002row5_col2{\n",
       "            background-color:  #5b5b5b;\n",
       "            color:  #f1f1f1;\n",
       "        }#T_a2a910e8_f131_11eb_8010_0242ac1c0002row5_col5{\n",
       "            background-color:  #9d9d9d;\n",
       "            color:  #000000;\n",
       "        }#T_a2a910e8_f131_11eb_8010_0242ac1c0002row5_col25,#T_a2a910e8_f131_11eb_8010_0242ac1c0002row6_col60{\n",
       "            background-color:  #494949;\n",
       "            color:  #f1f1f1;\n",
       "        }#T_a2a910e8_f131_11eb_8010_0242ac1c0002row5_col26,#T_a2a910e8_f131_11eb_8010_0242ac1c0002row6_col26{\n",
       "            background-color:  #ececec;\n",
       "            color:  #000000;\n",
       "        }#T_a2a910e8_f131_11eb_8010_0242ac1c0002row5_col38,#T_a2a910e8_f131_11eb_8010_0242ac1c0002row6_col11{\n",
       "            background-color:  #6a6a6a;\n",
       "            color:  #000000;\n",
       "        }#T_a2a910e8_f131_11eb_8010_0242ac1c0002row6_col20{\n",
       "            background-color:  #444444;\n",
       "            color:  #f1f1f1;\n",
       "        }#T_a2a910e8_f131_11eb_8010_0242ac1c0002row6_col59{\n",
       "            background-color:  #e6e6e6;\n",
       "            color:  #000000;\n",
       "        }</style><table id=\"T_a2a910e8_f131_11eb_8010_0242ac1c0002\" ><thead>    <tr>        <th class=\"blank level0\" ></th>        <th class=\"col_heading level0 col0\" >0</th>        <th class=\"col_heading level0 col1\" >1</th>        <th class=\"col_heading level0 col2\" >2</th>        <th class=\"col_heading level0 col3\" >3</th>        <th class=\"col_heading level0 col4\" >4</th>        <th class=\"col_heading level0 col5\" >5</th>        <th class=\"col_heading level0 col6\" >6</th>        <th class=\"col_heading level0 col7\" >7</th>        <th class=\"col_heading level0 col8\" >8</th>        <th class=\"col_heading level0 col9\" >9</th>        <th class=\"col_heading level0 col10\" >10</th>        <th class=\"col_heading level0 col11\" >11</th>        <th class=\"col_heading level0 col12\" >12</th>        <th class=\"col_heading level0 col13\" >13</th>        <th class=\"col_heading level0 col14\" >14</th>        <th class=\"col_heading level0 col15\" >15</th>        <th class=\"col_heading level0 col16\" >16</th>        <th class=\"col_heading level0 col17\" >17</th>        <th class=\"col_heading level0 col18\" >18</th>        <th class=\"col_heading level0 col19\" >19</th>        <th class=\"col_heading level0 col20\" >20</th>        <th class=\"col_heading level0 col21\" >21</th>        <th class=\"col_heading level0 col22\" >22</th>        <th class=\"col_heading level0 col23\" >23</th>        <th class=\"col_heading level0 col24\" >24</th>        <th class=\"col_heading level0 col25\" >25</th>        <th class=\"col_heading level0 col26\" >26</th>        <th class=\"col_heading level0 col27\" >27</th>        <th class=\"col_heading level0 col28\" >28</th>        <th class=\"col_heading level0 col29\" >29</th>        <th class=\"col_heading level0 col30\" >30</th>        <th class=\"col_heading level0 col31\" >31</th>        <th class=\"col_heading level0 col32\" >32</th>        <th class=\"col_heading level0 col33\" >33</th>        <th class=\"col_heading level0 col34\" >34</th>        <th class=\"col_heading level0 col35\" >35</th>        <th class=\"col_heading level0 col36\" >36</th>        <th class=\"col_heading level0 col37\" >37</th>        <th class=\"col_heading level0 col38\" >38</th>        <th class=\"col_heading level0 col39\" >39</th>        <th class=\"col_heading level0 col40\" >40</th>        <th class=\"col_heading level0 col41\" >41</th>        <th class=\"col_heading level0 col42\" >42</th>        <th class=\"col_heading level0 col43\" >43</th>        <th class=\"col_heading level0 col44\" >44</th>        <th class=\"col_heading level0 col45\" >45</th>        <th class=\"col_heading level0 col46\" >46</th>        <th class=\"col_heading level0 col47\" >47</th>        <th class=\"col_heading level0 col48\" >48</th>        <th class=\"col_heading level0 col49\" >49</th>        <th class=\"col_heading level0 col50\" >50</th>        <th class=\"col_heading level0 col51\" >51</th>        <th class=\"col_heading level0 col52\" >52</th>        <th class=\"col_heading level0 col53\" >53</th>        <th class=\"col_heading level0 col54\" >54</th>        <th class=\"col_heading level0 col55\" >55</th>        <th class=\"col_heading level0 col56\" >56</th>        <th class=\"col_heading level0 col57\" >57</th>        <th class=\"col_heading level0 col58\" >58</th>        <th class=\"col_heading level0 col59\" >59</th>        <th class=\"col_heading level0 col60\" >60</th>        <th class=\"col_heading level0 col61\" >61</th>        <th class=\"col_heading level0 col62\" >62</th>        <th class=\"col_heading level0 col63\" >63</th>        <th class=\"col_heading level0 col64\" >64</th>    </tr></thead><tbody>\n",
       "                <tr>\n",
       "                        <th id=\"T_a2a910e8_f131_11eb_8010_0242ac1c0002level0_row0\" class=\"row_heading level0 row0\" >0</th>\n",
       "                        <td id=\"T_a2a910e8_f131_11eb_8010_0242ac1c0002row0_col0\" class=\"data row0 col0\" >0.000000</td>\n",
       "                        <td id=\"T_a2a910e8_f131_11eb_8010_0242ac1c0002row0_col1\" class=\"data row0 col1\" >0.000000</td>\n",
       "                        <td id=\"T_a2a910e8_f131_11eb_8010_0242ac1c0002row0_col2\" class=\"data row0 col2\" >0.000000</td>\n",
       "                        <td id=\"T_a2a910e8_f131_11eb_8010_0242ac1c0002row0_col3\" class=\"data row0 col3\" >8.000000</td>\n",
       "                        <td id=\"T_a2a910e8_f131_11eb_8010_0242ac1c0002row0_col4\" class=\"data row0 col4\" >15.000000</td>\n",
       "                        <td id=\"T_a2a910e8_f131_11eb_8010_0242ac1c0002row0_col5\" class=\"data row0 col5\" >3.000000</td>\n",
       "                        <td id=\"T_a2a910e8_f131_11eb_8010_0242ac1c0002row0_col6\" class=\"data row0 col6\" >0.000000</td>\n",
       "                        <td id=\"T_a2a910e8_f131_11eb_8010_0242ac1c0002row0_col7\" class=\"data row0 col7\" >0.000000</td>\n",
       "                        <td id=\"T_a2a910e8_f131_11eb_8010_0242ac1c0002row0_col8\" class=\"data row0 col8\" >0.000000</td>\n",
       "                        <td id=\"T_a2a910e8_f131_11eb_8010_0242ac1c0002row0_col9\" class=\"data row0 col9\" >0.000000</td>\n",
       "                        <td id=\"T_a2a910e8_f131_11eb_8010_0242ac1c0002row0_col10\" class=\"data row0 col10\" >1.000000</td>\n",
       "                        <td id=\"T_a2a910e8_f131_11eb_8010_0242ac1c0002row0_col11\" class=\"data row0 col11\" >15.000000</td>\n",
       "                        <td id=\"T_a2a910e8_f131_11eb_8010_0242ac1c0002row0_col12\" class=\"data row0 col12\" >11.000000</td>\n",
       "                        <td id=\"T_a2a910e8_f131_11eb_8010_0242ac1c0002row0_col13\" class=\"data row0 col13\" >2.000000</td>\n",
       "                        <td id=\"T_a2a910e8_f131_11eb_8010_0242ac1c0002row0_col14\" class=\"data row0 col14\" >0.000000</td>\n",
       "                        <td id=\"T_a2a910e8_f131_11eb_8010_0242ac1c0002row0_col15\" class=\"data row0 col15\" >0.000000</td>\n",
       "                        <td id=\"T_a2a910e8_f131_11eb_8010_0242ac1c0002row0_col16\" class=\"data row0 col16\" >0.000000</td>\n",
       "                        <td id=\"T_a2a910e8_f131_11eb_8010_0242ac1c0002row0_col17\" class=\"data row0 col17\" >0.000000</td>\n",
       "                        <td id=\"T_a2a910e8_f131_11eb_8010_0242ac1c0002row0_col18\" class=\"data row0 col18\" >13.000000</td>\n",
       "                        <td id=\"T_a2a910e8_f131_11eb_8010_0242ac1c0002row0_col19\" class=\"data row0 col19\" >16.000000</td>\n",
       "                        <td id=\"T_a2a910e8_f131_11eb_8010_0242ac1c0002row0_col20\" class=\"data row0 col20\" >1.000000</td>\n",
       "                        <td id=\"T_a2a910e8_f131_11eb_8010_0242ac1c0002row0_col21\" class=\"data row0 col21\" >0.000000</td>\n",
       "                        <td id=\"T_a2a910e8_f131_11eb_8010_0242ac1c0002row0_col22\" class=\"data row0 col22\" >0.000000</td>\n",
       "                        <td id=\"T_a2a910e8_f131_11eb_8010_0242ac1c0002row0_col23\" class=\"data row0 col23\" >0.000000</td>\n",
       "                        <td id=\"T_a2a910e8_f131_11eb_8010_0242ac1c0002row0_col24\" class=\"data row0 col24\" >0.000000</td>\n",
       "                        <td id=\"T_a2a910e8_f131_11eb_8010_0242ac1c0002row0_col25\" class=\"data row0 col25\" >3.000000</td>\n",
       "                        <td id=\"T_a2a910e8_f131_11eb_8010_0242ac1c0002row0_col26\" class=\"data row0 col26\" >16.000000</td>\n",
       "                        <td id=\"T_a2a910e8_f131_11eb_8010_0242ac1c0002row0_col27\" class=\"data row0 col27\" >14.000000</td>\n",
       "                        <td id=\"T_a2a910e8_f131_11eb_8010_0242ac1c0002row0_col28\" class=\"data row0 col28\" >0.000000</td>\n",
       "                        <td id=\"T_a2a910e8_f131_11eb_8010_0242ac1c0002row0_col29\" class=\"data row0 col29\" >0.000000</td>\n",
       "                        <td id=\"T_a2a910e8_f131_11eb_8010_0242ac1c0002row0_col30\" class=\"data row0 col30\" >0.000000</td>\n",
       "                        <td id=\"T_a2a910e8_f131_11eb_8010_0242ac1c0002row0_col31\" class=\"data row0 col31\" >0.000000</td>\n",
       "                        <td id=\"T_a2a910e8_f131_11eb_8010_0242ac1c0002row0_col32\" class=\"data row0 col32\" >0.000000</td>\n",
       "                        <td id=\"T_a2a910e8_f131_11eb_8010_0242ac1c0002row0_col33\" class=\"data row0 col33\" >3.000000</td>\n",
       "                        <td id=\"T_a2a910e8_f131_11eb_8010_0242ac1c0002row0_col34\" class=\"data row0 col34\" >16.000000</td>\n",
       "                        <td id=\"T_a2a910e8_f131_11eb_8010_0242ac1c0002row0_col35\" class=\"data row0 col35\" >15.000000</td>\n",
       "                        <td id=\"T_a2a910e8_f131_11eb_8010_0242ac1c0002row0_col36\" class=\"data row0 col36\" >5.000000</td>\n",
       "                        <td id=\"T_a2a910e8_f131_11eb_8010_0242ac1c0002row0_col37\" class=\"data row0 col37\" >0.000000</td>\n",
       "                        <td id=\"T_a2a910e8_f131_11eb_8010_0242ac1c0002row0_col38\" class=\"data row0 col38\" >0.000000</td>\n",
       "                        <td id=\"T_a2a910e8_f131_11eb_8010_0242ac1c0002row0_col39\" class=\"data row0 col39\" >0.000000</td>\n",
       "                        <td id=\"T_a2a910e8_f131_11eb_8010_0242ac1c0002row0_col40\" class=\"data row0 col40\" >0.000000</td>\n",
       "                        <td id=\"T_a2a910e8_f131_11eb_8010_0242ac1c0002row0_col41\" class=\"data row0 col41\" >3.000000</td>\n",
       "                        <td id=\"T_a2a910e8_f131_11eb_8010_0242ac1c0002row0_col42\" class=\"data row0 col42\" >15.000000</td>\n",
       "                        <td id=\"T_a2a910e8_f131_11eb_8010_0242ac1c0002row0_col43\" class=\"data row0 col43\" >16.000000</td>\n",
       "                        <td id=\"T_a2a910e8_f131_11eb_8010_0242ac1c0002row0_col44\" class=\"data row0 col44\" >11.000000</td>\n",
       "                        <td id=\"T_a2a910e8_f131_11eb_8010_0242ac1c0002row0_col45\" class=\"data row0 col45\" >14.000000</td>\n",
       "                        <td id=\"T_a2a910e8_f131_11eb_8010_0242ac1c0002row0_col46\" class=\"data row0 col46\" >7.000000</td>\n",
       "                        <td id=\"T_a2a910e8_f131_11eb_8010_0242ac1c0002row0_col47\" class=\"data row0 col47\" >0.000000</td>\n",
       "                        <td id=\"T_a2a910e8_f131_11eb_8010_0242ac1c0002row0_col48\" class=\"data row0 col48\" >0.000000</td>\n",
       "                        <td id=\"T_a2a910e8_f131_11eb_8010_0242ac1c0002row0_col49\" class=\"data row0 col49\" >0.000000</td>\n",
       "                        <td id=\"T_a2a910e8_f131_11eb_8010_0242ac1c0002row0_col50\" class=\"data row0 col50\" >11.000000</td>\n",
       "                        <td id=\"T_a2a910e8_f131_11eb_8010_0242ac1c0002row0_col51\" class=\"data row0 col51\" >16.000000</td>\n",
       "                        <td id=\"T_a2a910e8_f131_11eb_8010_0242ac1c0002row0_col52\" class=\"data row0 col52\" >6.000000</td>\n",
       "                        <td id=\"T_a2a910e8_f131_11eb_8010_0242ac1c0002row0_col53\" class=\"data row0 col53\" >6.000000</td>\n",
       "                        <td id=\"T_a2a910e8_f131_11eb_8010_0242ac1c0002row0_col54\" class=\"data row0 col54\" >15.000000</td>\n",
       "                        <td id=\"T_a2a910e8_f131_11eb_8010_0242ac1c0002row0_col55\" class=\"data row0 col55\" >0.000000</td>\n",
       "                        <td id=\"T_a2a910e8_f131_11eb_8010_0242ac1c0002row0_col56\" class=\"data row0 col56\" >0.000000</td>\n",
       "                        <td id=\"T_a2a910e8_f131_11eb_8010_0242ac1c0002row0_col57\" class=\"data row0 col57\" >0.000000</td>\n",
       "                        <td id=\"T_a2a910e8_f131_11eb_8010_0242ac1c0002row0_col58\" class=\"data row0 col58\" >0.000000</td>\n",
       "                        <td id=\"T_a2a910e8_f131_11eb_8010_0242ac1c0002row0_col59\" class=\"data row0 col59\" >10.000000</td>\n",
       "                        <td id=\"T_a2a910e8_f131_11eb_8010_0242ac1c0002row0_col60\" class=\"data row0 col60\" >14.000000</td>\n",
       "                        <td id=\"T_a2a910e8_f131_11eb_8010_0242ac1c0002row0_col61\" class=\"data row0 col61\" >12.000000</td>\n",
       "                        <td id=\"T_a2a910e8_f131_11eb_8010_0242ac1c0002row0_col62\" class=\"data row0 col62\" >8.000000</td>\n",
       "                        <td id=\"T_a2a910e8_f131_11eb_8010_0242ac1c0002row0_col63\" class=\"data row0 col63\" >0.000000</td>\n",
       "                        <td id=\"T_a2a910e8_f131_11eb_8010_0242ac1c0002row0_col64\" class=\"data row0 col64\" >6.000000</td>\n",
       "            </tr>\n",
       "            <tr>\n",
       "                        <th id=\"T_a2a910e8_f131_11eb_8010_0242ac1c0002level0_row1\" class=\"row_heading level0 row1\" >1</th>\n",
       "                        <td id=\"T_a2a910e8_f131_11eb_8010_0242ac1c0002row1_col0\" class=\"data row1 col0\" >0.000000</td>\n",
       "                        <td id=\"T_a2a910e8_f131_11eb_8010_0242ac1c0002row1_col1\" class=\"data row1 col1\" >0.000000</td>\n",
       "                        <td id=\"T_a2a910e8_f131_11eb_8010_0242ac1c0002row1_col2\" class=\"data row1 col2\" >1.000000</td>\n",
       "                        <td id=\"T_a2a910e8_f131_11eb_8010_0242ac1c0002row1_col3\" class=\"data row1 col3\" >8.000000</td>\n",
       "                        <td id=\"T_a2a910e8_f131_11eb_8010_0242ac1c0002row1_col4\" class=\"data row1 col4\" >15.000000</td>\n",
       "                        <td id=\"T_a2a910e8_f131_11eb_8010_0242ac1c0002row1_col5\" class=\"data row1 col5\" >10.000000</td>\n",
       "                        <td id=\"T_a2a910e8_f131_11eb_8010_0242ac1c0002row1_col6\" class=\"data row1 col6\" >0.000000</td>\n",
       "                        <td id=\"T_a2a910e8_f131_11eb_8010_0242ac1c0002row1_col7\" class=\"data row1 col7\" >0.000000</td>\n",
       "                        <td id=\"T_a2a910e8_f131_11eb_8010_0242ac1c0002row1_col8\" class=\"data row1 col8\" >0.000000</td>\n",
       "                        <td id=\"T_a2a910e8_f131_11eb_8010_0242ac1c0002row1_col9\" class=\"data row1 col9\" >3.000000</td>\n",
       "                        <td id=\"T_a2a910e8_f131_11eb_8010_0242ac1c0002row1_col10\" class=\"data row1 col10\" >13.000000</td>\n",
       "                        <td id=\"T_a2a910e8_f131_11eb_8010_0242ac1c0002row1_col11\" class=\"data row1 col11\" >15.000000</td>\n",
       "                        <td id=\"T_a2a910e8_f131_11eb_8010_0242ac1c0002row1_col12\" class=\"data row1 col12\" >14.000000</td>\n",
       "                        <td id=\"T_a2a910e8_f131_11eb_8010_0242ac1c0002row1_col13\" class=\"data row1 col13\" >14.000000</td>\n",
       "                        <td id=\"T_a2a910e8_f131_11eb_8010_0242ac1c0002row1_col14\" class=\"data row1 col14\" >0.000000</td>\n",
       "                        <td id=\"T_a2a910e8_f131_11eb_8010_0242ac1c0002row1_col15\" class=\"data row1 col15\" >0.000000</td>\n",
       "                        <td id=\"T_a2a910e8_f131_11eb_8010_0242ac1c0002row1_col16\" class=\"data row1 col16\" >0.000000</td>\n",
       "                        <td id=\"T_a2a910e8_f131_11eb_8010_0242ac1c0002row1_col17\" class=\"data row1 col17\" >5.000000</td>\n",
       "                        <td id=\"T_a2a910e8_f131_11eb_8010_0242ac1c0002row1_col18\" class=\"data row1 col18\" >10.000000</td>\n",
       "                        <td id=\"T_a2a910e8_f131_11eb_8010_0242ac1c0002row1_col19\" class=\"data row1 col19\" >0.000000</td>\n",
       "                        <td id=\"T_a2a910e8_f131_11eb_8010_0242ac1c0002row1_col20\" class=\"data row1 col20\" >10.000000</td>\n",
       "                        <td id=\"T_a2a910e8_f131_11eb_8010_0242ac1c0002row1_col21\" class=\"data row1 col21\" >12.000000</td>\n",
       "                        <td id=\"T_a2a910e8_f131_11eb_8010_0242ac1c0002row1_col22\" class=\"data row1 col22\" >0.000000</td>\n",
       "                        <td id=\"T_a2a910e8_f131_11eb_8010_0242ac1c0002row1_col23\" class=\"data row1 col23\" >0.000000</td>\n",
       "                        <td id=\"T_a2a910e8_f131_11eb_8010_0242ac1c0002row1_col24\" class=\"data row1 col24\" >0.000000</td>\n",
       "                        <td id=\"T_a2a910e8_f131_11eb_8010_0242ac1c0002row1_col25\" class=\"data row1 col25\" >0.000000</td>\n",
       "                        <td id=\"T_a2a910e8_f131_11eb_8010_0242ac1c0002row1_col26\" class=\"data row1 col26\" >3.000000</td>\n",
       "                        <td id=\"T_a2a910e8_f131_11eb_8010_0242ac1c0002row1_col27\" class=\"data row1 col27\" >5.000000</td>\n",
       "                        <td id=\"T_a2a910e8_f131_11eb_8010_0242ac1c0002row1_col28\" class=\"data row1 col28\" >15.000000</td>\n",
       "                        <td id=\"T_a2a910e8_f131_11eb_8010_0242ac1c0002row1_col29\" class=\"data row1 col29\" >10.000000</td>\n",
       "                        <td id=\"T_a2a910e8_f131_11eb_8010_0242ac1c0002row1_col30\" class=\"data row1 col30\" >2.000000</td>\n",
       "                        <td id=\"T_a2a910e8_f131_11eb_8010_0242ac1c0002row1_col31\" class=\"data row1 col31\" >0.000000</td>\n",
       "                        <td id=\"T_a2a910e8_f131_11eb_8010_0242ac1c0002row1_col32\" class=\"data row1 col32\" >0.000000</td>\n",
       "                        <td id=\"T_a2a910e8_f131_11eb_8010_0242ac1c0002row1_col33\" class=\"data row1 col33\" >0.000000</td>\n",
       "                        <td id=\"T_a2a910e8_f131_11eb_8010_0242ac1c0002row1_col34\" class=\"data row1 col34\" >16.000000</td>\n",
       "                        <td id=\"T_a2a910e8_f131_11eb_8010_0242ac1c0002row1_col35\" class=\"data row1 col35\" >16.000000</td>\n",
       "                        <td id=\"T_a2a910e8_f131_11eb_8010_0242ac1c0002row1_col36\" class=\"data row1 col36\" >16.000000</td>\n",
       "                        <td id=\"T_a2a910e8_f131_11eb_8010_0242ac1c0002row1_col37\" class=\"data row1 col37\" >16.000000</td>\n",
       "                        <td id=\"T_a2a910e8_f131_11eb_8010_0242ac1c0002row1_col38\" class=\"data row1 col38\" >12.000000</td>\n",
       "                        <td id=\"T_a2a910e8_f131_11eb_8010_0242ac1c0002row1_col39\" class=\"data row1 col39\" >0.000000</td>\n",
       "                        <td id=\"T_a2a910e8_f131_11eb_8010_0242ac1c0002row1_col40\" class=\"data row1 col40\" >0.000000</td>\n",
       "                        <td id=\"T_a2a910e8_f131_11eb_8010_0242ac1c0002row1_col41\" class=\"data row1 col41\" >1.000000</td>\n",
       "                        <td id=\"T_a2a910e8_f131_11eb_8010_0242ac1c0002row1_col42\" class=\"data row1 col42\" >8.000000</td>\n",
       "                        <td id=\"T_a2a910e8_f131_11eb_8010_0242ac1c0002row1_col43\" class=\"data row1 col43\" >12.000000</td>\n",
       "                        <td id=\"T_a2a910e8_f131_11eb_8010_0242ac1c0002row1_col44\" class=\"data row1 col44\" >14.000000</td>\n",
       "                        <td id=\"T_a2a910e8_f131_11eb_8010_0242ac1c0002row1_col45\" class=\"data row1 col45\" >8.000000</td>\n",
       "                        <td id=\"T_a2a910e8_f131_11eb_8010_0242ac1c0002row1_col46\" class=\"data row1 col46\" >3.000000</td>\n",
       "                        <td id=\"T_a2a910e8_f131_11eb_8010_0242ac1c0002row1_col47\" class=\"data row1 col47\" >0.000000</td>\n",
       "                        <td id=\"T_a2a910e8_f131_11eb_8010_0242ac1c0002row1_col48\" class=\"data row1 col48\" >0.000000</td>\n",
       "                        <td id=\"T_a2a910e8_f131_11eb_8010_0242ac1c0002row1_col49\" class=\"data row1 col49\" >0.000000</td>\n",
       "                        <td id=\"T_a2a910e8_f131_11eb_8010_0242ac1c0002row1_col50\" class=\"data row1 col50\" >0.000000</td>\n",
       "                        <td id=\"T_a2a910e8_f131_11eb_8010_0242ac1c0002row1_col51\" class=\"data row1 col51\" >10.000000</td>\n",
       "                        <td id=\"T_a2a910e8_f131_11eb_8010_0242ac1c0002row1_col52\" class=\"data row1 col52\" >13.000000</td>\n",
       "                        <td id=\"T_a2a910e8_f131_11eb_8010_0242ac1c0002row1_col53\" class=\"data row1 col53\" >0.000000</td>\n",
       "                        <td id=\"T_a2a910e8_f131_11eb_8010_0242ac1c0002row1_col54\" class=\"data row1 col54\" >0.000000</td>\n",
       "                        <td id=\"T_a2a910e8_f131_11eb_8010_0242ac1c0002row1_col55\" class=\"data row1 col55\" >0.000000</td>\n",
       "                        <td id=\"T_a2a910e8_f131_11eb_8010_0242ac1c0002row1_col56\" class=\"data row1 col56\" >0.000000</td>\n",
       "                        <td id=\"T_a2a910e8_f131_11eb_8010_0242ac1c0002row1_col57\" class=\"data row1 col57\" >0.000000</td>\n",
       "                        <td id=\"T_a2a910e8_f131_11eb_8010_0242ac1c0002row1_col58\" class=\"data row1 col58\" >0.000000</td>\n",
       "                        <td id=\"T_a2a910e8_f131_11eb_8010_0242ac1c0002row1_col59\" class=\"data row1 col59\" >11.000000</td>\n",
       "                        <td id=\"T_a2a910e8_f131_11eb_8010_0242ac1c0002row1_col60\" class=\"data row1 col60\" >9.000000</td>\n",
       "                        <td id=\"T_a2a910e8_f131_11eb_8010_0242ac1c0002row1_col61\" class=\"data row1 col61\" >0.000000</td>\n",
       "                        <td id=\"T_a2a910e8_f131_11eb_8010_0242ac1c0002row1_col62\" class=\"data row1 col62\" >0.000000</td>\n",
       "                        <td id=\"T_a2a910e8_f131_11eb_8010_0242ac1c0002row1_col63\" class=\"data row1 col63\" >0.000000</td>\n",
       "                        <td id=\"T_a2a910e8_f131_11eb_8010_0242ac1c0002row1_col64\" class=\"data row1 col64\" >7.000000</td>\n",
       "            </tr>\n",
       "            <tr>\n",
       "                        <th id=\"T_a2a910e8_f131_11eb_8010_0242ac1c0002level0_row2\" class=\"row_heading level0 row2\" >2</th>\n",
       "                        <td id=\"T_a2a910e8_f131_11eb_8010_0242ac1c0002row2_col0\" class=\"data row2 col0\" >0.000000</td>\n",
       "                        <td id=\"T_a2a910e8_f131_11eb_8010_0242ac1c0002row2_col1\" class=\"data row2 col1\" >0.000000</td>\n",
       "                        <td id=\"T_a2a910e8_f131_11eb_8010_0242ac1c0002row2_col2\" class=\"data row2 col2\" >0.000000</td>\n",
       "                        <td id=\"T_a2a910e8_f131_11eb_8010_0242ac1c0002row2_col3\" class=\"data row2 col3\" >7.000000</td>\n",
       "                        <td id=\"T_a2a910e8_f131_11eb_8010_0242ac1c0002row2_col4\" class=\"data row2 col4\" >12.000000</td>\n",
       "                        <td id=\"T_a2a910e8_f131_11eb_8010_0242ac1c0002row2_col5\" class=\"data row2 col5\" >13.000000</td>\n",
       "                        <td id=\"T_a2a910e8_f131_11eb_8010_0242ac1c0002row2_col6\" class=\"data row2 col6\" >1.000000</td>\n",
       "                        <td id=\"T_a2a910e8_f131_11eb_8010_0242ac1c0002row2_col7\" class=\"data row2 col7\" >0.000000</td>\n",
       "                        <td id=\"T_a2a910e8_f131_11eb_8010_0242ac1c0002row2_col8\" class=\"data row2 col8\" >0.000000</td>\n",
       "                        <td id=\"T_a2a910e8_f131_11eb_8010_0242ac1c0002row2_col9\" class=\"data row2 col9\" >0.000000</td>\n",
       "                        <td id=\"T_a2a910e8_f131_11eb_8010_0242ac1c0002row2_col10\" class=\"data row2 col10\" >8.000000</td>\n",
       "                        <td id=\"T_a2a910e8_f131_11eb_8010_0242ac1c0002row2_col11\" class=\"data row2 col11\" >11.000000</td>\n",
       "                        <td id=\"T_a2a910e8_f131_11eb_8010_0242ac1c0002row2_col12\" class=\"data row2 col12\" >1.000000</td>\n",
       "                        <td id=\"T_a2a910e8_f131_11eb_8010_0242ac1c0002row2_col13\" class=\"data row2 col13\" >10.000000</td>\n",
       "                        <td id=\"T_a2a910e8_f131_11eb_8010_0242ac1c0002row2_col14\" class=\"data row2 col14\" >8.000000</td>\n",
       "                        <td id=\"T_a2a910e8_f131_11eb_8010_0242ac1c0002row2_col15\" class=\"data row2 col15\" >0.000000</td>\n",
       "                        <td id=\"T_a2a910e8_f131_11eb_8010_0242ac1c0002row2_col16\" class=\"data row2 col16\" >0.000000</td>\n",
       "                        <td id=\"T_a2a910e8_f131_11eb_8010_0242ac1c0002row2_col17\" class=\"data row2 col17\" >0.000000</td>\n",
       "                        <td id=\"T_a2a910e8_f131_11eb_8010_0242ac1c0002row2_col18\" class=\"data row2 col18\" >12.000000</td>\n",
       "                        <td id=\"T_a2a910e8_f131_11eb_8010_0242ac1c0002row2_col19\" class=\"data row2 col19\" >2.000000</td>\n",
       "                        <td id=\"T_a2a910e8_f131_11eb_8010_0242ac1c0002row2_col20\" class=\"data row2 col20\" >1.000000</td>\n",
       "                        <td id=\"T_a2a910e8_f131_11eb_8010_0242ac1c0002row2_col21\" class=\"data row2 col21\" >11.000000</td>\n",
       "                        <td id=\"T_a2a910e8_f131_11eb_8010_0242ac1c0002row2_col22\" class=\"data row2 col22\" >7.000000</td>\n",
       "                        <td id=\"T_a2a910e8_f131_11eb_8010_0242ac1c0002row2_col23\" class=\"data row2 col23\" >0.000000</td>\n",
       "                        <td id=\"T_a2a910e8_f131_11eb_8010_0242ac1c0002row2_col24\" class=\"data row2 col24\" >0.000000</td>\n",
       "                        <td id=\"T_a2a910e8_f131_11eb_8010_0242ac1c0002row2_col25\" class=\"data row2 col25\" >0.000000</td>\n",
       "                        <td id=\"T_a2a910e8_f131_11eb_8010_0242ac1c0002row2_col26\" class=\"data row2 col26\" >10.000000</td>\n",
       "                        <td id=\"T_a2a910e8_f131_11eb_8010_0242ac1c0002row2_col27\" class=\"data row2 col27\" >10.000000</td>\n",
       "                        <td id=\"T_a2a910e8_f131_11eb_8010_0242ac1c0002row2_col28\" class=\"data row2 col28\" >14.000000</td>\n",
       "                        <td id=\"T_a2a910e8_f131_11eb_8010_0242ac1c0002row2_col29\" class=\"data row2 col29\" >8.000000</td>\n",
       "                        <td id=\"T_a2a910e8_f131_11eb_8010_0242ac1c0002row2_col30\" class=\"data row2 col30\" >0.000000</td>\n",
       "                        <td id=\"T_a2a910e8_f131_11eb_8010_0242ac1c0002row2_col31\" class=\"data row2 col31\" >0.000000</td>\n",
       "                        <td id=\"T_a2a910e8_f131_11eb_8010_0242ac1c0002row2_col32\" class=\"data row2 col32\" >0.000000</td>\n",
       "                        <td id=\"T_a2a910e8_f131_11eb_8010_0242ac1c0002row2_col33\" class=\"data row2 col33\" >1.000000</td>\n",
       "                        <td id=\"T_a2a910e8_f131_11eb_8010_0242ac1c0002row2_col34\" class=\"data row2 col34\" >7.000000</td>\n",
       "                        <td id=\"T_a2a910e8_f131_11eb_8010_0242ac1c0002row2_col35\" class=\"data row2 col35\" >16.000000</td>\n",
       "                        <td id=\"T_a2a910e8_f131_11eb_8010_0242ac1c0002row2_col36\" class=\"data row2 col36\" >9.000000</td>\n",
       "                        <td id=\"T_a2a910e8_f131_11eb_8010_0242ac1c0002row2_col37\" class=\"data row2 col37\" >0.000000</td>\n",
       "                        <td id=\"T_a2a910e8_f131_11eb_8010_0242ac1c0002row2_col38\" class=\"data row2 col38\" >0.000000</td>\n",
       "                        <td id=\"T_a2a910e8_f131_11eb_8010_0242ac1c0002row2_col39\" class=\"data row2 col39\" >0.000000</td>\n",
       "                        <td id=\"T_a2a910e8_f131_11eb_8010_0242ac1c0002row2_col40\" class=\"data row2 col40\" >0.000000</td>\n",
       "                        <td id=\"T_a2a910e8_f131_11eb_8010_0242ac1c0002row2_col41\" class=\"data row2 col41\" >7.000000</td>\n",
       "                        <td id=\"T_a2a910e8_f131_11eb_8010_0242ac1c0002row2_col42\" class=\"data row2 col42\" >16.000000</td>\n",
       "                        <td id=\"T_a2a910e8_f131_11eb_8010_0242ac1c0002row2_col43\" class=\"data row2 col43\" >7.000000</td>\n",
       "                        <td id=\"T_a2a910e8_f131_11eb_8010_0242ac1c0002row2_col44\" class=\"data row2 col44\" >14.000000</td>\n",
       "                        <td id=\"T_a2a910e8_f131_11eb_8010_0242ac1c0002row2_col45\" class=\"data row2 col45\" >3.000000</td>\n",
       "                        <td id=\"T_a2a910e8_f131_11eb_8010_0242ac1c0002row2_col46\" class=\"data row2 col46\" >0.000000</td>\n",
       "                        <td id=\"T_a2a910e8_f131_11eb_8010_0242ac1c0002row2_col47\" class=\"data row2 col47\" >0.000000</td>\n",
       "                        <td id=\"T_a2a910e8_f131_11eb_8010_0242ac1c0002row2_col48\" class=\"data row2 col48\" >0.000000</td>\n",
       "                        <td id=\"T_a2a910e8_f131_11eb_8010_0242ac1c0002row2_col49\" class=\"data row2 col49\" >0.000000</td>\n",
       "                        <td id=\"T_a2a910e8_f131_11eb_8010_0242ac1c0002row2_col50\" class=\"data row2 col50\" >7.000000</td>\n",
       "                        <td id=\"T_a2a910e8_f131_11eb_8010_0242ac1c0002row2_col51\" class=\"data row2 col51\" >13.000000</td>\n",
       "                        <td id=\"T_a2a910e8_f131_11eb_8010_0242ac1c0002row2_col52\" class=\"data row2 col52\" >5.000000</td>\n",
       "                        <td id=\"T_a2a910e8_f131_11eb_8010_0242ac1c0002row2_col53\" class=\"data row2 col53\" >14.000000</td>\n",
       "                        <td id=\"T_a2a910e8_f131_11eb_8010_0242ac1c0002row2_col54\" class=\"data row2 col54\" >0.000000</td>\n",
       "                        <td id=\"T_a2a910e8_f131_11eb_8010_0242ac1c0002row2_col55\" class=\"data row2 col55\" >0.000000</td>\n",
       "                        <td id=\"T_a2a910e8_f131_11eb_8010_0242ac1c0002row2_col56\" class=\"data row2 col56\" >0.000000</td>\n",
       "                        <td id=\"T_a2a910e8_f131_11eb_8010_0242ac1c0002row2_col57\" class=\"data row2 col57\" >0.000000</td>\n",
       "                        <td id=\"T_a2a910e8_f131_11eb_8010_0242ac1c0002row2_col58\" class=\"data row2 col58\" >0.000000</td>\n",
       "                        <td id=\"T_a2a910e8_f131_11eb_8010_0242ac1c0002row2_col59\" class=\"data row2 col59\" >6.000000</td>\n",
       "                        <td id=\"T_a2a910e8_f131_11eb_8010_0242ac1c0002row2_col60\" class=\"data row2 col60\" >15.000000</td>\n",
       "                        <td id=\"T_a2a910e8_f131_11eb_8010_0242ac1c0002row2_col61\" class=\"data row2 col61\" >14.000000</td>\n",
       "                        <td id=\"T_a2a910e8_f131_11eb_8010_0242ac1c0002row2_col62\" class=\"data row2 col62\" >2.000000</td>\n",
       "                        <td id=\"T_a2a910e8_f131_11eb_8010_0242ac1c0002row2_col63\" class=\"data row2 col63\" >0.000000</td>\n",
       "                        <td id=\"T_a2a910e8_f131_11eb_8010_0242ac1c0002row2_col64\" class=\"data row2 col64\" >8.000000</td>\n",
       "            </tr>\n",
       "            <tr>\n",
       "                        <th id=\"T_a2a910e8_f131_11eb_8010_0242ac1c0002level0_row3\" class=\"row_heading level0 row3\" >3</th>\n",
       "                        <td id=\"T_a2a910e8_f131_11eb_8010_0242ac1c0002row3_col0\" class=\"data row3 col0\" >0.000000</td>\n",
       "                        <td id=\"T_a2a910e8_f131_11eb_8010_0242ac1c0002row3_col1\" class=\"data row3 col1\" >0.000000</td>\n",
       "                        <td id=\"T_a2a910e8_f131_11eb_8010_0242ac1c0002row3_col2\" class=\"data row3 col2\" >10.000000</td>\n",
       "                        <td id=\"T_a2a910e8_f131_11eb_8010_0242ac1c0002row3_col3\" class=\"data row3 col3\" >16.000000</td>\n",
       "                        <td id=\"T_a2a910e8_f131_11eb_8010_0242ac1c0002row3_col4\" class=\"data row3 col4\" >11.000000</td>\n",
       "                        <td id=\"T_a2a910e8_f131_11eb_8010_0242ac1c0002row3_col5\" class=\"data row3 col5\" >0.000000</td>\n",
       "                        <td id=\"T_a2a910e8_f131_11eb_8010_0242ac1c0002row3_col6\" class=\"data row3 col6\" >0.000000</td>\n",
       "                        <td id=\"T_a2a910e8_f131_11eb_8010_0242ac1c0002row3_col7\" class=\"data row3 col7\" >0.000000</td>\n",
       "                        <td id=\"T_a2a910e8_f131_11eb_8010_0242ac1c0002row3_col8\" class=\"data row3 col8\" >0.000000</td>\n",
       "                        <td id=\"T_a2a910e8_f131_11eb_8010_0242ac1c0002row3_col9\" class=\"data row3 col9\" >8.000000</td>\n",
       "                        <td id=\"T_a2a910e8_f131_11eb_8010_0242ac1c0002row3_col10\" class=\"data row3 col10\" >15.000000</td>\n",
       "                        <td id=\"T_a2a910e8_f131_11eb_8010_0242ac1c0002row3_col11\" class=\"data row3 col11\" >10.000000</td>\n",
       "                        <td id=\"T_a2a910e8_f131_11eb_8010_0242ac1c0002row3_col12\" class=\"data row3 col12\" >15.000000</td>\n",
       "                        <td id=\"T_a2a910e8_f131_11eb_8010_0242ac1c0002row3_col13\" class=\"data row3 col13\" >2.000000</td>\n",
       "                        <td id=\"T_a2a910e8_f131_11eb_8010_0242ac1c0002row3_col14\" class=\"data row3 col14\" >0.000000</td>\n",
       "                        <td id=\"T_a2a910e8_f131_11eb_8010_0242ac1c0002row3_col15\" class=\"data row3 col15\" >0.000000</td>\n",
       "                        <td id=\"T_a2a910e8_f131_11eb_8010_0242ac1c0002row3_col16\" class=\"data row3 col16\" >0.000000</td>\n",
       "                        <td id=\"T_a2a910e8_f131_11eb_8010_0242ac1c0002row3_col17\" class=\"data row3 col17\" >11.000000</td>\n",
       "                        <td id=\"T_a2a910e8_f131_11eb_8010_0242ac1c0002row3_col18\" class=\"data row3 col18\" >11.000000</td>\n",
       "                        <td id=\"T_a2a910e8_f131_11eb_8010_0242ac1c0002row3_col19\" class=\"data row3 col19\" >2.000000</td>\n",
       "                        <td id=\"T_a2a910e8_f131_11eb_8010_0242ac1c0002row3_col20\" class=\"data row3 col20\" >16.000000</td>\n",
       "                        <td id=\"T_a2a910e8_f131_11eb_8010_0242ac1c0002row3_col21\" class=\"data row3 col21\" >5.000000</td>\n",
       "                        <td id=\"T_a2a910e8_f131_11eb_8010_0242ac1c0002row3_col22\" class=\"data row3 col22\" >0.000000</td>\n",
       "                        <td id=\"T_a2a910e8_f131_11eb_8010_0242ac1c0002row3_col23\" class=\"data row3 col23\" >0.000000</td>\n",
       "                        <td id=\"T_a2a910e8_f131_11eb_8010_0242ac1c0002row3_col24\" class=\"data row3 col24\" >0.000000</td>\n",
       "                        <td id=\"T_a2a910e8_f131_11eb_8010_0242ac1c0002row3_col25\" class=\"data row3 col25\" >7.000000</td>\n",
       "                        <td id=\"T_a2a910e8_f131_11eb_8010_0242ac1c0002row3_col26\" class=\"data row3 col26\" >5.000000</td>\n",
       "                        <td id=\"T_a2a910e8_f131_11eb_8010_0242ac1c0002row3_col27\" class=\"data row3 col27\" >6.000000</td>\n",
       "                        <td id=\"T_a2a910e8_f131_11eb_8010_0242ac1c0002row3_col28\" class=\"data row3 col28\" >16.000000</td>\n",
       "                        <td id=\"T_a2a910e8_f131_11eb_8010_0242ac1c0002row3_col29\" class=\"data row3 col29\" >3.000000</td>\n",
       "                        <td id=\"T_a2a910e8_f131_11eb_8010_0242ac1c0002row3_col30\" class=\"data row3 col30\" >0.000000</td>\n",
       "                        <td id=\"T_a2a910e8_f131_11eb_8010_0242ac1c0002row3_col31\" class=\"data row3 col31\" >0.000000</td>\n",
       "                        <td id=\"T_a2a910e8_f131_11eb_8010_0242ac1c0002row3_col32\" class=\"data row3 col32\" >0.000000</td>\n",
       "                        <td id=\"T_a2a910e8_f131_11eb_8010_0242ac1c0002row3_col33\" class=\"data row3 col33\" >0.000000</td>\n",
       "                        <td id=\"T_a2a910e8_f131_11eb_8010_0242ac1c0002row3_col34\" class=\"data row3 col34\" >1.000000</td>\n",
       "                        <td id=\"T_a2a910e8_f131_11eb_8010_0242ac1c0002row3_col35\" class=\"data row3 col35\" >15.000000</td>\n",
       "                        <td id=\"T_a2a910e8_f131_11eb_8010_0242ac1c0002row3_col36\" class=\"data row3 col36\" >10.000000</td>\n",
       "                        <td id=\"T_a2a910e8_f131_11eb_8010_0242ac1c0002row3_col37\" class=\"data row3 col37\" >0.000000</td>\n",
       "                        <td id=\"T_a2a910e8_f131_11eb_8010_0242ac1c0002row3_col38\" class=\"data row3 col38\" >0.000000</td>\n",
       "                        <td id=\"T_a2a910e8_f131_11eb_8010_0242ac1c0002row3_col39\" class=\"data row3 col39\" >0.000000</td>\n",
       "                        <td id=\"T_a2a910e8_f131_11eb_8010_0242ac1c0002row3_col40\" class=\"data row3 col40\" >0.000000</td>\n",
       "                        <td id=\"T_a2a910e8_f131_11eb_8010_0242ac1c0002row3_col41\" class=\"data row3 col41\" >0.000000</td>\n",
       "                        <td id=\"T_a2a910e8_f131_11eb_8010_0242ac1c0002row3_col42\" class=\"data row3 col42\" >10.000000</td>\n",
       "                        <td id=\"T_a2a910e8_f131_11eb_8010_0242ac1c0002row3_col43\" class=\"data row3 col43\" >16.000000</td>\n",
       "                        <td id=\"T_a2a910e8_f131_11eb_8010_0242ac1c0002row3_col44\" class=\"data row3 col44\" >2.000000</td>\n",
       "                        <td id=\"T_a2a910e8_f131_11eb_8010_0242ac1c0002row3_col45\" class=\"data row3 col45\" >0.000000</td>\n",
       "                        <td id=\"T_a2a910e8_f131_11eb_8010_0242ac1c0002row3_col46\" class=\"data row3 col46\" >0.000000</td>\n",
       "                        <td id=\"T_a2a910e8_f131_11eb_8010_0242ac1c0002row3_col47\" class=\"data row3 col47\" >0.000000</td>\n",
       "                        <td id=\"T_a2a910e8_f131_11eb_8010_0242ac1c0002row3_col48\" class=\"data row3 col48\" >0.000000</td>\n",
       "                        <td id=\"T_a2a910e8_f131_11eb_8010_0242ac1c0002row3_col49\" class=\"data row3 col49\" >0.000000</td>\n",
       "                        <td id=\"T_a2a910e8_f131_11eb_8010_0242ac1c0002row3_col50\" class=\"data row3 col50\" >12.000000</td>\n",
       "                        <td id=\"T_a2a910e8_f131_11eb_8010_0242ac1c0002row3_col51\" class=\"data row3 col51\" >14.000000</td>\n",
       "                        <td id=\"T_a2a910e8_f131_11eb_8010_0242ac1c0002row3_col52\" class=\"data row3 col52\" >8.000000</td>\n",
       "                        <td id=\"T_a2a910e8_f131_11eb_8010_0242ac1c0002row3_col53\" class=\"data row3 col53\" >10.000000</td>\n",
       "                        <td id=\"T_a2a910e8_f131_11eb_8010_0242ac1c0002row3_col54\" class=\"data row3 col54\" >5.000000</td>\n",
       "                        <td id=\"T_a2a910e8_f131_11eb_8010_0242ac1c0002row3_col55\" class=\"data row3 col55\" >0.000000</td>\n",
       "                        <td id=\"T_a2a910e8_f131_11eb_8010_0242ac1c0002row3_col56\" class=\"data row3 col56\" >0.000000</td>\n",
       "                        <td id=\"T_a2a910e8_f131_11eb_8010_0242ac1c0002row3_col57\" class=\"data row3 col57\" >0.000000</td>\n",
       "                        <td id=\"T_a2a910e8_f131_11eb_8010_0242ac1c0002row3_col58\" class=\"data row3 col58\" >12.000000</td>\n",
       "                        <td id=\"T_a2a910e8_f131_11eb_8010_0242ac1c0002row3_col59\" class=\"data row3 col59\" >16.000000</td>\n",
       "                        <td id=\"T_a2a910e8_f131_11eb_8010_0242ac1c0002row3_col60\" class=\"data row3 col60\" >16.000000</td>\n",
       "                        <td id=\"T_a2a910e8_f131_11eb_8010_0242ac1c0002row3_col61\" class=\"data row3 col61\" >16.000000</td>\n",
       "                        <td id=\"T_a2a910e8_f131_11eb_8010_0242ac1c0002row3_col62\" class=\"data row3 col62\" >15.000000</td>\n",
       "                        <td id=\"T_a2a910e8_f131_11eb_8010_0242ac1c0002row3_col63\" class=\"data row3 col63\" >0.000000</td>\n",
       "                        <td id=\"T_a2a910e8_f131_11eb_8010_0242ac1c0002row3_col64\" class=\"data row3 col64\" >2.000000</td>\n",
       "            </tr>\n",
       "            <tr>\n",
       "                        <th id=\"T_a2a910e8_f131_11eb_8010_0242ac1c0002level0_row4\" class=\"row_heading level0 row4\" >4</th>\n",
       "                        <td id=\"T_a2a910e8_f131_11eb_8010_0242ac1c0002row4_col0\" class=\"data row4 col0\" >0.000000</td>\n",
       "                        <td id=\"T_a2a910e8_f131_11eb_8010_0242ac1c0002row4_col1\" class=\"data row4 col1\" >0.000000</td>\n",
       "                        <td id=\"T_a2a910e8_f131_11eb_8010_0242ac1c0002row4_col2\" class=\"data row4 col2\" >3.000000</td>\n",
       "                        <td id=\"T_a2a910e8_f131_11eb_8010_0242ac1c0002row4_col3\" class=\"data row4 col3\" >11.000000</td>\n",
       "                        <td id=\"T_a2a910e8_f131_11eb_8010_0242ac1c0002row4_col4\" class=\"data row4 col4\" >6.000000</td>\n",
       "                        <td id=\"T_a2a910e8_f131_11eb_8010_0242ac1c0002row4_col5\" class=\"data row4 col5\" >0.000000</td>\n",
       "                        <td id=\"T_a2a910e8_f131_11eb_8010_0242ac1c0002row4_col6\" class=\"data row4 col6\" >0.000000</td>\n",
       "                        <td id=\"T_a2a910e8_f131_11eb_8010_0242ac1c0002row4_col7\" class=\"data row4 col7\" >0.000000</td>\n",
       "                        <td id=\"T_a2a910e8_f131_11eb_8010_0242ac1c0002row4_col8\" class=\"data row4 col8\" >0.000000</td>\n",
       "                        <td id=\"T_a2a910e8_f131_11eb_8010_0242ac1c0002row4_col9\" class=\"data row4 col9\" >0.000000</td>\n",
       "                        <td id=\"T_a2a910e8_f131_11eb_8010_0242ac1c0002row4_col10\" class=\"data row4 col10\" >10.000000</td>\n",
       "                        <td id=\"T_a2a910e8_f131_11eb_8010_0242ac1c0002row4_col11\" class=\"data row4 col11\" >14.000000</td>\n",
       "                        <td id=\"T_a2a910e8_f131_11eb_8010_0242ac1c0002row4_col12\" class=\"data row4 col12\" >16.000000</td>\n",
       "                        <td id=\"T_a2a910e8_f131_11eb_8010_0242ac1c0002row4_col13\" class=\"data row4 col13\" >2.000000</td>\n",
       "                        <td id=\"T_a2a910e8_f131_11eb_8010_0242ac1c0002row4_col14\" class=\"data row4 col14\" >0.000000</td>\n",
       "                        <td id=\"T_a2a910e8_f131_11eb_8010_0242ac1c0002row4_col15\" class=\"data row4 col15\" >0.000000</td>\n",
       "                        <td id=\"T_a2a910e8_f131_11eb_8010_0242ac1c0002row4_col16\" class=\"data row4 col16\" >0.000000</td>\n",
       "                        <td id=\"T_a2a910e8_f131_11eb_8010_0242ac1c0002row4_col17\" class=\"data row4 col17\" >3.000000</td>\n",
       "                        <td id=\"T_a2a910e8_f131_11eb_8010_0242ac1c0002row4_col18\" class=\"data row4 col18\" >15.000000</td>\n",
       "                        <td id=\"T_a2a910e8_f131_11eb_8010_0242ac1c0002row4_col19\" class=\"data row4 col19\" >1.000000</td>\n",
       "                        <td id=\"T_a2a910e8_f131_11eb_8010_0242ac1c0002row4_col20\" class=\"data row4 col20\" >11.000000</td>\n",
       "                        <td id=\"T_a2a910e8_f131_11eb_8010_0242ac1c0002row4_col21\" class=\"data row4 col21\" >11.000000</td>\n",
       "                        <td id=\"T_a2a910e8_f131_11eb_8010_0242ac1c0002row4_col22\" class=\"data row4 col22\" >0.000000</td>\n",
       "                        <td id=\"T_a2a910e8_f131_11eb_8010_0242ac1c0002row4_col23\" class=\"data row4 col23\" >0.000000</td>\n",
       "                        <td id=\"T_a2a910e8_f131_11eb_8010_0242ac1c0002row4_col24\" class=\"data row4 col24\" >0.000000</td>\n",
       "                        <td id=\"T_a2a910e8_f131_11eb_8010_0242ac1c0002row4_col25\" class=\"data row4 col25\" >4.000000</td>\n",
       "                        <td id=\"T_a2a910e8_f131_11eb_8010_0242ac1c0002row4_col26\" class=\"data row4 col26\" >12.000000</td>\n",
       "                        <td id=\"T_a2a910e8_f131_11eb_8010_0242ac1c0002row4_col27\" class=\"data row4 col27\" >0.000000</td>\n",
       "                        <td id=\"T_a2a910e8_f131_11eb_8010_0242ac1c0002row4_col28\" class=\"data row4 col28\" >2.000000</td>\n",
       "                        <td id=\"T_a2a910e8_f131_11eb_8010_0242ac1c0002row4_col29\" class=\"data row4 col29\" >16.000000</td>\n",
       "                        <td id=\"T_a2a910e8_f131_11eb_8010_0242ac1c0002row4_col30\" class=\"data row4 col30\" >2.000000</td>\n",
       "                        <td id=\"T_a2a910e8_f131_11eb_8010_0242ac1c0002row4_col31\" class=\"data row4 col31\" >0.000000</td>\n",
       "                        <td id=\"T_a2a910e8_f131_11eb_8010_0242ac1c0002row4_col32\" class=\"data row4 col32\" >0.000000</td>\n",
       "                        <td id=\"T_a2a910e8_f131_11eb_8010_0242ac1c0002row4_col33\" class=\"data row4 col33\" >7.000000</td>\n",
       "                        <td id=\"T_a2a910e8_f131_11eb_8010_0242ac1c0002row4_col34\" class=\"data row4 col34\" >12.000000</td>\n",
       "                        <td id=\"T_a2a910e8_f131_11eb_8010_0242ac1c0002row4_col35\" class=\"data row4 col35\" >0.000000</td>\n",
       "                        <td id=\"T_a2a910e8_f131_11eb_8010_0242ac1c0002row4_col36\" class=\"data row4 col36\" >0.000000</td>\n",
       "                        <td id=\"T_a2a910e8_f131_11eb_8010_0242ac1c0002row4_col37\" class=\"data row4 col37\" >12.000000</td>\n",
       "                        <td id=\"T_a2a910e8_f131_11eb_8010_0242ac1c0002row4_col38\" class=\"data row4 col38\" >8.000000</td>\n",
       "                        <td id=\"T_a2a910e8_f131_11eb_8010_0242ac1c0002row4_col39\" class=\"data row4 col39\" >0.000000</td>\n",
       "                        <td id=\"T_a2a910e8_f131_11eb_8010_0242ac1c0002row4_col40\" class=\"data row4 col40\" >0.000000</td>\n",
       "                        <td id=\"T_a2a910e8_f131_11eb_8010_0242ac1c0002row4_col41\" class=\"data row4 col41\" >4.000000</td>\n",
       "                        <td id=\"T_a2a910e8_f131_11eb_8010_0242ac1c0002row4_col42\" class=\"data row4 col42\" >14.000000</td>\n",
       "                        <td id=\"T_a2a910e8_f131_11eb_8010_0242ac1c0002row4_col43\" class=\"data row4 col43\" >0.000000</td>\n",
       "                        <td id=\"T_a2a910e8_f131_11eb_8010_0242ac1c0002row4_col44\" class=\"data row4 col44\" >1.000000</td>\n",
       "                        <td id=\"T_a2a910e8_f131_11eb_8010_0242ac1c0002row4_col45\" class=\"data row4 col45\" >15.000000</td>\n",
       "                        <td id=\"T_a2a910e8_f131_11eb_8010_0242ac1c0002row4_col46\" class=\"data row4 col46\" >8.000000</td>\n",
       "                        <td id=\"T_a2a910e8_f131_11eb_8010_0242ac1c0002row4_col47\" class=\"data row4 col47\" >0.000000</td>\n",
       "                        <td id=\"T_a2a910e8_f131_11eb_8010_0242ac1c0002row4_col48\" class=\"data row4 col48\" >0.000000</td>\n",
       "                        <td id=\"T_a2a910e8_f131_11eb_8010_0242ac1c0002row4_col49\" class=\"data row4 col49\" >2.000000</td>\n",
       "                        <td id=\"T_a2a910e8_f131_11eb_8010_0242ac1c0002row4_col50\" class=\"data row4 col50\" >15.000000</td>\n",
       "                        <td id=\"T_a2a910e8_f131_11eb_8010_0242ac1c0002row4_col51\" class=\"data row4 col51\" >14.000000</td>\n",
       "                        <td id=\"T_a2a910e8_f131_11eb_8010_0242ac1c0002row4_col52\" class=\"data row4 col52\" >15.000000</td>\n",
       "                        <td id=\"T_a2a910e8_f131_11eb_8010_0242ac1c0002row4_col53\" class=\"data row4 col53\" >15.000000</td>\n",
       "                        <td id=\"T_a2a910e8_f131_11eb_8010_0242ac1c0002row4_col54\" class=\"data row4 col54\" >1.000000</td>\n",
       "                        <td id=\"T_a2a910e8_f131_11eb_8010_0242ac1c0002row4_col55\" class=\"data row4 col55\" >0.000000</td>\n",
       "                        <td id=\"T_a2a910e8_f131_11eb_8010_0242ac1c0002row4_col56\" class=\"data row4 col56\" >0.000000</td>\n",
       "                        <td id=\"T_a2a910e8_f131_11eb_8010_0242ac1c0002row4_col57\" class=\"data row4 col57\" >0.000000</td>\n",
       "                        <td id=\"T_a2a910e8_f131_11eb_8010_0242ac1c0002row4_col58\" class=\"data row4 col58\" >5.000000</td>\n",
       "                        <td id=\"T_a2a910e8_f131_11eb_8010_0242ac1c0002row4_col59\" class=\"data row4 col59\" >13.000000</td>\n",
       "                        <td id=\"T_a2a910e8_f131_11eb_8010_0242ac1c0002row4_col60\" class=\"data row4 col60\" >14.000000</td>\n",
       "                        <td id=\"T_a2a910e8_f131_11eb_8010_0242ac1c0002row4_col61\" class=\"data row4 col61\" >5.000000</td>\n",
       "                        <td id=\"T_a2a910e8_f131_11eb_8010_0242ac1c0002row4_col62\" class=\"data row4 col62\" >0.000000</td>\n",
       "                        <td id=\"T_a2a910e8_f131_11eb_8010_0242ac1c0002row4_col63\" class=\"data row4 col63\" >0.000000</td>\n",
       "                        <td id=\"T_a2a910e8_f131_11eb_8010_0242ac1c0002row4_col64\" class=\"data row4 col64\" >0.000000</td>\n",
       "            </tr>\n",
       "            <tr>\n",
       "                        <th id=\"T_a2a910e8_f131_11eb_8010_0242ac1c0002level0_row5\" class=\"row_heading level0 row5\" >5</th>\n",
       "                        <td id=\"T_a2a910e8_f131_11eb_8010_0242ac1c0002row5_col0\" class=\"data row5 col0\" >0.000000</td>\n",
       "                        <td id=\"T_a2a910e8_f131_11eb_8010_0242ac1c0002row5_col1\" class=\"data row5 col1\" >0.000000</td>\n",
       "                        <td id=\"T_a2a910e8_f131_11eb_8010_0242ac1c0002row5_col2\" class=\"data row5 col2\" >5.000000</td>\n",
       "                        <td id=\"T_a2a910e8_f131_11eb_8010_0242ac1c0002row5_col3\" class=\"data row5 col3\" >14.000000</td>\n",
       "                        <td id=\"T_a2a910e8_f131_11eb_8010_0242ac1c0002row5_col4\" class=\"data row5 col4\" >14.000000</td>\n",
       "                        <td id=\"T_a2a910e8_f131_11eb_8010_0242ac1c0002row5_col5\" class=\"data row5 col5\" >8.000000</td>\n",
       "                        <td id=\"T_a2a910e8_f131_11eb_8010_0242ac1c0002row5_col6\" class=\"data row5 col6\" >2.000000</td>\n",
       "                        <td id=\"T_a2a910e8_f131_11eb_8010_0242ac1c0002row5_col7\" class=\"data row5 col7\" >0.000000</td>\n",
       "                        <td id=\"T_a2a910e8_f131_11eb_8010_0242ac1c0002row5_col8\" class=\"data row5 col8\" >0.000000</td>\n",
       "                        <td id=\"T_a2a910e8_f131_11eb_8010_0242ac1c0002row5_col9\" class=\"data row5 col9\" >3.000000</td>\n",
       "                        <td id=\"T_a2a910e8_f131_11eb_8010_0242ac1c0002row5_col10\" class=\"data row5 col10\" >15.000000</td>\n",
       "                        <td id=\"T_a2a910e8_f131_11eb_8010_0242ac1c0002row5_col11\" class=\"data row5 col11\" >3.000000</td>\n",
       "                        <td id=\"T_a2a910e8_f131_11eb_8010_0242ac1c0002row5_col12\" class=\"data row5 col12\" >0.000000</td>\n",
       "                        <td id=\"T_a2a910e8_f131_11eb_8010_0242ac1c0002row5_col13\" class=\"data row5 col13\" >13.000000</td>\n",
       "                        <td id=\"T_a2a910e8_f131_11eb_8010_0242ac1c0002row5_col14\" class=\"data row5 col14\" >8.000000</td>\n",
       "                        <td id=\"T_a2a910e8_f131_11eb_8010_0242ac1c0002row5_col15\" class=\"data row5 col15\" >0.000000</td>\n",
       "                        <td id=\"T_a2a910e8_f131_11eb_8010_0242ac1c0002row5_col16\" class=\"data row5 col16\" >0.000000</td>\n",
       "                        <td id=\"T_a2a910e8_f131_11eb_8010_0242ac1c0002row5_col17\" class=\"data row5 col17\" >5.000000</td>\n",
       "                        <td id=\"T_a2a910e8_f131_11eb_8010_0242ac1c0002row5_col18\" class=\"data row5 col18\" >12.000000</td>\n",
       "                        <td id=\"T_a2a910e8_f131_11eb_8010_0242ac1c0002row5_col19\" class=\"data row5 col19\" >0.000000</td>\n",
       "                        <td id=\"T_a2a910e8_f131_11eb_8010_0242ac1c0002row5_col20\" class=\"data row5 col20\" >2.000000</td>\n",
       "                        <td id=\"T_a2a910e8_f131_11eb_8010_0242ac1c0002row5_col21\" class=\"data row5 col21\" >15.000000</td>\n",
       "                        <td id=\"T_a2a910e8_f131_11eb_8010_0242ac1c0002row5_col22\" class=\"data row5 col22\" >8.000000</td>\n",
       "                        <td id=\"T_a2a910e8_f131_11eb_8010_0242ac1c0002row5_col23\" class=\"data row5 col23\" >0.000000</td>\n",
       "                        <td id=\"T_a2a910e8_f131_11eb_8010_0242ac1c0002row5_col24\" class=\"data row5 col24\" >0.000000</td>\n",
       "                        <td id=\"T_a2a910e8_f131_11eb_8010_0242ac1c0002row5_col25\" class=\"data row5 col25\" >2.000000</td>\n",
       "                        <td id=\"T_a2a910e8_f131_11eb_8010_0242ac1c0002row5_col26\" class=\"data row5 col26\" >15.000000</td>\n",
       "                        <td id=\"T_a2a910e8_f131_11eb_8010_0242ac1c0002row5_col27\" class=\"data row5 col27\" >9.000000</td>\n",
       "                        <td id=\"T_a2a910e8_f131_11eb_8010_0242ac1c0002row5_col28\" class=\"data row5 col28\" >14.000000</td>\n",
       "                        <td id=\"T_a2a910e8_f131_11eb_8010_0242ac1c0002row5_col29\" class=\"data row5 col29\" >14.000000</td>\n",
       "                        <td id=\"T_a2a910e8_f131_11eb_8010_0242ac1c0002row5_col30\" class=\"data row5 col30\" >8.000000</td>\n",
       "                        <td id=\"T_a2a910e8_f131_11eb_8010_0242ac1c0002row5_col31\" class=\"data row5 col31\" >0.000000</td>\n",
       "                        <td id=\"T_a2a910e8_f131_11eb_8010_0242ac1c0002row5_col32\" class=\"data row5 col32\" >0.000000</td>\n",
       "                        <td id=\"T_a2a910e8_f131_11eb_8010_0242ac1c0002row5_col33\" class=\"data row5 col33\" >0.000000</td>\n",
       "                        <td id=\"T_a2a910e8_f131_11eb_8010_0242ac1c0002row5_col34\" class=\"data row5 col34\" >1.000000</td>\n",
       "                        <td id=\"T_a2a910e8_f131_11eb_8010_0242ac1c0002row5_col35\" class=\"data row5 col35\" >3.000000</td>\n",
       "                        <td id=\"T_a2a910e8_f131_11eb_8010_0242ac1c0002row5_col36\" class=\"data row5 col36\" >0.000000</td>\n",
       "                        <td id=\"T_a2a910e8_f131_11eb_8010_0242ac1c0002row5_col37\" class=\"data row5 col37\" >12.000000</td>\n",
       "                        <td id=\"T_a2a910e8_f131_11eb_8010_0242ac1c0002row5_col38\" class=\"data row5 col38\" >5.000000</td>\n",
       "                        <td id=\"T_a2a910e8_f131_11eb_8010_0242ac1c0002row5_col39\" class=\"data row5 col39\" >0.000000</td>\n",
       "                        <td id=\"T_a2a910e8_f131_11eb_8010_0242ac1c0002row5_col40\" class=\"data row5 col40\" >0.000000</td>\n",
       "                        <td id=\"T_a2a910e8_f131_11eb_8010_0242ac1c0002row5_col41\" class=\"data row5 col41\" >0.000000</td>\n",
       "                        <td id=\"T_a2a910e8_f131_11eb_8010_0242ac1c0002row5_col42\" class=\"data row5 col42\" >0.000000</td>\n",
       "                        <td id=\"T_a2a910e8_f131_11eb_8010_0242ac1c0002row5_col43\" class=\"data row5 col43\" >0.000000</td>\n",
       "                        <td id=\"T_a2a910e8_f131_11eb_8010_0242ac1c0002row5_col44\" class=\"data row5 col44\" >0.000000</td>\n",
       "                        <td id=\"T_a2a910e8_f131_11eb_8010_0242ac1c0002row5_col45\" class=\"data row5 col45\" >12.000000</td>\n",
       "                        <td id=\"T_a2a910e8_f131_11eb_8010_0242ac1c0002row5_col46\" class=\"data row5 col46\" >4.000000</td>\n",
       "                        <td id=\"T_a2a910e8_f131_11eb_8010_0242ac1c0002row5_col47\" class=\"data row5 col47\" >0.000000</td>\n",
       "                        <td id=\"T_a2a910e8_f131_11eb_8010_0242ac1c0002row5_col48\" class=\"data row5 col48\" >0.000000</td>\n",
       "                        <td id=\"T_a2a910e8_f131_11eb_8010_0242ac1c0002row5_col49\" class=\"data row5 col49\" >6.000000</td>\n",
       "                        <td id=\"T_a2a910e8_f131_11eb_8010_0242ac1c0002row5_col50\" class=\"data row5 col50\" >15.000000</td>\n",
       "                        <td id=\"T_a2a910e8_f131_11eb_8010_0242ac1c0002row5_col51\" class=\"data row5 col51\" >2.000000</td>\n",
       "                        <td id=\"T_a2a910e8_f131_11eb_8010_0242ac1c0002row5_col52\" class=\"data row5 col52\" >0.000000</td>\n",
       "                        <td id=\"T_a2a910e8_f131_11eb_8010_0242ac1c0002row5_col53\" class=\"data row5 col53\" >14.000000</td>\n",
       "                        <td id=\"T_a2a910e8_f131_11eb_8010_0242ac1c0002row5_col54\" class=\"data row5 col54\" >1.000000</td>\n",
       "                        <td id=\"T_a2a910e8_f131_11eb_8010_0242ac1c0002row5_col55\" class=\"data row5 col55\" >0.000000</td>\n",
       "                        <td id=\"T_a2a910e8_f131_11eb_8010_0242ac1c0002row5_col56\" class=\"data row5 col56\" >0.000000</td>\n",
       "                        <td id=\"T_a2a910e8_f131_11eb_8010_0242ac1c0002row5_col57\" class=\"data row5 col57\" >1.000000</td>\n",
       "                        <td id=\"T_a2a910e8_f131_11eb_8010_0242ac1c0002row5_col58\" class=\"data row5 col58\" >7.000000</td>\n",
       "                        <td id=\"T_a2a910e8_f131_11eb_8010_0242ac1c0002row5_col59\" class=\"data row5 col59\" >14.000000</td>\n",
       "                        <td id=\"T_a2a910e8_f131_11eb_8010_0242ac1c0002row5_col60\" class=\"data row5 col60\" >12.000000</td>\n",
       "                        <td id=\"T_a2a910e8_f131_11eb_8010_0242ac1c0002row5_col61\" class=\"data row5 col61\" >9.000000</td>\n",
       "                        <td id=\"T_a2a910e8_f131_11eb_8010_0242ac1c0002row5_col62\" class=\"data row5 col62\" >0.000000</td>\n",
       "                        <td id=\"T_a2a910e8_f131_11eb_8010_0242ac1c0002row5_col63\" class=\"data row5 col63\" >0.000000</td>\n",
       "                        <td id=\"T_a2a910e8_f131_11eb_8010_0242ac1c0002row5_col64\" class=\"data row5 col64\" >9.000000</td>\n",
       "            </tr>\n",
       "            <tr>\n",
       "                        <th id=\"T_a2a910e8_f131_11eb_8010_0242ac1c0002level0_row6\" class=\"row_heading level0 row6\" >6</th>\n",
       "                        <td id=\"T_a2a910e8_f131_11eb_8010_0242ac1c0002row6_col0\" class=\"data row6 col0\" >0.000000</td>\n",
       "                        <td id=\"T_a2a910e8_f131_11eb_8010_0242ac1c0002row6_col1\" class=\"data row6 col1\" >0.000000</td>\n",
       "                        <td id=\"T_a2a910e8_f131_11eb_8010_0242ac1c0002row6_col2\" class=\"data row6 col2\" >14.000000</td>\n",
       "                        <td id=\"T_a2a910e8_f131_11eb_8010_0242ac1c0002row6_col3\" class=\"data row6 col3\" >12.000000</td>\n",
       "                        <td id=\"T_a2a910e8_f131_11eb_8010_0242ac1c0002row6_col4\" class=\"data row6 col4\" >12.000000</td>\n",
       "                        <td id=\"T_a2a910e8_f131_11eb_8010_0242ac1c0002row6_col5\" class=\"data row6 col5\" >13.000000</td>\n",
       "                        <td id=\"T_a2a910e8_f131_11eb_8010_0242ac1c0002row6_col6\" class=\"data row6 col6\" >3.000000</td>\n",
       "                        <td id=\"T_a2a910e8_f131_11eb_8010_0242ac1c0002row6_col7\" class=\"data row6 col7\" >0.000000</td>\n",
       "                        <td id=\"T_a2a910e8_f131_11eb_8010_0242ac1c0002row6_col8\" class=\"data row6 col8\" >0.000000</td>\n",
       "                        <td id=\"T_a2a910e8_f131_11eb_8010_0242ac1c0002row6_col9\" class=\"data row6 col9\" >0.000000</td>\n",
       "                        <td id=\"T_a2a910e8_f131_11eb_8010_0242ac1c0002row6_col10\" class=\"data row6 col10\" >16.000000</td>\n",
       "                        <td id=\"T_a2a910e8_f131_11eb_8010_0242ac1c0002row6_col11\" class=\"data row6 col11\" >8.000000</td>\n",
       "                        <td id=\"T_a2a910e8_f131_11eb_8010_0242ac1c0002row6_col12\" class=\"data row6 col12\" >8.000000</td>\n",
       "                        <td id=\"T_a2a910e8_f131_11eb_8010_0242ac1c0002row6_col13\" class=\"data row6 col13\" >6.000000</td>\n",
       "                        <td id=\"T_a2a910e8_f131_11eb_8010_0242ac1c0002row6_col14\" class=\"data row6 col14\" >1.000000</td>\n",
       "                        <td id=\"T_a2a910e8_f131_11eb_8010_0242ac1c0002row6_col15\" class=\"data row6 col15\" >0.000000</td>\n",
       "                        <td id=\"T_a2a910e8_f131_11eb_8010_0242ac1c0002row6_col16\" class=\"data row6 col16\" >0.000000</td>\n",
       "                        <td id=\"T_a2a910e8_f131_11eb_8010_0242ac1c0002row6_col17\" class=\"data row6 col17\" >0.000000</td>\n",
       "                        <td id=\"T_a2a910e8_f131_11eb_8010_0242ac1c0002row6_col18\" class=\"data row6 col18\" >14.000000</td>\n",
       "                        <td id=\"T_a2a910e8_f131_11eb_8010_0242ac1c0002row6_col19\" class=\"data row6 col19\" >7.000000</td>\n",
       "                        <td id=\"T_a2a910e8_f131_11eb_8010_0242ac1c0002row6_col20\" class=\"data row6 col20\" >5.000000</td>\n",
       "                        <td id=\"T_a2a910e8_f131_11eb_8010_0242ac1c0002row6_col21\" class=\"data row6 col21\" >0.000000</td>\n",
       "                        <td id=\"T_a2a910e8_f131_11eb_8010_0242ac1c0002row6_col22\" class=\"data row6 col22\" >0.000000</td>\n",
       "                        <td id=\"T_a2a910e8_f131_11eb_8010_0242ac1c0002row6_col23\" class=\"data row6 col23\" >0.000000</td>\n",
       "                        <td id=\"T_a2a910e8_f131_11eb_8010_0242ac1c0002row6_col24\" class=\"data row6 col24\" >0.000000</td>\n",
       "                        <td id=\"T_a2a910e8_f131_11eb_8010_0242ac1c0002row6_col25\" class=\"data row6 col25\" >0.000000</td>\n",
       "                        <td id=\"T_a2a910e8_f131_11eb_8010_0242ac1c0002row6_col26\" class=\"data row6 col26\" >15.000000</td>\n",
       "                        <td id=\"T_a2a910e8_f131_11eb_8010_0242ac1c0002row6_col27\" class=\"data row6 col27\" >15.000000</td>\n",
       "                        <td id=\"T_a2a910e8_f131_11eb_8010_0242ac1c0002row6_col28\" class=\"data row6 col28\" >16.000000</td>\n",
       "                        <td id=\"T_a2a910e8_f131_11eb_8010_0242ac1c0002row6_col29\" class=\"data row6 col29\" >2.000000</td>\n",
       "                        <td id=\"T_a2a910e8_f131_11eb_8010_0242ac1c0002row6_col30\" class=\"data row6 col30\" >0.000000</td>\n",
       "                        <td id=\"T_a2a910e8_f131_11eb_8010_0242ac1c0002row6_col31\" class=\"data row6 col31\" >0.000000</td>\n",
       "                        <td id=\"T_a2a910e8_f131_11eb_8010_0242ac1c0002row6_col32\" class=\"data row6 col32\" >0.000000</td>\n",
       "                        <td id=\"T_a2a910e8_f131_11eb_8010_0242ac1c0002row6_col33\" class=\"data row6 col33\" >0.000000</td>\n",
       "                        <td id=\"T_a2a910e8_f131_11eb_8010_0242ac1c0002row6_col34\" class=\"data row6 col34\" >13.000000</td>\n",
       "                        <td id=\"T_a2a910e8_f131_11eb_8010_0242ac1c0002row6_col35\" class=\"data row6 col35\" >3.000000</td>\n",
       "                        <td id=\"T_a2a910e8_f131_11eb_8010_0242ac1c0002row6_col36\" class=\"data row6 col36\" >6.000000</td>\n",
       "                        <td id=\"T_a2a910e8_f131_11eb_8010_0242ac1c0002row6_col37\" class=\"data row6 col37\" >8.000000</td>\n",
       "                        <td id=\"T_a2a910e8_f131_11eb_8010_0242ac1c0002row6_col38\" class=\"data row6 col38\" >0.000000</td>\n",
       "                        <td id=\"T_a2a910e8_f131_11eb_8010_0242ac1c0002row6_col39\" class=\"data row6 col39\" >0.000000</td>\n",
       "                        <td id=\"T_a2a910e8_f131_11eb_8010_0242ac1c0002row6_col40\" class=\"data row6 col40\" >0.000000</td>\n",
       "                        <td id=\"T_a2a910e8_f131_11eb_8010_0242ac1c0002row6_col41\" class=\"data row6 col41\" >0.000000</td>\n",
       "                        <td id=\"T_a2a910e8_f131_11eb_8010_0242ac1c0002row6_col42\" class=\"data row6 col42\" >0.000000</td>\n",
       "                        <td id=\"T_a2a910e8_f131_11eb_8010_0242ac1c0002row6_col43\" class=\"data row6 col43\" >0.000000</td>\n",
       "                        <td id=\"T_a2a910e8_f131_11eb_8010_0242ac1c0002row6_col44\" class=\"data row6 col44\" >3.000000</td>\n",
       "                        <td id=\"T_a2a910e8_f131_11eb_8010_0242ac1c0002row6_col45\" class=\"data row6 col45\" >13.000000</td>\n",
       "                        <td id=\"T_a2a910e8_f131_11eb_8010_0242ac1c0002row6_col46\" class=\"data row6 col46\" >0.000000</td>\n",
       "                        <td id=\"T_a2a910e8_f131_11eb_8010_0242ac1c0002row6_col47\" class=\"data row6 col47\" >0.000000</td>\n",
       "                        <td id=\"T_a2a910e8_f131_11eb_8010_0242ac1c0002row6_col48\" class=\"data row6 col48\" >0.000000</td>\n",
       "                        <td id=\"T_a2a910e8_f131_11eb_8010_0242ac1c0002row6_col49\" class=\"data row6 col49\" >0.000000</td>\n",
       "                        <td id=\"T_a2a910e8_f131_11eb_8010_0242ac1c0002row6_col50\" class=\"data row6 col50\" >5.000000</td>\n",
       "                        <td id=\"T_a2a910e8_f131_11eb_8010_0242ac1c0002row6_col51\" class=\"data row6 col51\" >4.000000</td>\n",
       "                        <td id=\"T_a2a910e8_f131_11eb_8010_0242ac1c0002row6_col52\" class=\"data row6 col52\" >8.000000</td>\n",
       "                        <td id=\"T_a2a910e8_f131_11eb_8010_0242ac1c0002row6_col53\" class=\"data row6 col53\" >12.000000</td>\n",
       "                        <td id=\"T_a2a910e8_f131_11eb_8010_0242ac1c0002row6_col54\" class=\"data row6 col54\" >1.000000</td>\n",
       "                        <td id=\"T_a2a910e8_f131_11eb_8010_0242ac1c0002row6_col55\" class=\"data row6 col55\" >0.000000</td>\n",
       "                        <td id=\"T_a2a910e8_f131_11eb_8010_0242ac1c0002row6_col56\" class=\"data row6 col56\" >0.000000</td>\n",
       "                        <td id=\"T_a2a910e8_f131_11eb_8010_0242ac1c0002row6_col57\" class=\"data row6 col57\" >1.000000</td>\n",
       "                        <td id=\"T_a2a910e8_f131_11eb_8010_0242ac1c0002row6_col58\" class=\"data row6 col58\" >15.000000</td>\n",
       "                        <td id=\"T_a2a910e8_f131_11eb_8010_0242ac1c0002row6_col59\" class=\"data row6 col59\" >15.000000</td>\n",
       "                        <td id=\"T_a2a910e8_f131_11eb_8010_0242ac1c0002row6_col60\" class=\"data row6 col60\" >11.000000</td>\n",
       "                        <td id=\"T_a2a910e8_f131_11eb_8010_0242ac1c0002row6_col61\" class=\"data row6 col61\" >3.000000</td>\n",
       "                        <td id=\"T_a2a910e8_f131_11eb_8010_0242ac1c0002row6_col62\" class=\"data row6 col62\" >0.000000</td>\n",
       "                        <td id=\"T_a2a910e8_f131_11eb_8010_0242ac1c0002row6_col63\" class=\"data row6 col63\" >0.000000</td>\n",
       "                        <td id=\"T_a2a910e8_f131_11eb_8010_0242ac1c0002row6_col64\" class=\"data row6 col64\" >5.000000</td>\n",
       "            </tr>\n",
       "    </tbody></table>"
      ],
      "text/plain": [
       "<pandas.io.formats.style.Styler at 0x7f01cd1ece10>"
      ]
     },
     "metadata": {
      "tags": []
     },
     "output_type": "display_data"
    }
   ],
   "source": [
    "datav = np.hstack([Xtrain, ytrain.reshape(-1,1)])\n",
    "df = pd.DataFrame(datav[0:7,:])\n",
    "df = df.style.background_gradient(cmap='gray')\n",
    "display(df)"
   ]
  },
  {
   "cell_type": "markdown",
   "metadata": {
    "id": "AQ4hKyr-HEf4"
   },
   "source": [
    "## Scaling\n",
    "Scale the resulting matrix to the interval $[0,1]$, so we can now apply a machine leaning such as:\n",
    "* logistic regression\n",
    "* multi-layer perceptron "
   ]
  },
  {
   "cell_type": "code",
   "execution_count": 23,
   "metadata": {
    "id": "w3MAZ8psHEf4"
   },
   "outputs": [],
   "source": [
    "## scale to [0,1]\n",
    "\n",
    "# dividing over the max value: 255\n",
    "Xtrain_r = Xtrain/255\n",
    "Xtest_r = Xtest/255"
   ]
  },
  {
   "cell_type": "markdown",
   "metadata": {
    "id": "-hcmAR_TvQXk"
   },
   "source": [
    "# Methods"
   ]
  },
  {
   "cell_type": "markdown",
   "metadata": {
    "id": "oQ7db3sbvkRR"
   },
   "source": [
    "## Logistic Regression"
   ]
  },
  {
   "cell_type": "markdown",
   "metadata": {
    "id": "43DJsdj1vlFa"
   },
   "source": [
    "[Logistic Regression](https://en.wikipedia.org/wiki/Logistic_regression), in statistics the logistic model (or logit model) is used to model the probability of a certain class or event existing such as pass/fail, win/lose, alive/dead or healthy/sick. \n",
    "\n",
    "* This can be extended to model several classes of events such as determining whether an image contains a cat, dog, lion, etc. \n",
    "* Each object being detected in the image would be assigned a probability between 0 and 1, with a sum of one. "
   ]
  },
  {
   "cell_type": "code",
   "execution_count": 24,
   "metadata": {
    "colab": {
     "base_uri": "https://localhost:8080/"
    },
    "id": "BxFdep0aHEf4",
    "outputId": "658a34e4-31d6-4770-ca80-342313fcefcf"
   },
   "outputs": [
    {
     "name": "stdout",
     "output_type": "stream",
     "text": [
      "Training set score: 0.890745\n"
     ]
    }
   ],
   "source": [
    "# import the LogisticRegression\n",
    "from sklearn.linear_model import LogisticRegression\n",
    "LR = LogisticRegression(multi_class='multinomial',solver='lbfgs',  fit_intercept=True, max_iter=100)\n",
    "LR.fit(Xtrain_r,ytrain)\n",
    "y_pred = LR.predict(Xtest_r)\n",
    "print(\"Training set score: %f\" % LR.score(Xtrain_r, ytrain))"
   ]
  },
  {
   "cell_type": "code",
   "execution_count": 25,
   "metadata": {
    "colab": {
     "base_uri": "https://localhost:8080/"
    },
    "id": "9ivuZNqUYeUu",
    "outputId": "f6fcf592-c05e-4b36-c9b6-4644cf2f93b5"
   },
   "outputs": [
    {
     "name": "stdout",
     "output_type": "stream",
     "text": [
      "Classification report for classifier LogisticRegression(C=1.0, class_weight=None, dual=False, fit_intercept=True,\n",
      "                   intercept_scaling=1, l1_ratio=None, max_iter=100,\n",
      "                   multi_class='multinomial', n_jobs=None, penalty='l2',\n",
      "                   random_state=None, solver='lbfgs', tol=0.0001, verbose=0,\n",
      "                   warm_start=False):\n",
      "              precision    recall  f1-score   support\n",
      "\n",
      "           0       0.97      1.00      0.99        37\n",
      "           1       0.87      0.72      0.79        46\n",
      "           2       0.86      1.00      0.93        31\n",
      "           3       0.86      0.91      0.89        34\n",
      "           4       0.95      0.93      0.94        43\n",
      "           5       0.92      0.92      0.92        37\n",
      "           6       0.91      0.97      0.94        31\n",
      "           7       0.74      1.00      0.85        28\n",
      "           8       0.96      0.55      0.70        40\n",
      "           9       0.72      0.85      0.78        33\n",
      "\n",
      "    accuracy                           0.87       360\n",
      "   macro avg       0.88      0.88      0.87       360\n",
      "weighted avg       0.88      0.87      0.87       360\n",
      "\n",
      "\n"
     ]
    }
   ],
   "source": [
    "# classification_report builds a text report showing the main classification metrics\n",
    "from sklearn import metrics\n",
    "\n",
    "print(f\"Classification report for classifier {LR}:\\n\"\n",
    "      f\"{metrics.classification_report(ytest, y_pred)}\\n\")"
   ]
  },
  {
   "cell_type": "code",
   "execution_count": 27,
   "metadata": {
    "colab": {
     "base_uri": "https://localhost:8080/",
     "height": 495
    },
    "id": "Q6e66zOyYmyV",
    "outputId": "c2a002c4-12f9-458e-f523-90f5e2f14045"
   },
   "outputs": [
    {
     "name": "stdout",
     "output_type": "stream",
     "text": [
      "Confusion matrix:\n",
      "[[37  0  0  0  0  0  0  0  0  0]\n",
      " [ 0 34  0  0  0  0  2  0  5  5]\n",
      " [ 0  0 30  0  0  0  0  0  1  0]\n",
      " [ 0  0  0 28  0  0  0  1  5  0]\n",
      " [ 1  1  0  0 38  0  1  0  2  0]\n",
      " [ 0  0  0  0  1 32  0  0  1  3]\n",
      " [ 0  1  0  0  0  0 30  0  0  0]\n",
      " [ 0  0  0  0  0  0  0 28  0  0]\n",
      " [ 0  2  0  0  0  0  0  0 38  0]\n",
      " [ 0  0  0  1  1  0  0  2  2 27]]\n"
     ]
    },
    {
     "data": {
      "image/png": "[encoded data removed]",
      "text/plain": [
       "<Figure size 432x288 with 2 Axes>"
      ]
     },
     "metadata": {
      "needs_background": "light",
      "tags": []
     },
     "output_type": "display_data"
    }
   ],
   "source": [
    "## Confusion matrix \n",
    "# of the true digit values and the predicted digit values\n",
    "\n",
    "disp = metrics.plot_confusion_matrix(LR, Xtest, ytest)\n",
    "disp.figure_.suptitle(\"Confusion Matrix\")\n",
    "print(f\"Confusion matrix:\\n{disp.confusion_matrix}\")\n",
    "\n",
    "plt.show()"
   ]
  },
  {
   "cell_type": "markdown",
   "metadata": {
    "id": "-S-Xb0uLvayo"
   },
   "source": [
    "## Multi-layer perceptron"
   ]
  },
  {
   "cell_type": "markdown",
   "metadata": {
    "id": "_Hlq56uvwG_w"
   },
   "source": [
    "A multilayer perceptron ( [MLP](https://en.wikipedia.org/wiki/Multilayer_perceptron)) is a class of feedforward artificial neural network (ANN). \n",
    "\n",
    "* The term MLP is used ambiguously, sometimes loosely to any feedforward ANN, sometimes strictly to refer to networks composed of multiple layers of perceptrons.\n",
    "* An MLP consists of at least three layers of nodes: an input layer, a hidden layer and an output layer. \n",
    "* Except for the input nodes, each node is a neuron that uses a nonlinear activation function. \n",
    "* MLP utilizes a supervised learning technique called backpropagation for training.\n",
    "* Its multiple layers and non-linear activation distinguish MLP from a linear perceptron. "
   ]
  },
  {
   "cell_type": "code",
   "execution_count": 28,
   "metadata": {
    "id": "JWn2SFply3XH"
   },
   "outputs": [],
   "source": [
    "# import the MLPClassifier\n",
    "from sklearn.neural_network import MLPClassifier\n",
    "\n",
    "MLPC = MLPClassifier(hidden_layer_sizes=(50,), max_iter=10, alpha=1e-4,\n",
    "                    solver='sgd', verbose=10, tol=1e-4, random_state=1,\n",
    "                    learning_rate_init=.1)"
   ]
  },
  {
   "cell_type": "code",
   "execution_count": 29,
   "metadata": {
    "colab": {
     "base_uri": "https://localhost:8080/"
    },
    "id": "uBoadpNszCPv",
    "outputId": "b8701ab9-a54b-40c4-f9ff-f9a488a63a88"
   },
   "outputs": [
    {
     "name": "stdout",
     "output_type": "stream",
     "text": [
      "Iteration 1, loss = 2.31143028\n",
      "Iteration 2, loss = 2.30212314\n",
      "Iteration 3, loss = 2.29465371\n",
      "Iteration 4, loss = 2.28756848\n",
      "Iteration 5, loss = 2.28234914\n",
      "Iteration 6, loss = 2.27316147\n",
      "Iteration 7, loss = 2.26350013\n",
      "Iteration 8, loss = 2.25248606\n",
      "Iteration 9, loss = 2.24153788\n",
      "Iteration 10, loss = 2.22734239\n"
     ]
    },
    {
     "name": "stderr",
     "output_type": "stream",
     "text": [
      "/usr/local/lib/python3.7/dist-packages/sklearn/neural_network/_multilayer_perceptron.py:571: ConvergenceWarning: Stochastic Optimizer: Maximum iterations (10) reached and the optimization hasn't converged yet.\n",
      "  % self.max_iter, ConvergenceWarning)\n"
     ]
    },
    {
     "data": {
      "text/plain": [
       "MLPClassifier(activation='relu', alpha=0.0001, batch_size='auto', beta_1=0.9,\n",
       "              beta_2=0.999, early_stopping=False, epsilon=1e-08,\n",
       "              hidden_layer_sizes=(50,), learning_rate='constant',\n",
       "              learning_rate_init=0.1, max_fun=15000, max_iter=10, momentum=0.9,\n",
       "              n_iter_no_change=10, nesterovs_momentum=True, power_t=0.5,\n",
       "              random_state=1, shuffle=True, solver='sgd', tol=0.0001,\n",
       "              validation_fraction=0.1, verbose=10, warm_start=False)"
      ]
     },
     "execution_count": 29,
     "metadata": {
      "tags": []
     },
     "output_type": "execute_result"
    }
   ],
   "source": [
    "# train MLPClassifier\n",
    "MLPC.fit(Xtrain_r, ytrain)\n"
   ]
  },
  {
   "cell_type": "code",
   "execution_count": 30,
   "metadata": {
    "colab": {
     "base_uri": "https://localhost:8080/"
    },
    "id": "6cGRJVSczfLD",
    "outputId": "4ca801c2-b739-4e43-8485-f541aa6b0e19"
   },
   "outputs": [
    {
     "name": "stdout",
     "output_type": "stream",
     "text": [
      "Training set score: 0.561587\n"
     ]
    }
   ],
   "source": [
    "print(\"Training set score: %f\" % MLPC.score(Xtrain_r, ytrain))"
   ]
  },
  {
   "cell_type": "code",
   "execution_count": 31,
   "metadata": {
    "colab": {
     "base_uri": "https://localhost:8080/"
    },
    "id": "u5U9KvyVY66w",
    "outputId": "efde96d5-693a-49e0-d22f-93b128b2c28a"
   },
   "outputs": [
    {
     "name": "stdout",
     "output_type": "stream",
     "text": [
      "Classification report for classifier MLPClassifier(activation='relu', alpha=0.0001, batch_size='auto', beta_1=0.9,\n",
      "              beta_2=0.999, early_stopping=False, epsilon=1e-08,\n",
      "              hidden_layer_sizes=(50,), learning_rate='constant',\n",
      "              learning_rate_init=0.1, max_fun=15000, max_iter=10, momentum=0.9,\n",
      "              n_iter_no_change=10, nesterovs_momentum=True, power_t=0.5,\n",
      "              random_state=1, shuffle=True, solver='sgd', tol=0.0001,\n",
      "              validation_fraction=0.1, verbose=10, warm_start=False):\n",
      "              precision    recall  f1-score   support\n",
      "\n",
      "           0       0.97      1.00      0.99        37\n",
      "           1       0.87      0.72      0.79        46\n",
      "           2       0.86      1.00      0.93        31\n",
      "           3       0.86      0.91      0.89        34\n",
      "           4       0.95      0.93      0.94        43\n",
      "           5       0.92      0.92      0.92        37\n",
      "           6       0.91      0.97      0.94        31\n",
      "           7       0.74      1.00      0.85        28\n",
      "           8       0.96      0.55      0.70        40\n",
      "           9       0.72      0.85      0.78        33\n",
      "\n",
      "    accuracy                           0.87       360\n",
      "   macro avg       0.88      0.88      0.87       360\n",
      "weighted avg       0.88      0.87      0.87       360\n",
      "\n",
      "\n"
     ]
    }
   ],
   "source": [
    "# classification_report builds a text report showing the main classification metrics\n",
    "from sklearn import metrics\n",
    "\n",
    "print(f\"Classification report for classifier {MLPC}:\\n\"\n",
    "      f\"{metrics.classification_report(ytest, y_pred)}\\n\")"
   ]
  },
  {
   "cell_type": "code",
   "execution_count": 32,
   "metadata": {
    "colab": {
     "base_uri": "https://localhost:8080/",
     "height": 495
    },
    "id": "kPaEdjTkY-pv",
    "outputId": "30fce15a-1d5c-4d92-faec-cb1f5b5db80a"
   },
   "outputs": [
    {
     "name": "stdout",
     "output_type": "stream",
     "text": [
      "Confusion matrix:\n",
      "[[13  7  0  0  0  0  0  0 17  0]\n",
      " [ 0 30  0  0  0  0  2  0 14  0]\n",
      " [ 0  3  9  0  0  0  3  0 15  1]\n",
      " [ 0  9  0  0  0  0  0  0 19  6]\n",
      " [ 0 23  0  0  1  0  2  0 17  0]\n",
      " [ 0 29  0  0  1  0  0  0  7  0]\n",
      " [ 0  3  0  0  0  0 23  0  5  0]\n",
      " [ 0 18  1  0  0  0  2  2  2  3]\n",
      " [ 0 18  0  0  0  0  0  0 22  0]\n",
      " [ 0  4  0  0  0  0  0  0 28  1]]\n"
     ]
    },
    {
     "data": {
      "image/png": "[encoded data removed]",
      "text/plain": [
       "<Figure size 432x288 with 2 Axes>"
      ]
     },
     "metadata": {
      "needs_background": "light",
      "tags": []
     },
     "output_type": "display_data"
    }
   ],
   "source": [
    "## Confusion matrix \n",
    "# of the true digit values and the predicted digit values\n",
    "\n",
    "disp = metrics.plot_confusion_matrix(MLPC, Xtest, ytest)\n",
    "disp.figure_.suptitle(\"Confusion Matrix\")\n",
    "print(f\"Confusion matrix:\\n{disp.confusion_matrix}\")\n",
    "\n",
    "plt.show()"
   ]
  },
  {
   "cell_type": "markdown",
   "metadata": {
    "id": "J5pl3P-8xfOj"
   },
   "source": [
    "# Summary"
   ]
  },
  {
   "cell_type": "markdown",
   "metadata": {
    "id": "6SbCbbx7xkrJ"
   },
   "source": [
    "# References"
   ]
  },
  {
   "cell_type": "markdown",
   "metadata": {
    "id": "qUIebVEWHEf5"
   },
   "source": [
    "# Tasks:\n",
    "* Compute the accuracy of the classifier\n",
    "* Compute the confusion matrix of the predictions versus the true classes (see [link](https://www.python-course.eu/confusion_matrix.php) about what a confusion matrix is and [here](https://scikit-learn.org/stable/auto_examples/model_selection/plot_confusion_matrix.html) how to compute and plot it).\n",
    "* Visualise (using the plot function provided at the beginning of the notebook) instances (images) where the predicted class was wrong. What can you notice?"
   ]
  }
 ],
 "metadata": {
  "colab": {
   "name": "RepMLA_Etivity-2_1.ipynb",
   "provenance": []
  },
  "kernelspec": {
   "display_name": "Python 3",
   "language": "python",
   "name": "python3"
  },
  "language_info": {
   "codemirror_mode": {
    "name": "ipython",
    "version": 3
   },
   "file_extension": ".py",
   "mimetype": "text/x-python",
   "name": "python",
   "nbconvert_exporter": "python",
   "pygments_lexer": "ipython3",
   "version": "3.8.8"
  }
 },
 "nbformat": 4,
 "nbformat_minor": 1
}
