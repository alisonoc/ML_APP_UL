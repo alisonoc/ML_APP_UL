{
 "cells": [
  {
   "cell_type": "markdown",
   "metadata": {
    "id": "Qvexyww7a-0o"
   },
   "source": [
    "<div>\n",
    "<img src=\"https://drive.google.com/uc?export=view&id=1vK33e_EqaHgBHcbRV_m38hx6IkG0blK_\" width=\"350\"/>\n",
    "</div> \n",
    "\n",
    "#**Artificial Intelligence - MSc**\n",
    "CS6501 - MACHINE LEARNING AND APPLICATIONS\n",
    "#**Business Analytics - MSc**\n",
    "ET5003 - MACHINE LEARNING APPLICATIONS \n",
    "##***Annual Repeat***\n",
    "###Instructor: Enrique Naredo\n",
    "\n",
    "###RepMLA_3.1\n"
   ]
  },
  {
   "cell_type": "code",
   "execution_count": 1,
   "metadata": {
    "cellView": "form",
    "id": "LqXD_IwUQuBF"
   },
   "outputs": [],
   "source": [
    "#@title Current Date\n",
    "Today = '2021-08-02' #@param {type:\"date\"}\n"
   ]
  },
  {
   "cell_type": "code",
   "execution_count": 2,
   "metadata": {
    "cellView": "form",
    "id": "uzDKau31OjVO"
   },
   "outputs": [],
   "source": [
    "#@markdown ---\n",
    "#@markdown ### Enter your details here:\n",
    "Student_ID = \"\" #@param {type:\"string\"}\n",
    "Student_full_name = \"\" #@param {type:\"string\"}\n",
    "#@markdown ---"
   ]
  },
  {
   "cell_type": "code",
   "execution_count": 3,
   "metadata": {
    "cellView": "form",
    "id": "r39xGZckTpKx"
   },
   "outputs": [],
   "source": [
    "#@title Notebook information\n",
    "Notebook_type = 'Example' #@param [\"Example\", \"Lab\", \"Practice\", \"Etivity\", \"Assignment\", \"Exam\"]\n",
    "Version = 'Draft' #@param [\"Draft\", \"Final\"] {type:\"raw\"}\n",
    "Submission = False #@param {type:\"boolean\"}"
   ]
  },
  {
   "cell_type": "markdown",
   "metadata": {
    "id": "ZEjSEeEJWAFE"
   },
   "source": [
    "## Fuzzy Systems"
   ]
  },
  {
   "cell_type": "markdown",
   "metadata": {
    "id": "rJyYhNTFWEwi"
   },
   "source": [
    "The ‘tipping problem’ is commonly used to illustrate the power of fuzzy logic principles to generate complex behavior from a compact, intuitive set of expert rules.\n",
    "\n",
    "If you’re new to the world of fuzzy systems, you might want to check out this worked example."
   ]
  },
  {
   "cell_type": "markdown",
   "metadata": {
    "id": "0R2Zy1lrWIez"
   },
   "source": [
    "### The Tipping Problem"
   ]
  },
  {
   "cell_type": "markdown",
   "metadata": {
    "id": "NysFacL1WPGU"
   },
   "source": [
    "Let’s create a fuzzy control system which models how you might choose to tip at a restaurant. When tipping, you consider the service and food quality, rated between 0 and 10. You use this to leave a tip of between 0 and 25%.\n",
    "\n",
    "We would formulate this problem as:\n",
    "\n",
    "**Antecedents (Inputs)**\n",
    "* service\n",
    "  * Universe (ie, crisp value range): How good was the service of the wait staff, on a scale of 0 to 10?\n",
    "  * Fuzzy set (ie, fuzzy value range): poor, acceptable, amazing\n",
    "\n",
    "* food quality\n",
    "  * Universe: How tasty was the food, on a scale of 0 to 10?\n",
    "  * Fuzzy set: bad, decent, great\n",
    "\n",
    "**Consequents (Outputs)**\n",
    "* tip\n",
    "  * Universe: How much should we tip, on a scale of 0% to 25%\n",
    "  * Fuzzy set: low, medium, high\n",
    "\n",
    "**Rules**\n",
    "* IF the service was good or the food quality was good, THEN the tip will be high.\n",
    "* IF the service was average, THEN the tip will be medium.\n",
    "* IF the service was poor and the food quality was poor THEN the tip will be low.\n",
    "\n",
    "**Usage**\n",
    "* If I tell this controller that I rated:\n",
    "  * the service as 9.8, and\n",
    "  * the quality as 6.5,\n",
    "* it would recommend I leave:\n",
    "  * a 20.2% tip."
   ]
  },
  {
   "cell_type": "markdown",
   "metadata": {
    "id": "4Cki-twAXmR5"
   },
   "source": [
    "### Creating the Tipping Controller Using the skfuzzy control API"
   ]
  },
  {
   "cell_type": "markdown",
   "metadata": {
    "id": "8_29Sel4XpSR"
   },
   "source": [
    "We can use the skfuzzy control system API to model this. First, let’s define fuzzy variables"
   ]
  },
  {
   "cell_type": "code",
   "execution_count": 5,
   "metadata": {
    "colab": {
     "base_uri": "https://localhost:8080/"
    },
    "id": "3oWjB7V8XwSz",
    "outputId": "fcc11be1-5bd0-40d1-cd27-d2d20eacc183"
   },
   "outputs": [
    {
     "name": "stdout",
     "output_type": "stream",
     "text": [
      "Requirement already satisfied: scikit-fuzzy in c:\\users\\alison\\anaconda3\\envs\\ml_app_ul\\lib\\site-packages (0.4.2)\n",
      "Requirement already satisfied: numpy>=1.6.0 in c:\\users\\alison\\anaconda3\\envs\\ml_app_ul\\lib\\site-packages (from scikit-fuzzy) (1.20.2)\n",
      "Requirement already satisfied: networkx>=1.9.0 in c:\\users\\alison\\anaconda3\\envs\\ml_app_ul\\lib\\site-packages (from scikit-fuzzy) (2.6.2)\n",
      "Requirement already satisfied: scipy>=0.9.0 in c:\\users\\alison\\anaconda3\\envs\\ml_app_ul\\lib\\site-packages (from scikit-fuzzy) (1.6.2)\n"
     ]
    },
    {
     "ename": "ModuleNotFoundError",
     "evalue": "No module named 'skfuzzy'",
     "output_type": "error",
     "traceback": [
      "\u001b[1;31m---------------------------------------------------------------------------\u001b[0m",
      "\u001b[1;31mModuleNotFoundError\u001b[0m                       Traceback (most recent call last)",
      "\u001b[1;32m<ipython-input-5-04c08095d1d0>\u001b[0m in \u001b[0;36m<module>\u001b[1;34m\u001b[0m\n\u001b[0;32m      2\u001b[0m \u001b[1;33m\u001b[0m\u001b[0m\n\u001b[0;32m      3\u001b[0m \u001b[1;32mimport\u001b[0m \u001b[0mnumpy\u001b[0m \u001b[1;32mas\u001b[0m \u001b[0mnp\u001b[0m\u001b[1;33m\u001b[0m\u001b[1;33m\u001b[0m\u001b[0m\n\u001b[1;32m----> 4\u001b[1;33m \u001b[1;32mimport\u001b[0m \u001b[0mskfuzzy\u001b[0m \u001b[1;32mas\u001b[0m \u001b[0mfuzz\u001b[0m\u001b[1;33m\u001b[0m\u001b[1;33m\u001b[0m\u001b[0m\n\u001b[0m\u001b[0;32m      5\u001b[0m \u001b[1;32mfrom\u001b[0m \u001b[0mskfuzzy\u001b[0m \u001b[1;32mimport\u001b[0m \u001b[0mcontrol\u001b[0m \u001b[1;32mas\u001b[0m \u001b[0mctrl\u001b[0m\u001b[1;33m\u001b[0m\u001b[1;33m\u001b[0m\u001b[0m\n",
      "\u001b[1;31mModuleNotFoundError\u001b[0m: No module named 'skfuzzy'"
     ]
    }
   ],
   "source": [
    "!pip install scikit-fuzzy\n",
    "\n",
    "import numpy as np\n",
    "import skfuzzy as fuzz\n",
    "from skfuzzy import control as ctrl\n"
   ]
  },
  {
   "cell_type": "code",
   "execution_count": null,
   "metadata": {
    "id": "TgwqwNeAVnhL"
   },
   "outputs": [],
   "source": [
    "## Antecedent/Consequent objects hold universe variables \n",
    "\n",
    "# Antecedent-1\n",
    "# how good was the service of the wait staff, on a scale of 0 to 10?\n",
    "service = ctrl.Antecedent(np.arange(0, 10+1, 1), 'service')\n",
    "\n",
    "# Antecedent-2\n",
    "# how tasty was the food, on a scale of 0 to 10?\n",
    "quality = ctrl.Antecedent(np.arange(0, 10+1, 1), 'quality')\n",
    "\n",
    "\n",
    "## Consequent\n",
    "# how much should we tip, on a scale of 0% to 25%?\n",
    "tip = ctrl.Consequent(np.arange(0, 25+1, 1), 'tip')\n"
   ]
  },
  {
   "cell_type": "markdown",
   "metadata": {
    "id": "UKvGPKb-3ygQ"
   },
   "source": [
    "We can use the fuzzy membership function generators, here you have the link to the module [membership](https://pythonhosted.org/scikit-fuzzy/api/skfuzzy.membership.html)"
   ]
  },
  {
   "cell_type": "code",
   "execution_count": null,
   "metadata": {
    "id": "5UHBh7I8REnX"
   },
   "outputs": [],
   "source": [
    "## auto-membership function population is possible with .automf(3, 5, or 7)\n",
    "# qualtity with 3 membership functions\n",
    "quality.automf(3)\n",
    "# service with 3 membership functions\n",
    "service.automf(3)\n"
   ]
  },
  {
   "cell_type": "code",
   "execution_count": null,
   "metadata": {
    "id": "RdtTxQ0QRGYc"
   },
   "outputs": [],
   "source": [
    "# you can build your membership functions with custom parameters\n",
    "tip['low'] = fuzz.trimf(tip.universe, [0, 0, 13])\n",
    "tip['medium'] = fuzz.trimf(tip.universe, [0, 13, 25])\n",
    "tip['high'] = fuzz.trimf(tip.universe, [13, 25, 25])"
   ]
  },
  {
   "cell_type": "markdown",
   "metadata": {
    "id": "Uk1y2AC5YBM7"
   },
   "source": [
    "To help understand what the membership looks like, use the view methods."
   ]
  },
  {
   "cell_type": "code",
   "execution_count": null,
   "metadata": {
    "colab": {
     "base_uri": "https://localhost:8080/",
     "height": 545
    },
    "id": "oRZAzvOhYDbT",
    "outputId": "1501f5c6-4551-4fd9-d063-c6bc4e728765"
   },
   "outputs": [],
   "source": [
    "## You can see how these look with .view()\n",
    "\n",
    "# show 'quality' membership functions \n",
    "quality.view()\n",
    "\n",
    "# show membership functions and highlight one\n",
    "quality['average'].view()"
   ]
  },
  {
   "cell_type": "code",
   "execution_count": null,
   "metadata": {
    "colab": {
     "base_uri": "https://localhost:8080/",
     "height": 281
    },
    "id": "UCy6lEUCYHTQ",
    "outputId": "398b4893-5898-412d-df45-25874febb626"
   },
   "outputs": [],
   "source": [
    "# show 'service' membership functions \n",
    "service.view()"
   ]
  },
  {
   "cell_type": "code",
   "execution_count": null,
   "metadata": {
    "colab": {
     "base_uri": "https://localhost:8080/",
     "height": 281
    },
    "id": "7vqpKIIGYKdf",
    "outputId": "da82441d-f8a8-49fe-ef32-e154a3bbd345"
   },
   "outputs": [],
   "source": [
    "# show 'tip' membership functions\n",
    "tip.view()"
   ]
  },
  {
   "cell_type": "markdown",
   "metadata": {
    "id": "cOEkMl2PYN8z"
   },
   "source": [
    "### Fuzzy rules"
   ]
  },
  {
   "cell_type": "markdown",
   "metadata": {
    "id": "reolM905YRSs"
   },
   "source": [
    "Now, to make these triangles useful, we define the fuzzy relationship between input and output variables. For the purposes of our example, consider three simple rules:\n",
    "\n",
    "1. If the food is poor OR the service is poor, then the tip will be low\n",
    "2. If the service is average, then the tip will be medium\n",
    "3. If the food is good OR the service is good, then the tip will be high.\n",
    "\n",
    "Most people would agree on these rules, but the rules are fuzzy. Mapping the imprecise rules into a defined, actionable tip is a challenge. This is the kind of task at which fuzzy logic excels."
   ]
  },
  {
   "cell_type": "code",
   "execution_count": null,
   "metadata": {
    "id": "yHYENYf-YT_4"
   },
   "outputs": [],
   "source": [
    "## You could propose your own fuzzy rules\n",
    "\n",
    "# If the food is poor OR the service is poor, then the tip will be low\n",
    "rule1 = ctrl.Rule(quality['poor'] | service['poor'], tip['low'])\n",
    "\n",
    "# If the service is average, then the tip will be medium\n",
    "rule2 = ctrl.Rule(service['average'], tip['medium'])\n",
    "\n",
    "# If the food is good OR the service is good, then the tip will be high.\n",
    "rule3 = ctrl.Rule(service['good'] | quality['good'], tip['high'])\n",
    "\n"
   ]
  },
  {
   "cell_type": "code",
   "execution_count": null,
   "metadata": {
    "colab": {
     "base_uri": "https://localhost:8080/",
     "height": 282
    },
    "id": "bvMieten6k6E",
    "outputId": "b84a5629-f9b2-482f-fcc9-7ed3cfad9194"
   },
   "outputs": [],
   "source": [
    "# Rule 1 as a directed graph\n",
    "rule1.view()"
   ]
  },
  {
   "cell_type": "code",
   "execution_count": null,
   "metadata": {
    "colab": {
     "base_uri": "https://localhost:8080/",
     "height": 282
    },
    "id": "EdRF64Yc6mYJ",
    "outputId": "0bfdfd1c-8663-45c1-bcbb-d326c79db5be"
   },
   "outputs": [],
   "source": [
    "# Rule 2 as a directed graph\n",
    "rule2.view()"
   ]
  },
  {
   "cell_type": "code",
   "execution_count": null,
   "metadata": {
    "colab": {
     "base_uri": "https://localhost:8080/",
     "height": 282
    },
    "id": "5PT7KUdl6q2g",
    "outputId": "f2319b8a-edc3-4545-a72a-77596580c0b9"
   },
   "outputs": [],
   "source": [
    "# Rule 3 as a directed graph\n",
    "rule3.view()"
   ]
  },
  {
   "cell_type": "markdown",
   "metadata": {
    "id": "YStQK3ElYYJL"
   },
   "source": [
    "### Control System Creation and Simulation¶"
   ]
  },
  {
   "cell_type": "markdown",
   "metadata": {
    "id": "Mwxz2ib3Ya_B"
   },
   "source": [
    "Now that we have our rules defined, we can simply create a control system via:"
   ]
  },
  {
   "cell_type": "code",
   "execution_count": null,
   "metadata": {
    "id": "93p6g73FYdC4"
   },
   "outputs": [],
   "source": [
    "# Fuzzy system for the tip problem\n",
    "tipping_ctrl = ctrl.ControlSystem([rule1, rule2, rule3])"
   ]
  },
  {
   "cell_type": "markdown",
   "metadata": {
    "id": "Hk7QzVG4Yguz"
   },
   "source": [
    "In order to simulate this control system, we will create a <code>ControlSystemSimulation</code>. Think of this object representing our controller applied to a specific set of cirucmstances. For tipping, this might be tipping one friend at the local brew-pub. We would create another <code>ControlSystemSimulation</code> when we’re trying to apply our <code>tipping_ctrl</code> for another friend at the cafe because the inputs would be different."
   ]
  },
  {
   "cell_type": "code",
   "execution_count": null,
   "metadata": {
    "id": "UbQRY5D2YjN3"
   },
   "outputs": [],
   "source": [
    "# Calculate results from a ControlSystem\n",
    "tipping = ctrl.ControlSystemSimulation(tipping_ctrl)"
   ]
  },
  {
   "cell_type": "markdown",
   "metadata": {
    "id": "Zir-tjz7Y8o_"
   },
   "source": [
    "We can now simulate our control system by simply specifying the inputs and calling the compute method. Suppose we rated the quality 6.5 out of 10 and the service 9.8 of 10."
   ]
  },
  {
   "cell_type": "code",
   "execution_count": null,
   "metadata": {
    "id": "Nl7-xFHtY_Qg"
   },
   "outputs": [],
   "source": [
    "# Pass inputs to the ControlSystem using Antecedent labels\n",
    "# Note: if you like passing many inputs all at once, use .inputs(dict_of_data)\n",
    "tipping.input['quality'] = 6.5\n",
    "tipping.input['service'] = 9.8\n",
    "\n",
    "# Compute the fuzzy system\n",
    "tipping.compute()"
   ]
  },
  {
   "cell_type": "markdown",
   "metadata": {
    "id": "cfFhKLGLZDEb"
   },
   "source": [
    "Once computed, we can view the result as well as visualize it."
   ]
  },
  {
   "cell_type": "code",
   "execution_count": null,
   "metadata": {
    "colab": {
     "base_uri": "https://localhost:8080/",
     "height": 281
    },
    "id": "jB9UdcHwDcBh",
    "outputId": "96343ad2-5d95-46c7-c9e7-54a361499ce0"
   },
   "outputs": [],
   "source": [
    "## Antecedent 1\n",
    "# service input = 9.8\n",
    "service.view(sim=tipping)"
   ]
  },
  {
   "cell_type": "code",
   "execution_count": null,
   "metadata": {
    "colab": {
     "base_uri": "https://localhost:8080/",
     "height": 281
    },
    "id": "mBzWkWdfDG3O",
    "outputId": "60835423-571f-4ac0-9474-2f01f10de0f7"
   },
   "outputs": [],
   "source": [
    "## Antecedent 2\n",
    "# quality input = 6.5\n",
    "quality.view(sim=tipping)"
   ]
  },
  {
   "cell_type": "code",
   "execution_count": null,
   "metadata": {
    "colab": {
     "base_uri": "https://localhost:8080/",
     "height": 281
    },
    "id": "r6gJzkP7Cj__",
    "outputId": "d4cddde4-d2d5-43a1-edd4-d0f3303e836f"
   },
   "outputs": [],
   "source": [
    "## Consequent\n",
    "# result view\n",
    "tip.view(sim=tipping)"
   ]
  },
  {
   "cell_type": "code",
   "execution_count": null,
   "metadata": {
    "colab": {
     "base_uri": "https://localhost:8080/"
    },
    "id": "i6D5AeaFESqQ",
    "outputId": "abb4e77f-3473-47d1-c509-0b8e3d56c76c"
   },
   "outputs": [],
   "source": [
    "# result\n",
    "print(tipping.output['tip'])"
   ]
  },
  {
   "cell_type": "markdown",
   "metadata": {
    "id": "q3fLVemweU0x"
   },
   "source": [
    "The resulting suggested tip is 19.85%."
   ]
  },
  {
   "cell_type": "markdown",
   "metadata": {
    "id": "eMLgAg5zeYMH"
   },
   "source": [
    "## Final thoughts"
   ]
  },
  {
   "cell_type": "markdown",
   "metadata": {
    "id": "8kRUaGFXeb3v"
   },
   "source": [
    "The power of fuzzy systems is allowing complicated, intuitive behavior based on a sparse system of rules with minimal overhead. \n",
    "\n",
    "Note our membership function universes were coarse, only defined at the integers, but <code>fuzz.interp_membership</code> allowed the effective resolution to increase on demand. \n",
    "\n",
    "This system can respond to arbitrarily small changes in inputs, and the processing burden is minimal.\n",
    "\n",
    "Python source code: download (generated using skimage 0.2)"
   ]
  }
 ],
 "metadata": {
  "colab": {
   "name": "RepMLA_3_1.ipynb",
   "provenance": []
  },
  "kernelspec": {
   "display_name": "Python 3",
   "language": "python",
   "name": "python3"
  },
  "language_info": {
   "codemirror_mode": {
    "name": "ipython",
    "version": 3
   },
   "file_extension": ".py",
   "mimetype": "text/x-python",
   "name": "python",
   "nbconvert_exporter": "python",
   "pygments_lexer": "ipython3",
   "version": "3.8.8"
  }
 },
 "nbformat": 4,
 "nbformat_minor": 1
}
