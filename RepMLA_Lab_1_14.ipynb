{
  "nbformat": 4,
  "nbformat_minor": 0,
  "metadata": {
    "colab": {
      "name": "RepMLA_Lab-1_14.ipynb",
      "provenance": []
    },
    "kernelspec": {
      "name": "python3",
      "display_name": "Python 3"
    },
    "language_info": {
      "name": "python"
    }
  },
  "cells": [
    {
      "cell_type": "markdown",
      "metadata": {
        "id": "32PbHQ_YwQhu"
      },
      "source": [
        "<div>\n",
        "<img src=\"https://drive.google.com/uc?export=view&id=1vK33e_EqaHgBHcbRV_m38hx6IkG0blK_\" width=\"350\"/>\n",
        "</div> \n",
        "\n",
        "#**Artificial Intelligence - MSc**\n",
        "CS6501 - MACHINE LEARNING AND APPLICATIONS\n",
        "#**Business Analytics - MSc**\n",
        "ET5003 - MACHINE LEARNING APPLICATIONS \n",
        "##***Annual Repeat***\n",
        "###Instructor: Enrique Naredo\n",
        "\n",
        "###RepMLA_Lab-1.14\n",
        "\n",
        "Student ID: \n",
        "\n",
        "Student name: "
      ]
    },
    {
      "cell_type": "markdown",
      "metadata": {
        "id": "BIamsmEGv9EQ"
      },
      "source": [
        "## Iris dataset\n",
        "https://archive.ics.uci.edu/ml/datasets/iris\n"
      ]
    },
    {
      "cell_type": "code",
      "metadata": {
        "id": "dRopzWjQv9EQ"
      },
      "source": [
        "from sklearn import datasets\n",
        "\n",
        "# import some data to play with\n",
        "iris = datasets.load_iris()\n",
        "\n",
        "# we only take the first two features\n",
        "X = iris.data[:, :2]  \n",
        "y = iris.target"
      ],
      "execution_count": 2,
      "outputs": []
    },
    {
      "cell_type": "code",
      "metadata": {
        "colab": {
          "base_uri": "https://localhost:8080/"
        },
        "id": "6uZm-4a7o-Sd",
        "outputId": "18dac775-135d-4c70-af30-375415cabd50"
      },
      "source": [
        "# first 5 elements\n",
        "print(X[0:5,])"
      ],
      "execution_count": 3,
      "outputs": [
        {
          "output_type": "stream",
          "text": [
            "[[5.1 3.5]\n",
            " [4.9 3. ]\n",
            " [4.7 3.2]\n",
            " [4.6 3.1]\n",
            " [5.  3.6]]\n"
          ],
          "name": "stdout"
        }
      ]
    },
    {
      "cell_type": "code",
      "metadata": {
        "colab": {
          "base_uri": "https://localhost:8080/"
        },
        "id": "xCPnaorAoaT1",
        "outputId": "0694413d-cb09-4aa0-9804-77e10f464530"
      },
      "source": [
        "# print all \n",
        "print(X)"
      ],
      "execution_count": 4,
      "outputs": [
        {
          "output_type": "stream",
          "text": [
            "[[5.1 3.5]\n",
            " [4.9 3. ]\n",
            " [4.7 3.2]\n",
            " [4.6 3.1]\n",
            " [5.  3.6]\n",
            " [5.4 3.9]\n",
            " [4.6 3.4]\n",
            " [5.  3.4]\n",
            " [4.4 2.9]\n",
            " [4.9 3.1]\n",
            " [5.4 3.7]\n",
            " [4.8 3.4]\n",
            " [4.8 3. ]\n",
            " [4.3 3. ]\n",
            " [5.8 4. ]\n",
            " [5.7 4.4]\n",
            " [5.4 3.9]\n",
            " [5.1 3.5]\n",
            " [5.7 3.8]\n",
            " [5.1 3.8]\n",
            " [5.4 3.4]\n",
            " [5.1 3.7]\n",
            " [4.6 3.6]\n",
            " [5.1 3.3]\n",
            " [4.8 3.4]\n",
            " [5.  3. ]\n",
            " [5.  3.4]\n",
            " [5.2 3.5]\n",
            " [5.2 3.4]\n",
            " [4.7 3.2]\n",
            " [4.8 3.1]\n",
            " [5.4 3.4]\n",
            " [5.2 4.1]\n",
            " [5.5 4.2]\n",
            " [4.9 3.1]\n",
            " [5.  3.2]\n",
            " [5.5 3.5]\n",
            " [4.9 3.6]\n",
            " [4.4 3. ]\n",
            " [5.1 3.4]\n",
            " [5.  3.5]\n",
            " [4.5 2.3]\n",
            " [4.4 3.2]\n",
            " [5.  3.5]\n",
            " [5.1 3.8]\n",
            " [4.8 3. ]\n",
            " [5.1 3.8]\n",
            " [4.6 3.2]\n",
            " [5.3 3.7]\n",
            " [5.  3.3]\n",
            " [7.  3.2]\n",
            " [6.4 3.2]\n",
            " [6.9 3.1]\n",
            " [5.5 2.3]\n",
            " [6.5 2.8]\n",
            " [5.7 2.8]\n",
            " [6.3 3.3]\n",
            " [4.9 2.4]\n",
            " [6.6 2.9]\n",
            " [5.2 2.7]\n",
            " [5.  2. ]\n",
            " [5.9 3. ]\n",
            " [6.  2.2]\n",
            " [6.1 2.9]\n",
            " [5.6 2.9]\n",
            " [6.7 3.1]\n",
            " [5.6 3. ]\n",
            " [5.8 2.7]\n",
            " [6.2 2.2]\n",
            " [5.6 2.5]\n",
            " [5.9 3.2]\n",
            " [6.1 2.8]\n",
            " [6.3 2.5]\n",
            " [6.1 2.8]\n",
            " [6.4 2.9]\n",
            " [6.6 3. ]\n",
            " [6.8 2.8]\n",
            " [6.7 3. ]\n",
            " [6.  2.9]\n",
            " [5.7 2.6]\n",
            " [5.5 2.4]\n",
            " [5.5 2.4]\n",
            " [5.8 2.7]\n",
            " [6.  2.7]\n",
            " [5.4 3. ]\n",
            " [6.  3.4]\n",
            " [6.7 3.1]\n",
            " [6.3 2.3]\n",
            " [5.6 3. ]\n",
            " [5.5 2.5]\n",
            " [5.5 2.6]\n",
            " [6.1 3. ]\n",
            " [5.8 2.6]\n",
            " [5.  2.3]\n",
            " [5.6 2.7]\n",
            " [5.7 3. ]\n",
            " [5.7 2.9]\n",
            " [6.2 2.9]\n",
            " [5.1 2.5]\n",
            " [5.7 2.8]\n",
            " [6.3 3.3]\n",
            " [5.8 2.7]\n",
            " [7.1 3. ]\n",
            " [6.3 2.9]\n",
            " [6.5 3. ]\n",
            " [7.6 3. ]\n",
            " [4.9 2.5]\n",
            " [7.3 2.9]\n",
            " [6.7 2.5]\n",
            " [7.2 3.6]\n",
            " [6.5 3.2]\n",
            " [6.4 2.7]\n",
            " [6.8 3. ]\n",
            " [5.7 2.5]\n",
            " [5.8 2.8]\n",
            " [6.4 3.2]\n",
            " [6.5 3. ]\n",
            " [7.7 3.8]\n",
            " [7.7 2.6]\n",
            " [6.  2.2]\n",
            " [6.9 3.2]\n",
            " [5.6 2.8]\n",
            " [7.7 2.8]\n",
            " [6.3 2.7]\n",
            " [6.7 3.3]\n",
            " [7.2 3.2]\n",
            " [6.2 2.8]\n",
            " [6.1 3. ]\n",
            " [6.4 2.8]\n",
            " [7.2 3. ]\n",
            " [7.4 2.8]\n",
            " [7.9 3.8]\n",
            " [6.4 2.8]\n",
            " [6.3 2.8]\n",
            " [6.1 2.6]\n",
            " [7.7 3. ]\n",
            " [6.3 3.4]\n",
            " [6.4 3.1]\n",
            " [6.  3. ]\n",
            " [6.9 3.1]\n",
            " [6.7 3.1]\n",
            " [6.9 3.1]\n",
            " [5.8 2.7]\n",
            " [6.8 3.2]\n",
            " [6.7 3.3]\n",
            " [6.7 3. ]\n",
            " [6.3 2.5]\n",
            " [6.5 3. ]\n",
            " [6.2 3.4]\n",
            " [5.9 3. ]]\n"
          ],
          "name": "stdout"
        }
      ]
    },
    {
      "cell_type": "markdown",
      "metadata": {
        "id": "MeSaKCCXpjOR"
      },
      "source": [
        "The data set contains 3 classes of 50 instances each, where each class refers to a type of iris plant."
      ]
    },
    {
      "cell_type": "code",
      "metadata": {
        "colab": {
          "base_uri": "https://localhost:8080/"
        },
        "id": "KFrciDvnolcF",
        "outputId": "bb629649-f13e-4403-ae97-03f09851d6b9"
      },
      "source": [
        "# class labels\n",
        "print(y)"
      ],
      "execution_count": 5,
      "outputs": [
        {
          "output_type": "stream",
          "text": [
            "[0 0 0 0 0 0 0 0 0 0 0 0 0 0 0 0 0 0 0 0 0 0 0 0 0 0 0 0 0 0 0 0 0 0 0 0 0\n",
            " 0 0 0 0 0 0 0 0 0 0 0 0 0 1 1 1 1 1 1 1 1 1 1 1 1 1 1 1 1 1 1 1 1 1 1 1 1\n",
            " 1 1 1 1 1 1 1 1 1 1 1 1 1 1 1 1 1 1 1 1 1 1 1 1 1 1 2 2 2 2 2 2 2 2 2 2 2\n",
            " 2 2 2 2 2 2 2 2 2 2 2 2 2 2 2 2 2 2 2 2 2 2 2 2 2 2 2 2 2 2 2 2 2 2 2 2 2\n",
            " 2 2]\n"
          ],
          "name": "stdout"
        }
      ]
    },
    {
      "cell_type": "markdown",
      "metadata": {
        "id": "mIB4x_oNwphV"
      },
      "source": [
        "## Plots"
      ]
    },
    {
      "cell_type": "markdown",
      "metadata": {
        "id": "4ZwZ2j8fpUwr"
      },
      "source": [
        "One class is linearly separable from the other 2; the latter are NOT linearly separable from each other. "
      ]
    },
    {
      "cell_type": "code",
      "metadata": {
        "id": "IukbFmItv9ER",
        "colab": {
          "base_uri": "https://localhost:8080/",
          "height": 285
        },
        "outputId": "3fbe732e-f156-45dd-ab41-e9b676705a24"
      },
      "source": [
        "# Scatter plot\n",
        "import numpy as np\n",
        "import matplotlib.pyplot as plt\n",
        "\n",
        "col = np.array([\"red\",\"blue\",\"green\"])\n",
        "plt.scatter(X[:,0],X[:,1],color=col[y])"
      ],
      "execution_count": 6,
      "outputs": [
        {
          "output_type": "execute_result",
          "data": {
            "text/plain": [
              "<matplotlib.collections.PathCollection at 0x7f0f25139d10>"
            ]
          },
          "metadata": {
            "tags": []
          },
          "execution_count": 6
        },
        {
          "output_type": "display_data",
          "data": {
            "image/png": "[encoded data removed]",
            "text/plain": [
              "<Figure size 432x288 with 1 Axes>"
            ]
          },
          "metadata": {
            "tags": [],
            "needs_background": "light"
          }
        }
      ]
    },
    {
      "cell_type": "markdown",
      "metadata": {
        "id": "ZEgAO7Ouv9ES"
      },
      "source": [
        "\n",
        "In machine learning, we aim to build algorithms that can **learn** from and make predictions on data."
      ]
    },
    {
      "cell_type": "code",
      "metadata": {
        "colab": {
          "base_uri": "https://localhost:8080/",
          "height": 285
        },
        "id": "i99mQQWzqWqo",
        "outputId": "985ed696-9a91-4130-c85b-1418c7e3477f"
      },
      "source": [
        "# known set of points\n",
        "plt.scatter(X[:,0],X[:,1],color=col[y])\n",
        "\n",
        "# new point (cyan triangle)\n",
        "X_newpoint = np.array([[6.03,3.22]])\n",
        "\n",
        "# point (cyan triangle) to predict its class\n",
        "plt.scatter(X_newpoint[:,0],X_newpoint[:,1],color=\"cyan\", marker=\"^\", s=200)"
      ],
      "execution_count": 10,
      "outputs": [
        {
          "output_type": "execute_result",
          "data": {
            "text/plain": [
              "<matplotlib.collections.PathCollection at 0x7f0f24a44450>"
            ]
          },
          "metadata": {
            "tags": []
          },
          "execution_count": 10
        },
        {
          "output_type": "display_data",
          "data": {
            "image/png": "[encoded data removed]",
            "text/plain": [
              "<Figure size 432x288 with 1 Axes>"
            ]
          },
          "metadata": {
            "tags": [],
            "needs_background": "light"
          }
        }
      ]
    },
    {
      "cell_type": "markdown",
      "metadata": {
        "id": "Qk907whZsBYh"
      },
      "source": [
        "## Training and Testing set"
      ]
    },
    {
      "cell_type": "markdown",
      "metadata": {
        "id": "Z-SLNPvKsJbh"
      },
      "source": [
        "* The model is initially trained (fit) on a training dataset  \n",
        "* The model is then tested on a  different (separate) test dataset"
      ]
    },
    {
      "cell_type": "markdown",
      "metadata": {
        "id": "NF41QUyx4m0e"
      },
      "source": [
        "### sklearn"
      ]
    },
    {
      "cell_type": "code",
      "metadata": {
        "id": "c9leUrZEv9ET",
        "colab": {
          "base_uri": "https://localhost:8080/"
        },
        "outputId": "39fe2199-5d43-428e-8f53-c75e6ee25a8b"
      },
      "source": [
        "from sklearn.model_selection import train_test_split\n",
        "\n",
        "# if want to split the raw dataset into 80% traing and 20% for test\n",
        "# then using the 'train_test_split' function define test set = 20%\n",
        "# and the rest (80%) will be the training set\n",
        "Xtrain,Xtest,ytrain,ytest = train_test_split(X,y,test_size=0.2)\n",
        "\n",
        "# show the shape of both training and test sets\n",
        "print(Xtrain.shape, ytrain.shape, Xtest.shape, ytest.shape)"
      ],
      "execution_count": 11,
      "outputs": [
        {
          "output_type": "stream",
          "text": [
            "(120, 2) (120,) (30, 2) (30,)\n"
          ],
          "name": "stdout"
        }
      ]
    },
    {
      "cell_type": "code",
      "metadata": {
        "colab": {
          "base_uri": "https://localhost:8080/"
        },
        "id": "Qov-d2B7wElB",
        "outputId": "1f06641d-5658-4796-b88e-0ad6cafe41b6"
      },
      "source": [
        "# you could define the training set instead\n",
        "Xtrain,Xtest,ytrain,ytest = train_test_split(X,y,train_size=0.8)\n",
        "\n",
        "# show the shape of both training and test sets\n",
        "print(Xtrain.shape, ytrain.shape, Xtest.shape, ytest.shape)"
      ],
      "execution_count": 12,
      "outputs": [
        {
          "output_type": "stream",
          "text": [
            "(120, 2) (120,) (30, 2) (30,)\n"
          ],
          "name": "stdout"
        }
      ]
    },
    {
      "cell_type": "markdown",
      "metadata": {
        "id": "ZuxcnUpV4qjQ"
      },
      "source": [
        "### Pandas"
      ]
    },
    {
      "cell_type": "code",
      "metadata": {
        "colab": {
          "base_uri": "https://localhost:8080/"
        },
        "id": "o6W5UE5J4NiT",
        "outputId": "d4f7fa5d-4013-4ebd-c0de-c2e4bfb07668"
      },
      "source": [
        "import numpy as np\n",
        "import pandas as pd\n",
        "\n",
        "df = pd.DataFrame(iris.data, columns=iris.feature_names)\n",
        "print(df)"
      ],
      "execution_count": 13,
      "outputs": [
        {
          "output_type": "stream",
          "text": [
            "     sepal length (cm)  sepal width (cm)  petal length (cm)  petal width (cm)\n",
            "0                  5.1               3.5                1.4               0.2\n",
            "1                  4.9               3.0                1.4               0.2\n",
            "2                  4.7               3.2                1.3               0.2\n",
            "3                  4.6               3.1                1.5               0.2\n",
            "4                  5.0               3.6                1.4               0.2\n",
            "..                 ...               ...                ...               ...\n",
            "145                6.7               3.0                5.2               2.3\n",
            "146                6.3               2.5                5.0               1.9\n",
            "147                6.5               3.0                5.2               2.0\n",
            "148                6.2               3.4                5.4               2.3\n",
            "149                5.9               3.0                5.1               1.8\n",
            "\n",
            "[150 rows x 4 columns]\n"
          ],
          "name": "stdout"
        }
      ]
    },
    {
      "cell_type": "code",
      "metadata": {
        "id": "Mkl8pGvK1O_f"
      },
      "source": [
        "mask = np.random.rand(len(df)) <= 0.8\n",
        "training_data = df[mask]\n",
        "testing_data = df[~mask]"
      ],
      "execution_count": 14,
      "outputs": []
    },
    {
      "cell_type": "code",
      "metadata": {
        "colab": {
          "base_uri": "https://localhost:8080/"
        },
        "id": "y_4yrcDh3u0c",
        "outputId": "7f853f0b-10f0-4f30-8d2e-63c69f1075fd"
      },
      "source": [
        "print(f\"No. of training examples: {training_data.shape[0]}\")\n",
        "print(f\"No. of testing examples: {testing_data.shape[0]}\")"
      ],
      "execution_count": 15,
      "outputs": [
        {
          "output_type": "stream",
          "text": [
            "No. of training examples: 114\n",
            "No. of testing examples: 36\n"
          ],
          "name": "stdout"
        }
      ]
    }
  ]
}