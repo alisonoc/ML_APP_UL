{
 "cells": [
  {
   "cell_type": "markdown",
   "metadata": {
    "id": "_te5LpuNY-D6"
   },
   "source": [
    "<div>\n",
    "<img src=\"https://drive.google.com/uc?export=view&id=1vK33e_EqaHgBHcbRV_m38hx6IkG0blK_\" width=\"350\"/>\n",
    "</div> \n",
    "\n",
    "#**Artificial Intelligence - MSc**\n",
    "CS6501 - MACHINE LEARNING AND APPLICATIONS\n",
    "#**Business Analytics - MSc**\n",
    "ET5003 - MACHINE LEARNING APPLICATIONS \n",
    "##***Annual Repeat***\n",
    "###Instructor: Enrique Naredo\n",
    "\n",
    "###RepMLA_Lab-0.2\n",
    "\n"
   ]
  },
  {
   "cell_type": "markdown",
   "metadata": {
    "id": "Y2Qa_qmHJQT6"
   },
   "source": [
    "## Dataset"
   ]
  },
  {
   "cell_type": "markdown",
   "metadata": {
    "id": "3bMUIbXqKX4T"
   },
   "source": []
  },
  {
   "cell_type": "markdown",
   "metadata": {
    "id": "REVQIubUIamp"
   },
   "source": [
    "We'll use the [UCI repository](https://archive.ics.uci.edu/ml/datasets.php) with 588 data sets as a service to the machine learning community. \n",
    "\n",
    "- Specifically we'll work with the Iris dataset in this notebook"
   ]
  },
  {
   "cell_type": "code",
   "execution_count": 3,
   "metadata": {
    "id": "7dpudqkQ9alO"
   },
   "outputs": [],
   "source": [
    "# choose the dataset to download from UCI\n",
    "import io\n",
    "dataset = 'iris'\n",
    "UCI_repository = 'https://archive.ics.uci.edu/ml/machine-learning-databases/'+ dataset+'/'+dataset+'.data'"
   ]
  },
  {
   "cell_type": "code",
   "execution_count": 4,
   "metadata": {
    "id": "hXo71OpAJral"
   },
   "outputs": [
    {
     "name": "stderr",
     "output_type": "stream",
     "text": [
      "'wget' is not recognized as an internal or external command,\n",
      "operable program or batch file.\n"
     ]
    }
   ],
   "source": [
    "# Download dataset using wget\n",
    "\n",
    "!wget $UCI_repository"
   ]
  },
  {
   "cell_type": "code",
   "execution_count": null,
   "metadata": {
    "id": "aFGPfUo_Jypd"
   },
   "outputs": [],
   "source": [
    "## Loads the CSV data\n",
    "\n",
    "# it's required to import pandas\n",
    "import pandas as pd\n",
    "\n",
    "df = pd.read_csv(dataset+'.data', header=None)\n",
    "\n",
    "df"
   ]
  },
  {
   "cell_type": "code",
   "execution_count": null,
   "metadata": {
    "id": "rE-WnYM2KGuZ"
   },
   "outputs": [],
   "source": [
    "# adding labels to columns\n",
    "df.columns=['sepal-length', 'sepal-width', 'petal-length', 'petal-width', 'class']\n",
    "# show first rows\n",
    "df.head()"
   ]
  },
  {
   "cell_type": "code",
   "execution_count": null,
   "metadata": {
    "id": "5ZAAXEaYKKJr"
   },
   "outputs": [],
   "source": [
    "# data frame information\n",
    "df.info()"
   ]
  },
  {
   "cell_type": "code",
   "execution_count": null,
   "metadata": {
    "id": "DLtbz1GKKNCh"
   },
   "outputs": [],
   "source": [
    "# describe the data frame\n",
    "df.describe()"
   ]
  },
  {
   "cell_type": "code",
   "execution_count": null,
   "metadata": {
    "id": "S3kh-HlNKP9k"
   },
   "outputs": [],
   "source": [
    "# show the columns label\n",
    "df.columns.values[0:4]"
   ]
  },
  {
   "cell_type": "code",
   "execution_count": null,
   "metadata": {
    "id": "Hl7WKFE9KUQ4"
   },
   "outputs": [],
   "source": [
    "# show number of samples by class\n",
    "df['class'].value_counts()"
   ]
  },
  {
   "cell_type": "code",
   "execution_count": null,
   "metadata": {
    "id": "gjvkUl57Ka2_"
   },
   "outputs": [],
   "source": [
    "#  Create and show box and whisker plots\n",
    "import matplotlib.pyplot as plt\n",
    "\n",
    "plt.figure(figsize=(100,100),dpi=288)\n",
    "df2 = df.drop('class', axis=1)\n",
    "df2.plot(kind='box', subplots=True, layout=(2,2), sharex=False, sharey=False)\n",
    "plt.show()\n",
    "\n"
   ]
  },
  {
   "cell_type": "code",
   "execution_count": null,
   "metadata": {
    "id": "11myM9HBQsaI"
   },
   "outputs": [],
   "source": [
    "df2.hist()\n",
    "plt.show()"
   ]
  },
  {
   "cell_type": "code",
   "execution_count": null,
   "metadata": {
    "id": "2nxfzDoeQ46n"
   },
   "outputs": [],
   "source": [
    "# scatter plot matrix\n",
    "\n",
    "from pandas.plotting import scatter_matrix\n",
    "\n",
    "scatter_matrix(df2)\n",
    "plt.show()"
   ]
  }
 ],
 "metadata": {
  "colab": {
   "name": "RepMLA_Lab-0.2.ipynb",
   "provenance": []
  },
  "kernelspec": {
   "display_name": "Python 3",
   "language": "python",
   "name": "python3"
  },
  "language_info": {
   "codemirror_mode": {
    "name": "ipython",
    "version": 3
   },
   "file_extension": ".py",
   "mimetype": "text/x-python",
   "name": "python",
   "nbconvert_exporter": "python",
   "pygments_lexer": "ipython3",
   "version": "3.8.8"
  }
 },
 "nbformat": 4,
 "nbformat_minor": 1
}
