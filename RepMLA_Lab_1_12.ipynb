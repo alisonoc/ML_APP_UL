{
  "nbformat": 4,
  "nbformat_minor": 0,
  "metadata": {
    "colab": {
      "name": "RepMLA_Lab-1_12.ipynb",
      "provenance": []
    },
    "kernelspec": {
      "name": "python3",
      "display_name": "Python 3"
    },
    "language_info": {
      "name": "python"
    }
  },
  "cells": [
    {
      "cell_type": "markdown",
      "metadata": {
        "id": "Qvexyww7a-0o"
      },
      "source": [
        "<div>\n",
        "<img src=\"https://drive.google.com/uc?export=view&id=1vK33e_EqaHgBHcbRV_m38hx6IkG0blK_\" width=\"350\"/>\n",
        "</div> \n",
        "\n",
        "#**Artificial Intelligence - MSc**\n",
        "CS6501 - MACHINE LEARNING AND APPLICATIONS\n",
        "#**Business Analytics - MSc**\n",
        "ET5003 - MACHINE LEARNING APPLICATIONS \n",
        "##***Annual Repeat***\n",
        "###Instructor: Enrique Naredo\n",
        "\n",
        "###RepMLA_Lab-1.12\n",
        "\n",
        "Student ID: \n",
        "\n",
        "Student name: "
      ]
    },
    {
      "cell_type": "markdown",
      "metadata": {
        "id": "IHknF0wiQUZL"
      },
      "source": [
        "# Matplotlib exercises"
      ]
    },
    {
      "cell_type": "code",
      "metadata": {
        "id": "j9NB1-3DPk4L"
      },
      "source": [
        "import numpy as np\n",
        "import matplotlib.pyplot as plt"
      ],
      "execution_count": null,
      "outputs": []
    },
    {
      "cell_type": "markdown",
      "metadata": {
        "id": "ZjI7csMTkVX9"
      },
      "source": [
        "# Problem 6\n",
        "Bar plot of x and money below"
      ]
    },
    {
      "cell_type": "code",
      "metadata": {
        "id": "95JQc1s3kVX9"
      },
      "source": [
        "#input\n",
        "x = np.arange(4)\n",
        "money = [1.5e5, 2.5e6, 5.5e6, 2.0e7]"
      ],
      "execution_count": null,
      "outputs": []
    },
    {
      "cell_type": "markdown",
      "metadata": {
        "id": "VQ9d5MyIkVX-"
      },
      "source": [
        "# Problem 7\n",
        "Plot the graph of the function $\\cos(8 x)$ in red and $x^2$ in blue for $x \\in[0,1]$ and add the label \"x\" and \"f(x)\" to the respective columns using `fontsize` 14."
      ]
    },
    {
      "cell_type": "markdown",
      "metadata": {
        "id": "kp3JyYtLkVX-"
      },
      "source": [
        "# Problem 8\n",
        "Plot the graph of the function $\\cos(8 x)$ in red and $x^2$ in blue for $x \\in[0,1]$ and add a legend\n",
        "with labels \"cos(8x)\" and \"$x^2$\""
      ]
    },
    {
      "cell_type": "markdown",
      "metadata": {
        "id": "DMygQKpHkVX-"
      },
      "source": [
        "# Problem 9\n",
        "Data=np.random.laplace(0,2,100)"
      ]
    },
    {
      "cell_type": "markdown",
      "metadata": {
        "id": "bGJ_zmebkVX_"
      },
      "source": [
        "# Problem 10\n",
        "Plot the graph of the 2D function $e^{-x^2-y^2}$  for $x,y \\in[-3,3]$."
      ]
    }
  ]
}