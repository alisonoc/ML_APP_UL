{
  "nbformat": 4,
  "nbformat_minor": 0,
  "metadata": {
    "colab": {
      "name": "RepMLA_Lab-1_8.ipynb",
      "provenance": []
    },
    "kernelspec": {
      "name": "python3",
      "display_name": "Python 3"
    },
    "language_info": {
      "name": "python"
    }
  },
  "cells": [
    {
      "cell_type": "markdown",
      "metadata": {
        "id": "S8CO3y1RLSuF"
      },
      "source": [
        "<div>\n",
        "<img src=\"https://drive.google.com/uc?export=view&id=1vK33e_EqaHgBHcbRV_m38hx6IkG0blK_\" width=\"350\"/>\n",
        "</div> \n",
        "\n",
        "#**Artificial Intelligence - MSc**\n",
        "CS6501 - MACHINE LEARNING AND APPLICATIONS\n",
        "#**Business Analytics - MSc**\n",
        "ET5003 - MACHINE LEARNING APPLICATIONS \n",
        "##***Annual Repeat***\n",
        "###Instructor: Enrique Naredo\n",
        "\n",
        "###RepMLA_Lab-1.8\n",
        "\n",
        "Student ID: \n",
        "\n",
        "Student name: "
      ]
    },
    {
      "cell_type": "markdown",
      "metadata": {
        "id": "J0aR26eeLSuG"
      },
      "source": [
        "# Pandas exercise"
      ]
    },
    {
      "cell_type": "code",
      "metadata": {
        "id": "Z4X9nmpgLSuH"
      },
      "source": [
        "import pandas as pd"
      ],
      "execution_count": null,
      "outputs": []
    },
    {
      "cell_type": "markdown",
      "metadata": {
        "id": "HE0zODpSj4Ho"
      },
      "source": [
        "# Problem 6\n",
        "Compute the minimum, 25th percentile, median, 75th, and maximum of ser.\n",
        "\n",
        "Notes:\n",
        "Do you know what percentile and median are? If no, see  <a href=\"https://en.wikipedia.org/wiki/Percentile\">percentile</a>"
      ]
    },
    {
      "cell_type": "code",
      "metadata": {
        "id": "xWoDCUv2j4Ho"
      },
      "source": [
        "# input\n",
        "state = np.random.RandomState(100)\n",
        "ser = pd.Series(state.normal(10, 5, 25))\n"
      ],
      "execution_count": null,
      "outputs": []
    },
    {
      "cell_type": "markdown",
      "metadata": {
        "id": "S-3m5zssj4Hp"
      },
      "source": [
        "# Problem 7 \n",
        "\n",
        "Calculate the frequency counts of each unique value ser.\n"
      ]
    },
    {
      "cell_type": "code",
      "metadata": {
        "id": "BhMtrkJWj4Hp"
      },
      "source": [
        "# input\n",
        "ser = pd.Series(np.take(list('abcdefgh'), np.random.randint(8, size=30)))"
      ],
      "execution_count": null,
      "outputs": []
    },
    {
      "cell_type": "markdown",
      "metadata": {
        "id": "qLEADfAkj4Hp"
      },
      "source": [
        "# Problem 8\n",
        "\n",
        "From ser, keep the top 2 most frequent items as it is and replace everything else as ‘Other’.\n"
      ]
    },
    {
      "cell_type": "code",
      "metadata": {
        "id": "Oc17LCW9j4Hp",
        "outputId": "d380ec1f-ec68-4c80-86ec-210866372c20"
      },
      "source": [
        "# input\n",
        "np.random.RandomState(100)\n",
        "ser = pd.Series(np.random.randint(1, 5, [12]))\n",
        "ser"
      ],
      "execution_count": null,
      "outputs": [
        {
          "output_type": "execute_result",
          "data": {
            "text/plain": [
              "0     4\n",
              "1     2\n",
              "2     3\n",
              "3     2\n",
              "4     4\n",
              "5     4\n",
              "6     2\n",
              "7     3\n",
              "8     3\n",
              "9     1\n",
              "10    4\n",
              "11    3\n",
              "dtype: int64"
            ]
          },
          "metadata": {
            "tags": []
          },
          "execution_count": 17
        }
      ]
    },
    {
      "cell_type": "markdown",
      "metadata": {
        "id": "iPoHzAI_j4Hq"
      },
      "source": [
        "# Problem 9\n",
        "Bin the series ser into 10 equal deciles and replace the values with the bin name.\n"
      ]
    },
    {
      "cell_type": "code",
      "metadata": {
        "id": "zkt_VaIFj4Hq"
      },
      "source": [
        "# input\n",
        "ser = pd.Series(np.random.random(20))\n",
        "ser\n",
        "\n",
        "#Solution  is provided:\n",
        "pd.qcut(ser, q = 10)\n",
        "# we can also pass labels\n",
        "pd.qcut(ser, q = [0, .10, .20, .30, .40, .50, .60, .70, .80, .90, 1], labels=['1st', '2nd', '3rd', '4th', '5th', '6th', '7th', '8th', '9th', '10th']).head()"
      ],
      "execution_count": null,
      "outputs": []
    },
    {
      "cell_type": "markdown",
      "metadata": {
        "id": "Ep8wPPiPj4Hq"
      },
      "source": [
        "# Problem 10\n",
        "\n",
        "From ser, extract the items at positions in list pos.\n"
      ]
    },
    {
      "cell_type": "code",
      "metadata": {
        "id": "Ed-t-tNnj4Hq"
      },
      "source": [
        "# input\n",
        "\n",
        "ser = pd.Series(list('abcdefghijklmnopqrstuvwxyz'))\n",
        "pos = [0, 4, 8, 14, 20]"
      ],
      "execution_count": null,
      "outputs": []
    }
  ]
}